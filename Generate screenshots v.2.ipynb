{
 "cells": [
  {
   "cell_type": "code",
   "execution_count": 1,
   "id": "ba115605",
   "metadata": {},
   "outputs": [],
   "source": [
    "import cv2\n",
    "import numpy as np\n",
    "from PIL import Image\n",
    "import os\n"
   ]
  },
  {
   "cell_type": "code",
   "execution_count": 4,
   "id": "74d2d3ab",
   "metadata": {},
   "outputs": [],
   "source": [
    "all_files = os.listdir(\"D:\\\\Project Sherlock\\\\Grafiki\\\\PC\")"
   ]
  },
  {
   "cell_type": "code",
   "execution_count": 5,
   "id": "03861772",
   "metadata": {},
   "outputs": [
    {
     "data": {
      "text/plain": [
       "['archaive',\n",
       " 'Banana_masked.png',\n",
       " 'Black_masked.png',\n",
       " 'Blue_masked.png',\n",
       " 'Brown_masked.png',\n",
       " 'Coral_masked.png',\n",
       " 'Cyan_masked.png',\n",
       " 'Gray_masked.png',\n",
       " 'Green_masked.png',\n",
       " 'Lime_masked.png',\n",
       " 'Maroon_masked.png',\n",
       " 'Orange_masked.png',\n",
       " 'Pink_masked.png',\n",
       " 'Purple_masked.png',\n",
       " 'Red_masked.png',\n",
       " 'Rose_masked.png',\n",
       " 'Tan_masked.png',\n",
       " 'White_masked.png',\n",
       " 'Yellow_masked.png']"
      ]
     },
     "execution_count": 5,
     "metadata": {},
     "output_type": "execute_result"
    }
   ],
   "source": [
    "all_files"
   ]
  },
  {
   "cell_type": "code",
   "execution_count": 6,
   "id": "028319c2",
   "metadata": {},
   "outputs": [],
   "source": [
    "colors_dict_hex = {\"Red\":\"#C51111\",\n",
    "                    \"Blue\": \"#132ed1\",\n",
    "                   \"Green\": \"#117f2d\",\n",
    "                   \"Pink\": \"#ed54ba\",\n",
    "                   \"White\": \"#d6e0f0\",\n",
    "                   \"Black\": \"#3f474e\",\n",
    "                   \"Yellow\": \"#f5f557\",\n",
    "                   \"Orange\": \"#ef7d0d\",\n",
    "                   \"Purple\": \"#6b2fbb\",\n",
    "                   \"Brown\": \"#71491e\",\n",
    "                   \"Cyan\": \"#38fedc\",\n",
    "                   \"Lime\": \"#50ef39\",\n",
    "                    \"Gray\":\"\",\n",
    "                      \"Banana\":\"\",\n",
    "                  \"Rose\":\"\",\n",
    "                  \"Maroon\":\"\",\n",
    "                  \"Tan\":\"\",\n",
    "                  \"Coral\":\"\"}\n"
   ]
  },
  {
   "cell_type": "code",
   "execution_count": 7,
   "id": "3836e391",
   "metadata": {},
   "outputs": [
    {
     "data": {
      "text/plain": [
       "dict_keys(['Red', 'Blue', 'Green', 'Pink', 'White', 'Black', 'Yellow', 'Orange', 'Purple', 'Brown', 'Cyan', 'Lime', 'Gray', 'Banana', 'Rose', 'Maroon', 'Tan', 'Coral'])"
      ]
     },
     "execution_count": 7,
     "metadata": {},
     "output_type": "execute_result"
    }
   ],
   "source": [
    "colors_dict_hex.keys()"
   ]
  },
  {
   "cell_type": "code",
   "execution_count": 8,
   "id": "525a0cce",
   "metadata": {},
   "outputs": [],
   "source": [
    "names = ['Red', 'Blue', 'Green', 'Pink', 'White', 'Black', 'Yellow', 'Orange', \n",
    "         'Purple', 'Brown', 'Cyan', 'Lime', 'Gray', 'Banana', 'Rose', 'Maroon', \n",
    "         'Tan', 'Coral']\n"
   ]
  },
  {
   "cell_type": "markdown",
   "id": "9fa72653",
   "metadata": {},
   "source": [
    "### 2.1 Sprity gracza"
   ]
  },
  {
   "cell_type": "code",
   "execution_count": null,
   "id": "a0a9b147",
   "metadata": {},
   "outputs": [],
   "source": [
    "for x in range(len(all_files)):\n",
    "    # Wczytaj obraz\n",
    "    img = cv2.imread(\"D:\\\\Project Sherlock\\\\Grafiki\\\\PC\\\\{}\".format(all_files[x]))\n",
    "    \n",
    "\n",
    "    # Koordynaty (przykład)\n",
    "    x1, y1 = 1800, 540\n",
    "    x2, y2 = 2170, 1030\n",
    "\n",
    "    # Wycinamy fragment\n",
    "    cropped = img[y1:y2, x1:x2]\n",
    "\n",
    "    # Szukamy czarnej obwódki — tworzymy maskę \"ciemnych\" pikseli\n",
    "    # Zakładamy, że obwódka ma wartości RGB bliskie 0\n",
    "    lower_black = np.array([0, 0, 0])\n",
    "    upper_black = np.array([50, 50, 50])\n",
    "    mask_black = cv2.inRange(cropped, lower_black, upper_black)\n",
    "\n",
    "    # Znalezienie największego konturu (cała postać z obwódką)\n",
    "    contours, _ = cv2.findContours(mask_black, cv2.RETR_EXTERNAL, cv2.CHAIN_APPROX_SIMPLE)\n",
    "    if contours:\n",
    "        largest_contour = max(contours, key=cv2.contourArea)\n",
    "\n",
    "        # Tworzymy pustą maskę\n",
    "        mask = np.zeros(cropped.shape[:2], dtype=np.uint8)\n",
    "\n",
    "        # Wypełniamy kontur (wnętrze postaci + obwódka) na biało\n",
    "        cv2.drawContours(mask, [largest_contour], -1, 255, thickness=cv2.FILLED)\n",
    "\n",
    "        # Konwersja maski do kanału alfa\n",
    "        alpha = mask\n",
    "\n",
    "        # Rozdziel kanały\n",
    "        b, g, r = cv2.split(cropped)\n",
    "\n",
    "        # Łączenie w obraz z alfa\n",
    "        rgba = cv2.merge([b, g, r, alpha])\n",
    "\n",
    "        # Zapisz\n",
    "        cv2.imwrite(\"D:\\\\Project Sherlock\\\\Grafiki\\\\PC\\\\{}_masked.png\".format(names[x]), rgba)\n",
    "        print(\"Zapisano jako {}_masked.png\".format(names[x]))\n",
    "    else:\n",
    "        print(\"Nie znaleziono konturu obwódki.\")\n"
   ]
  },
  {
   "cell_type": "markdown",
   "id": "43d788d7",
   "metadata": {},
   "source": [
    "### 2.2 Czapeczki gracza"
   ]
  },
  {
   "cell_type": "code",
   "execution_count": null,
   "id": "832990e7",
   "metadata": {},
   "outputs": [],
   "source": [
    "hats_files = os.listdir(\"D:\\\\Project Sherlock\\\\Grafiki\\\\Hats\")[:-1]"
   ]
  },
  {
   "cell_type": "code",
   "execution_count": null,
   "id": "0b8bb5de",
   "metadata": {
    "scrolled": true
   },
   "outputs": [],
   "source": [
    "import cv2\n",
    "import numpy as np\n",
    "import os\n",
    "\n",
    "# Parametry pozycji i rozmiaru kwadratów\n",
    "start_x, start_y = 60, 380\n",
    "end_x, end_y = 260, 580\n",
    "\n",
    "# Odstępy między kwadratami\n",
    "gap_x = 22\n",
    "gap_y = 38\n",
    "\n",
    "# Wymiary jednego kwadratu\n",
    "square_width = end_x - start_x\n",
    "square_height = end_y - start_y\n",
    "\n",
    "# Wczytaj obraz\n",
    "\n",
    "\n",
    "bg_color = np.array([145, 181, 181])\n",
    "\n",
    "# Liczba kolumn i wierszy (dopasuj do tego, co masz na screenie)\n",
    "num_cols = 4\n",
    "num_rows = 3\n",
    "\n",
    "\n",
    "tolerance = 30\n",
    "\n",
    "# Liczba pikseli do odcięcia z każdej strony\n",
    "crop_margin = 24\n",
    "\n",
    "counter = 0\n",
    "\n",
    "for file in hats_files:\n",
    "    img = cv2.imread(\"D:\\\\Project Sherlock\\\\Grafiki\\\\Hats\\\\{}\".format(file))\n",
    "    for row in range(num_rows):\n",
    "        for col in range(num_cols):\n",
    "            x1 = start_x + col * (square_width + gap_x)\n",
    "            y1 = start_y + row * (square_height + gap_y)\n",
    "            x2 = x1 + square_width\n",
    "            y2 = y1 + square_height\n",
    "\n",
    "            cropped = img[y1:y2, x1:x2].copy()\n",
    "\n",
    "            # Oblicz różnicę koloru pikseli od koloru tła\n",
    "            diff = cv2.absdiff(cropped, bg_color)\n",
    "            mask = cv2.cvtColor(diff, cv2.COLOR_BGR2GRAY)\n",
    "\n",
    "            # Utwórz maskę binarną — piksele podobne do tła będą czarne (0), inne białe (255)\n",
    "            _, alpha = cv2.threshold(mask, tolerance, 255, cv2.THRESH_BINARY_INV)\n",
    "            alpha = cv2.bitwise_not(alpha)\n",
    "\n",
    "            # Rozdziel kanały\n",
    "            b, g, r = cv2.split(cropped)\n",
    "\n",
    "            # Połącz z kanałem alfa\n",
    "            rgba = cv2.merge([b, g, r, alpha])\n",
    "\n",
    "            h, w = rgba.shape[:2]\n",
    "            cropped_final = rgba[crop_margin:h-crop_margin, crop_margin:w-crop_margin]\n",
    "\n",
    "            output_path = f\"D:\\\\Project Sherlock\\\\Grafiki\\\\Hats\\\\icons_output\\icon_{counter:02d}.png\"\n",
    "            cv2.imwrite(output_path, cropped_final)\n",
    "            print(f\"Zapisano: {output_path}\")\n",
    "\n",
    "            counter += 1\n",
    "\n",
    "print(\"Gotowe! Wszystkie ikony wycięte.\")\n"
   ]
  },
  {
   "cell_type": "markdown",
   "id": "6bb586ed",
   "metadata": {},
   "source": [
    "### 2.3 Google Gracza"
   ]
  },
  {
   "cell_type": "code",
   "execution_count": null,
   "id": "d8f35bcf",
   "metadata": {},
   "outputs": [],
   "source": [
    "eye_files = os.listdir(\"D:\\\\Project Sherlock\\\\Grafiki\\\\Hats\")[:-1]"
   ]
  },
  {
   "cell_type": "code",
   "execution_count": null,
   "id": "0a84ea86",
   "metadata": {},
   "outputs": [],
   "source": [
    "import cv2\n",
    "import numpy as np\n",
    "import os\n",
    "\n",
    "# Parametry pozycji i rozmiaru kwadratów\n",
    "start_x, start_y = 60, 380\n",
    "end_x, end_y = 260, 580\n",
    "\n",
    "# Odstępy między kwadratami\n",
    "gap_x = 22\n",
    "gap_y = 38\n",
    "\n",
    "# Wymiary jednego kwadratu\n",
    "square_width = end_x - start_x\n",
    "square_height = end_y - start_y\n",
    "\n",
    "# Wczytaj obraz\n",
    "\n",
    "\n",
    "bg_color = np.array([145, 181, 181])\n",
    "\n",
    "# Liczba kolumn i wierszy (dopasuj do tego, co masz na screenie)\n",
    "num_cols = 4\n",
    "num_rows = 3\n",
    "\n",
    "\n",
    "tolerance = 30\n",
    "\n",
    "# Liczba pikseli do odcięcia z każdej strony\n",
    "crop_margin = 24\n",
    "\n",
    "counter = 0\n",
    "\n",
    "for file in eye_files:\n",
    "    img = cv2.imread(\"D:\\\\Project Sherlock\\\\Grafiki\\\\Eyes\\\\{}\".format(file))\n",
    "    for row in range(num_rows):\n",
    "        for col in range(num_cols):\n",
    "            x1 = start_x + col * (square_width + gap_x)\n",
    "            y1 = start_y + row * (square_height + gap_y)\n",
    "            x2 = x1 + square_width\n",
    "            y2 = y1 + square_height\n",
    "\n",
    "            cropped = img[y1:y2, x1:x2].copy()\n",
    "\n",
    "            # Oblicz różnicę koloru pikseli od koloru tła\n",
    "            diff = cv2.absdiff(cropped, bg_color)\n",
    "            mask = cv2.cvtColor(diff, cv2.COLOR_BGR2GRAY)\n",
    "\n",
    "            # Utwórz maskę binarną — piksele podobne do tła będą czarne (0), inne białe (255)\n",
    "            _, alpha = cv2.threshold(mask, tolerance, 255, cv2.THRESH_BINARY_INV)\n",
    "            alpha = cv2.bitwise_not(alpha)\n",
    "\n",
    "            # Rozdziel kanały\n",
    "            b, g, r = cv2.split(cropped)\n",
    "\n",
    "            # Połącz z kanałem alfa\n",
    "            rgba = cv2.merge([b, g, r, alpha])\n",
    "\n",
    "            h, w = rgba.shape[:2]\n",
    "            cropped_final = rgba[crop_margin:h-crop_margin, crop_margin:w-crop_margin]\n",
    "\n",
    "            output_path = f\"D:\\\\Project Sherlock\\\\Grafiki\\\\Eyes\\\\icons_output\\icon_{counter:02d}.png\"\n",
    "            cv2.imwrite(output_path, cropped_final)\n",
    "            print(f\"Zapisano: {output_path}\")\n",
    "\n",
    "            counter += 1\n",
    "\n",
    "print(\"Gotowe! Wszystkie ikony wycięte.\")\n"
   ]
  },
  {
   "cell_type": "markdown",
   "id": "a3235bba",
   "metadata": {},
   "source": [
    "### 2.4 Ubranko Gracza"
   ]
  },
  {
   "cell_type": "code",
   "execution_count": 2,
   "id": "f461a99e",
   "metadata": {},
   "outputs": [],
   "source": [
    "pants_files = os.listdir(\"D:\\\\Project Sherlock\\\\Grafiki\\\\Pants\")[:-1]"
   ]
  },
  {
   "cell_type": "code",
   "execution_count": 3,
   "id": "70fa5f9c",
   "metadata": {},
   "outputs": [
    {
     "data": {
      "text/plain": [
       "['archive',\n",
       " 'icon_01.png',\n",
       " 'icon_02.png',\n",
       " 'icon_03.png',\n",
       " 'icon_04.png',\n",
       " 'icon_05.png',\n",
       " 'icon_06.png']"
      ]
     },
     "execution_count": 3,
     "metadata": {},
     "output_type": "execute_result"
    }
   ],
   "source": [
    "pants_files"
   ]
  },
  {
   "cell_type": "markdown",
   "id": "b5f27afa",
   "metadata": {},
   "source": [
    "### 2.5 Create random players"
   ]
  },
  {
   "cell_type": "code",
   "execution_count": 11,
   "id": "38895b6d",
   "metadata": {},
   "outputs": [],
   "source": [
    "def clean_files(lista):\n",
    "    lista_b = []\n",
    "    for x in lista:\n",
    "        if \".png\" in x:\n",
    "            lista_b.append(x)\n",
    "    return lista_b"
   ]
  },
  {
   "cell_type": "code",
   "execution_count": 10,
   "id": "44e17198",
   "metadata": {},
   "outputs": [
    {
     "data": {
      "text/plain": [
       "['Eyes', 'Hats', 'Pants', 'PC']"
      ]
     },
     "execution_count": 10,
     "metadata": {},
     "output_type": "execute_result"
    }
   ],
   "source": [
    "os.listdir(\"D:\\\\Project Sherlock\\\\Grafiki\")"
   ]
  },
  {
   "cell_type": "code",
   "execution_count": 20,
   "id": "1f6298ba",
   "metadata": {},
   "outputs": [],
   "source": [
    "sprites_pc = clean_files(os.listdir(\"D:\\\\Project Sherlock\\\\Grafiki\\\\PC\"))\n",
    "sprites_eyes = clean_files(os.listdir(\"D:\\\\Project Sherlock\\\\Grafiki\\\\Eyes\"))\n",
    "sprites_pants = clean_files(os.listdir(\"D:\\\\Project Sherlock\\\\Grafiki\\\\Pants\"))\n",
    "sprites_hats = clean_files(os.listdir(\"D:\\\\Project Sherlock\\\\Grafiki\\\\Hats\"))"
   ]
  },
  {
   "cell_type": "code",
   "execution_count": null,
   "id": "90f56ab2",
   "metadata": {},
   "outputs": [],
   "source": [
    "# Add 160 pxl to the top of the image"
   ]
  },
  {
   "cell_type": "code",
   "execution_count": 206,
   "id": "f2acde0c",
   "metadata": {},
   "outputs": [],
   "source": [
    "def overlay_image(background, overlay, x, y, scale_factor):\n",
    "    \"\"\"Osadza overlay na background w pozycji (x, y) z obsługą alfa.\"\"\"\n",
    "    \n",
    "    \n",
    "    \n",
    "    new_w = int(overlay.shape[1] * scale_factor)\n",
    "    new_h = int(overlay.shape[0] * scale_factor)\n",
    "\n",
    "    # Użyj cv2.resize\n",
    "    overlay = cv2.resize(overlay, (new_w, new_h), interpolation=cv2.INTER_LINEAR)\n",
    "\n",
    "\n",
    "    bh, bw = background.shape[:2]\n",
    "    oh, ow = overlay.shape[:2]\n",
    "\n",
    "    if x + ow > bw or y + oh > bh:\n",
    "        print(\"Ostrzeżenie: overlay wykracza poza obraz tła!\")\n",
    "        print(x+ow, y+oh)\n",
    "        return background\n",
    "\n",
    "    # Wyodrębnij kanały\n",
    "    b, g, r, a = cv2.split(overlay)\n",
    "    mask = a / 255.0\n",
    "\n",
    "    for c in range(3):  # RGB\n",
    "        background[y:y+oh, x:x+ow, c] = (1.0 - mask) * background[y:y+oh, x:x+ow, c] + mask * overlay[:, :, c]\n",
    "\n",
    "    # Nadpisujemy kanał alfa tła, jeśli potrzebne\n",
    "    if background.shape[2] == 4:\n",
    "        background[y:y+oh, x:x+ow, 3] = np.maximum(background[y:y+oh, x:x+ow, 3], a)\n",
    "\n",
    "    return background"
   ]
  },
  {
   "cell_type": "code",
   "execution_count": 299,
   "id": "046f9a6e",
   "metadata": {},
   "outputs": [],
   "source": [
    "def create_random_crewmate(hat_path, eye_path, pant_path, pc_path, path, out_name):\n",
    "    # Wczytaj obraz bazowy\n",
    "    base_img = cv2.imread(pc_path, cv2.IMREAD_UNCHANGED)\n",
    "    h, w = base_img.shape[:2]\n",
    "    \n",
    "    # Nowe wymiary\n",
    "    new_w = w + 70 + 70\n",
    "    new_h = h + 160 +40\n",
    "\n",
    "    # Tworzymy nowy obraz (przezroczysty)\n",
    "    new_img = np.zeros((new_h, new_w, 4), dtype=np.uint8)\n",
    "\n",
    "    # Wklejamy oryginał na odpowiednie miejsce\n",
    "    new_img[160:160+h, 50:50+w] = base_img\n",
    "\n",
    "\n",
    "    # Wczytaj elementy\n",
    "    hat = cv2.imread(hat_path, cv2.IMREAD_UNCHANGED)\n",
    "    mask = cv2.imread(mask_path, cv2.IMREAD_UNCHANGED)\n",
    "    suit = cv2.imread(suit_path, cv2.IMREAD_UNCHANGED)\n",
    "\n",
    "    # Osadź elementy\n",
    "    extended_img = overlay_image(new_img, hat, 140, 60, scale_factor = 1.5)\n",
    "    extended_img = overlay_image(new_img, mask, 130, 160, scale_factor = 2.1)\n",
    "    extended_img = overlay_image(new_img, suit, 98, 355, scale_factor = 2.1)\n",
    "\n",
    "    # Zapisz wynik\n",
    "    cv2.imwrite(\"{}\\\\{}\".format(path, out_name), new_img)\n",
    "    print(\"Zapisano: sprite_with_items.png\")"
   ]
  },
  {
   "cell_type": "code",
   "execution_count": 300,
   "id": "726e52a5",
   "metadata": {},
   "outputs": [],
   "source": [
    "import random"
   ]
  },
  {
   "cell_type": "code",
   "execution_count": null,
   "id": "ed19105f",
   "metadata": {},
   "outputs": [],
   "source": []
  },
  {
   "cell_type": "code",
   "execution_count": 302,
   "id": "fb3084b3",
   "metadata": {},
   "outputs": [
    {
     "name": "stdout",
     "output_type": "stream",
     "text": [
      "Zapisano: sprite_with_items.png\n"
     ]
    }
   ],
   "source": [
    "r_pc = random.choice(sprites_pc)\n",
    "r_hat = random.choice(sprites_hats)\n",
    "r_eye =random.choice(sprites_eyes)\n",
    "r_pant = random.choice(sprites_pants)\n",
    "\n",
    "save_path = \"D:\\\\Project Sherlock\\\\Grafiki\"\n",
    "\n",
    "# Plik główny (sprite)\n",
    "base_img_path = \"{}\\\\PC\\\\{}\".format(save_path,  r_pc)\n",
    "\n",
    "\n",
    "\n",
    "# Dodatkowe elementy\n",
    "hat_path = \"{}\\\\Hats\\\\{}\".format(save_path, r_hat)\n",
    "mask_path = \"{}\\\\Eyes\\\\{}\".format(save_path,r_eye)\n",
    "suit_path = \"{}\\\\Pants\\\\{}\".format(save_path,r_pant)\n",
    "\n",
    "\n",
    "save_name = \"test_1.png\"\n",
    "\n",
    "create_random_crewmate(hat_path, mask_path, suit_path, base_img_path, save_path, save_name)"
   ]
  },
  {
   "cell_type": "code",
   "execution_count": 242,
   "id": "99ff4ff1",
   "metadata": {},
   "outputs": [
    {
     "name": "stdout",
     "output_type": "stream",
     "text": [
      "Zapisano: sprite_with_items.png\n"
     ]
    }
   ],
   "source": []
  },
  {
   "cell_type": "code",
   "execution_count": 45,
   "id": "35575ae9",
   "metadata": {},
   "outputs": [
    {
     "name": "stdout",
     "output_type": "stream",
     "text": [
      "Ostrzeżenie: overlay wykracza poza obraz tła!\n",
      "Ostrzeżenie: overlay wykracza poza obraz tła!\n",
      "Zapisano: sprite_with_items.png\n"
     ]
    }
   ],
   "source": []
  },
  {
   "cell_type": "code",
   "execution_count": null,
   "id": "c5aab08f",
   "metadata": {},
   "outputs": [],
   "source": []
  }
 ],
 "metadata": {
  "kernelspec": {
   "display_name": "Python 3 (ipykernel)",
   "language": "python",
   "name": "python3"
  },
  "language_info": {
   "codemirror_mode": {
    "name": "ipython",
    "version": 3
   },
   "file_extension": ".py",
   "mimetype": "text/x-python",
   "name": "python",
   "nbconvert_exporter": "python",
   "pygments_lexer": "ipython3",
   "version": "3.10.4"
  }
 },
 "nbformat": 4,
 "nbformat_minor": 5
}
