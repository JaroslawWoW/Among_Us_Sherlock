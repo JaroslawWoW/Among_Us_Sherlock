{
 "cells": [
  {
   "cell_type": "code",
   "execution_count": null,
   "id": "ba115605",
   "metadata": {},
   "outputs": [],
   "source": [
    "import cv2\n",
    "import numpy as np\n",
    "from PIL import Image\n",
    "import os\n"
   ]
  },
  {
   "cell_type": "code",
   "execution_count": null,
   "id": "74d2d3ab",
   "metadata": {},
   "outputs": [],
   "source": [
    "all_files = os.listdir(\"D:\\\\Project Sherlock\\\\Grafiki\\\\PC\")"
   ]
  },
  {
   "cell_type": "code",
   "execution_count": null,
   "id": "03861772",
   "metadata": {},
   "outputs": [],
   "source": [
    "all_files"
   ]
  },
  {
   "cell_type": "code",
   "execution_count": null,
   "id": "028319c2",
   "metadata": {},
   "outputs": [],
   "source": [
    "colors_dict_hex = {\"Red\":\"#C51111\",\n",
    "                    \"Blue\": \"#132ed1\",\n",
    "                   \"Green\": \"#117f2d\",\n",
    "                   \"Pink\": \"#ed54ba\",\n",
    "                   \"White\": \"#d6e0f0\",\n",
    "                   \"Black\": \"#3f474e\",\n",
    "                   \"Yellow\": \"#f5f557\",\n",
    "                   \"Orange\": \"#ef7d0d\",\n",
    "                   \"Purple\": \"#6b2fbb\",\n",
    "                   \"Brown\": \"#71491e\",\n",
    "                   \"Cyan\": \"#38fedc\",\n",
    "                   \"Lime\": \"#50ef39\",\n",
    "                    \"Gray\":\"\",\n",
    "                      \"Banana\":\"\",\n",
    "                  \"Rose\":\"\",\n",
    "                  \"Maroon\":\"\",\n",
    "                  \"Tan\":\"\",\n",
    "                  \"Coral\":\"\"}\n"
   ]
  },
  {
   "cell_type": "code",
   "execution_count": null,
   "id": "3836e391",
   "metadata": {},
   "outputs": [],
   "source": [
    "colors_dict_hex.keys()"
   ]
  },
  {
   "cell_type": "code",
   "execution_count": null,
   "id": "525a0cce",
   "metadata": {},
   "outputs": [],
   "source": [
    "names = ['Red', 'Blue', 'Green', 'Pink', 'White', 'Black', 'Yellow', 'Orange', \n",
    "         'Purple', 'Brown', 'Cyan', 'Lime', 'Gray', 'Banana', 'Rose', 'Maroon', \n",
    "         'Tan', 'Coral']\n"
   ]
  },
  {
   "cell_type": "markdown",
   "id": "9fa72653",
   "metadata": {},
   "source": [
    "### 2.1 Sprity gracza"
   ]
  },
  {
   "cell_type": "code",
   "execution_count": null,
   "id": "a0a9b147",
   "metadata": {},
   "outputs": [],
   "source": [
    "for x in range(len(all_files)):\n",
    "    # Wczytaj obraz\n",
    "    img = cv2.imread(\"D:\\\\Project Sherlock\\\\Grafiki\\\\PC\\\\{}\".format(all_files[x]))\n",
    "    \n",
    "\n",
    "    # Koordynaty (przykład)\n",
    "    x1, y1 = 1800, 540\n",
    "    x2, y2 = 2170, 1030\n",
    "\n",
    "    # Wycinamy fragment\n",
    "    cropped = img[y1:y2, x1:x2]\n",
    "\n",
    "    # Szukamy czarnej obwódki — tworzymy maskę \"ciemnych\" pikseli\n",
    "    # Zakładamy, że obwódka ma wartości RGB bliskie 0\n",
    "    lower_black = np.array([0, 0, 0])\n",
    "    upper_black = np.array([50, 50, 50])\n",
    "    mask_black = cv2.inRange(cropped, lower_black, upper_black)\n",
    "\n",
    "    # Znalezienie największego konturu (cała postać z obwódką)\n",
    "    contours, _ = cv2.findContours(mask_black, cv2.RETR_EXTERNAL, cv2.CHAIN_APPROX_SIMPLE)\n",
    "    if contours:\n",
    "        largest_contour = max(contours, key=cv2.contourArea)\n",
    "\n",
    "        # Tworzymy pustą maskę\n",
    "        mask = np.zeros(cropped.shape[:2], dtype=np.uint8)\n",
    "\n",
    "        # Wypełniamy kontur (wnętrze postaci + obwódka) na biało\n",
    "        cv2.drawContours(mask, [largest_contour], -1, 255, thickness=cv2.FILLED)\n",
    "\n",
    "        # Konwersja maski do kanału alfa\n",
    "        alpha = mask\n",
    "\n",
    "        # Rozdziel kanały\n",
    "        b, g, r = cv2.split(cropped)\n",
    "\n",
    "        # Łączenie w obraz z alfa\n",
    "        rgba = cv2.merge([b, g, r, alpha])\n",
    "\n",
    "        # Zapisz\n",
    "        cv2.imwrite(\"D:\\\\Project Sherlock\\\\Grafiki\\\\PC\\\\{}_masked.png\".format(names[x]), rgba)\n",
    "        print(\"Zapisano jako {}_masked.png\".format(names[x]))\n",
    "    else:\n",
    "        print(\"Nie znaleziono konturu obwódki.\")\n"
   ]
  },
  {
   "cell_type": "markdown",
   "id": "43d788d7",
   "metadata": {},
   "source": [
    "### 2.2 Czapeczki gracza"
   ]
  },
  {
   "cell_type": "code",
   "execution_count": null,
   "id": "832990e7",
   "metadata": {},
   "outputs": [],
   "source": [
    "hats_files = os.listdir(\"D:\\\\Project Sherlock\\\\Grafiki\\\\Hats\")[:-1]"
   ]
  },
  {
   "cell_type": "code",
   "execution_count": null,
   "id": "0b8bb5de",
   "metadata": {
    "scrolled": true
   },
   "outputs": [],
   "source": [
    "import cv2\n",
    "import numpy as np\n",
    "import os\n",
    "\n",
    "# Parametry pozycji i rozmiaru kwadratów\n",
    "start_x, start_y = 60, 380\n",
    "end_x, end_y = 260, 580\n",
    "\n",
    "# Odstępy między kwadratami\n",
    "gap_x = 22\n",
    "gap_y = 38\n",
    "\n",
    "# Wymiary jednego kwadratu\n",
    "square_width = end_x - start_x\n",
    "square_height = end_y - start_y\n",
    "\n",
    "# Wczytaj obraz\n",
    "\n",
    "\n",
    "bg_color = np.array([145, 181, 181])\n",
    "\n",
    "# Liczba kolumn i wierszy (dopasuj do tego, co masz na screenie)\n",
    "num_cols = 4\n",
    "num_rows = 3\n",
    "\n",
    "\n",
    "tolerance = 30\n",
    "\n",
    "# Liczba pikseli do odcięcia z każdej strony\n",
    "crop_margin = 24\n",
    "\n",
    "counter = 0\n",
    "\n",
    "for file in hats_files:\n",
    "    img = cv2.imread(\"D:\\\\Project Sherlock\\\\Grafiki\\\\Hats\\\\{}\".format(file))\n",
    "    for row in range(num_rows):\n",
    "        for col in range(num_cols):\n",
    "            x1 = start_x + col * (square_width + gap_x)\n",
    "            y1 = start_y + row * (square_height + gap_y)\n",
    "            x2 = x1 + square_width\n",
    "            y2 = y1 + square_height\n",
    "\n",
    "            cropped = img[y1:y2, x1:x2].copy()\n",
    "\n",
    "            # Oblicz różnicę koloru pikseli od koloru tła\n",
    "            diff = cv2.absdiff(cropped, bg_color)\n",
    "            mask = cv2.cvtColor(diff, cv2.COLOR_BGR2GRAY)\n",
    "\n",
    "            # Utwórz maskę binarną — piksele podobne do tła będą czarne (0), inne białe (255)\n",
    "            _, alpha = cv2.threshold(mask, tolerance, 255, cv2.THRESH_BINARY_INV)\n",
    "            alpha = cv2.bitwise_not(alpha)\n",
    "\n",
    "            # Rozdziel kanały\n",
    "            b, g, r = cv2.split(cropped)\n",
    "\n",
    "            # Połącz z kanałem alfa\n",
    "            rgba = cv2.merge([b, g, r, alpha])\n",
    "\n",
    "            h, w = rgba.shape[:2]\n",
    "            cropped_final = rgba[crop_margin:h-crop_margin, crop_margin:w-crop_margin]\n",
    "\n",
    "            output_path = f\"D:\\\\Project Sherlock\\\\Grafiki\\\\Hats\\\\icons_output\\icon_{counter:02d}.png\"\n",
    "            cv2.imwrite(output_path, cropped_final)\n",
    "            print(f\"Zapisano: {output_path}\")\n",
    "\n",
    "            counter += 1\n",
    "\n",
    "print(\"Gotowe! Wszystkie ikony wycięte.\")\n"
   ]
  },
  {
   "cell_type": "markdown",
   "id": "6bb586ed",
   "metadata": {},
   "source": [
    "### 2.3 Google Gracza"
   ]
  },
  {
   "cell_type": "code",
   "execution_count": null,
   "id": "d8f35bcf",
   "metadata": {},
   "outputs": [],
   "source": [
    "eye_files = os.listdir(\"D:\\\\Project Sherlock\\\\Grafiki\\\\Hats\")[:-1]"
   ]
  },
  {
   "cell_type": "code",
   "execution_count": null,
   "id": "0a84ea86",
   "metadata": {},
   "outputs": [],
   "source": [
    "import cv2\n",
    "import numpy as np\n",
    "import os\n",
    "\n",
    "# Parametry pozycji i rozmiaru kwadratów\n",
    "start_x, start_y = 60, 380\n",
    "end_x, end_y = 260, 580\n",
    "\n",
    "# Odstępy między kwadratami\n",
    "gap_x = 22\n",
    "gap_y = 38\n",
    "\n",
    "# Wymiary jednego kwadratu\n",
    "square_width = end_x - start_x\n",
    "square_height = end_y - start_y\n",
    "\n",
    "# Wczytaj obraz\n",
    "\n",
    "\n",
    "bg_color = np.array([145, 181, 181])\n",
    "\n",
    "# Liczba kolumn i wierszy (dopasuj do tego, co masz na screenie)\n",
    "num_cols = 4\n",
    "num_rows = 3\n",
    "\n",
    "\n",
    "tolerance = 30\n",
    "\n",
    "# Liczba pikseli do odcięcia z każdej strony\n",
    "crop_margin = 24\n",
    "\n",
    "counter = 0\n",
    "\n",
    "for file in eye_files:\n",
    "    img = cv2.imread(\"D:\\\\Project Sherlock\\\\Grafiki\\\\Eyes\\\\{}\".format(file))\n",
    "    for row in range(num_rows):\n",
    "        for col in range(num_cols):\n",
    "            x1 = start_x + col * (square_width + gap_x)\n",
    "            y1 = start_y + row * (square_height + gap_y)\n",
    "            x2 = x1 + square_width\n",
    "            y2 = y1 + square_height\n",
    "\n",
    "            cropped = img[y1:y2, x1:x2].copy()\n",
    "\n",
    "            # Oblicz różnicę koloru pikseli od koloru tła\n",
    "            diff = cv2.absdiff(cropped, bg_color)\n",
    "            mask = cv2.cvtColor(diff, cv2.COLOR_BGR2GRAY)\n",
    "\n",
    "            # Utwórz maskę binarną — piksele podobne do tła będą czarne (0), inne białe (255)\n",
    "            _, alpha = cv2.threshold(mask, tolerance, 255, cv2.THRESH_BINARY_INV)\n",
    "            alpha = cv2.bitwise_not(alpha)\n",
    "\n",
    "            # Rozdziel kanały\n",
    "            b, g, r = cv2.split(cropped)\n",
    "\n",
    "            # Połącz z kanałem alfa\n",
    "            rgba = cv2.merge([b, g, r, alpha])\n",
    "\n",
    "            h, w = rgba.shape[:2]\n",
    "            cropped_final = rgba[crop_margin:h-crop_margin, crop_margin:w-crop_margin]\n",
    "\n",
    "            output_path = f\"D:\\\\Project Sherlock\\\\Grafiki\\\\Eyes\\\\icons_output\\icon_{counter:02d}.png\"\n",
    "            cv2.imwrite(output_path, cropped_final)\n",
    "            print(f\"Zapisano: {output_path}\")\n",
    "\n",
    "            counter += 1\n",
    "\n",
    "print(\"Gotowe! Wszystkie ikony wycięte.\")\n"
   ]
  },
  {
   "cell_type": "markdown",
   "id": "a3235bba",
   "metadata": {},
   "source": [
    "### 2.4 Ubranko Gracza"
   ]
  },
  {
   "cell_type": "code",
   "execution_count": null,
   "id": "f461a99e",
   "metadata": {},
   "outputs": [],
   "source": [
    "pants_files = os.listdir(\"D:\\\\Project Sherlock\\\\Grafiki\\\\Pants\")[:-1]"
   ]
  },
  {
   "cell_type": "code",
   "execution_count": null,
   "id": "70fa5f9c",
   "metadata": {},
   "outputs": [],
   "source": []
  }
 ],
 "metadata": {
  "kernelspec": {
   "display_name": "Python 3 (ipykernel)",
   "language": "python",
   "name": "python3"
  },
  "language_info": {
   "codemirror_mode": {
    "name": "ipython",
    "version": 3
   },
   "file_extension": ".py",
   "mimetype": "text/x-python",
   "name": "python",
   "nbconvert_exporter": "python",
   "pygments_lexer": "ipython3",
   "version": "3.10.4"
  }
 },
 "nbformat": 4,
 "nbformat_minor": 5
}
