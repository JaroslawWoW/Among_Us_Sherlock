{
 "cells": [
  {
   "cell_type": "code",
   "execution_count": 3,
   "id": "ba115605",
   "metadata": {},
   "outputs": [],
   "source": [
    "import cv2\n",
    "import numpy as np\n",
    "from PIL import Image\n",
    "import random\n",
    "import json\n",
    "import ast\n",
    "import csv\n",
    "from openpyxl import Workbook\n",
    "import pandas as pd\n",
    "import os\n",
    "from ultralytics import YOLO\n",
    "from ultralytics import settings"
   ]
  },
  {
   "cell_type": "markdown",
   "id": "3e73822d",
   "metadata": {},
   "source": [
    "## 1. Prepare for YALO"
   ]
  },
  {
   "cell_type": "markdown",
   "id": "84358872",
   "metadata": {},
   "source": [
    "### 2.0 Begin training"
   ]
  },
  {
   "cell_type": "code",
   "execution_count": 4,
   "id": "ae9cb764-5f26-4cea-80e2-33138a5929ae",
   "metadata": {},
   "outputs": [],
   "source": [
    "# Update a setting\n",
    "settings.update({\"runs_dir\": \"E:\\\\Project Sherlock\\\\Grafiki\\\\Grafiki total\\\\dataset\"})\n",
    "settings.update({\"datasets_dir\": \"E:\\\\Project Sherlock\\\\Grafiki\\\\Grafiki total\\\\dataset\"})\n",
    "settings.update({\"weights_dir\": \"E:\\\\Project Sherlock\\\\Grafiki\\\\Grafiki total\\\\dataset\"})"
   ]
  },
  {
   "cell_type": "code",
   "execution_count": 5,
   "id": "53b6e3d9",
   "metadata": {},
   "outputs": [],
   "source": [
    "model = YOLO(\"E:\\\\Project Sherlock\\\\Grafiki\\\\Grafiki total\\\\dataset\\\\yolov8n.pt\")  "
   ]
  },
  {
   "cell_type": "code",
   "execution_count": 16,
   "id": "6880615f-b11b-47ec-a4ac-5674e0f5867a",
   "metadata": {},
   "outputs": [],
   "source": [
    "import os\n",
    "import torch\n",
    "import cv2\n",
    "import psutil\n",
    "\n",
    "os.environ[\"OMP_NUM_THREADS\"] = \"6\"\n",
    "os.environ[\"MKL_NUM_THREADS\"] = \"6\"\n",
    "os.environ[\"NUMEXPR_NUM_THREADS\"] = \"6\"\n",
    "\n",
    "cv2.setNumThreads(0)\n",
    "\n",
    "# ===============================\n",
    "# 🔹 Ustaw affinity: ~50% CPU (6 rdzeni z 12)\n",
    "# ===============================\n",
    "p = psutil.Process(os.getpid())\n",
    "p.cpu_affinity([0, 1, 2, 3, 4, 5])  # 7 rdzeni = ok. 58-60% CPU\n",
    "\n",
    "# ===============================\n",
    "# 🔹 Ustaw dla PyTorch\n",
    "# ===============================\n",
    "torch.set_num_threads(6)"
   ]
  },
  {
   "cell_type": "code",
   "execution_count": null,
   "id": "6319e802-0ebc-477a-936e-74262c941023",
   "metadata": {},
   "outputs": [],
   "source": [
    "from ultralytics import YOLO\n",
    "\n",
    "model = YOLO(\"E:/Project Sherlock/Grafiki/Grafiki total/dataset/yolov8n.pt\")\n",
    "\n",
    "model.train(\n",
    "    data=\"E:/Project Sherlock/Grafiki/Grafiki total/dataset/data.yaml\",\n",
    "    epochs=1,\n",
    "    batch=8,          # większy batch\n",
    "    imgsz=1024,       # wyższa rozdzielczość\n",
    "    device=\"cpu\",\n",
    "    workers=0,\n",
    "    cache=False,\n",
    "    half=False\n",
    ")\n"
   ]
  },
  {
   "cell_type": "code",
   "execution_count": null,
   "id": "0d70295e",
   "metadata": {},
   "outputs": [],
   "source": []
  },
  {
   "cell_type": "code",
   "execution_count": null,
   "id": "76278ec9",
   "metadata": {},
   "outputs": [],
   "source": []
  }
 ],
 "metadata": {
  "kernelspec": {
   "display_name": "Python 3 (ipykernel)",
   "language": "python",
   "name": "python3"
  },
  "language_info": {
   "codemirror_mode": {
    "name": "ipython",
    "version": 3
   },
   "file_extension": ".py",
   "mimetype": "text/x-python",
   "name": "python",
   "nbconvert_exporter": "python",
   "pygments_lexer": "ipython3",
   "version": "3.10.18"
  }
 },
 "nbformat": 4,
 "nbformat_minor": 5
}
