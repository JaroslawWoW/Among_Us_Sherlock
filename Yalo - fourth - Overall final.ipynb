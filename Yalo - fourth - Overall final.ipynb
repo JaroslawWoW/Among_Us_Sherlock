{
 "cells": [
  {
   "cell_type": "code",
   "execution_count": 1,
   "id": "ba115605",
   "metadata": {},
   "outputs": [
    {
     "name": "stdout",
     "output_type": "stream",
     "text": [
      "WARNING Ultralytics setting 'datasets_dir: E:\\Project Sherlock\\Grafiki\\Grafiki total\\dataset' must be different than 'runs_dir: E:\\Project Sherlock\\Grafiki\\Grafiki total\\dataset'. Please change one to avoid possible issues during training. \n",
      "View Ultralytics Settings with 'yolo settings' or at 'C:\\Users\\Jarek\\AppData\\Roaming\\Ultralytics\\settings.json'\n",
      "Update Settings with 'yolo settings key=value', i.e. 'yolo settings runs_dir=path/to/dir'. For help see https://docs.ultralytics.com/quickstart/#ultralytics-settings.\n"
     ]
    }
   ],
   "source": [
    "import cv2\n",
    "import numpy as np\n",
    "from PIL import Image\n",
    "import random\n",
    "import json\n",
    "import ast\n",
    "import csv\n",
    "from openpyxl import Workbook\n",
    "import pandas as pd\n",
    "import os\n",
    "from ultralytics import YOLO\n",
    "from ultralytics import settings"
   ]
  },
  {
   "cell_type": "markdown",
   "id": "3e73822d",
   "metadata": {},
   "source": [
    "## 1. Prepare for YALO"
   ]
  },
  {
   "cell_type": "markdown",
   "id": "84358872",
   "metadata": {},
   "source": [
    "### 2.0 Begin training"
   ]
  },
  {
   "cell_type": "code",
   "execution_count": 2,
   "id": "ae9cb764-5f26-4cea-80e2-33138a5929ae",
   "metadata": {},
   "outputs": [],
   "source": [
    "# Update a setting\n",
    "settings.update({\"runs_dir\": \"E:\\\\Project Sherlock\\\\Grafiki\\\\Grafiki total\\\\dataset\"})\n",
    "settings.update({\"datasets_dir\": \"E:\\\\Project Sherlock\\\\Grafiki\\\\Grafiki total\\\\dataset\"})\n",
    "settings.update({\"weights_dir\": \"E:\\\\Project Sherlock\\\\Grafiki\\\\Grafiki total\\\\dataset\"})"
   ]
  },
  {
   "cell_type": "code",
   "execution_count": 3,
   "id": "53b6e3d9",
   "metadata": {},
   "outputs": [],
   "source": [
    "model = YOLO(\"E:\\\\Project Sherlock\\\\Grafiki\\\\Grafiki total\\\\dataset\\\\yolov8n.pt\")  "
   ]
  },
  {
   "cell_type": "code",
   "execution_count": 4,
   "id": "6880615f-b11b-47ec-a4ac-5674e0f5867a",
   "metadata": {},
   "outputs": [
    {
     "ename": "SyntaxError",
     "evalue": "invalid syntax. Perhaps you forgot a comma? (3639862028.py, line 16)",
     "output_type": "error",
     "traceback": [
      "\u001b[1;36m  Cell \u001b[1;32mIn[4], line 16\u001b[1;36m\u001b[0m\n\u001b[1;33m    p.cpu_affinity([0, 1, 2, 3, 4, 5, 6. 7])  # 7 rdzeni = ok. 58-60% CPU\u001b[0m\n\u001b[1;37m                                      ^\u001b[0m\n\u001b[1;31mSyntaxError\u001b[0m\u001b[1;31m:\u001b[0m invalid syntax. Perhaps you forgot a comma?\n"
     ]
    }
   ],
   "source": [
    "import os\n",
    "import torch\n",
    "import cv2\n",
    "import psutil\n",
    "\n",
    "os.environ[\"OMP_NUM_THREADS\"] = \"8\"\n",
    "os.environ[\"MKL_NUM_THREADS\"] = \"8\"\n",
    "os.environ[\"NUMEXPR_NUM_THREADS\"] = \"8\"\n",
    "\n",
    "cv2.setNumThreads(0)\n",
    "\n",
    "# ===============================\n",
    "# 🔹 Ustaw affinity: ~50% CPU (6 rdzeni z 12)\n",
    "# ===============================\n",
    "p = psutil.Process(os.getpid())\n",
    "p.cpu_affinity([0, 1, 2, 3, 4, 5, 6. 7])  # 7 rdzeni = ok. 58-60% CPU\n",
    "\n",
    "# ===============================\n",
    "# 🔹 Ustaw dla PyTorch\n",
    "# ===============================\n",
    "torch.set_num_threads(8)"
   ]
  },
  {
   "cell_type": "code",
   "execution_count": null,
   "id": "3509a09a-afaf-4c63-8ea5-e67394a29e2c",
   "metadata": {},
   "outputs": [],
   "source": [
    "#model=\"E:/Project Sherlock/Grafiki/Grafiki total/dataset/detect/train12/weights/last.pt\""
   ]
  },
  {
   "cell_type": "markdown",
   "id": "01c6b8b7-7955-4c65-a541-7ff4b6cdd60a",
   "metadata": {},
   "source": [
    "from ultralytics import YOLO\n",
    "\n",
    "#model = YOLO(\"E:/Project Sherlock/Grafiki/Grafiki total/dataset/yolov8n.pt\")\n",
    "\n",
    "\n",
    "model.train(\n",
    "    data=\"E:/Project Sherlock/Grafiki/Grafiki total/dataset/data.yaml\",\n",
    "    epochs=10,\n",
    "    batch=15,          # większy batch\n",
    "    imgsz=640,       # wyższa rozdzielczość\n",
    "    device=\"cpu\",\n",
    "    workers=0,\n",
    "    cache=False,\n",
    "    half=False,\n",
    "    freeze = 2\n",
    ")\n"
   ]
  },
  {
   "cell_type": "code",
   "execution_count": 7,
   "id": "e9ae24ae-0cda-4b8c-909f-3a8dc81da65c",
   "metadata": {
    "scrolled": true
   },
   "outputs": [
    {
     "name": "stdout",
     "output_type": "stream",
     "text": [
      "New https://pypi.org/project/ultralytics/8.3.175 available  Update with 'pip install -U ultralytics'\n",
      "Ultralytics 8.3.168  Python-3.10.18 torch-2.7.1+cpu CPU (AMD Ryzen 5 5600X 6-Core Processor)\n",
      "\u001b[34m\u001b[1mengine\\trainer: \u001b[0magnostic_nms=False, amp=True, augment=False, auto_augment=randaugment, batch=15, bgr=0.0, box=7.5, cache=False, cfg=None, classes=None, close_mosaic=10, cls=0.5, conf=None, copy_paste=0.0, copy_paste_mode=flip, cos_lr=False, cutmix=0.0, data=E:/Project Sherlock/Grafiki/Grafiki total/dataset/data.yaml, degrees=0.0, deterministic=True, device=cpu, dfl=1.5, dnn=False, dropout=0.0, dynamic=False, embed=None, epochs=10, erasing=0.4, exist_ok=False, fliplr=0.5, flipud=0.0, format=torchscript, fraction=1.0, freeze=2, half=False, hsv_h=0.015, hsv_s=0.7, hsv_v=0.4, imgsz=640, int8=False, iou=0.7, keras=False, kobj=1.0, line_width=None, lr0=0.01, lrf=0.01, mask_ratio=4, max_det=300, mixup=0.0, mode=train, model=E:\\Project Sherlock\\Grafiki\\Grafiki total\\dataset\\detect\\train12\\weights\\last.pt, momentum=0.937, mosaic=1.0, multi_scale=False, name=train12, nbs=64, nms=False, opset=None, optimize=False, optimizer=auto, overlap_mask=True, patience=100, perspective=0.0, plots=True, pose=12.0, pretrained=True, profile=False, project=None, rect=False, resume=E:\\Project Sherlock\\Grafiki\\Grafiki total\\dataset\\detect\\train12\\weights\\last.pt, retina_masks=False, save=True, save_conf=False, save_crop=False, save_dir=E:\\Project Sherlock\\Grafiki\\Grafiki total\\dataset\\detect\\train12, save_frames=False, save_json=False, save_period=-1, save_txt=False, scale=0.5, seed=0, shear=0.0, show=False, show_boxes=True, show_conf=True, show_labels=True, simplify=True, single_cls=False, source=None, split=val, stream_buffer=False, task=detect, time=None, tracker=botsort.yaml, translate=0.1, val=True, verbose=True, vid_stride=1, visualize=False, warmup_bias_lr=0.0, warmup_epochs=3.0, warmup_momentum=0.8, weight_decay=0.0005, workers=0, workspace=None\n",
      "\n",
      "                   from  n    params  module                                       arguments                     \n",
      "  0                  -1  1       464  ultralytics.nn.modules.conv.Conv             [3, 16, 3, 2]                 \n",
      "  1                  -1  1      4672  ultralytics.nn.modules.conv.Conv             [16, 32, 3, 2]                \n",
      "  2                  -1  1      7360  ultralytics.nn.modules.block.C2f             [32, 32, 1, True]             \n",
      "  3                  -1  1     18560  ultralytics.nn.modules.conv.Conv             [32, 64, 3, 2]                \n",
      "  4                  -1  2     49664  ultralytics.nn.modules.block.C2f             [64, 64, 2, True]             \n",
      "  5                  -1  1     73984  ultralytics.nn.modules.conv.Conv             [64, 128, 3, 2]               \n",
      "  6                  -1  2    197632  ultralytics.nn.modules.block.C2f             [128, 128, 2, True]           \n",
      "  7                  -1  1    295424  ultralytics.nn.modules.conv.Conv             [128, 256, 3, 2]              \n",
      "  8                  -1  1    460288  ultralytics.nn.modules.block.C2f             [256, 256, 1, True]           \n",
      "  9                  -1  1    164608  ultralytics.nn.modules.block.SPPF            [256, 256, 5]                 \n",
      " 10                  -1  1         0  torch.nn.modules.upsampling.Upsample         [None, 2, 'nearest']          \n",
      " 11             [-1, 6]  1         0  ultralytics.nn.modules.conv.Concat           [1]                           \n",
      " 12                  -1  1    148224  ultralytics.nn.modules.block.C2f             [384, 128, 1]                 \n",
      " 13                  -1  1         0  torch.nn.modules.upsampling.Upsample         [None, 2, 'nearest']          \n",
      " 14             [-1, 4]  1         0  ultralytics.nn.modules.conv.Concat           [1]                           \n",
      " 15                  -1  1     37248  ultralytics.nn.modules.block.C2f             [192, 64, 1]                  \n",
      " 16                  -1  1     36992  ultralytics.nn.modules.conv.Conv             [64, 64, 3, 2]                \n",
      " 17            [-1, 12]  1         0  ultralytics.nn.modules.conv.Concat           [1]                           \n",
      " 18                  -1  1    123648  ultralytics.nn.modules.block.C2f             [192, 128, 1]                 \n",
      " 19                  -1  1    147712  ultralytics.nn.modules.conv.Conv             [128, 128, 3, 2]              \n",
      " 20             [-1, 9]  1         0  ultralytics.nn.modules.conv.Concat           [1]                           \n",
      " 21                  -1  1    493056  ultralytics.nn.modules.block.C2f             [384, 256, 1]                 \n",
      " 22        [15, 18, 21]  1    751507  ultralytics.nn.modules.head.Detect           [1, [64, 128, 256]]           \n",
      "Model summary: 129 layers, 3,011,043 parameters, 3,011,027 gradients, 8.2 GFLOPs\n",
      "\n",
      "Transferred 355/355 items from pretrained weights\n",
      "Freezing layer 'model.0.conv.weight'\n",
      "Freezing layer 'model.0.bn.weight'\n",
      "Freezing layer 'model.0.bn.bias'\n",
      "Freezing layer 'model.1.conv.weight'\n",
      "Freezing layer 'model.1.bn.weight'\n",
      "Freezing layer 'model.1.bn.bias'\n",
      "Freezing layer 'model.22.dfl.conv.weight'\n",
      "\u001b[34m\u001b[1mtrain: \u001b[0mFast image access  (ping: 0.20.1 ms, read: 728.6121.6 MB/s, size: 760.4 KB)\n"
     ]
    },
    {
     "name": "stderr",
     "output_type": "stream",
     "text": [
      "\u001b[34m\u001b[1mtrain: \u001b[0mScanning E:\\Project Sherlock\\Grafiki\\Grafiki total\\dataset\\labels\\train.cache... 4800 images, 2365 backgrounds, \u001b[0m"
     ]
    },
    {
     "name": "stdout",
     "output_type": "stream",
     "text": [
      "\u001b[34m\u001b[1mval: \u001b[0mFast image access  (ping: 0.10.0 ms, read: 779.4142.6 MB/s, size: 771.7 KB)\n"
     ]
    },
    {
     "name": "stderr",
     "output_type": "stream",
     "text": [
      "\n",
      "D:\\anaconda\\envs\\yalo_env\\lib\\site-packages\\torch\\utils\\data\\dataloader.py:665: UserWarning: 'pin_memory' argument is set as true but no accelerator is found, then device pinned memory won't be used.\n",
      "  warnings.warn(warn_msg)\n",
      "\u001b[34m\u001b[1mval: \u001b[0mScanning E:\\Project Sherlock\\Grafiki\\Grafiki total\\dataset\\labels\\val.cache... 600 images, 299 backgrounds, 0 corr\u001b[0m\n",
      "D:\\anaconda\\envs\\yalo_env\\lib\\site-packages\\torch\\utils\\data\\dataloader.py:665: UserWarning: 'pin_memory' argument is set as true but no accelerator is found, then device pinned memory won't be used.\n",
      "  warnings.warn(warn_msg)\n"
     ]
    },
    {
     "name": "stdout",
     "output_type": "stream",
     "text": [
      "Plotting labels to E:\\Project Sherlock\\Grafiki\\Grafiki total\\dataset\\detect\\train12\\labels.jpg... \n",
      "\u001b[34m\u001b[1moptimizer:\u001b[0m 'optimizer=auto' found, ignoring 'lr0=0.01' and 'momentum=0.937' and determining best 'optimizer', 'lr0' and 'momentum' automatically... \n",
      "\u001b[34m\u001b[1moptimizer:\u001b[0m AdamW(lr=0.002, momentum=0.9) with parameter groups 57 weight(decay=0.0), 64 weight(decay=0.00046875), 63 bias(decay=0.0)\n",
      "Resuming training E:\\Project Sherlock\\Grafiki\\Grafiki total\\dataset\\detect\\train12\\weights\\last.pt from epoch 6 to 10 total epochs\n",
      "Closing dataloader mosaic\n",
      "Image sizes 640 train, 640 val\n",
      "Using 0 dataloader workers\n",
      "Logging results to \u001b[1mE:\\Project Sherlock\\Grafiki\\Grafiki total\\dataset\\detect\\train12\u001b[0m\n",
      "Starting training for 10 epochs...\n",
      "\n",
      "      Epoch    GPU_mem   box_loss   cls_loss   dfl_loss  Instances       Size\n"
     ]
    },
    {
     "name": "stderr",
     "output_type": "stream",
     "text": [
      "       6/10         0G     0.5403     0.3553     0.8103          9        640: 100%|██████████| 320/320 [22:18<00:00,  \n",
      "                 Class     Images  Instances      Box(P          R      mAP50  mAP50-95): 100%|██████████| 20/20 [00:42"
     ]
    },
    {
     "name": "stdout",
     "output_type": "stream",
     "text": [
      "                   all        600        463      0.989      0.862       0.92      0.749\n"
     ]
    },
    {
     "name": "stderr",
     "output_type": "stream",
     "text": [
      "\n"
     ]
    },
    {
     "name": "stdout",
     "output_type": "stream",
     "text": [
      "\n",
      "      Epoch    GPU_mem   box_loss   cls_loss   dfl_loss  Instances       Size\n"
     ]
    },
    {
     "name": "stderr",
     "output_type": "stream",
     "text": [
      "       7/10         0G     0.5121     0.3191     0.8068          7        640: 100%|██████████| 320/320 [22:34<00:00,  \n",
      "                 Class     Images  Instances      Box(P          R      mAP50  mAP50-95): 100%|██████████| 20/20 [00:36"
     ]
    },
    {
     "name": "stdout",
     "output_type": "stream",
     "text": [
      "                   all        600        463       0.99      0.873      0.929       0.81\n"
     ]
    },
    {
     "name": "stderr",
     "output_type": "stream",
     "text": [
      "\n"
     ]
    },
    {
     "name": "stdout",
     "output_type": "stream",
     "text": [
      "\n",
      "      Epoch    GPU_mem   box_loss   cls_loss   dfl_loss  Instances       Size\n"
     ]
    },
    {
     "name": "stderr",
     "output_type": "stream",
     "text": [
      "       8/10         0G      0.446     0.2831     0.7993         10        640: 100%|██████████| 320/320 [22:01<00:00,  \n",
      "                 Class     Images  Instances      Box(P          R      mAP50  mAP50-95): 100%|██████████| 20/20 [00:36"
     ]
    },
    {
     "name": "stdout",
     "output_type": "stream",
     "text": [
      "                   all        600        463      0.988      0.875      0.928      0.809\n"
     ]
    },
    {
     "name": "stderr",
     "output_type": "stream",
     "text": [
      "\n"
     ]
    },
    {
     "name": "stdout",
     "output_type": "stream",
     "text": [
      "\n",
      "      Epoch    GPU_mem   box_loss   cls_loss   dfl_loss  Instances       Size\n"
     ]
    },
    {
     "name": "stderr",
     "output_type": "stream",
     "text": [
      "       9/10         0G     0.4049     0.2589     0.7922         16        640: 100%|██████████| 320/320 [21:49<00:00,  \n",
      "                 Class     Images  Instances      Box(P          R      mAP50  mAP50-95): 100%|██████████| 20/20 [00:42"
     ]
    },
    {
     "name": "stdout",
     "output_type": "stream",
     "text": [
      "                   all        600        463      0.976      0.886       0.94      0.833\n"
     ]
    },
    {
     "name": "stderr",
     "output_type": "stream",
     "text": [
      "\n"
     ]
    },
    {
     "name": "stdout",
     "output_type": "stream",
     "text": [
      "\n",
      "      Epoch    GPU_mem   box_loss   cls_loss   dfl_loss  Instances       Size\n"
     ]
    },
    {
     "name": "stderr",
     "output_type": "stream",
     "text": [
      "      10/10         0G     0.3805     0.2356      0.788          7        640: 100%|██████████| 320/320 [22:41<00:00,  \n",
      "                 Class     Images  Instances      Box(P          R      mAP50  mAP50-95): 100%|██████████| 20/20 [00:39"
     ]
    },
    {
     "name": "stdout",
     "output_type": "stream",
     "text": [
      "                   all        600        463      0.983      0.879      0.943       0.83\n"
     ]
    },
    {
     "name": "stderr",
     "output_type": "stream",
     "text": [
      "\n"
     ]
    },
    {
     "name": "stdout",
     "output_type": "stream",
     "text": [
      "\n",
      "5 epochs completed in 1.913 hours.\n",
      "Optimizer stripped from E:\\Project Sherlock\\Grafiki\\Grafiki total\\dataset\\detect\\train12\\weights\\last.pt, 6.2MB\n",
      "Optimizer stripped from E:\\Project Sherlock\\Grafiki\\Grafiki total\\dataset\\detect\\train12\\weights\\best.pt, 6.2MB\n",
      "\n",
      "Validating E:\\Project Sherlock\\Grafiki\\Grafiki total\\dataset\\detect\\train12\\weights\\best.pt...\n",
      "Ultralytics 8.3.168  Python-3.10.18 torch-2.7.1+cpu CPU (AMD Ryzen 5 5600X 6-Core Processor)\n",
      "Model summary (fused): 72 layers, 3,005,843 parameters, 0 gradients, 8.1 GFLOPs\n"
     ]
    },
    {
     "name": "stderr",
     "output_type": "stream",
     "text": [
      "                 Class     Images  Instances      Box(P          R      mAP50  mAP50-95): 100%|██████████| 20/20 [00:34\n"
     ]
    },
    {
     "name": "stdout",
     "output_type": "stream",
     "text": [
      "                   all        600        463      0.976      0.886       0.94      0.833\n",
      "Speed: 0.8ms preprocess, 39.3ms inference, 0.0ms loss, 0.3ms postprocess per image\n",
      "Results saved to \u001b[1mE:\\Project Sherlock\\Grafiki\\Grafiki total\\dataset\\detect\\train12\u001b[0m\n"
     ]
    },
    {
     "data": {
      "text/plain": [
       "ultralytics.utils.metrics.DetMetrics object with attributes:\n",
       "\n",
       "ap_class_index: array([0])\n",
       "box: ultralytics.utils.metrics.Metric object\n",
       "confusion_matrix: <ultralytics.utils.metrics.ConfusionMatrix object at 0x000001E6BA4C3F10>\n",
       "curves: ['Precision-Recall(B)', 'F1-Confidence(B)', 'Precision-Confidence(B)', 'Recall-Confidence(B)']\n",
       "curves_results: [[array([          0,    0.001001,    0.002002,    0.003003,    0.004004,    0.005005,    0.006006,    0.007007,    0.008008,    0.009009,     0.01001,    0.011011,    0.012012,    0.013013,    0.014014,    0.015015,    0.016016,    0.017017,    0.018018,    0.019019,     0.02002,    0.021021,    0.022022,    0.023023,\n",
       "          0.024024,    0.025025,    0.026026,    0.027027,    0.028028,    0.029029,     0.03003,    0.031031,    0.032032,    0.033033,    0.034034,    0.035035,    0.036036,    0.037037,    0.038038,    0.039039,     0.04004,    0.041041,    0.042042,    0.043043,    0.044044,    0.045045,    0.046046,    0.047047,\n",
       "          0.048048,    0.049049,     0.05005,    0.051051,    0.052052,    0.053053,    0.054054,    0.055055,    0.056056,    0.057057,    0.058058,    0.059059,     0.06006,    0.061061,    0.062062,    0.063063,    0.064064,    0.065065,    0.066066,    0.067067,    0.068068,    0.069069,     0.07007,    0.071071,\n",
       "          0.072072,    0.073073,    0.074074,    0.075075,    0.076076,    0.077077,    0.078078,    0.079079,     0.08008,    0.081081,    0.082082,    0.083083,    0.084084,    0.085085,    0.086086,    0.087087,    0.088088,    0.089089,     0.09009,    0.091091,    0.092092,    0.093093,    0.094094,    0.095095,\n",
       "          0.096096,    0.097097,    0.098098,    0.099099,      0.1001,      0.1011,      0.1021,      0.1031,      0.1041,     0.10511,     0.10611,     0.10711,     0.10811,     0.10911,     0.11011,     0.11111,     0.11211,     0.11311,     0.11411,     0.11512,     0.11612,     0.11712,     0.11812,     0.11912,\n",
       "           0.12012,     0.12112,     0.12212,     0.12312,     0.12412,     0.12513,     0.12613,     0.12713,     0.12813,     0.12913,     0.13013,     0.13113,     0.13213,     0.13313,     0.13413,     0.13514,     0.13614,     0.13714,     0.13814,     0.13914,     0.14014,     0.14114,     0.14214,     0.14314,\n",
       "           0.14414,     0.14515,     0.14615,     0.14715,     0.14815,     0.14915,     0.15015,     0.15115,     0.15215,     0.15315,     0.15415,     0.15516,     0.15616,     0.15716,     0.15816,     0.15916,     0.16016,     0.16116,     0.16216,     0.16316,     0.16416,     0.16517,     0.16617,     0.16717,\n",
       "           0.16817,     0.16917,     0.17017,     0.17117,     0.17217,     0.17317,     0.17417,     0.17518,     0.17618,     0.17718,     0.17818,     0.17918,     0.18018,     0.18118,     0.18218,     0.18318,     0.18418,     0.18519,     0.18619,     0.18719,     0.18819,     0.18919,     0.19019,     0.19119,\n",
       "           0.19219,     0.19319,     0.19419,      0.1952,      0.1962,      0.1972,      0.1982,      0.1992,      0.2002,      0.2012,      0.2022,      0.2032,      0.2042,     0.20521,     0.20621,     0.20721,     0.20821,     0.20921,     0.21021,     0.21121,     0.21221,     0.21321,     0.21421,     0.21522,\n",
       "           0.21622,     0.21722,     0.21822,     0.21922,     0.22022,     0.22122,     0.22222,     0.22322,     0.22422,     0.22523,     0.22623,     0.22723,     0.22823,     0.22923,     0.23023,     0.23123,     0.23223,     0.23323,     0.23423,     0.23524,     0.23624,     0.23724,     0.23824,     0.23924,\n",
       "           0.24024,     0.24124,     0.24224,     0.24324,     0.24424,     0.24525,     0.24625,     0.24725,     0.24825,     0.24925,     0.25025,     0.25125,     0.25225,     0.25325,     0.25425,     0.25526,     0.25626,     0.25726,     0.25826,     0.25926,     0.26026,     0.26126,     0.26226,     0.26326,\n",
       "           0.26426,     0.26527,     0.26627,     0.26727,     0.26827,     0.26927,     0.27027,     0.27127,     0.27227,     0.27327,     0.27427,     0.27528,     0.27628,     0.27728,     0.27828,     0.27928,     0.28028,     0.28128,     0.28228,     0.28328,     0.28428,     0.28529,     0.28629,     0.28729,\n",
       "           0.28829,     0.28929,     0.29029,     0.29129,     0.29229,     0.29329,     0.29429,      0.2953,      0.2963,      0.2973,      0.2983,      0.2993,      0.3003,      0.3013,      0.3023,      0.3033,      0.3043,     0.30531,     0.30631,     0.30731,     0.30831,     0.30931,     0.31031,     0.31131,\n",
       "           0.31231,     0.31331,     0.31431,     0.31532,     0.31632,     0.31732,     0.31832,     0.31932,     0.32032,     0.32132,     0.32232,     0.32332,     0.32432,     0.32533,     0.32633,     0.32733,     0.32833,     0.32933,     0.33033,     0.33133,     0.33233,     0.33333,     0.33433,     0.33534,\n",
       "           0.33634,     0.33734,     0.33834,     0.33934,     0.34034,     0.34134,     0.34234,     0.34334,     0.34434,     0.34535,     0.34635,     0.34735,     0.34835,     0.34935,     0.35035,     0.35135,     0.35235,     0.35335,     0.35435,     0.35536,     0.35636,     0.35736,     0.35836,     0.35936,\n",
       "           0.36036,     0.36136,     0.36236,     0.36336,     0.36436,     0.36537,     0.36637,     0.36737,     0.36837,     0.36937,     0.37037,     0.37137,     0.37237,     0.37337,     0.37437,     0.37538,     0.37638,     0.37738,     0.37838,     0.37938,     0.38038,     0.38138,     0.38238,     0.38338,\n",
       "           0.38438,     0.38539,     0.38639,     0.38739,     0.38839,     0.38939,     0.39039,     0.39139,     0.39239,     0.39339,     0.39439,      0.3954,      0.3964,      0.3974,      0.3984,      0.3994,      0.4004,      0.4014,      0.4024,      0.4034,      0.4044,     0.40541,     0.40641,     0.40741,\n",
       "           0.40841,     0.40941,     0.41041,     0.41141,     0.41241,     0.41341,     0.41441,     0.41542,     0.41642,     0.41742,     0.41842,     0.41942,     0.42042,     0.42142,     0.42242,     0.42342,     0.42442,     0.42543,     0.42643,     0.42743,     0.42843,     0.42943,     0.43043,     0.43143,\n",
       "           0.43243,     0.43343,     0.43443,     0.43544,     0.43644,     0.43744,     0.43844,     0.43944,     0.44044,     0.44144,     0.44244,     0.44344,     0.44444,     0.44545,     0.44645,     0.44745,     0.44845,     0.44945,     0.45045,     0.45145,     0.45245,     0.45345,     0.45445,     0.45546,\n",
       "           0.45646,     0.45746,     0.45846,     0.45946,     0.46046,     0.46146,     0.46246,     0.46346,     0.46446,     0.46547,     0.46647,     0.46747,     0.46847,     0.46947,     0.47047,     0.47147,     0.47247,     0.47347,     0.47447,     0.47548,     0.47648,     0.47748,     0.47848,     0.47948,\n",
       "           0.48048,     0.48148,     0.48248,     0.48348,     0.48448,     0.48549,     0.48649,     0.48749,     0.48849,     0.48949,     0.49049,     0.49149,     0.49249,     0.49349,     0.49449,      0.4955,      0.4965,      0.4975,      0.4985,      0.4995,      0.5005,      0.5015,      0.5025,      0.5035,\n",
       "            0.5045,     0.50551,     0.50651,     0.50751,     0.50851,     0.50951,     0.51051,     0.51151,     0.51251,     0.51351,     0.51451,     0.51552,     0.51652,     0.51752,     0.51852,     0.51952,     0.52052,     0.52152,     0.52252,     0.52352,     0.52452,     0.52553,     0.52653,     0.52753,\n",
       "           0.52853,     0.52953,     0.53053,     0.53153,     0.53253,     0.53353,     0.53453,     0.53554,     0.53654,     0.53754,     0.53854,     0.53954,     0.54054,     0.54154,     0.54254,     0.54354,     0.54454,     0.54555,     0.54655,     0.54755,     0.54855,     0.54955,     0.55055,     0.55155,\n",
       "           0.55255,     0.55355,     0.55455,     0.55556,     0.55656,     0.55756,     0.55856,     0.55956,     0.56056,     0.56156,     0.56256,     0.56356,     0.56456,     0.56557,     0.56657,     0.56757,     0.56857,     0.56957,     0.57057,     0.57157,     0.57257,     0.57357,     0.57457,     0.57558,\n",
       "           0.57658,     0.57758,     0.57858,     0.57958,     0.58058,     0.58158,     0.58258,     0.58358,     0.58458,     0.58559,     0.58659,     0.58759,     0.58859,     0.58959,     0.59059,     0.59159,     0.59259,     0.59359,     0.59459,      0.5956,      0.5966,      0.5976,      0.5986,      0.5996,\n",
       "            0.6006,      0.6016,      0.6026,      0.6036,      0.6046,     0.60561,     0.60661,     0.60761,     0.60861,     0.60961,     0.61061,     0.61161,     0.61261,     0.61361,     0.61461,     0.61562,     0.61662,     0.61762,     0.61862,     0.61962,     0.62062,     0.62162,     0.62262,     0.62362,\n",
       "           0.62462,     0.62563,     0.62663,     0.62763,     0.62863,     0.62963,     0.63063,     0.63163,     0.63263,     0.63363,     0.63463,     0.63564,     0.63664,     0.63764,     0.63864,     0.63964,     0.64064,     0.64164,     0.64264,     0.64364,     0.64464,     0.64565,     0.64665,     0.64765,\n",
       "           0.64865,     0.64965,     0.65065,     0.65165,     0.65265,     0.65365,     0.65465,     0.65566,     0.65666,     0.65766,     0.65866,     0.65966,     0.66066,     0.66166,     0.66266,     0.66366,     0.66466,     0.66567,     0.66667,     0.66767,     0.66867,     0.66967,     0.67067,     0.67167,\n",
       "           0.67267,     0.67367,     0.67467,     0.67568,     0.67668,     0.67768,     0.67868,     0.67968,     0.68068,     0.68168,     0.68268,     0.68368,     0.68468,     0.68569,     0.68669,     0.68769,     0.68869,     0.68969,     0.69069,     0.69169,     0.69269,     0.69369,     0.69469,      0.6957,\n",
       "            0.6967,      0.6977,      0.6987,      0.6997,      0.7007,      0.7017,      0.7027,      0.7037,      0.7047,     0.70571,     0.70671,     0.70771,     0.70871,     0.70971,     0.71071,     0.71171,     0.71271,     0.71371,     0.71471,     0.71572,     0.71672,     0.71772,     0.71872,     0.71972,\n",
       "           0.72072,     0.72172,     0.72272,     0.72372,     0.72472,     0.72573,     0.72673,     0.72773,     0.72873,     0.72973,     0.73073,     0.73173,     0.73273,     0.73373,     0.73473,     0.73574,     0.73674,     0.73774,     0.73874,     0.73974,     0.74074,     0.74174,     0.74274,     0.74374,\n",
       "           0.74474,     0.74575,     0.74675,     0.74775,     0.74875,     0.74975,     0.75075,     0.75175,     0.75275,     0.75375,     0.75475,     0.75576,     0.75676,     0.75776,     0.75876,     0.75976,     0.76076,     0.76176,     0.76276,     0.76376,     0.76476,     0.76577,     0.76677,     0.76777,\n",
       "           0.76877,     0.76977,     0.77077,     0.77177,     0.77277,     0.77377,     0.77477,     0.77578,     0.77678,     0.77778,     0.77878,     0.77978,     0.78078,     0.78178,     0.78278,     0.78378,     0.78478,     0.78579,     0.78679,     0.78779,     0.78879,     0.78979,     0.79079,     0.79179,\n",
       "           0.79279,     0.79379,     0.79479,      0.7958,      0.7968,      0.7978,      0.7988,      0.7998,      0.8008,      0.8018,      0.8028,      0.8038,      0.8048,     0.80581,     0.80681,     0.80781,     0.80881,     0.80981,     0.81081,     0.81181,     0.81281,     0.81381,     0.81481,     0.81582,\n",
       "           0.81682,     0.81782,     0.81882,     0.81982,     0.82082,     0.82182,     0.82282,     0.82382,     0.82482,     0.82583,     0.82683,     0.82783,     0.82883,     0.82983,     0.83083,     0.83183,     0.83283,     0.83383,     0.83483,     0.83584,     0.83684,     0.83784,     0.83884,     0.83984,\n",
       "           0.84084,     0.84184,     0.84284,     0.84384,     0.84484,     0.84585,     0.84685,     0.84785,     0.84885,     0.84985,     0.85085,     0.85185,     0.85285,     0.85385,     0.85485,     0.85586,     0.85686,     0.85786,     0.85886,     0.85986,     0.86086,     0.86186,     0.86286,     0.86386,\n",
       "           0.86486,     0.86587,     0.86687,     0.86787,     0.86887,     0.86987,     0.87087,     0.87187,     0.87287,     0.87387,     0.87487,     0.87588,     0.87688,     0.87788,     0.87888,     0.87988,     0.88088,     0.88188,     0.88288,     0.88388,     0.88488,     0.88589,     0.88689,     0.88789,\n",
       "           0.88889,     0.88989,     0.89089,     0.89189,     0.89289,     0.89389,     0.89489,      0.8959,      0.8969,      0.8979,      0.8989,      0.8999,      0.9009,      0.9019,      0.9029,      0.9039,      0.9049,     0.90591,     0.90691,     0.90791,     0.90891,     0.90991,     0.91091,     0.91191,\n",
       "           0.91291,     0.91391,     0.91491,     0.91592,     0.91692,     0.91792,     0.91892,     0.91992,     0.92092,     0.92192,     0.92292,     0.92392,     0.92492,     0.92593,     0.92693,     0.92793,     0.92893,     0.92993,     0.93093,     0.93193,     0.93293,     0.93393,     0.93493,     0.93594,\n",
       "           0.93694,     0.93794,     0.93894,     0.93994,     0.94094,     0.94194,     0.94294,     0.94394,     0.94494,     0.94595,     0.94695,     0.94795,     0.94895,     0.94995,     0.95095,     0.95195,     0.95295,     0.95395,     0.95495,     0.95596,     0.95696,     0.95796,     0.95896,     0.95996,\n",
       "           0.96096,     0.96196,     0.96296,     0.96396,     0.96496,     0.96597,     0.96697,     0.96797,     0.96897,     0.96997,     0.97097,     0.97197,     0.97297,     0.97397,     0.97497,     0.97598,     0.97698,     0.97798,     0.97898,     0.97998,     0.98098,     0.98198,     0.98298,     0.98398,\n",
       "           0.98498,     0.98599,     0.98699,     0.98799,     0.98899,     0.98999,     0.99099,     0.99199,     0.99299,     0.99399,     0.99499,       0.996,       0.997,       0.998,       0.999,           1]), array([[          1,           1,           1,           1,           1,           1,           1,           1,           1,           1,           1,           1,           1,           1,           1,           1,           1,           1,           1,           1,           1,           1,           1,\n",
       "                  1,           1,           1,           1,           1,           1,           1,           1,           1,           1,           1,           1,           1,           1,           1,           1,           1,           1,           1,           1,           1,           1,           1,\n",
       "                  1,           1,           1,           1,           1,           1,           1,           1,           1,           1,           1,           1,           1,           1,           1,           1,           1,           1,           1,           1,           1,           1,           1,\n",
       "                  1,           1,           1,           1,           1,           1,           1,           1,           1,           1,           1,           1,           1,           1,           1,           1,           1,           1,           1,           1,           1,           1,           1,\n",
       "                  1,           1,           1,           1,           1,           1,           1,           1,           1,           1,           1,           1,           1,           1,           1,           1,           1,           1,           1,           1,           1,           1,           1,\n",
       "                  1,           1,           1,           1,           1,           1,           1,           1,           1,           1,           1,           1,           1,           1,           1,           1,           1,           1,           1,           1,           1,           1,           1,\n",
       "                  1,           1,           1,           1,           1,           1,           1,           1,           1,           1,           1,           1,           1,           1,           1,           1,           1,           1,           1,           1,           1,           1,           1,\n",
       "                  1,           1,           1,           1,           1,           1,           1,           1,           1,           1,           1,           1,           1,           1,           1,           1,           1,           1,           1,           1,           1,           1,           1,\n",
       "                  1,           1,           1,           1,           1,           1,           1,           1,           1,           1,           1,           1,           1,           1,           1,           1,           1,           1,           1,           1,           1,           1,           1,\n",
       "                  1,           1,           1,           1,           1,           1,           1,           1,           1,           1,           1,           1,           1,           1,           1,           1,           1,           1,           1,           1,           1,           1,           1,\n",
       "                  1,           1,           1,           1,           1,           1,           1,           1,           1,           1,           1,           1,           1,           1,           1,           1,           1,           1,           1,           1,           1,           1,           1,\n",
       "                  1,           1,           1,           1,           1,           1,           1,           1,           1,           1,           1,           1,           1,           1,           1,           1,           1,           1,           1,           1,           1,           1,           1,\n",
       "                  1,           1,           1,           1,           1,           1,           1,           1,           1,           1,           1,           1,           1,           1,           1,           1,           1,           1,           1,           1,           1,           1,           1,\n",
       "                  1,           1,           1,           1,           1,           1,           1,           1,           1,           1,           1,           1,           1,           1,           1,           1,           1,           1,           1,           1,           1,           1,           1,\n",
       "                  1,           1,           1,           1,           1,           1,           1,           1,           1,           1,           1,           1,           1,           1,           1,           1,           1,           1,           1,           1,           1,           1,           1,\n",
       "                  1,           1,           1,           1,           1,           1,           1,           1,           1,           1,           1,           1,           1,           1,           1,           1,           1,           1,           1,           1,           1,           1,           1,\n",
       "                  1,           1,           1,           1,           1,           1,           1,           1,           1,           1,           1,           1,           1,           1,           1,           1,           1,           1,           1,           1,           1,           1,           1,\n",
       "                  1,           1,           1,           1,           1,           1,           1,           1,           1,           1,           1,           1,           1,           1,           1,           1,           1,           1,           1,           1,           1,           1,           1,\n",
       "                  1,           1,           1,           1,           1,           1,           1,           1,           1,           1,           1,           1,           1,           1,           1,           1,           1,           1,           1,           1,           1,           1,           1,\n",
       "                  1,           1,           1,           1,           1,           1,           1,           1,           1,           1,           1,           1,           1,           1,           1,           1,           1,           1,           1,           1,           1,           1,           1,\n",
       "                  1,           1,           1,           1,           1,           1,           1,           1,           1,           1,           1,           1,           1,           1,           1,           1,           1,           1,           1,           1,           1,           1,           1,\n",
       "                  1,           1,           1,           1,           1,           1,           1,           1,           1,           1,           1,           1,           1,           1,           1,           1,           1,           1,           1,           1,           1,           1,           1,\n",
       "                  1,           1,           1,           1,           1,           1,           1,           1,           1,           1,           1,           1,           1,           1,           1,           1,           1,           1,           1,           1,           1,           1,           1,\n",
       "                  1,           1,           1,           1,           1,           1,           1,           1,           1,           1,           1,           1,           1,           1,           1,           1,           1,           1,           1,           1,           1,           1,           1,\n",
       "                  1,           1,           1,           1,           1,           1,           1,           1,           1,           1,           1,           1,           1,           1,           1,           1,           1,           1,           1,           1,           1,           1,           1,\n",
       "                  1,           1,           1,           1,           1,           1,           1,           1,           1,           1,           1,           1,           1,           1,           1,           1,           1,           1,           1,           1,           1,           1,           1,\n",
       "                  1,           1,           1,           1,           1,           1,           1,           1,           1,           1,           1,           1,           1,           1,           1,           1,           1,           1,           1,           1,           1,           1,           1,\n",
       "                  1,           1,           1,           1,           1,           1,           1,           1,           1,           1,           1,           1,           1,           1,           1,           1,           1,           1,           1,           1,           1,           1,           1,\n",
       "                  1,           1,           1,           1,           1,           1,           1,           1,           1,           1,           1,           1,           1,           1,           1,           1,           1,           1,           1,           1,           1,           1,           1,\n",
       "                  1,           1,           1,           1,           1,           1,           1,           1,           1,           1,           1,           1,           1,           1,           1,           1,           1,           1,           1,           1,           1,           1,           1,\n",
       "                  1,           1,           1,           1,           1,           1,           1,           1,           1,           1,           1,           1,           1,           1,           1,           1,           1,           1,           1,           1,           1,           1,           1,\n",
       "                  1,           1,           1,           1,           1,           1,           1,           1,           1,           1,           1,           1,           1,           1,           1,           1,           1,           1,           1,           1,           1,           1,           1,\n",
       "                  1,           1,           1,           1,           1,           1,           1,           1,           1,           1,           1,           1,           1,           1,           1,           1,           1,           1,           1,           1,           1,           1,           1,\n",
       "                  1,           1,           1,           1,           1,           1,           1,           1,           1,           1,           1,           1,           1,           1,           1,           1,           1,           1,           1,           1,           1,           1,           1,\n",
       "                  1,           1,           1,           1,           1,           1,           1,           1,           1,           1,           1,           1,           1,           1,           1,           1,           1,           1,           1,           1,           1,           1,           1,\n",
       "                  1,           1,           1,           1,           1,           1,           1,           1,           1,           1,           1,           1,           1,           1,           1,           1,           1,           1,           1,           1,           1,           1,           1,\n",
       "                  1,           1,           1,           1,           1,           1,           1,           1,           1,           1,           1,           1,           1,           1,           1,           1,           1,           1,           1,           1,           1,           1,           1,\n",
       "            0.99497,     0.99497,     0.99497,     0.99497,     0.99261,     0.99261,     0.99261,     0.99261,     0.99261,     0.99261,     0.99261,     0.99261,     0.99261,     0.99261,     0.99261,     0.99261,     0.99261,     0.99261,     0.99261,     0.98547,     0.98547,     0.98547,     0.98547,\n",
       "            0.98547,     0.98547,     0.98547,     0.98547,     0.98547,     0.98313,     0.98313,     0.97847,     0.97847,     0.97619,     0.97619,     0.97393,     0.97393,     0.97183,     0.97183,     0.97183,     0.97183,     0.97183,     0.97183,     0.97183,     0.95402,     0.95402,     0.94545,\n",
       "            0.94545,     0.94131,     0.94131,     0.90672,     0.90672,     0.86777,     0.86777,     0.86777,     0.86777,     0.86777,     0.82387,     0.82387,     0.72212,      0.7141,     0.70608,     0.69805,     0.69003,     0.68201,     0.67398,     0.66596,     0.65794,     0.64991,     0.64189,\n",
       "            0.63387,     0.62584,     0.61782,     0.60979,     0.60177,     0.59375,     0.58572,      0.5777,     0.56968,     0.56165,     0.55363,     0.54561,     0.53758,     0.52956,     0.52153,     0.51351,     0.50549,     0.49746,     0.48944,     0.48142,     0.47339,     0.46537,     0.45735,\n",
       "            0.44932,      0.4413,     0.43327,     0.42525,     0.41723,      0.4092,     0.40118,     0.39316,     0.38513,     0.37711,     0.36909,     0.36106,     0.35304,     0.34502,     0.33699,     0.32897,     0.32094,     0.31292,      0.3049,     0.29687,     0.28885,     0.28083,      0.2728,\n",
       "            0.26478,     0.25676,     0.24873,     0.24071,     0.23268,     0.22466,     0.21664,     0.20861,     0.20059,     0.19257,     0.18454,     0.17652,      0.1685,     0.16047,     0.15245,     0.14442,      0.1364,     0.12838,     0.12035,     0.11233,     0.10431,    0.096283,     0.08826,\n",
       "           0.080236,    0.072212,    0.064189,    0.056165,    0.048142,    0.040118,    0.032094,    0.024071,    0.016047,   0.0080236,           0]]), 'Recall', 'Precision'], [array([          0,    0.001001,    0.002002,    0.003003,    0.004004,    0.005005,    0.006006,    0.007007,    0.008008,    0.009009,     0.01001,    0.011011,    0.012012,    0.013013,    0.014014,    0.015015,    0.016016,    0.017017,    0.018018,    0.019019,     0.02002,    0.021021,    0.022022,    0.023023,\n",
       "          0.024024,    0.025025,    0.026026,    0.027027,    0.028028,    0.029029,     0.03003,    0.031031,    0.032032,    0.033033,    0.034034,    0.035035,    0.036036,    0.037037,    0.038038,    0.039039,     0.04004,    0.041041,    0.042042,    0.043043,    0.044044,    0.045045,    0.046046,    0.047047,\n",
       "          0.048048,    0.049049,     0.05005,    0.051051,    0.052052,    0.053053,    0.054054,    0.055055,    0.056056,    0.057057,    0.058058,    0.059059,     0.06006,    0.061061,    0.062062,    0.063063,    0.064064,    0.065065,    0.066066,    0.067067,    0.068068,    0.069069,     0.07007,    0.071071,\n",
       "          0.072072,    0.073073,    0.074074,    0.075075,    0.076076,    0.077077,    0.078078,    0.079079,     0.08008,    0.081081,    0.082082,    0.083083,    0.084084,    0.085085,    0.086086,    0.087087,    0.088088,    0.089089,     0.09009,    0.091091,    0.092092,    0.093093,    0.094094,    0.095095,\n",
       "          0.096096,    0.097097,    0.098098,    0.099099,      0.1001,      0.1011,      0.1021,      0.1031,      0.1041,     0.10511,     0.10611,     0.10711,     0.10811,     0.10911,     0.11011,     0.11111,     0.11211,     0.11311,     0.11411,     0.11512,     0.11612,     0.11712,     0.11812,     0.11912,\n",
       "           0.12012,     0.12112,     0.12212,     0.12312,     0.12412,     0.12513,     0.12613,     0.12713,     0.12813,     0.12913,     0.13013,     0.13113,     0.13213,     0.13313,     0.13413,     0.13514,     0.13614,     0.13714,     0.13814,     0.13914,     0.14014,     0.14114,     0.14214,     0.14314,\n",
       "           0.14414,     0.14515,     0.14615,     0.14715,     0.14815,     0.14915,     0.15015,     0.15115,     0.15215,     0.15315,     0.15415,     0.15516,     0.15616,     0.15716,     0.15816,     0.15916,     0.16016,     0.16116,     0.16216,     0.16316,     0.16416,     0.16517,     0.16617,     0.16717,\n",
       "           0.16817,     0.16917,     0.17017,     0.17117,     0.17217,     0.17317,     0.17417,     0.17518,     0.17618,     0.17718,     0.17818,     0.17918,     0.18018,     0.18118,     0.18218,     0.18318,     0.18418,     0.18519,     0.18619,     0.18719,     0.18819,     0.18919,     0.19019,     0.19119,\n",
       "           0.19219,     0.19319,     0.19419,      0.1952,      0.1962,      0.1972,      0.1982,      0.1992,      0.2002,      0.2012,      0.2022,      0.2032,      0.2042,     0.20521,     0.20621,     0.20721,     0.20821,     0.20921,     0.21021,     0.21121,     0.21221,     0.21321,     0.21421,     0.21522,\n",
       "           0.21622,     0.21722,     0.21822,     0.21922,     0.22022,     0.22122,     0.22222,     0.22322,     0.22422,     0.22523,     0.22623,     0.22723,     0.22823,     0.22923,     0.23023,     0.23123,     0.23223,     0.23323,     0.23423,     0.23524,     0.23624,     0.23724,     0.23824,     0.23924,\n",
       "           0.24024,     0.24124,     0.24224,     0.24324,     0.24424,     0.24525,     0.24625,     0.24725,     0.24825,     0.24925,     0.25025,     0.25125,     0.25225,     0.25325,     0.25425,     0.25526,     0.25626,     0.25726,     0.25826,     0.25926,     0.26026,     0.26126,     0.26226,     0.26326,\n",
       "           0.26426,     0.26527,     0.26627,     0.26727,     0.26827,     0.26927,     0.27027,     0.27127,     0.27227,     0.27327,     0.27427,     0.27528,     0.27628,     0.27728,     0.27828,     0.27928,     0.28028,     0.28128,     0.28228,     0.28328,     0.28428,     0.28529,     0.28629,     0.28729,\n",
       "           0.28829,     0.28929,     0.29029,     0.29129,     0.29229,     0.29329,     0.29429,      0.2953,      0.2963,      0.2973,      0.2983,      0.2993,      0.3003,      0.3013,      0.3023,      0.3033,      0.3043,     0.30531,     0.30631,     0.30731,     0.30831,     0.30931,     0.31031,     0.31131,\n",
       "           0.31231,     0.31331,     0.31431,     0.31532,     0.31632,     0.31732,     0.31832,     0.31932,     0.32032,     0.32132,     0.32232,     0.32332,     0.32432,     0.32533,     0.32633,     0.32733,     0.32833,     0.32933,     0.33033,     0.33133,     0.33233,     0.33333,     0.33433,     0.33534,\n",
       "           0.33634,     0.33734,     0.33834,     0.33934,     0.34034,     0.34134,     0.34234,     0.34334,     0.34434,     0.34535,     0.34635,     0.34735,     0.34835,     0.34935,     0.35035,     0.35135,     0.35235,     0.35335,     0.35435,     0.35536,     0.35636,     0.35736,     0.35836,     0.35936,\n",
       "           0.36036,     0.36136,     0.36236,     0.36336,     0.36436,     0.36537,     0.36637,     0.36737,     0.36837,     0.36937,     0.37037,     0.37137,     0.37237,     0.37337,     0.37437,     0.37538,     0.37638,     0.37738,     0.37838,     0.37938,     0.38038,     0.38138,     0.38238,     0.38338,\n",
       "           0.38438,     0.38539,     0.38639,     0.38739,     0.38839,     0.38939,     0.39039,     0.39139,     0.39239,     0.39339,     0.39439,      0.3954,      0.3964,      0.3974,      0.3984,      0.3994,      0.4004,      0.4014,      0.4024,      0.4034,      0.4044,     0.40541,     0.40641,     0.40741,\n",
       "           0.40841,     0.40941,     0.41041,     0.41141,     0.41241,     0.41341,     0.41441,     0.41542,     0.41642,     0.41742,     0.41842,     0.41942,     0.42042,     0.42142,     0.42242,     0.42342,     0.42442,     0.42543,     0.42643,     0.42743,     0.42843,     0.42943,     0.43043,     0.43143,\n",
       "           0.43243,     0.43343,     0.43443,     0.43544,     0.43644,     0.43744,     0.43844,     0.43944,     0.44044,     0.44144,     0.44244,     0.44344,     0.44444,     0.44545,     0.44645,     0.44745,     0.44845,     0.44945,     0.45045,     0.45145,     0.45245,     0.45345,     0.45445,     0.45546,\n",
       "           0.45646,     0.45746,     0.45846,     0.45946,     0.46046,     0.46146,     0.46246,     0.46346,     0.46446,     0.46547,     0.46647,     0.46747,     0.46847,     0.46947,     0.47047,     0.47147,     0.47247,     0.47347,     0.47447,     0.47548,     0.47648,     0.47748,     0.47848,     0.47948,\n",
       "           0.48048,     0.48148,     0.48248,     0.48348,     0.48448,     0.48549,     0.48649,     0.48749,     0.48849,     0.48949,     0.49049,     0.49149,     0.49249,     0.49349,     0.49449,      0.4955,      0.4965,      0.4975,      0.4985,      0.4995,      0.5005,      0.5015,      0.5025,      0.5035,\n",
       "            0.5045,     0.50551,     0.50651,     0.50751,     0.50851,     0.50951,     0.51051,     0.51151,     0.51251,     0.51351,     0.51451,     0.51552,     0.51652,     0.51752,     0.51852,     0.51952,     0.52052,     0.52152,     0.52252,     0.52352,     0.52452,     0.52553,     0.52653,     0.52753,\n",
       "           0.52853,     0.52953,     0.53053,     0.53153,     0.53253,     0.53353,     0.53453,     0.53554,     0.53654,     0.53754,     0.53854,     0.53954,     0.54054,     0.54154,     0.54254,     0.54354,     0.54454,     0.54555,     0.54655,     0.54755,     0.54855,     0.54955,     0.55055,     0.55155,\n",
       "           0.55255,     0.55355,     0.55455,     0.55556,     0.55656,     0.55756,     0.55856,     0.55956,     0.56056,     0.56156,     0.56256,     0.56356,     0.56456,     0.56557,     0.56657,     0.56757,     0.56857,     0.56957,     0.57057,     0.57157,     0.57257,     0.57357,     0.57457,     0.57558,\n",
       "           0.57658,     0.57758,     0.57858,     0.57958,     0.58058,     0.58158,     0.58258,     0.58358,     0.58458,     0.58559,     0.58659,     0.58759,     0.58859,     0.58959,     0.59059,     0.59159,     0.59259,     0.59359,     0.59459,      0.5956,      0.5966,      0.5976,      0.5986,      0.5996,\n",
       "            0.6006,      0.6016,      0.6026,      0.6036,      0.6046,     0.60561,     0.60661,     0.60761,     0.60861,     0.60961,     0.61061,     0.61161,     0.61261,     0.61361,     0.61461,     0.61562,     0.61662,     0.61762,     0.61862,     0.61962,     0.62062,     0.62162,     0.62262,     0.62362,\n",
       "           0.62462,     0.62563,     0.62663,     0.62763,     0.62863,     0.62963,     0.63063,     0.63163,     0.63263,     0.63363,     0.63463,     0.63564,     0.63664,     0.63764,     0.63864,     0.63964,     0.64064,     0.64164,     0.64264,     0.64364,     0.64464,     0.64565,     0.64665,     0.64765,\n",
       "           0.64865,     0.64965,     0.65065,     0.65165,     0.65265,     0.65365,     0.65465,     0.65566,     0.65666,     0.65766,     0.65866,     0.65966,     0.66066,     0.66166,     0.66266,     0.66366,     0.66466,     0.66567,     0.66667,     0.66767,     0.66867,     0.66967,     0.67067,     0.67167,\n",
       "           0.67267,     0.67367,     0.67467,     0.67568,     0.67668,     0.67768,     0.67868,     0.67968,     0.68068,     0.68168,     0.68268,     0.68368,     0.68468,     0.68569,     0.68669,     0.68769,     0.68869,     0.68969,     0.69069,     0.69169,     0.69269,     0.69369,     0.69469,      0.6957,\n",
       "            0.6967,      0.6977,      0.6987,      0.6997,      0.7007,      0.7017,      0.7027,      0.7037,      0.7047,     0.70571,     0.70671,     0.70771,     0.70871,     0.70971,     0.71071,     0.71171,     0.71271,     0.71371,     0.71471,     0.71572,     0.71672,     0.71772,     0.71872,     0.71972,\n",
       "           0.72072,     0.72172,     0.72272,     0.72372,     0.72472,     0.72573,     0.72673,     0.72773,     0.72873,     0.72973,     0.73073,     0.73173,     0.73273,     0.73373,     0.73473,     0.73574,     0.73674,     0.73774,     0.73874,     0.73974,     0.74074,     0.74174,     0.74274,     0.74374,\n",
       "           0.74474,     0.74575,     0.74675,     0.74775,     0.74875,     0.74975,     0.75075,     0.75175,     0.75275,     0.75375,     0.75475,     0.75576,     0.75676,     0.75776,     0.75876,     0.75976,     0.76076,     0.76176,     0.76276,     0.76376,     0.76476,     0.76577,     0.76677,     0.76777,\n",
       "           0.76877,     0.76977,     0.77077,     0.77177,     0.77277,     0.77377,     0.77477,     0.77578,     0.77678,     0.77778,     0.77878,     0.77978,     0.78078,     0.78178,     0.78278,     0.78378,     0.78478,     0.78579,     0.78679,     0.78779,     0.78879,     0.78979,     0.79079,     0.79179,\n",
       "           0.79279,     0.79379,     0.79479,      0.7958,      0.7968,      0.7978,      0.7988,      0.7998,      0.8008,      0.8018,      0.8028,      0.8038,      0.8048,     0.80581,     0.80681,     0.80781,     0.80881,     0.80981,     0.81081,     0.81181,     0.81281,     0.81381,     0.81481,     0.81582,\n",
       "           0.81682,     0.81782,     0.81882,     0.81982,     0.82082,     0.82182,     0.82282,     0.82382,     0.82482,     0.82583,     0.82683,     0.82783,     0.82883,     0.82983,     0.83083,     0.83183,     0.83283,     0.83383,     0.83483,     0.83584,     0.83684,     0.83784,     0.83884,     0.83984,\n",
       "           0.84084,     0.84184,     0.84284,     0.84384,     0.84484,     0.84585,     0.84685,     0.84785,     0.84885,     0.84985,     0.85085,     0.85185,     0.85285,     0.85385,     0.85485,     0.85586,     0.85686,     0.85786,     0.85886,     0.85986,     0.86086,     0.86186,     0.86286,     0.86386,\n",
       "           0.86486,     0.86587,     0.86687,     0.86787,     0.86887,     0.86987,     0.87087,     0.87187,     0.87287,     0.87387,     0.87487,     0.87588,     0.87688,     0.87788,     0.87888,     0.87988,     0.88088,     0.88188,     0.88288,     0.88388,     0.88488,     0.88589,     0.88689,     0.88789,\n",
       "           0.88889,     0.88989,     0.89089,     0.89189,     0.89289,     0.89389,     0.89489,      0.8959,      0.8969,      0.8979,      0.8989,      0.8999,      0.9009,      0.9019,      0.9029,      0.9039,      0.9049,     0.90591,     0.90691,     0.90791,     0.90891,     0.90991,     0.91091,     0.91191,\n",
       "           0.91291,     0.91391,     0.91491,     0.91592,     0.91692,     0.91792,     0.91892,     0.91992,     0.92092,     0.92192,     0.92292,     0.92392,     0.92492,     0.92593,     0.92693,     0.92793,     0.92893,     0.92993,     0.93093,     0.93193,     0.93293,     0.93393,     0.93493,     0.93594,\n",
       "           0.93694,     0.93794,     0.93894,     0.93994,     0.94094,     0.94194,     0.94294,     0.94394,     0.94494,     0.94595,     0.94695,     0.94795,     0.94895,     0.94995,     0.95095,     0.95195,     0.95295,     0.95395,     0.95495,     0.95596,     0.95696,     0.95796,     0.95896,     0.95996,\n",
       "           0.96096,     0.96196,     0.96296,     0.96396,     0.96496,     0.96597,     0.96697,     0.96797,     0.96897,     0.96997,     0.97097,     0.97197,     0.97297,     0.97397,     0.97497,     0.97598,     0.97698,     0.97798,     0.97898,     0.97998,     0.98098,     0.98198,     0.98298,     0.98398,\n",
       "           0.98498,     0.98599,     0.98699,     0.98799,     0.98899,     0.98999,     0.99099,     0.99199,     0.99299,     0.99399,     0.99499,       0.996,       0.997,       0.998,       0.999,           1]), array([[    0.80806,     0.80806,     0.86384,     0.88683,     0.89196,     0.89938,     0.90257,     0.90388,     0.90618,     0.91004,      0.9136,     0.91662,     0.91954,     0.91966,     0.91956,     0.91986,     0.92016,      0.9211,     0.92129,      0.9221,     0.92358,      0.9244,      0.9251,\n",
       "            0.92728,     0.92834,     0.92845,     0.92856,     0.92867,     0.92878,     0.92889,     0.92901,     0.92912,     0.92923,     0.92947,      0.9299,     0.93033,     0.93049,     0.93065,     0.93081,     0.93097,     0.93113,      0.9313,     0.93126,     0.93099,     0.93072,     0.93045,\n",
       "            0.93017,     0.92989,     0.92961,     0.92932,     0.92904,     0.92794,     0.92824,     0.92853,      0.9288,     0.92789,     0.92763,     0.92766,     0.92769,     0.92773,     0.92776,     0.92779,     0.92783,     0.92786,      0.9279,     0.92793,     0.92796,       0.928,     0.92803,\n",
       "            0.92807,      0.9281,     0.92813,     0.92817,      0.9282,     0.92824,     0.92827,      0.9283,     0.92834,     0.92837,     0.92841,     0.92844,     0.92847,     0.92851,     0.92854,     0.92857,     0.92861,     0.92864,     0.92829,     0.92779,     0.92772,     0.92842,     0.92795,\n",
       "            0.92748,      0.9273,     0.92735,     0.92741,     0.92746,     0.92751,     0.92756,     0.92762,     0.92767,     0.92772,     0.92777,     0.92782,     0.92788,     0.92793,     0.92798,     0.92803,     0.92809,     0.92814,     0.92819,     0.92824,     0.92829,     0.92834,     0.92837,\n",
       "            0.92841,     0.92844,     0.92847,      0.9285,     0.92854,     0.92857,      0.9286,     0.92864,     0.92867,      0.9287,     0.92873,     0.92877,      0.9288,     0.92883,     0.92887,      0.9289,     0.92893,     0.92896,       0.929,     0.92903,     0.92906,     0.92909,     0.92913,\n",
       "            0.92916,     0.92919,     0.92923,     0.92926,     0.92929,     0.92932,     0.92936,     0.92937,     0.92928,     0.92918,     0.92909,     0.92899,      0.9289,      0.9288,     0.92871,     0.92862,     0.92852,     0.92843,     0.92833,     0.92824,     0.92823,     0.92852,     0.92881,\n",
       "            0.92911,     0.92876,       0.928,     0.92796,     0.92792,     0.92788,     0.92784,     0.92781,     0.92777,     0.92773,     0.92769,     0.92765,     0.92761,     0.92757,     0.92754,      0.9275,     0.92746,     0.92742,     0.92738,     0.92734,      0.9273,     0.92726,     0.92723,\n",
       "            0.92719,     0.92715,     0.92711,     0.92707,     0.92703,     0.92699,     0.92696,     0.92692,     0.92688,     0.92684,      0.9268,     0.92677,     0.92674,     0.92672,      0.9267,     0.92667,     0.92665,     0.92663,      0.9266,     0.92658,     0.92656,     0.92653,     0.92651,\n",
       "            0.92649,     0.92646,     0.92644,     0.92642,     0.92639,     0.92637,     0.92635,     0.92632,      0.9263,     0.92628,     0.92625,     0.92623,     0.92621,     0.92618,     0.92616,     0.92614,     0.92611,     0.92609,     0.92607,     0.92604,     0.92602,       0.926,     0.92597,\n",
       "            0.92595,     0.92593,      0.9259,     0.92588,     0.92586,     0.92583,     0.92581,     0.92578,     0.92576,     0.92574,     0.92571,     0.92569,     0.92567,     0.92564,     0.92562,      0.9256,     0.92557,     0.92555,     0.92553,      0.9255,     0.92548,     0.92546,     0.92544,\n",
       "            0.92541,     0.92539,     0.92537,     0.92534,     0.92532,      0.9253,     0.92527,     0.92525,     0.92523,      0.9252,     0.92518,     0.92516,     0.92513,     0.92511,     0.92509,     0.92506,     0.92504,     0.92502,       0.925,     0.92497,     0.92495,     0.92493,      0.9249,\n",
       "            0.92488,     0.92486,     0.92483,     0.92481,     0.92479,     0.92476,     0.92474,     0.92472,     0.92469,     0.92467,     0.92465,     0.92462,      0.9246,     0.92458,     0.92456,     0.92453,     0.92451,     0.92449,     0.92446,     0.92444,     0.92442,     0.92439,     0.92437,\n",
       "            0.92435,     0.92432,     0.92433,     0.92436,     0.92439,     0.92442,     0.92445,     0.92448,     0.92451,     0.92455,     0.92458,     0.92461,     0.92464,     0.92467,      0.9247,     0.92473,     0.92476,      0.9248,     0.92483,     0.92486,     0.92489,     0.92492,     0.92495,\n",
       "            0.92498,     0.92501,     0.92505,     0.92508,     0.92511,     0.92514,     0.92517,      0.9252,     0.92523,     0.92526,     0.92529,     0.92533,     0.92536,     0.92549,     0.92573,     0.92596,      0.9262,     0.92644,     0.92673,     0.92701,     0.92729,     0.92729,     0.92646,\n",
       "            0.92624,     0.92621,     0.92618,     0.92615,     0.92612,     0.92609,     0.92606,     0.92602,     0.92599,     0.92596,     0.92593,      0.9259,     0.92587,     0.92584,      0.9258,     0.92577,     0.92574,     0.92571,     0.92568,     0.92565,     0.92562,     0.92559,     0.92555,\n",
       "            0.92552,     0.92549,     0.92546,     0.92543,      0.9254,     0.92537,     0.92533,      0.9253,     0.92527,     0.92524,     0.92521,     0.92518,     0.92515,     0.92511,     0.92508,     0.92505,     0.92501,     0.92496,      0.9249,     0.92484,     0.92479,     0.92473,     0.92467,\n",
       "            0.92461,     0.92456,      0.9245,     0.92444,     0.92438,     0.92433,     0.92427,     0.92421,     0.92416,      0.9241,     0.92404,     0.92398,     0.92393,     0.92387,     0.92381,     0.92377,     0.92375,     0.92373,     0.92371,     0.92369,     0.92367,     0.92365,     0.92362,\n",
       "             0.9236,     0.92358,     0.92356,     0.92354,     0.92352,     0.92349,     0.92347,     0.92345,     0.92343,     0.92341,     0.92339,     0.92336,     0.92334,     0.92332,      0.9233,     0.92328,     0.92326,     0.92324,     0.92321,     0.92319,     0.92317,     0.92315,     0.92313,\n",
       "            0.92311,     0.92308,     0.92306,     0.92304,     0.92302,       0.923,     0.92298,     0.92295,     0.92293,     0.92291,     0.92289,     0.92287,     0.92285,     0.92283,      0.9228,     0.92278,     0.92276,     0.92274,     0.92272,      0.9227,     0.92267,     0.92265,     0.92263,\n",
       "            0.92261,     0.92259,     0.92257,     0.92254,     0.92238,     0.92222,     0.92205,     0.92188,     0.92171,     0.92155,     0.92138,     0.92129,     0.92128,     0.92127,     0.92125,     0.92124,     0.92123,     0.92122,     0.92121,     0.92119,     0.92118,     0.92117,     0.92116,\n",
       "            0.92115,     0.92113,     0.92112,     0.92111,      0.9211,     0.92109,     0.92107,     0.92106,     0.92105,     0.92104,     0.92103,     0.92101,       0.921,     0.92099,     0.92098,     0.92096,     0.92095,     0.92094,     0.92093,     0.92092,      0.9209,     0.92089,     0.92088,\n",
       "            0.92087,     0.92086,     0.92084,     0.92083,     0.92082,     0.92081,      0.9208,     0.92078,     0.92077,     0.92076,     0.92075,     0.92074,     0.92072,     0.92071,      0.9207,     0.92069,     0.92068,     0.92066,     0.92065,     0.92064,     0.92063,     0.92061,      0.9206,\n",
       "            0.92059,     0.92058,     0.92057,     0.92055,     0.92054,     0.92053,     0.92052,     0.92051,     0.92049,     0.92048,     0.92047,     0.92046,     0.92045,     0.92043,     0.92042,     0.92041,      0.9204,     0.92039,     0.92037,     0.92036,     0.92035,     0.92034,     0.92033,\n",
       "            0.92031,      0.9203,     0.92029,     0.92028,     0.92026,     0.92025,     0.92024,     0.92023,     0.92022,      0.9202,     0.92019,     0.92018,     0.92017,     0.92016,     0.92014,     0.92013,     0.92012,     0.92011,      0.9201,     0.92008,     0.92007,     0.92006,     0.92005,\n",
       "            0.91998,      0.9199,     0.91982,     0.91974,     0.91967,     0.91959,     0.91951,     0.91944,     0.91936,     0.91928,      0.9192,     0.91913,     0.91905,     0.91897,     0.91889,     0.91882,     0.91887,     0.91899,      0.9191,     0.91922,     0.91933,     0.91945,     0.91956,\n",
       "            0.91968,     0.91979,     0.91985,     0.91981,     0.91978,     0.91974,     0.91971,     0.91967,     0.91963,      0.9196,     0.91956,     0.91953,     0.91949,     0.91946,     0.91942,     0.91939,     0.91935,     0.91932,     0.91928,     0.91925,     0.91921,     0.91918,     0.91914,\n",
       "            0.91911,     0.91907,     0.91903,       0.919,     0.91896,     0.91893,     0.91889,     0.91886,     0.91882,     0.91879,     0.91875,     0.91872,     0.91868,     0.91865,     0.91861,     0.91855,     0.91847,      0.9184,     0.91833,     0.91826,     0.91819,     0.91811,     0.91804,\n",
       "            0.91797,      0.9179,     0.91783,     0.91776,     0.91768,     0.91761,     0.91754,     0.91747,      0.9174,     0.91735,     0.91737,     0.91739,     0.91741,     0.91743,     0.91745,     0.91747,     0.91749,     0.91751,     0.91753,     0.91756,     0.91758,      0.9176,     0.91762,\n",
       "            0.91764,     0.91766,     0.91768,      0.9177,     0.91772,     0.91774,     0.91776,     0.91778,      0.9178,     0.91782,     0.91784,     0.91786,     0.91788,      0.9179,     0.91792,     0.91794,     0.91796,     0.91798,       0.918,     0.91802,     0.91804,     0.91806,     0.91808,\n",
       "             0.9181,     0.91812,     0.91814,     0.91816,     0.91818,      0.9182,     0.91822,     0.91824,     0.91826,     0.91828,     0.91831,     0.91833,     0.91835,     0.91837,     0.91839,     0.91841,     0.91844,     0.91848,     0.91853,     0.91857,     0.91862,     0.91866,      0.9187,\n",
       "            0.91875,     0.91879,     0.91884,     0.91888,     0.91892,     0.91897,     0.91901,     0.91906,      0.9191,     0.91914,     0.91919,     0.91923,     0.91928,     0.91932,     0.91936,     0.91941,     0.91945,     0.91948,     0.91946,     0.91943,     0.91941,     0.91938,     0.91936,\n",
       "            0.91933,     0.91931,     0.91928,     0.91926,     0.91923,     0.91921,     0.91918,     0.91916,     0.91913,     0.91911,     0.91908,     0.91906,     0.91903,     0.91901,     0.91898,     0.91896,     0.91893,     0.91891,     0.91888,     0.91886,     0.91883,     0.91881,     0.91878,\n",
       "            0.91876,     0.91873,     0.91871,     0.91868,     0.91866,     0.91863,     0.91861,     0.91858,     0.91856,     0.91853,      0.9185,     0.91848,     0.91845,     0.91843,      0.9184,     0.91838,     0.91835,     0.91833,      0.9183,     0.91828,     0.91825,     0.91823,     0.91712,\n",
       "            0.91666,     0.91632,     0.91598,     0.91568,     0.91563,     0.91558,     0.91553,     0.91548,     0.91543,     0.91538,     0.91533,     0.91528,     0.91523,     0.91517,     0.91512,     0.91507,     0.91502,     0.91497,     0.91492,     0.91487,     0.91482,     0.91477,     0.91472,\n",
       "            0.91466,     0.91461,     0.91456,     0.91451,     0.91446,      0.9144,     0.91429,     0.91419,     0.91408,     0.91397,     0.91387,     0.91376,     0.91365,     0.91355,     0.91344,     0.91333,     0.91323,     0.91308,     0.91284,      0.9126,     0.91236,     0.91211,     0.91187,\n",
       "             0.9117,     0.91153,     0.91137,      0.9112,     0.91103,     0.91086,      0.9107,     0.91054,      0.9104,     0.91026,     0.91013,     0.90999,     0.90985,     0.90972,     0.90958,     0.90944,      0.9093,     0.90902,     0.90874,     0.90846,     0.90818,     0.90793,     0.90772,\n",
       "            0.90751,      0.9073,     0.90709,     0.90688,     0.90668,     0.90651,     0.90634,     0.90617,       0.906,     0.90583,     0.90567,      0.9055,     0.90508,     0.90453,     0.90409,     0.90389,     0.90369,      0.9035,      0.9033,      0.9031,     0.90291,     0.90221,     0.90106,\n",
       "            0.89813,     0.89554,     0.89361,     0.89337,     0.89312,     0.89288,     0.89264,     0.89239,     0.89179,     0.89109,     0.88698,     0.88642,     0.88586,     0.88432,     0.88187,     0.87883,     0.87783,     0.87693,     0.87603,     0.87486,     0.87208,     0.87057,     0.86935,\n",
       "            0.86906,     0.86876,     0.86847,     0.86818,     0.86641,     0.86556,     0.86397,     0.86283,     0.86179,     0.86003,     0.85747,     0.85428,     0.85117,     0.84781,     0.84573,     0.84305,     0.84138,     0.84022,     0.83871,     0.83657,     0.83299,     0.82598,     0.82126,\n",
       "            0.81248,      0.8044,     0.79912,     0.79314,     0.78056,      0.7614,     0.74921,     0.73197,     0.71818,     0.70347,      0.6702,     0.65475,     0.61986,     0.59387,       0.578,     0.54519,     0.51362,     0.47329,     0.43397,     0.37718,     0.33853,     0.30972,     0.24141,\n",
       "            0.17342,     0.14767,     0.12566,     0.08932,    0.070888,    0.065088,    0.053113,    0.043367,    0.036593,    0.027866,    0.012428,    0.011156,   0.0098816,   0.0086059,   0.0048198,           0,           0,           0,           0,           0,           0,           0,           0,\n",
       "                  0,           0,           0,           0,           0,           0,           0,           0,           0,           0,           0,           0,           0,           0,           0,           0,           0,           0,           0,           0,           0,           0,           0,\n",
       "                  0,           0,           0,           0,           0,           0,           0,           0,           0,           0,           0]]), 'Confidence', 'F1'], [array([          0,    0.001001,    0.002002,    0.003003,    0.004004,    0.005005,    0.006006,    0.007007,    0.008008,    0.009009,     0.01001,    0.011011,    0.012012,    0.013013,    0.014014,    0.015015,    0.016016,    0.017017,    0.018018,    0.019019,     0.02002,    0.021021,    0.022022,    0.023023,\n",
       "          0.024024,    0.025025,    0.026026,    0.027027,    0.028028,    0.029029,     0.03003,    0.031031,    0.032032,    0.033033,    0.034034,    0.035035,    0.036036,    0.037037,    0.038038,    0.039039,     0.04004,    0.041041,    0.042042,    0.043043,    0.044044,    0.045045,    0.046046,    0.047047,\n",
       "          0.048048,    0.049049,     0.05005,    0.051051,    0.052052,    0.053053,    0.054054,    0.055055,    0.056056,    0.057057,    0.058058,    0.059059,     0.06006,    0.061061,    0.062062,    0.063063,    0.064064,    0.065065,    0.066066,    0.067067,    0.068068,    0.069069,     0.07007,    0.071071,\n",
       "          0.072072,    0.073073,    0.074074,    0.075075,    0.076076,    0.077077,    0.078078,    0.079079,     0.08008,    0.081081,    0.082082,    0.083083,    0.084084,    0.085085,    0.086086,    0.087087,    0.088088,    0.089089,     0.09009,    0.091091,    0.092092,    0.093093,    0.094094,    0.095095,\n",
       "          0.096096,    0.097097,    0.098098,    0.099099,      0.1001,      0.1011,      0.1021,      0.1031,      0.1041,     0.10511,     0.10611,     0.10711,     0.10811,     0.10911,     0.11011,     0.11111,     0.11211,     0.11311,     0.11411,     0.11512,     0.11612,     0.11712,     0.11812,     0.11912,\n",
       "           0.12012,     0.12112,     0.12212,     0.12312,     0.12412,     0.12513,     0.12613,     0.12713,     0.12813,     0.12913,     0.13013,     0.13113,     0.13213,     0.13313,     0.13413,     0.13514,     0.13614,     0.13714,     0.13814,     0.13914,     0.14014,     0.14114,     0.14214,     0.14314,\n",
       "           0.14414,     0.14515,     0.14615,     0.14715,     0.14815,     0.14915,     0.15015,     0.15115,     0.15215,     0.15315,     0.15415,     0.15516,     0.15616,     0.15716,     0.15816,     0.15916,     0.16016,     0.16116,     0.16216,     0.16316,     0.16416,     0.16517,     0.16617,     0.16717,\n",
       "           0.16817,     0.16917,     0.17017,     0.17117,     0.17217,     0.17317,     0.17417,     0.17518,     0.17618,     0.17718,     0.17818,     0.17918,     0.18018,     0.18118,     0.18218,     0.18318,     0.18418,     0.18519,     0.18619,     0.18719,     0.18819,     0.18919,     0.19019,     0.19119,\n",
       "           0.19219,     0.19319,     0.19419,      0.1952,      0.1962,      0.1972,      0.1982,      0.1992,      0.2002,      0.2012,      0.2022,      0.2032,      0.2042,     0.20521,     0.20621,     0.20721,     0.20821,     0.20921,     0.21021,     0.21121,     0.21221,     0.21321,     0.21421,     0.21522,\n",
       "           0.21622,     0.21722,     0.21822,     0.21922,     0.22022,     0.22122,     0.22222,     0.22322,     0.22422,     0.22523,     0.22623,     0.22723,     0.22823,     0.22923,     0.23023,     0.23123,     0.23223,     0.23323,     0.23423,     0.23524,     0.23624,     0.23724,     0.23824,     0.23924,\n",
       "           0.24024,     0.24124,     0.24224,     0.24324,     0.24424,     0.24525,     0.24625,     0.24725,     0.24825,     0.24925,     0.25025,     0.25125,     0.25225,     0.25325,     0.25425,     0.25526,     0.25626,     0.25726,     0.25826,     0.25926,     0.26026,     0.26126,     0.26226,     0.26326,\n",
       "           0.26426,     0.26527,     0.26627,     0.26727,     0.26827,     0.26927,     0.27027,     0.27127,     0.27227,     0.27327,     0.27427,     0.27528,     0.27628,     0.27728,     0.27828,     0.27928,     0.28028,     0.28128,     0.28228,     0.28328,     0.28428,     0.28529,     0.28629,     0.28729,\n",
       "           0.28829,     0.28929,     0.29029,     0.29129,     0.29229,     0.29329,     0.29429,      0.2953,      0.2963,      0.2973,      0.2983,      0.2993,      0.3003,      0.3013,      0.3023,      0.3033,      0.3043,     0.30531,     0.30631,     0.30731,     0.30831,     0.30931,     0.31031,     0.31131,\n",
       "           0.31231,     0.31331,     0.31431,     0.31532,     0.31632,     0.31732,     0.31832,     0.31932,     0.32032,     0.32132,     0.32232,     0.32332,     0.32432,     0.32533,     0.32633,     0.32733,     0.32833,     0.32933,     0.33033,     0.33133,     0.33233,     0.33333,     0.33433,     0.33534,\n",
       "           0.33634,     0.33734,     0.33834,     0.33934,     0.34034,     0.34134,     0.34234,     0.34334,     0.34434,     0.34535,     0.34635,     0.34735,     0.34835,     0.34935,     0.35035,     0.35135,     0.35235,     0.35335,     0.35435,     0.35536,     0.35636,     0.35736,     0.35836,     0.35936,\n",
       "           0.36036,     0.36136,     0.36236,     0.36336,     0.36436,     0.36537,     0.36637,     0.36737,     0.36837,     0.36937,     0.37037,     0.37137,     0.37237,     0.37337,     0.37437,     0.37538,     0.37638,     0.37738,     0.37838,     0.37938,     0.38038,     0.38138,     0.38238,     0.38338,\n",
       "           0.38438,     0.38539,     0.38639,     0.38739,     0.38839,     0.38939,     0.39039,     0.39139,     0.39239,     0.39339,     0.39439,      0.3954,      0.3964,      0.3974,      0.3984,      0.3994,      0.4004,      0.4014,      0.4024,      0.4034,      0.4044,     0.40541,     0.40641,     0.40741,\n",
       "           0.40841,     0.40941,     0.41041,     0.41141,     0.41241,     0.41341,     0.41441,     0.41542,     0.41642,     0.41742,     0.41842,     0.41942,     0.42042,     0.42142,     0.42242,     0.42342,     0.42442,     0.42543,     0.42643,     0.42743,     0.42843,     0.42943,     0.43043,     0.43143,\n",
       "           0.43243,     0.43343,     0.43443,     0.43544,     0.43644,     0.43744,     0.43844,     0.43944,     0.44044,     0.44144,     0.44244,     0.44344,     0.44444,     0.44545,     0.44645,     0.44745,     0.44845,     0.44945,     0.45045,     0.45145,     0.45245,     0.45345,     0.45445,     0.45546,\n",
       "           0.45646,     0.45746,     0.45846,     0.45946,     0.46046,     0.46146,     0.46246,     0.46346,     0.46446,     0.46547,     0.46647,     0.46747,     0.46847,     0.46947,     0.47047,     0.47147,     0.47247,     0.47347,     0.47447,     0.47548,     0.47648,     0.47748,     0.47848,     0.47948,\n",
       "           0.48048,     0.48148,     0.48248,     0.48348,     0.48448,     0.48549,     0.48649,     0.48749,     0.48849,     0.48949,     0.49049,     0.49149,     0.49249,     0.49349,     0.49449,      0.4955,      0.4965,      0.4975,      0.4985,      0.4995,      0.5005,      0.5015,      0.5025,      0.5035,\n",
       "            0.5045,     0.50551,     0.50651,     0.50751,     0.50851,     0.50951,     0.51051,     0.51151,     0.51251,     0.51351,     0.51451,     0.51552,     0.51652,     0.51752,     0.51852,     0.51952,     0.52052,     0.52152,     0.52252,     0.52352,     0.52452,     0.52553,     0.52653,     0.52753,\n",
       "           0.52853,     0.52953,     0.53053,     0.53153,     0.53253,     0.53353,     0.53453,     0.53554,     0.53654,     0.53754,     0.53854,     0.53954,     0.54054,     0.54154,     0.54254,     0.54354,     0.54454,     0.54555,     0.54655,     0.54755,     0.54855,     0.54955,     0.55055,     0.55155,\n",
       "           0.55255,     0.55355,     0.55455,     0.55556,     0.55656,     0.55756,     0.55856,     0.55956,     0.56056,     0.56156,     0.56256,     0.56356,     0.56456,     0.56557,     0.56657,     0.56757,     0.56857,     0.56957,     0.57057,     0.57157,     0.57257,     0.57357,     0.57457,     0.57558,\n",
       "           0.57658,     0.57758,     0.57858,     0.57958,     0.58058,     0.58158,     0.58258,     0.58358,     0.58458,     0.58559,     0.58659,     0.58759,     0.58859,     0.58959,     0.59059,     0.59159,     0.59259,     0.59359,     0.59459,      0.5956,      0.5966,      0.5976,      0.5986,      0.5996,\n",
       "            0.6006,      0.6016,      0.6026,      0.6036,      0.6046,     0.60561,     0.60661,     0.60761,     0.60861,     0.60961,     0.61061,     0.61161,     0.61261,     0.61361,     0.61461,     0.61562,     0.61662,     0.61762,     0.61862,     0.61962,     0.62062,     0.62162,     0.62262,     0.62362,\n",
       "           0.62462,     0.62563,     0.62663,     0.62763,     0.62863,     0.62963,     0.63063,     0.63163,     0.63263,     0.63363,     0.63463,     0.63564,     0.63664,     0.63764,     0.63864,     0.63964,     0.64064,     0.64164,     0.64264,     0.64364,     0.64464,     0.64565,     0.64665,     0.64765,\n",
       "           0.64865,     0.64965,     0.65065,     0.65165,     0.65265,     0.65365,     0.65465,     0.65566,     0.65666,     0.65766,     0.65866,     0.65966,     0.66066,     0.66166,     0.66266,     0.66366,     0.66466,     0.66567,     0.66667,     0.66767,     0.66867,     0.66967,     0.67067,     0.67167,\n",
       "           0.67267,     0.67367,     0.67467,     0.67568,     0.67668,     0.67768,     0.67868,     0.67968,     0.68068,     0.68168,     0.68268,     0.68368,     0.68468,     0.68569,     0.68669,     0.68769,     0.68869,     0.68969,     0.69069,     0.69169,     0.69269,     0.69369,     0.69469,      0.6957,\n",
       "            0.6967,      0.6977,      0.6987,      0.6997,      0.7007,      0.7017,      0.7027,      0.7037,      0.7047,     0.70571,     0.70671,     0.70771,     0.70871,     0.70971,     0.71071,     0.71171,     0.71271,     0.71371,     0.71471,     0.71572,     0.71672,     0.71772,     0.71872,     0.71972,\n",
       "           0.72072,     0.72172,     0.72272,     0.72372,     0.72472,     0.72573,     0.72673,     0.72773,     0.72873,     0.72973,     0.73073,     0.73173,     0.73273,     0.73373,     0.73473,     0.73574,     0.73674,     0.73774,     0.73874,     0.73974,     0.74074,     0.74174,     0.74274,     0.74374,\n",
       "           0.74474,     0.74575,     0.74675,     0.74775,     0.74875,     0.74975,     0.75075,     0.75175,     0.75275,     0.75375,     0.75475,     0.75576,     0.75676,     0.75776,     0.75876,     0.75976,     0.76076,     0.76176,     0.76276,     0.76376,     0.76476,     0.76577,     0.76677,     0.76777,\n",
       "           0.76877,     0.76977,     0.77077,     0.77177,     0.77277,     0.77377,     0.77477,     0.77578,     0.77678,     0.77778,     0.77878,     0.77978,     0.78078,     0.78178,     0.78278,     0.78378,     0.78478,     0.78579,     0.78679,     0.78779,     0.78879,     0.78979,     0.79079,     0.79179,\n",
       "           0.79279,     0.79379,     0.79479,      0.7958,      0.7968,      0.7978,      0.7988,      0.7998,      0.8008,      0.8018,      0.8028,      0.8038,      0.8048,     0.80581,     0.80681,     0.80781,     0.80881,     0.80981,     0.81081,     0.81181,     0.81281,     0.81381,     0.81481,     0.81582,\n",
       "           0.81682,     0.81782,     0.81882,     0.81982,     0.82082,     0.82182,     0.82282,     0.82382,     0.82482,     0.82583,     0.82683,     0.82783,     0.82883,     0.82983,     0.83083,     0.83183,     0.83283,     0.83383,     0.83483,     0.83584,     0.83684,     0.83784,     0.83884,     0.83984,\n",
       "           0.84084,     0.84184,     0.84284,     0.84384,     0.84484,     0.84585,     0.84685,     0.84785,     0.84885,     0.84985,     0.85085,     0.85185,     0.85285,     0.85385,     0.85485,     0.85586,     0.85686,     0.85786,     0.85886,     0.85986,     0.86086,     0.86186,     0.86286,     0.86386,\n",
       "           0.86486,     0.86587,     0.86687,     0.86787,     0.86887,     0.86987,     0.87087,     0.87187,     0.87287,     0.87387,     0.87487,     0.87588,     0.87688,     0.87788,     0.87888,     0.87988,     0.88088,     0.88188,     0.88288,     0.88388,     0.88488,     0.88589,     0.88689,     0.88789,\n",
       "           0.88889,     0.88989,     0.89089,     0.89189,     0.89289,     0.89389,     0.89489,      0.8959,      0.8969,      0.8979,      0.8989,      0.8999,      0.9009,      0.9019,      0.9029,      0.9039,      0.9049,     0.90591,     0.90691,     0.90791,     0.90891,     0.90991,     0.91091,     0.91191,\n",
       "           0.91291,     0.91391,     0.91491,     0.91592,     0.91692,     0.91792,     0.91892,     0.91992,     0.92092,     0.92192,     0.92292,     0.92392,     0.92492,     0.92593,     0.92693,     0.92793,     0.92893,     0.92993,     0.93093,     0.93193,     0.93293,     0.93393,     0.93493,     0.93594,\n",
       "           0.93694,     0.93794,     0.93894,     0.93994,     0.94094,     0.94194,     0.94294,     0.94394,     0.94494,     0.94595,     0.94695,     0.94795,     0.94895,     0.94995,     0.95095,     0.95195,     0.95295,     0.95395,     0.95495,     0.95596,     0.95696,     0.95796,     0.95896,     0.95996,\n",
       "           0.96096,     0.96196,     0.96296,     0.96396,     0.96496,     0.96597,     0.96697,     0.96797,     0.96897,     0.96997,     0.97097,     0.97197,     0.97297,     0.97397,     0.97497,     0.97598,     0.97698,     0.97798,     0.97898,     0.97998,     0.98098,     0.98198,     0.98298,     0.98398,\n",
       "           0.98498,     0.98599,     0.98699,     0.98799,     0.98899,     0.98999,     0.99099,     0.99199,     0.99299,     0.99399,     0.99499,       0.996,       0.997,       0.998,       0.999,           1]), array([[    0.72712,     0.72712,     0.82449,     0.86742,     0.88138,     0.89598,     0.90234,     0.90713,     0.91179,     0.91963,     0.92693,     0.93317,     0.93925,     0.94121,     0.94164,     0.94227,      0.9429,     0.94543,     0.94767,     0.94941,     0.95396,     0.95675,     0.95826,\n",
       "            0.96295,     0.96523,     0.96547,     0.96571,     0.96595,     0.96619,     0.96643,     0.96667,     0.96691,     0.96715,     0.96767,      0.9686,     0.96953,      0.9699,     0.97024,     0.97059,     0.97094,     0.97129,     0.97164,     0.97182,     0.97181,     0.97179,     0.97178,\n",
       "            0.97176,     0.97175,     0.97173,     0.97172,      0.9717,     0.97202,     0.97266,      0.9733,     0.97393,     0.97389,     0.97392,       0.974,     0.97407,     0.97415,     0.97422,      0.9743,     0.97437,     0.97445,     0.97452,      0.9746,     0.97467,     0.97475,     0.97482,\n",
       "             0.9749,     0.97497,     0.97505,     0.97512,      0.9752,     0.97527,     0.97535,     0.97542,      0.9755,     0.97557,     0.97564,     0.97572,     0.97579,     0.97587,     0.97594,     0.97602,     0.97609,     0.97617,     0.97617,     0.97615,     0.97676,     0.97847,     0.97845,\n",
       "            0.97843,     0.97848,      0.9786,     0.97872,     0.97883,     0.97895,     0.97906,     0.97918,      0.9793,     0.97941,     0.97953,     0.97965,     0.97976,     0.97988,        0.98,     0.98011,     0.98023,     0.98035,     0.98046,     0.98058,      0.9807,      0.9808,     0.98087,\n",
       "            0.98094,     0.98102,     0.98109,     0.98116,     0.98124,     0.98131,     0.98138,     0.98146,     0.98153,      0.9816,     0.98168,     0.98175,     0.98182,      0.9819,     0.98197,     0.98204,     0.98212,     0.98219,     0.98226,     0.98234,     0.98241,     0.98248,     0.98256,\n",
       "            0.98263,      0.9827,     0.98278,     0.98285,     0.98292,       0.983,     0.98307,     0.98313,     0.98313,     0.98313,     0.98312,     0.98312,     0.98312,     0.98311,     0.98311,     0.98311,      0.9831,      0.9831,      0.9831,     0.98309,     0.98324,      0.9839,     0.98455,\n",
       "            0.98521,     0.98546,     0.98544,     0.98544,     0.98543,     0.98543,     0.98543,     0.98543,     0.98543,     0.98543,     0.98543,     0.98543,     0.98543,     0.98542,     0.98542,     0.98542,     0.98542,     0.98542,     0.98542,     0.98542,     0.98542,     0.98542,     0.98541,\n",
       "            0.98541,     0.98541,     0.98541,     0.98541,     0.98541,     0.98541,     0.98541,     0.98541,      0.9854,      0.9854,      0.9854,      0.9854,      0.9854,      0.9854,      0.9854,      0.9854,      0.9854,      0.9854,      0.9854,      0.9854,      0.9854,     0.98539,     0.98539,\n",
       "            0.98539,     0.98539,     0.98539,     0.98539,     0.98539,     0.98539,     0.98539,     0.98539,     0.98539,     0.98539,     0.98539,     0.98539,     0.98539,     0.98538,     0.98538,     0.98538,     0.98538,     0.98538,     0.98538,     0.98538,     0.98538,     0.98538,     0.98538,\n",
       "            0.98538,     0.98538,     0.98538,     0.98538,     0.98537,     0.98537,     0.98537,     0.98537,     0.98537,     0.98537,     0.98537,     0.98537,     0.98537,     0.98537,     0.98537,     0.98537,     0.98537,     0.98537,     0.98537,     0.98536,     0.98536,     0.98536,     0.98536,\n",
       "            0.98536,     0.98536,     0.98536,     0.98536,     0.98536,     0.98536,     0.98536,     0.98536,     0.98536,     0.98536,     0.98536,     0.98535,     0.98535,     0.98535,     0.98535,     0.98535,     0.98535,     0.98535,     0.98535,     0.98535,     0.98535,     0.98535,     0.98535,\n",
       "            0.98535,     0.98535,     0.98535,     0.98534,     0.98534,     0.98534,     0.98534,     0.98534,     0.98534,     0.98534,     0.98534,     0.98534,     0.98534,     0.98534,     0.98534,     0.98534,     0.98534,     0.98534,     0.98533,     0.98533,     0.98533,     0.98533,     0.98533,\n",
       "            0.98533,     0.98533,     0.98537,     0.98544,     0.98551,     0.98558,     0.98565,     0.98572,     0.98579,     0.98586,     0.98593,       0.986,     0.98608,     0.98615,     0.98622,     0.98629,     0.98636,     0.98643,      0.9865,     0.98657,     0.98664,     0.98671,     0.98679,\n",
       "            0.98686,     0.98693,       0.987,     0.98707,     0.98714,     0.98721,     0.98728,     0.98735,     0.98742,      0.9875,     0.98757,     0.98764,     0.98771,     0.98801,     0.98855,     0.98909,     0.98964,     0.99018,     0.99083,     0.99148,     0.99213,     0.99261,      0.9926,\n",
       "            0.99259,     0.99259,     0.99259,     0.99259,     0.99259,     0.99259,     0.99259,     0.99259,     0.99259,     0.99259,     0.99259,     0.99259,     0.99259,     0.99259,     0.99259,     0.99259,     0.99258,     0.99258,     0.99258,     0.99258,     0.99258,     0.99258,     0.99258,\n",
       "            0.99258,     0.99258,     0.99258,     0.99258,     0.99258,     0.99258,     0.99258,     0.99258,     0.99258,     0.99258,     0.99258,     0.99258,     0.99258,     0.99258,     0.99258,     0.99257,     0.99257,     0.99257,     0.99257,     0.99257,     0.99257,     0.99257,     0.99257,\n",
       "            0.99257,     0.99257,     0.99257,     0.99257,     0.99256,     0.99256,     0.99256,     0.99256,     0.99256,     0.99256,     0.99256,     0.99256,     0.99256,     0.99256,     0.99256,     0.99256,     0.99256,     0.99256,     0.99255,     0.99255,     0.99255,     0.99255,     0.99255,\n",
       "            0.99255,     0.99255,     0.99255,     0.99255,     0.99255,     0.99255,     0.99255,     0.99255,     0.99255,     0.99255,     0.99255,     0.99255,     0.99255,     0.99255,     0.99255,     0.99255,     0.99255,     0.99255,     0.99255,     0.99255,     0.99255,     0.99255,     0.99255,\n",
       "            0.99255,     0.99255,     0.99255,     0.99254,     0.99254,     0.99254,     0.99254,     0.99254,     0.99254,     0.99254,     0.99254,     0.99254,     0.99254,     0.99254,     0.99254,     0.99254,     0.99254,     0.99254,     0.99254,     0.99254,     0.99254,     0.99254,     0.99254,\n",
       "            0.99254,     0.99254,     0.99254,     0.99254,     0.99253,     0.99253,     0.99253,     0.99253,     0.99252,     0.99252,     0.99252,     0.99252,     0.99252,     0.99252,     0.99252,     0.99252,     0.99252,     0.99252,     0.99252,     0.99252,     0.99252,     0.99252,     0.99252,\n",
       "            0.99252,     0.99252,     0.99252,     0.99252,     0.99252,     0.99252,     0.99252,     0.99252,     0.99252,     0.99251,     0.99251,     0.99251,     0.99251,     0.99251,     0.99251,     0.99251,     0.99251,     0.99251,     0.99251,     0.99251,     0.99251,     0.99251,     0.99251,\n",
       "            0.99251,     0.99251,     0.99251,     0.99251,     0.99251,     0.99251,     0.99251,     0.99251,     0.99251,     0.99251,     0.99251,     0.99251,     0.99251,     0.99251,     0.99251,     0.99251,     0.99251,     0.99251,     0.99251,     0.99251,     0.99251,     0.99251,     0.99251,\n",
       "            0.99251,     0.99251,     0.99251,     0.99251,     0.99251,     0.99251,     0.99251,     0.99251,     0.99251,     0.99251,     0.99251,     0.99251,     0.99251,     0.99251,     0.99251,     0.99251,     0.99251,     0.99251,      0.9925,      0.9925,      0.9925,      0.9925,      0.9925,\n",
       "             0.9925,      0.9925,      0.9925,      0.9925,      0.9925,      0.9925,      0.9925,      0.9925,      0.9925,      0.9925,      0.9925,      0.9925,      0.9925,      0.9925,      0.9925,      0.9925,      0.9925,      0.9925,      0.9925,      0.9925,      0.9925,      0.9925,      0.9925,\n",
       "             0.9925,      0.9925,      0.9925,      0.9925,     0.99249,     0.99249,     0.99249,     0.99249,     0.99249,     0.99249,     0.99249,     0.99249,     0.99249,     0.99248,     0.99248,     0.99248,     0.99267,     0.99294,     0.99321,     0.99348,     0.99374,     0.99401,     0.99428,\n",
       "            0.99455,     0.99482,     0.99497,     0.99497,     0.99497,     0.99497,     0.99497,     0.99497,     0.99497,     0.99497,     0.99497,     0.99497,     0.99497,     0.99497,     0.99497,     0.99497,     0.99497,     0.99497,     0.99497,     0.99497,     0.99497,     0.99497,     0.99497,\n",
       "            0.99497,     0.99497,     0.99497,     0.99497,     0.99497,     0.99497,     0.99497,     0.99496,     0.99496,     0.99496,     0.99496,     0.99496,     0.99496,     0.99496,     0.99496,     0.99496,     0.99496,     0.99496,     0.99496,     0.99496,     0.99496,     0.99496,     0.99496,\n",
       "            0.99496,     0.99496,     0.99495,     0.99495,     0.99495,     0.99495,     0.99495,     0.99495,     0.99495,     0.99496,     0.99501,     0.99506,     0.99511,     0.99516,      0.9952,     0.99525,      0.9953,     0.99535,     0.99539,     0.99544,     0.99549,     0.99554,     0.99559,\n",
       "            0.99563,     0.99568,     0.99573,     0.99578,     0.99582,     0.99587,     0.99592,     0.99597,     0.99602,     0.99606,     0.99611,     0.99616,     0.99621,     0.99625,      0.9963,     0.99635,      0.9964,     0.99644,     0.99649,     0.99654,     0.99659,     0.99664,     0.99668,\n",
       "            0.99673,     0.99678,     0.99683,     0.99687,     0.99692,     0.99697,     0.99702,     0.99707,     0.99711,     0.99716,     0.99721,     0.99726,      0.9973,     0.99735,      0.9974,     0.99745,     0.99753,     0.99763,     0.99774,     0.99784,     0.99794,     0.99805,     0.99815,\n",
       "            0.99826,     0.99836,     0.99846,     0.99857,     0.99867,     0.99878,     0.99888,     0.99898,     0.99909,     0.99919,     0.99929,      0.9994,      0.9995,     0.99961,     0.99971,     0.99981,     0.99992,           1,           1,           1,           1,           1,           1,\n",
       "                  1,           1,           1,           1,           1,           1,           1,           1,           1,           1,           1,           1,           1,           1,           1,           1,           1,           1,           1,           1,           1,           1,           1,\n",
       "                  1,           1,           1,           1,           1,           1,           1,           1,           1,           1,           1,           1,           1,           1,           1,           1,           1,           1,           1,           1,           1,           1,           1,\n",
       "                  1,           1,           1,           1,           1,           1,           1,           1,           1,           1,           1,           1,           1,           1,           1,           1,           1,           1,           1,           1,           1,           1,           1,\n",
       "                  1,           1,           1,           1,           1,           1,           1,           1,           1,           1,           1,           1,           1,           1,           1,           1,           1,           1,           1,           1,           1,           1,           1,\n",
       "                  1,           1,           1,           1,           1,           1,           1,           1,           1,           1,           1,           1,           1,           1,           1,           1,           1,           1,           1,           1,           1,           1,           1,\n",
       "                  1,           1,           1,           1,           1,           1,           1,           1,           1,           1,           1,           1,           1,           1,           1,           1,           1,           1,           1,           1,           1,           1,           1,\n",
       "                  1,           1,           1,           1,           1,           1,           1,           1,           1,           1,           1,           1,           1,           1,           1,           1,           1,           1,           1,           1,           1,           1,           1,\n",
       "                  1,           1,           1,           1,           1,           1,           1,           1,           1,           1,           1,           1,           1,           1,           1,           1,           1,           1,           1,           1,           1,           1,           1,\n",
       "                  1,           1,           1,           1,           1,           1,           1,           1,           1,           1,           1,           1,           1,           1,           1,           1,           1,           1,           1,           1,           1,           1,           1,\n",
       "                  1,           1,           1,           1,           1,           1,           1,           1,           1,           1,           1,           1,           1,           1,           1,           1,           1,           1,           1,           1,           1,           1,           1,\n",
       "                  1,           1,           1,           1,           1,           1,           1,           1,           1,           1,           1,           1,           1,           1,           1,           1,           1,           1,           1,           1,           1,           1,           1,\n",
       "                  1,           1,           1,           1,           1,           1,           1,           1,           1,           1,           1]]), 'Confidence', 'Precision'], [array([          0,    0.001001,    0.002002,    0.003003,    0.004004,    0.005005,    0.006006,    0.007007,    0.008008,    0.009009,     0.01001,    0.011011,    0.012012,    0.013013,    0.014014,    0.015015,    0.016016,    0.017017,    0.018018,    0.019019,     0.02002,    0.021021,    0.022022,    0.023023,\n",
       "          0.024024,    0.025025,    0.026026,    0.027027,    0.028028,    0.029029,     0.03003,    0.031031,    0.032032,    0.033033,    0.034034,    0.035035,    0.036036,    0.037037,    0.038038,    0.039039,     0.04004,    0.041041,    0.042042,    0.043043,    0.044044,    0.045045,    0.046046,    0.047047,\n",
       "          0.048048,    0.049049,     0.05005,    0.051051,    0.052052,    0.053053,    0.054054,    0.055055,    0.056056,    0.057057,    0.058058,    0.059059,     0.06006,    0.061061,    0.062062,    0.063063,    0.064064,    0.065065,    0.066066,    0.067067,    0.068068,    0.069069,     0.07007,    0.071071,\n",
       "          0.072072,    0.073073,    0.074074,    0.075075,    0.076076,    0.077077,    0.078078,    0.079079,     0.08008,    0.081081,    0.082082,    0.083083,    0.084084,    0.085085,    0.086086,    0.087087,    0.088088,    0.089089,     0.09009,    0.091091,    0.092092,    0.093093,    0.094094,    0.095095,\n",
       "          0.096096,    0.097097,    0.098098,    0.099099,      0.1001,      0.1011,      0.1021,      0.1031,      0.1041,     0.10511,     0.10611,     0.10711,     0.10811,     0.10911,     0.11011,     0.11111,     0.11211,     0.11311,     0.11411,     0.11512,     0.11612,     0.11712,     0.11812,     0.11912,\n",
       "           0.12012,     0.12112,     0.12212,     0.12312,     0.12412,     0.12513,     0.12613,     0.12713,     0.12813,     0.12913,     0.13013,     0.13113,     0.13213,     0.13313,     0.13413,     0.13514,     0.13614,     0.13714,     0.13814,     0.13914,     0.14014,     0.14114,     0.14214,     0.14314,\n",
       "           0.14414,     0.14515,     0.14615,     0.14715,     0.14815,     0.14915,     0.15015,     0.15115,     0.15215,     0.15315,     0.15415,     0.15516,     0.15616,     0.15716,     0.15816,     0.15916,     0.16016,     0.16116,     0.16216,     0.16316,     0.16416,     0.16517,     0.16617,     0.16717,\n",
       "           0.16817,     0.16917,     0.17017,     0.17117,     0.17217,     0.17317,     0.17417,     0.17518,     0.17618,     0.17718,     0.17818,     0.17918,     0.18018,     0.18118,     0.18218,     0.18318,     0.18418,     0.18519,     0.18619,     0.18719,     0.18819,     0.18919,     0.19019,     0.19119,\n",
       "           0.19219,     0.19319,     0.19419,      0.1952,      0.1962,      0.1972,      0.1982,      0.1992,      0.2002,      0.2012,      0.2022,      0.2032,      0.2042,     0.20521,     0.20621,     0.20721,     0.20821,     0.20921,     0.21021,     0.21121,     0.21221,     0.21321,     0.21421,     0.21522,\n",
       "           0.21622,     0.21722,     0.21822,     0.21922,     0.22022,     0.22122,     0.22222,     0.22322,     0.22422,     0.22523,     0.22623,     0.22723,     0.22823,     0.22923,     0.23023,     0.23123,     0.23223,     0.23323,     0.23423,     0.23524,     0.23624,     0.23724,     0.23824,     0.23924,\n",
       "           0.24024,     0.24124,     0.24224,     0.24324,     0.24424,     0.24525,     0.24625,     0.24725,     0.24825,     0.24925,     0.25025,     0.25125,     0.25225,     0.25325,     0.25425,     0.25526,     0.25626,     0.25726,     0.25826,     0.25926,     0.26026,     0.26126,     0.26226,     0.26326,\n",
       "           0.26426,     0.26527,     0.26627,     0.26727,     0.26827,     0.26927,     0.27027,     0.27127,     0.27227,     0.27327,     0.27427,     0.27528,     0.27628,     0.27728,     0.27828,     0.27928,     0.28028,     0.28128,     0.28228,     0.28328,     0.28428,     0.28529,     0.28629,     0.28729,\n",
       "           0.28829,     0.28929,     0.29029,     0.29129,     0.29229,     0.29329,     0.29429,      0.2953,      0.2963,      0.2973,      0.2983,      0.2993,      0.3003,      0.3013,      0.3023,      0.3033,      0.3043,     0.30531,     0.30631,     0.30731,     0.30831,     0.30931,     0.31031,     0.31131,\n",
       "           0.31231,     0.31331,     0.31431,     0.31532,     0.31632,     0.31732,     0.31832,     0.31932,     0.32032,     0.32132,     0.32232,     0.32332,     0.32432,     0.32533,     0.32633,     0.32733,     0.32833,     0.32933,     0.33033,     0.33133,     0.33233,     0.33333,     0.33433,     0.33534,\n",
       "           0.33634,     0.33734,     0.33834,     0.33934,     0.34034,     0.34134,     0.34234,     0.34334,     0.34434,     0.34535,     0.34635,     0.34735,     0.34835,     0.34935,     0.35035,     0.35135,     0.35235,     0.35335,     0.35435,     0.35536,     0.35636,     0.35736,     0.35836,     0.35936,\n",
       "           0.36036,     0.36136,     0.36236,     0.36336,     0.36436,     0.36537,     0.36637,     0.36737,     0.36837,     0.36937,     0.37037,     0.37137,     0.37237,     0.37337,     0.37437,     0.37538,     0.37638,     0.37738,     0.37838,     0.37938,     0.38038,     0.38138,     0.38238,     0.38338,\n",
       "           0.38438,     0.38539,     0.38639,     0.38739,     0.38839,     0.38939,     0.39039,     0.39139,     0.39239,     0.39339,     0.39439,      0.3954,      0.3964,      0.3974,      0.3984,      0.3994,      0.4004,      0.4014,      0.4024,      0.4034,      0.4044,     0.40541,     0.40641,     0.40741,\n",
       "           0.40841,     0.40941,     0.41041,     0.41141,     0.41241,     0.41341,     0.41441,     0.41542,     0.41642,     0.41742,     0.41842,     0.41942,     0.42042,     0.42142,     0.42242,     0.42342,     0.42442,     0.42543,     0.42643,     0.42743,     0.42843,     0.42943,     0.43043,     0.43143,\n",
       "           0.43243,     0.43343,     0.43443,     0.43544,     0.43644,     0.43744,     0.43844,     0.43944,     0.44044,     0.44144,     0.44244,     0.44344,     0.44444,     0.44545,     0.44645,     0.44745,     0.44845,     0.44945,     0.45045,     0.45145,     0.45245,     0.45345,     0.45445,     0.45546,\n",
       "           0.45646,     0.45746,     0.45846,     0.45946,     0.46046,     0.46146,     0.46246,     0.46346,     0.46446,     0.46547,     0.46647,     0.46747,     0.46847,     0.46947,     0.47047,     0.47147,     0.47247,     0.47347,     0.47447,     0.47548,     0.47648,     0.47748,     0.47848,     0.47948,\n",
       "           0.48048,     0.48148,     0.48248,     0.48348,     0.48448,     0.48549,     0.48649,     0.48749,     0.48849,     0.48949,     0.49049,     0.49149,     0.49249,     0.49349,     0.49449,      0.4955,      0.4965,      0.4975,      0.4985,      0.4995,      0.5005,      0.5015,      0.5025,      0.5035,\n",
       "            0.5045,     0.50551,     0.50651,     0.50751,     0.50851,     0.50951,     0.51051,     0.51151,     0.51251,     0.51351,     0.51451,     0.51552,     0.51652,     0.51752,     0.51852,     0.51952,     0.52052,     0.52152,     0.52252,     0.52352,     0.52452,     0.52553,     0.52653,     0.52753,\n",
       "           0.52853,     0.52953,     0.53053,     0.53153,     0.53253,     0.53353,     0.53453,     0.53554,     0.53654,     0.53754,     0.53854,     0.53954,     0.54054,     0.54154,     0.54254,     0.54354,     0.54454,     0.54555,     0.54655,     0.54755,     0.54855,     0.54955,     0.55055,     0.55155,\n",
       "           0.55255,     0.55355,     0.55455,     0.55556,     0.55656,     0.55756,     0.55856,     0.55956,     0.56056,     0.56156,     0.56256,     0.56356,     0.56456,     0.56557,     0.56657,     0.56757,     0.56857,     0.56957,     0.57057,     0.57157,     0.57257,     0.57357,     0.57457,     0.57558,\n",
       "           0.57658,     0.57758,     0.57858,     0.57958,     0.58058,     0.58158,     0.58258,     0.58358,     0.58458,     0.58559,     0.58659,     0.58759,     0.58859,     0.58959,     0.59059,     0.59159,     0.59259,     0.59359,     0.59459,      0.5956,      0.5966,      0.5976,      0.5986,      0.5996,\n",
       "            0.6006,      0.6016,      0.6026,      0.6036,      0.6046,     0.60561,     0.60661,     0.60761,     0.60861,     0.60961,     0.61061,     0.61161,     0.61261,     0.61361,     0.61461,     0.61562,     0.61662,     0.61762,     0.61862,     0.61962,     0.62062,     0.62162,     0.62262,     0.62362,\n",
       "           0.62462,     0.62563,     0.62663,     0.62763,     0.62863,     0.62963,     0.63063,     0.63163,     0.63263,     0.63363,     0.63463,     0.63564,     0.63664,     0.63764,     0.63864,     0.63964,     0.64064,     0.64164,     0.64264,     0.64364,     0.64464,     0.64565,     0.64665,     0.64765,\n",
       "           0.64865,     0.64965,     0.65065,     0.65165,     0.65265,     0.65365,     0.65465,     0.65566,     0.65666,     0.65766,     0.65866,     0.65966,     0.66066,     0.66166,     0.66266,     0.66366,     0.66466,     0.66567,     0.66667,     0.66767,     0.66867,     0.66967,     0.67067,     0.67167,\n",
       "           0.67267,     0.67367,     0.67467,     0.67568,     0.67668,     0.67768,     0.67868,     0.67968,     0.68068,     0.68168,     0.68268,     0.68368,     0.68468,     0.68569,     0.68669,     0.68769,     0.68869,     0.68969,     0.69069,     0.69169,     0.69269,     0.69369,     0.69469,      0.6957,\n",
       "            0.6967,      0.6977,      0.6987,      0.6997,      0.7007,      0.7017,      0.7027,      0.7037,      0.7047,     0.70571,     0.70671,     0.70771,     0.70871,     0.70971,     0.71071,     0.71171,     0.71271,     0.71371,     0.71471,     0.71572,     0.71672,     0.71772,     0.71872,     0.71972,\n",
       "           0.72072,     0.72172,     0.72272,     0.72372,     0.72472,     0.72573,     0.72673,     0.72773,     0.72873,     0.72973,     0.73073,     0.73173,     0.73273,     0.73373,     0.73473,     0.73574,     0.73674,     0.73774,     0.73874,     0.73974,     0.74074,     0.74174,     0.74274,     0.74374,\n",
       "           0.74474,     0.74575,     0.74675,     0.74775,     0.74875,     0.74975,     0.75075,     0.75175,     0.75275,     0.75375,     0.75475,     0.75576,     0.75676,     0.75776,     0.75876,     0.75976,     0.76076,     0.76176,     0.76276,     0.76376,     0.76476,     0.76577,     0.76677,     0.76777,\n",
       "           0.76877,     0.76977,     0.77077,     0.77177,     0.77277,     0.77377,     0.77477,     0.77578,     0.77678,     0.77778,     0.77878,     0.77978,     0.78078,     0.78178,     0.78278,     0.78378,     0.78478,     0.78579,     0.78679,     0.78779,     0.78879,     0.78979,     0.79079,     0.79179,\n",
       "           0.79279,     0.79379,     0.79479,      0.7958,      0.7968,      0.7978,      0.7988,      0.7998,      0.8008,      0.8018,      0.8028,      0.8038,      0.8048,     0.80581,     0.80681,     0.80781,     0.80881,     0.80981,     0.81081,     0.81181,     0.81281,     0.81381,     0.81481,     0.81582,\n",
       "           0.81682,     0.81782,     0.81882,     0.81982,     0.82082,     0.82182,     0.82282,     0.82382,     0.82482,     0.82583,     0.82683,     0.82783,     0.82883,     0.82983,     0.83083,     0.83183,     0.83283,     0.83383,     0.83483,     0.83584,     0.83684,     0.83784,     0.83884,     0.83984,\n",
       "           0.84084,     0.84184,     0.84284,     0.84384,     0.84484,     0.84585,     0.84685,     0.84785,     0.84885,     0.84985,     0.85085,     0.85185,     0.85285,     0.85385,     0.85485,     0.85586,     0.85686,     0.85786,     0.85886,     0.85986,     0.86086,     0.86186,     0.86286,     0.86386,\n",
       "           0.86486,     0.86587,     0.86687,     0.86787,     0.86887,     0.86987,     0.87087,     0.87187,     0.87287,     0.87387,     0.87487,     0.87588,     0.87688,     0.87788,     0.87888,     0.87988,     0.88088,     0.88188,     0.88288,     0.88388,     0.88488,     0.88589,     0.88689,     0.88789,\n",
       "           0.88889,     0.88989,     0.89089,     0.89189,     0.89289,     0.89389,     0.89489,      0.8959,      0.8969,      0.8979,      0.8989,      0.8999,      0.9009,      0.9019,      0.9029,      0.9039,      0.9049,     0.90591,     0.90691,     0.90791,     0.90891,     0.90991,     0.91091,     0.91191,\n",
       "           0.91291,     0.91391,     0.91491,     0.91592,     0.91692,     0.91792,     0.91892,     0.91992,     0.92092,     0.92192,     0.92292,     0.92392,     0.92492,     0.92593,     0.92693,     0.92793,     0.92893,     0.92993,     0.93093,     0.93193,     0.93293,     0.93393,     0.93493,     0.93594,\n",
       "           0.93694,     0.93794,     0.93894,     0.93994,     0.94094,     0.94194,     0.94294,     0.94394,     0.94494,     0.94595,     0.94695,     0.94795,     0.94895,     0.94995,     0.95095,     0.95195,     0.95295,     0.95395,     0.95495,     0.95596,     0.95696,     0.95796,     0.95896,     0.95996,\n",
       "           0.96096,     0.96196,     0.96296,     0.96396,     0.96496,     0.96597,     0.96697,     0.96797,     0.96897,     0.96997,     0.97097,     0.97197,     0.97297,     0.97397,     0.97497,     0.97598,     0.97698,     0.97798,     0.97898,     0.97998,     0.98098,     0.98198,     0.98298,     0.98398,\n",
       "           0.98498,     0.98599,     0.98699,     0.98799,     0.98899,     0.98999,     0.99099,     0.99199,     0.99299,     0.99399,     0.99499,       0.996,       0.997,       0.998,       0.999,           1]), array([[    0.90929,     0.90929,     0.90713,     0.90713,     0.90281,     0.90281,     0.90281,     0.90065,     0.90065,     0.90065,     0.90065,     0.90065,     0.90065,     0.89907,     0.89849,     0.89849,     0.89849,     0.89799,     0.89633,     0.89633,     0.89508,     0.89417,     0.89417,\n",
       "            0.89417,     0.89417,     0.89417,     0.89417,     0.89417,     0.89417,     0.89417,     0.89417,     0.89417,     0.89417,     0.89417,     0.89417,     0.89417,     0.89417,     0.89417,     0.89417,     0.89417,     0.89417,     0.89417,     0.89395,     0.89346,     0.89297,     0.89249,\n",
       "              0.892,     0.89149,     0.89098,     0.89047,     0.88996,     0.88769,     0.88769,     0.88769,     0.88766,     0.88603,     0.88553,     0.88553,     0.88553,     0.88553,     0.88553,     0.88553,     0.88553,     0.88553,     0.88553,     0.88553,     0.88553,     0.88553,     0.88553,\n",
       "            0.88553,     0.88553,     0.88553,     0.88553,     0.88553,     0.88553,     0.88553,     0.88553,     0.88553,     0.88553,     0.88553,     0.88553,     0.88553,     0.88553,     0.88553,     0.88553,     0.88553,     0.88553,     0.88489,     0.88399,     0.88337,     0.88325,     0.88242,\n",
       "            0.88158,     0.88121,     0.88121,     0.88121,     0.88121,     0.88121,     0.88121,     0.88121,     0.88121,     0.88121,     0.88121,     0.88121,     0.88121,     0.88121,     0.88121,     0.88121,     0.88121,     0.88121,     0.88121,     0.88121,     0.88121,     0.88121,     0.88121,\n",
       "            0.88121,     0.88121,     0.88121,     0.88121,     0.88121,     0.88121,     0.88121,     0.88121,     0.88121,     0.88121,     0.88121,     0.88121,     0.88121,     0.88121,     0.88121,     0.88121,     0.88121,     0.88121,     0.88121,     0.88121,     0.88121,     0.88121,     0.88121,\n",
       "            0.88121,     0.88121,     0.88121,     0.88121,     0.88121,     0.88121,     0.88121,     0.88119,     0.88102,     0.88085,     0.88068,     0.88052,     0.88035,     0.88018,     0.88002,     0.87985,     0.87968,     0.87951,     0.87935,     0.87918,     0.87905,     0.87905,     0.87905,\n",
       "            0.87905,     0.87822,     0.87689,     0.87682,     0.87675,     0.87668,     0.87661,     0.87655,     0.87648,     0.87641,     0.87634,     0.87627,     0.87621,     0.87614,     0.87607,       0.876,     0.87593,     0.87587,      0.8758,     0.87573,     0.87566,     0.87559,     0.87553,\n",
       "            0.87546,     0.87539,     0.87532,     0.87525,     0.87519,     0.87512,     0.87505,     0.87498,     0.87491,     0.87485,     0.87478,     0.87472,     0.87468,     0.87464,      0.8746,     0.87455,     0.87451,     0.87447,     0.87443,     0.87439,     0.87435,     0.87431,     0.87427,\n",
       "            0.87423,     0.87418,     0.87414,      0.8741,     0.87406,     0.87402,     0.87398,     0.87394,      0.8739,     0.87386,     0.87381,     0.87377,     0.87373,     0.87369,     0.87365,     0.87361,     0.87357,     0.87353,     0.87349,     0.87344,      0.8734,     0.87336,     0.87332,\n",
       "            0.87328,     0.87324,      0.8732,     0.87316,     0.87312,     0.87307,     0.87303,     0.87299,     0.87295,     0.87291,     0.87287,     0.87283,     0.87279,     0.87275,     0.87271,     0.87266,     0.87262,     0.87258,     0.87254,      0.8725,     0.87246,     0.87242,     0.87238,\n",
       "            0.87234,      0.8723,     0.87226,     0.87222,     0.87218,     0.87214,     0.87209,     0.87205,     0.87201,     0.87197,     0.87193,     0.87189,     0.87185,     0.87181,     0.87177,     0.87173,     0.87169,     0.87165,     0.87161,     0.87157,     0.87153,     0.87149,     0.87145,\n",
       "             0.8714,     0.87136,     0.87132,     0.87128,     0.87124,      0.8712,     0.87116,     0.87112,     0.87108,     0.87104,       0.871,     0.87096,     0.87092,     0.87088,     0.87084,      0.8708,     0.87076,     0.87071,     0.87067,     0.87063,     0.87059,     0.87055,     0.87051,\n",
       "            0.87047,     0.87043,     0.87041,     0.87041,     0.87041,     0.87041,     0.87041,     0.87041,     0.87041,     0.87041,     0.87041,     0.87041,     0.87041,     0.87041,     0.87041,     0.87041,     0.87041,     0.87041,     0.87041,     0.87041,     0.87041,     0.87041,     0.87041,\n",
       "            0.87041,     0.87041,     0.87041,     0.87041,     0.87041,     0.87041,     0.87041,     0.87041,     0.87041,     0.87041,     0.87041,     0.87041,     0.87041,     0.87041,     0.87041,     0.87041,     0.87041,     0.87041,     0.87041,     0.87041,     0.87041,     0.87003,     0.86858,\n",
       "            0.86821,     0.86815,      0.8681,     0.86804,     0.86799,     0.86794,     0.86788,     0.86783,     0.86777,     0.86772,     0.86766,     0.86761,     0.86755,      0.8675,     0.86744,     0.86739,     0.86733,     0.86728,     0.86722,     0.86717,     0.86712,     0.86706,     0.86701,\n",
       "            0.86695,      0.8669,     0.86684,     0.86679,     0.86673,     0.86668,     0.86662,     0.86657,     0.86651,     0.86646,      0.8664,     0.86635,      0.8663,     0.86624,     0.86619,     0.86613,     0.86607,     0.86597,     0.86587,     0.86577,     0.86567,     0.86557,     0.86547,\n",
       "            0.86537,     0.86527,     0.86517,     0.86507,     0.86497,     0.86487,     0.86477,     0.86467,     0.86457,     0.86447,     0.86437,     0.86427,     0.86417,     0.86407,     0.86397,     0.86391,     0.86387,     0.86383,      0.8638,     0.86376,     0.86372,     0.86368,     0.86365,\n",
       "            0.86361,     0.86357,     0.86353,      0.8635,     0.86346,     0.86342,     0.86338,     0.86335,     0.86331,     0.86327,     0.86323,      0.8632,     0.86316,     0.86312,     0.86308,     0.86305,     0.86301,     0.86297,     0.86293,      0.8629,     0.86286,     0.86282,     0.86278,\n",
       "            0.86275,     0.86271,     0.86267,     0.86263,      0.8626,     0.86256,     0.86252,     0.86248,     0.86245,     0.86241,     0.86237,     0.86233,      0.8623,     0.86226,     0.86222,     0.86218,     0.86215,     0.86211,     0.86207,     0.86203,       0.862,     0.86196,     0.86192,\n",
       "            0.86188,     0.86185,     0.86181,     0.86177,     0.86149,      0.8612,     0.86091,     0.86062,     0.86034,     0.86005,     0.85976,      0.8596,     0.85958,     0.85956,     0.85954,     0.85952,      0.8595,     0.85948,     0.85945,     0.85943,     0.85941,     0.85939,     0.85937,\n",
       "            0.85935,     0.85933,     0.85931,     0.85929,     0.85927,     0.85925,     0.85923,      0.8592,     0.85918,     0.85916,     0.85914,     0.85912,      0.8591,     0.85908,     0.85906,     0.85904,     0.85902,       0.859,     0.85898,     0.85895,     0.85893,     0.85891,     0.85889,\n",
       "            0.85887,     0.85885,     0.85883,     0.85881,     0.85879,     0.85877,     0.85875,     0.85873,      0.8587,     0.85868,     0.85866,     0.85864,     0.85862,      0.8586,     0.85858,     0.85856,     0.85854,     0.85852,      0.8585,     0.85847,     0.85845,     0.85843,     0.85841,\n",
       "            0.85839,     0.85837,     0.85835,     0.85833,     0.85831,     0.85829,     0.85827,     0.85825,     0.85822,      0.8582,     0.85818,     0.85816,     0.85814,     0.85812,      0.8581,     0.85808,     0.85806,     0.85804,     0.85802,       0.858,     0.85797,     0.85795,     0.85793,\n",
       "            0.85791,     0.85789,     0.85787,     0.85785,     0.85783,     0.85781,     0.85779,     0.85777,     0.85775,     0.85772,      0.8577,     0.85768,     0.85766,     0.85764,     0.85762,      0.8576,     0.85758,     0.85756,     0.85754,     0.85752,      0.8575,     0.85747,     0.85745,\n",
       "            0.85733,      0.8572,     0.85706,     0.85693,      0.8568,     0.85666,     0.85653,      0.8564,     0.85626,     0.85613,       0.856,     0.85586,     0.85573,      0.8556,     0.85546,     0.85533,     0.85529,     0.85529,     0.85529,     0.85529,     0.85529,     0.85529,     0.85529,\n",
       "            0.85529,     0.85529,     0.85527,     0.85521,     0.85515,     0.85508,     0.85502,     0.85496,      0.8549,     0.85484,     0.85478,     0.85472,     0.85466,      0.8546,     0.85454,     0.85448,     0.85442,     0.85436,      0.8543,     0.85423,     0.85417,     0.85411,     0.85405,\n",
       "            0.85399,     0.85393,     0.85387,     0.85381,     0.85375,     0.85369,     0.85363,     0.85357,     0.85351,     0.85345,     0.85339,     0.85332,     0.85326,      0.8532,     0.85314,     0.85303,     0.85291,     0.85278,     0.85266,     0.85254,     0.85241,     0.85229,     0.85217,\n",
       "            0.85204,     0.85192,      0.8518,     0.85167,     0.85155,     0.85143,      0.8513,     0.85118,     0.85106,     0.85097,     0.85097,     0.85097,     0.85097,     0.85097,     0.85097,     0.85097,     0.85097,     0.85097,     0.85097,     0.85097,     0.85097,     0.85097,     0.85097,\n",
       "            0.85097,     0.85097,     0.85097,     0.85097,     0.85097,     0.85097,     0.85097,     0.85097,     0.85097,     0.85097,     0.85097,     0.85097,     0.85097,     0.85097,     0.85097,     0.85097,     0.85097,     0.85097,     0.85097,     0.85097,     0.85097,     0.85097,     0.85097,\n",
       "            0.85097,     0.85097,     0.85097,     0.85097,     0.85097,     0.85097,     0.85097,     0.85097,     0.85097,     0.85097,     0.85097,     0.85097,     0.85097,     0.85097,     0.85097,     0.85097,     0.85097,     0.85097,     0.85097,     0.85097,     0.85097,     0.85097,     0.85097,\n",
       "            0.85097,     0.85097,     0.85097,     0.85097,     0.85097,     0.85097,     0.85097,     0.85097,     0.85097,     0.85097,     0.85097,     0.85097,     0.85097,     0.85097,     0.85097,     0.85097,     0.85097,     0.85096,     0.85092,     0.85088,     0.85083,     0.85079,     0.85075,\n",
       "            0.85071,     0.85066,     0.85062,     0.85058,     0.85053,     0.85049,     0.85045,     0.85041,     0.85036,     0.85032,     0.85028,     0.85023,     0.85019,     0.85015,     0.85011,     0.85006,     0.85002,     0.84998,     0.84993,     0.84989,     0.84985,     0.84981,     0.84976,\n",
       "            0.84972,     0.84968,     0.84963,     0.84959,     0.84955,     0.84951,     0.84946,     0.84942,     0.84938,     0.84933,     0.84929,     0.84925,     0.84921,     0.84916,     0.84912,     0.84908,     0.84903,     0.84899,     0.84895,     0.84891,     0.84886,     0.84882,     0.84693,\n",
       "            0.84614,     0.84556,     0.84498,     0.84448,     0.84439,     0.84431,     0.84422,     0.84413,     0.84405,     0.84396,     0.84387,     0.84379,      0.8437,     0.84361,     0.84353,     0.84344,     0.84335,     0.84327,     0.84318,     0.84309,     0.84301,     0.84292,     0.84284,\n",
       "            0.84275,     0.84266,     0.84258,     0.84249,      0.8424,      0.8423,     0.84212,     0.84194,     0.84176,     0.84157,     0.84139,     0.84121,     0.84103,     0.84085,     0.84067,     0.84049,     0.84031,     0.84007,     0.83966,     0.83925,     0.83884,     0.83842,     0.83801,\n",
       "            0.83773,     0.83745,     0.83717,     0.83688,      0.8366,     0.83632,     0.83603,     0.83577,     0.83554,     0.83531,     0.83508,     0.83485,     0.83461,     0.83438,     0.83415,     0.83392,     0.83368,     0.83322,     0.83275,     0.83228,     0.83181,     0.83139,     0.83104,\n",
       "            0.83068,     0.83033,     0.82998,     0.82962,     0.82929,     0.82901,     0.82873,     0.82844,     0.82816,     0.82788,      0.8276,     0.82731,     0.82662,     0.82571,     0.82496,     0.82463,     0.82431,     0.82398,     0.82365,     0.82333,       0.823,     0.82184,     0.81994,\n",
       "            0.81509,     0.81083,     0.80768,     0.80728,     0.80689,     0.80649,     0.80609,     0.80569,     0.80471,     0.80358,     0.79691,     0.79601,     0.79511,     0.79262,     0.78871,     0.78386,     0.78226,     0.78084,      0.7794,     0.77755,     0.77317,     0.77081,     0.76889,\n",
       "            0.76843,     0.76798,     0.76752,     0.76706,     0.76431,     0.76299,     0.76051,     0.75875,     0.75714,     0.75444,      0.7505,     0.74562,     0.74091,     0.73583,      0.7327,     0.72868,      0.7262,     0.72447,     0.72223,     0.71905,     0.71378,     0.70354,     0.69673,\n",
       "            0.68418,      0.6728,     0.66544,     0.65719,      0.6401,     0.61472,     0.59899,     0.57725,     0.56029,     0.54257,     0.50398,     0.48671,     0.44913,     0.42235,     0.40647,     0.37475,     0.34555,     0.31001,     0.27711,     0.23243,     0.20375,     0.18323,     0.13728,\n",
       "           0.094944,    0.079722,     0.06704,    0.046748,    0.036747,    0.033639,    0.027281,    0.022164,    0.018638,     0.01413,   0.0062529,   0.0056091,   0.0049653,   0.0043215,   0.0024157,           0,           0,           0,           0,           0,           0,           0,           0,\n",
       "                  0,           0,           0,           0,           0,           0,           0,           0,           0,           0,           0,           0,           0,           0,           0,           0,           0,           0,           0,           0,           0,           0,           0,\n",
       "                  0,           0,           0,           0,           0,           0,           0,           0,           0,           0,           0]]), 'Confidence', 'Recall']]\n",
       "fitness: np.float64(0.8437772590686764)\n",
       "keys: ['metrics/precision(B)', 'metrics/recall(B)', 'metrics/mAP50(B)', 'metrics/mAP50-95(B)']\n",
       "maps: array([     0.8331])\n",
       "names: {0: 'player'}\n",
       "nt_per_class: array([463])\n",
       "nt_per_image: array([301])\n",
       "results_dict: {'metrics/precision(B)': np.float64(0.9757197291008113), 'metrics/recall(B)': np.float64(0.8855291576673866), 'metrics/mAP50(B)': np.float64(0.9398850776945595), 'metrics/mAP50-95(B)': np.float64(0.8330986125546893), 'fitness': np.float64(0.8437772590686764)}\n",
       "save_dir: WindowsPath('E:/Project Sherlock/Grafiki/Grafiki total/dataset/detect/train12')\n",
       "speed: {'preprocess': 0.8123028333344943, 'inference': 39.329338666667965, 'loss': 7.16666712226773e-05, 'postprocess': 0.2659954999959761}\n",
       "stats: {'tp': [], 'conf': [], 'pred_cls': [], 'target_cls': [], 'target_img': []}\n",
       "task: 'detect'"
      ]
     },
     "execution_count": 7,
     "metadata": {},
     "output_type": "execute_result"
    }
   ],
   "source": [
    "model=YOLO(\"E:/Project Sherlock/Grafiki/Grafiki total/dataset/detect/train12/weights/last.pt\")\n",
    "model.train(\n",
    "    resume=True,\n",
    "    epochs=15  # YOLO automatycznie wie, że były już 4 epoki i zrobi kolejne 6\n",
    ")"
   ]
  },
  {
   "cell_type": "code",
   "execution_count": 8,
   "id": "0d70295e",
   "metadata": {
    "scrolled": true
   },
   "outputs": [
    {
     "name": "stdout",
     "output_type": "stream",
     "text": [
      "Ultralytics 8.3.168  Python-3.10.18 torch-2.7.1+cpu CPU (AMD Ryzen 5 5600X 6-Core Processor)\n",
      "Model summary (fused): 72 layers, 3,005,843 parameters, 0 gradients, 8.1 GFLOPs\n",
      "\u001b[34m\u001b[1mval: \u001b[0mFast image access  (ping: 0.10.1 ms, read: 672.4103.5 MB/s, size: 471.3 KB)\n"
     ]
    },
    {
     "name": "stderr",
     "output_type": "stream",
     "text": [
      "\u001b[34m\u001b[1mval: \u001b[0mScanning E:\\Project Sherlock\\Grafiki\\Grafiki total\\dataset\\labels\\test... 600 images, 293 backgrounds, 0 corrupt: \u001b[0m"
     ]
    },
    {
     "name": "stdout",
     "output_type": "stream",
     "text": [
      "\u001b[34m\u001b[1mval: \u001b[0mNew cache created: E:\\Project Sherlock\\Grafiki\\Grafiki total\\dataset\\labels\\test.cache\n"
     ]
    },
    {
     "name": "stderr",
     "output_type": "stream",
     "text": [
      "\n",
      "D:\\anaconda\\envs\\yalo_env\\lib\\site-packages\\torch\\utils\\data\\dataloader.py:665: UserWarning: 'pin_memory' argument is set as true but no accelerator is found, then device pinned memory won't be used.\n",
      "  warnings.warn(warn_msg)\n",
      "                 Class     Images  Instances      Box(P          R      mAP50  mAP50-95): 100%|██████████| 40/40 [00:31\n"
     ]
    },
    {
     "name": "stdout",
     "output_type": "stream",
     "text": [
      "                   all        600        463      0.986      0.909      0.952      0.853\n",
      "Speed: 0.7ms preprocess, 33.7ms inference, 0.0ms loss, 0.2ms postprocess per image\n",
      "Results saved to \u001b[1mE:\\Project Sherlock\\Grafiki\\Grafiki total\\dataset\\detect\\train122\u001b[0m\n",
      "ultralytics.utils.metrics.DetMetrics object with attributes:\n",
      "\n",
      "ap_class_index: array([0])\n",
      "box: ultralytics.utils.metrics.Metric object\n",
      "confusion_matrix: <ultralytics.utils.metrics.ConfusionMatrix object at 0x000001E6BA73A7D0>\n",
      "curves: ['Precision-Recall(B)', 'F1-Confidence(B)', 'Precision-Confidence(B)', 'Recall-Confidence(B)']\n",
      "curves_results: [[array([          0,    0.001001,    0.002002,    0.003003,    0.004004,    0.005005,    0.006006,    0.007007,    0.008008,    0.009009,     0.01001,    0.011011,    0.012012,    0.013013,    0.014014,    0.015015,    0.016016,    0.017017,    0.018018,    0.019019,     0.02002,    0.021021,    0.022022,    0.023023,\n",
      "          0.024024,    0.025025,    0.026026,    0.027027,    0.028028,    0.029029,     0.03003,    0.031031,    0.032032,    0.033033,    0.034034,    0.035035,    0.036036,    0.037037,    0.038038,    0.039039,     0.04004,    0.041041,    0.042042,    0.043043,    0.044044,    0.045045,    0.046046,    0.047047,\n",
      "          0.048048,    0.049049,     0.05005,    0.051051,    0.052052,    0.053053,    0.054054,    0.055055,    0.056056,    0.057057,    0.058058,    0.059059,     0.06006,    0.061061,    0.062062,    0.063063,    0.064064,    0.065065,    0.066066,    0.067067,    0.068068,    0.069069,     0.07007,    0.071071,\n",
      "          0.072072,    0.073073,    0.074074,    0.075075,    0.076076,    0.077077,    0.078078,    0.079079,     0.08008,    0.081081,    0.082082,    0.083083,    0.084084,    0.085085,    0.086086,    0.087087,    0.088088,    0.089089,     0.09009,    0.091091,    0.092092,    0.093093,    0.094094,    0.095095,\n",
      "          0.096096,    0.097097,    0.098098,    0.099099,      0.1001,      0.1011,      0.1021,      0.1031,      0.1041,     0.10511,     0.10611,     0.10711,     0.10811,     0.10911,     0.11011,     0.11111,     0.11211,     0.11311,     0.11411,     0.11512,     0.11612,     0.11712,     0.11812,     0.11912,\n",
      "           0.12012,     0.12112,     0.12212,     0.12312,     0.12412,     0.12513,     0.12613,     0.12713,     0.12813,     0.12913,     0.13013,     0.13113,     0.13213,     0.13313,     0.13413,     0.13514,     0.13614,     0.13714,     0.13814,     0.13914,     0.14014,     0.14114,     0.14214,     0.14314,\n",
      "           0.14414,     0.14515,     0.14615,     0.14715,     0.14815,     0.14915,     0.15015,     0.15115,     0.15215,     0.15315,     0.15415,     0.15516,     0.15616,     0.15716,     0.15816,     0.15916,     0.16016,     0.16116,     0.16216,     0.16316,     0.16416,     0.16517,     0.16617,     0.16717,\n",
      "           0.16817,     0.16917,     0.17017,     0.17117,     0.17217,     0.17317,     0.17417,     0.17518,     0.17618,     0.17718,     0.17818,     0.17918,     0.18018,     0.18118,     0.18218,     0.18318,     0.18418,     0.18519,     0.18619,     0.18719,     0.18819,     0.18919,     0.19019,     0.19119,\n",
      "           0.19219,     0.19319,     0.19419,      0.1952,      0.1962,      0.1972,      0.1982,      0.1992,      0.2002,      0.2012,      0.2022,      0.2032,      0.2042,     0.20521,     0.20621,     0.20721,     0.20821,     0.20921,     0.21021,     0.21121,     0.21221,     0.21321,     0.21421,     0.21522,\n",
      "           0.21622,     0.21722,     0.21822,     0.21922,     0.22022,     0.22122,     0.22222,     0.22322,     0.22422,     0.22523,     0.22623,     0.22723,     0.22823,     0.22923,     0.23023,     0.23123,     0.23223,     0.23323,     0.23423,     0.23524,     0.23624,     0.23724,     0.23824,     0.23924,\n",
      "           0.24024,     0.24124,     0.24224,     0.24324,     0.24424,     0.24525,     0.24625,     0.24725,     0.24825,     0.24925,     0.25025,     0.25125,     0.25225,     0.25325,     0.25425,     0.25526,     0.25626,     0.25726,     0.25826,     0.25926,     0.26026,     0.26126,     0.26226,     0.26326,\n",
      "           0.26426,     0.26527,     0.26627,     0.26727,     0.26827,     0.26927,     0.27027,     0.27127,     0.27227,     0.27327,     0.27427,     0.27528,     0.27628,     0.27728,     0.27828,     0.27928,     0.28028,     0.28128,     0.28228,     0.28328,     0.28428,     0.28529,     0.28629,     0.28729,\n",
      "           0.28829,     0.28929,     0.29029,     0.29129,     0.29229,     0.29329,     0.29429,      0.2953,      0.2963,      0.2973,      0.2983,      0.2993,      0.3003,      0.3013,      0.3023,      0.3033,      0.3043,     0.30531,     0.30631,     0.30731,     0.30831,     0.30931,     0.31031,     0.31131,\n",
      "           0.31231,     0.31331,     0.31431,     0.31532,     0.31632,     0.31732,     0.31832,     0.31932,     0.32032,     0.32132,     0.32232,     0.32332,     0.32432,     0.32533,     0.32633,     0.32733,     0.32833,     0.32933,     0.33033,     0.33133,     0.33233,     0.33333,     0.33433,     0.33534,\n",
      "           0.33634,     0.33734,     0.33834,     0.33934,     0.34034,     0.34134,     0.34234,     0.34334,     0.34434,     0.34535,     0.34635,     0.34735,     0.34835,     0.34935,     0.35035,     0.35135,     0.35235,     0.35335,     0.35435,     0.35536,     0.35636,     0.35736,     0.35836,     0.35936,\n",
      "           0.36036,     0.36136,     0.36236,     0.36336,     0.36436,     0.36537,     0.36637,     0.36737,     0.36837,     0.36937,     0.37037,     0.37137,     0.37237,     0.37337,     0.37437,     0.37538,     0.37638,     0.37738,     0.37838,     0.37938,     0.38038,     0.38138,     0.38238,     0.38338,\n",
      "           0.38438,     0.38539,     0.38639,     0.38739,     0.38839,     0.38939,     0.39039,     0.39139,     0.39239,     0.39339,     0.39439,      0.3954,      0.3964,      0.3974,      0.3984,      0.3994,      0.4004,      0.4014,      0.4024,      0.4034,      0.4044,     0.40541,     0.40641,     0.40741,\n",
      "           0.40841,     0.40941,     0.41041,     0.41141,     0.41241,     0.41341,     0.41441,     0.41542,     0.41642,     0.41742,     0.41842,     0.41942,     0.42042,     0.42142,     0.42242,     0.42342,     0.42442,     0.42543,     0.42643,     0.42743,     0.42843,     0.42943,     0.43043,     0.43143,\n",
      "           0.43243,     0.43343,     0.43443,     0.43544,     0.43644,     0.43744,     0.43844,     0.43944,     0.44044,     0.44144,     0.44244,     0.44344,     0.44444,     0.44545,     0.44645,     0.44745,     0.44845,     0.44945,     0.45045,     0.45145,     0.45245,     0.45345,     0.45445,     0.45546,\n",
      "           0.45646,     0.45746,     0.45846,     0.45946,     0.46046,     0.46146,     0.46246,     0.46346,     0.46446,     0.46547,     0.46647,     0.46747,     0.46847,     0.46947,     0.47047,     0.47147,     0.47247,     0.47347,     0.47447,     0.47548,     0.47648,     0.47748,     0.47848,     0.47948,\n",
      "           0.48048,     0.48148,     0.48248,     0.48348,     0.48448,     0.48549,     0.48649,     0.48749,     0.48849,     0.48949,     0.49049,     0.49149,     0.49249,     0.49349,     0.49449,      0.4955,      0.4965,      0.4975,      0.4985,      0.4995,      0.5005,      0.5015,      0.5025,      0.5035,\n",
      "            0.5045,     0.50551,     0.50651,     0.50751,     0.50851,     0.50951,     0.51051,     0.51151,     0.51251,     0.51351,     0.51451,     0.51552,     0.51652,     0.51752,     0.51852,     0.51952,     0.52052,     0.52152,     0.52252,     0.52352,     0.52452,     0.52553,     0.52653,     0.52753,\n",
      "           0.52853,     0.52953,     0.53053,     0.53153,     0.53253,     0.53353,     0.53453,     0.53554,     0.53654,     0.53754,     0.53854,     0.53954,     0.54054,     0.54154,     0.54254,     0.54354,     0.54454,     0.54555,     0.54655,     0.54755,     0.54855,     0.54955,     0.55055,     0.55155,\n",
      "           0.55255,     0.55355,     0.55455,     0.55556,     0.55656,     0.55756,     0.55856,     0.55956,     0.56056,     0.56156,     0.56256,     0.56356,     0.56456,     0.56557,     0.56657,     0.56757,     0.56857,     0.56957,     0.57057,     0.57157,     0.57257,     0.57357,     0.57457,     0.57558,\n",
      "           0.57658,     0.57758,     0.57858,     0.57958,     0.58058,     0.58158,     0.58258,     0.58358,     0.58458,     0.58559,     0.58659,     0.58759,     0.58859,     0.58959,     0.59059,     0.59159,     0.59259,     0.59359,     0.59459,      0.5956,      0.5966,      0.5976,      0.5986,      0.5996,\n",
      "            0.6006,      0.6016,      0.6026,      0.6036,      0.6046,     0.60561,     0.60661,     0.60761,     0.60861,     0.60961,     0.61061,     0.61161,     0.61261,     0.61361,     0.61461,     0.61562,     0.61662,     0.61762,     0.61862,     0.61962,     0.62062,     0.62162,     0.62262,     0.62362,\n",
      "           0.62462,     0.62563,     0.62663,     0.62763,     0.62863,     0.62963,     0.63063,     0.63163,     0.63263,     0.63363,     0.63463,     0.63564,     0.63664,     0.63764,     0.63864,     0.63964,     0.64064,     0.64164,     0.64264,     0.64364,     0.64464,     0.64565,     0.64665,     0.64765,\n",
      "           0.64865,     0.64965,     0.65065,     0.65165,     0.65265,     0.65365,     0.65465,     0.65566,     0.65666,     0.65766,     0.65866,     0.65966,     0.66066,     0.66166,     0.66266,     0.66366,     0.66466,     0.66567,     0.66667,     0.66767,     0.66867,     0.66967,     0.67067,     0.67167,\n",
      "           0.67267,     0.67367,     0.67467,     0.67568,     0.67668,     0.67768,     0.67868,     0.67968,     0.68068,     0.68168,     0.68268,     0.68368,     0.68468,     0.68569,     0.68669,     0.68769,     0.68869,     0.68969,     0.69069,     0.69169,     0.69269,     0.69369,     0.69469,      0.6957,\n",
      "            0.6967,      0.6977,      0.6987,      0.6997,      0.7007,      0.7017,      0.7027,      0.7037,      0.7047,     0.70571,     0.70671,     0.70771,     0.70871,     0.70971,     0.71071,     0.71171,     0.71271,     0.71371,     0.71471,     0.71572,     0.71672,     0.71772,     0.71872,     0.71972,\n",
      "           0.72072,     0.72172,     0.72272,     0.72372,     0.72472,     0.72573,     0.72673,     0.72773,     0.72873,     0.72973,     0.73073,     0.73173,     0.73273,     0.73373,     0.73473,     0.73574,     0.73674,     0.73774,     0.73874,     0.73974,     0.74074,     0.74174,     0.74274,     0.74374,\n",
      "           0.74474,     0.74575,     0.74675,     0.74775,     0.74875,     0.74975,     0.75075,     0.75175,     0.75275,     0.75375,     0.75475,     0.75576,     0.75676,     0.75776,     0.75876,     0.75976,     0.76076,     0.76176,     0.76276,     0.76376,     0.76476,     0.76577,     0.76677,     0.76777,\n",
      "           0.76877,     0.76977,     0.77077,     0.77177,     0.77277,     0.77377,     0.77477,     0.77578,     0.77678,     0.77778,     0.77878,     0.77978,     0.78078,     0.78178,     0.78278,     0.78378,     0.78478,     0.78579,     0.78679,     0.78779,     0.78879,     0.78979,     0.79079,     0.79179,\n",
      "           0.79279,     0.79379,     0.79479,      0.7958,      0.7968,      0.7978,      0.7988,      0.7998,      0.8008,      0.8018,      0.8028,      0.8038,      0.8048,     0.80581,     0.80681,     0.80781,     0.80881,     0.80981,     0.81081,     0.81181,     0.81281,     0.81381,     0.81481,     0.81582,\n",
      "           0.81682,     0.81782,     0.81882,     0.81982,     0.82082,     0.82182,     0.82282,     0.82382,     0.82482,     0.82583,     0.82683,     0.82783,     0.82883,     0.82983,     0.83083,     0.83183,     0.83283,     0.83383,     0.83483,     0.83584,     0.83684,     0.83784,     0.83884,     0.83984,\n",
      "           0.84084,     0.84184,     0.84284,     0.84384,     0.84484,     0.84585,     0.84685,     0.84785,     0.84885,     0.84985,     0.85085,     0.85185,     0.85285,     0.85385,     0.85485,     0.85586,     0.85686,     0.85786,     0.85886,     0.85986,     0.86086,     0.86186,     0.86286,     0.86386,\n",
      "           0.86486,     0.86587,     0.86687,     0.86787,     0.86887,     0.86987,     0.87087,     0.87187,     0.87287,     0.87387,     0.87487,     0.87588,     0.87688,     0.87788,     0.87888,     0.87988,     0.88088,     0.88188,     0.88288,     0.88388,     0.88488,     0.88589,     0.88689,     0.88789,\n",
      "           0.88889,     0.88989,     0.89089,     0.89189,     0.89289,     0.89389,     0.89489,      0.8959,      0.8969,      0.8979,      0.8989,      0.8999,      0.9009,      0.9019,      0.9029,      0.9039,      0.9049,     0.90591,     0.90691,     0.90791,     0.90891,     0.90991,     0.91091,     0.91191,\n",
      "           0.91291,     0.91391,     0.91491,     0.91592,     0.91692,     0.91792,     0.91892,     0.91992,     0.92092,     0.92192,     0.92292,     0.92392,     0.92492,     0.92593,     0.92693,     0.92793,     0.92893,     0.92993,     0.93093,     0.93193,     0.93293,     0.93393,     0.93493,     0.93594,\n",
      "           0.93694,     0.93794,     0.93894,     0.93994,     0.94094,     0.94194,     0.94294,     0.94394,     0.94494,     0.94595,     0.94695,     0.94795,     0.94895,     0.94995,     0.95095,     0.95195,     0.95295,     0.95395,     0.95495,     0.95596,     0.95696,     0.95796,     0.95896,     0.95996,\n",
      "           0.96096,     0.96196,     0.96296,     0.96396,     0.96496,     0.96597,     0.96697,     0.96797,     0.96897,     0.96997,     0.97097,     0.97197,     0.97297,     0.97397,     0.97497,     0.97598,     0.97698,     0.97798,     0.97898,     0.97998,     0.98098,     0.98198,     0.98298,     0.98398,\n",
      "           0.98498,     0.98599,     0.98699,     0.98799,     0.98899,     0.98999,     0.99099,     0.99199,     0.99299,     0.99399,     0.99499,       0.996,       0.997,       0.998,       0.999,           1]), array([[          1,           1,           1,           1,           1,           1,           1,           1,           1,           1,           1,           1,           1,           1,           1,           1,           1,           1,           1,           1,           1,           1,           1,\n",
      "                  1,           1,           1,           1,           1,           1,           1,           1,           1,           1,           1,           1,           1,           1,           1,           1,           1,           1,           1,           1,           1,           1,           1,\n",
      "                  1,           1,           1,           1,           1,           1,           1,           1,           1,           1,           1,           1,           1,           1,           1,           1,           1,           1,           1,           1,           1,           1,           1,\n",
      "                  1,           1,           1,           1,           1,           1,           1,           1,           1,           1,           1,           1,           1,           1,           1,           1,           1,           1,           1,           1,           1,           1,           1,\n",
      "                  1,           1,           1,           1,           1,           1,           1,           1,           1,           1,           1,           1,           1,           1,           1,           1,           1,           1,           1,           1,           1,           1,           1,\n",
      "                  1,           1,           1,           1,           1,           1,           1,           1,           1,           1,           1,           1,           1,           1,           1,           1,           1,           1,           1,           1,           1,           1,           1,\n",
      "                  1,           1,           1,           1,           1,           1,           1,           1,           1,           1,           1,           1,           1,           1,           1,           1,           1,           1,           1,           1,           1,           1,           1,\n",
      "                  1,           1,           1,           1,           1,           1,           1,           1,           1,           1,           1,           1,           1,           1,           1,           1,           1,           1,           1,           1,           1,           1,           1,\n",
      "                  1,           1,           1,           1,           1,           1,           1,           1,           1,           1,           1,           1,           1,           1,           1,           1,           1,           1,           1,           1,           1,           1,           1,\n",
      "                  1,           1,           1,           1,           1,           1,           1,           1,           1,           1,           1,           1,           1,           1,           1,           1,           1,           1,           1,           1,           1,           1,           1,\n",
      "                  1,           1,           1,           1,           1,           1,           1,           1,           1,           1,           1,           1,           1,           1,           1,           1,           1,           1,           1,           1,           1,           1,           1,\n",
      "                  1,           1,           1,           1,           1,           1,           1,           1,           1,           1,           1,           1,           1,           1,           1,           1,           1,           1,           1,           1,           1,           1,           1,\n",
      "                  1,           1,           1,           1,           1,           1,           1,           1,           1,           1,           1,           1,           1,           1,           1,           1,           1,           1,           1,           1,           1,           1,           1,\n",
      "                  1,           1,           1,           1,           1,           1,           1,           1,           1,           1,           1,           1,           1,           1,           1,           1,           1,           1,           1,           1,           1,           1,           1,\n",
      "                  1,           1,           1,           1,           1,           1,           1,           1,           1,           1,           1,           1,           1,           1,           1,           1,           1,           1,           1,           1,           1,           1,           1,\n",
      "                  1,           1,           1,           1,           1,           1,           1,           1,           1,           1,           1,           1,           1,           1,           1,           1,           1,           1,           1,           1,           1,           1,           1,\n",
      "                  1,           1,           1,           1,           1,           1,           1,           1,           1,           1,           1,           1,           1,           1,           1,           1,           1,           1,           1,           1,           1,           1,           1,\n",
      "                  1,           1,           1,           1,           1,           1,           1,           1,           1,           1,           1,           1,           1,           1,           1,           1,           1,           1,           1,           1,           1,           1,           1,\n",
      "                  1,           1,           1,           1,           1,           1,           1,           1,           1,           1,           1,           1,           1,           1,           1,           1,           1,           1,           1,           1,           1,           1,           1,\n",
      "                  1,           1,           1,           1,           1,           1,           1,           1,           1,           1,           1,           1,           1,           1,           1,           1,           1,           1,           1,           1,           1,           1,           1,\n",
      "                  1,           1,           1,           1,           1,           1,           1,           1,           1,           1,           1,           1,           1,           1,           1,           1,           1,           1,           1,           1,           1,           1,           1,\n",
      "                  1,           1,           1,           1,           1,           1,           1,           1,           1,           1,           1,           1,           1,           1,           1,           1,           1,           1,           1,           1,           1,           1,           1,\n",
      "                  1,           1,           1,           1,           1,           1,           1,           1,           1,           1,           1,           1,           1,           1,           1,           1,           1,           1,           1,           1,           1,           1,           1,\n",
      "                  1,           1,           1,           1,           1,           1,           1,           1,           1,           1,           1,           1,           1,           1,           1,           1,           1,           1,           1,           1,           1,           1,           1,\n",
      "                  1,           1,           1,           1,           1,           1,           1,           1,           1,           1,           1,           1,           1,           1,           1,           1,           1,           1,           1,           1,           1,           1,           1,\n",
      "                  1,           1,           1,           1,           1,           1,           1,           1,           1,           1,           1,           1,           1,           1,           1,           1,           1,           1,           1,           1,           1,           1,           1,\n",
      "                  1,           1,           1,           1,           1,           1,           1,           1,           1,           1,           1,           1,           1,           1,           1,           1,           1,           1,           1,           1,           1,           1,           1,\n",
      "                  1,           1,           1,           1,           1,           1,           1,           1,           1,           1,           1,           1,           1,           1,           1,           1,           1,           1,           1,           1,           1,           1,           1,\n",
      "                  1,           1,           1,           1,           1,           1,           1,           1,           1,           1,           1,           1,           1,           1,           1,           1,           1,           1,           1,           1,           1,           1,           1,\n",
      "                  1,           1,           1,           1,           1,           1,           1,           1,           1,           1,           1,           1,           1,           1,           1,           1,           1,           1,           1,           1,           1,           1,           1,\n",
      "                  1,           1,           1,           1,           1,           1,           1,           1,           1,           1,           1,           1,           1,           1,           1,           1,           1,           1,           1,           1,           1,           1,           1,\n",
      "                  1,           1,           1,           1,           1,           1,           1,           1,           1,           1,           1,           1,           1,           1,           1,           1,           1,           1,           1,           1,           1,           1,           1,\n",
      "                  1,           1,           1,           1,           1,           1,           1,           1,           1,           1,           1,           1,           1,           1,           1,           1,           1,           1,           1,           1,           1,           1,           1,\n",
      "                  1,           1,           1,           1,           1,           1,           1,           1,           1,           1,           1,           1,           1,           1,           1,           1,           1,           1,           1,           1,           1,           1,           1,\n",
      "                  1,           1,           1,           1,           1,           1,           1,           1,           1,           1,           1,           1,           1,           1,           1,           1,           1,           1,           1,           1,           1,           1,           1,\n",
      "                  1,           1,           1,           1,           1,           1,           1,           1,           1,           1,           1,           1,           1,           1,           1,           1,           1,           1,           1,           1,           1,           1,           1,\n",
      "                  1,           1,           1,           1,           1,           1,           1,           1,           1,           1,           1,           1,           1,           1,           1,           1,           1,           1,           1,           1,           1,           1,           1,\n",
      "                  1,           1,           1,           1,           1,           1,           1,           1,           1,           1,           1,           1,           1,           1,           1,           1,           1,           1,           1,           1,           1,           1,           1,\n",
      "                  1,           1,           1,           1,           1,           1,           1,     0.99756,     0.99756,     0.99274,     0.99274,      0.9905,      0.9905,      0.9905,      0.9905,      0.9905,      0.9905,      0.9905,      0.9905,      0.9905,      0.9905,      0.9905,      0.9905,\n",
      "             0.9905,      0.9905,      0.9905,     0.98595,     0.98595,     0.98595,     0.98595,     0.98595,     0.98595,     0.98595,     0.98595,     0.98595,     0.97241,     0.97241,     0.97241,     0.97241,     0.97025,     0.97025,     0.96591,     0.96591,     0.96591,      0.9638,      0.9638,\n",
      "            0.87143,     0.87143,     0.83107,     0.83107,     0.82659,     0.82659,      0.7211,     0.71122,     0.70134,     0.69147,     0.68159,     0.67171,     0.66183,     0.65195,     0.64207,      0.6322,     0.62232,     0.61244,     0.60256,     0.59268,     0.58281,     0.57293,     0.56305,\n",
      "            0.55317,     0.54329,     0.53342,     0.52354,     0.51366,     0.50378,      0.4939,     0.48403,     0.47415,     0.46427,     0.45439,     0.44451,     0.43464,     0.42476,     0.41488,       0.405,     0.39512,     0.38524,     0.37537,     0.36549,     0.35561,     0.34573,     0.33585,\n",
      "            0.32598,      0.3161,     0.30622,     0.29634,     0.28646,     0.27659,     0.26671,     0.25683,     0.24695,     0.23707,      0.2272,     0.21732,     0.20744,     0.19756,     0.18768,     0.17781,     0.16793,     0.15805,     0.14817,     0.13829,     0.12841,     0.11854,     0.10866,\n",
      "           0.098781,    0.088903,    0.079025,    0.069147,    0.059268,     0.04939,    0.039512,    0.029634,    0.019756,   0.0098781,           0]]), 'Recall', 'Precision'], [array([          0,    0.001001,    0.002002,    0.003003,    0.004004,    0.005005,    0.006006,    0.007007,    0.008008,    0.009009,     0.01001,    0.011011,    0.012012,    0.013013,    0.014014,    0.015015,    0.016016,    0.017017,    0.018018,    0.019019,     0.02002,    0.021021,    0.022022,    0.023023,\n",
      "          0.024024,    0.025025,    0.026026,    0.027027,    0.028028,    0.029029,     0.03003,    0.031031,    0.032032,    0.033033,    0.034034,    0.035035,    0.036036,    0.037037,    0.038038,    0.039039,     0.04004,    0.041041,    0.042042,    0.043043,    0.044044,    0.045045,    0.046046,    0.047047,\n",
      "          0.048048,    0.049049,     0.05005,    0.051051,    0.052052,    0.053053,    0.054054,    0.055055,    0.056056,    0.057057,    0.058058,    0.059059,     0.06006,    0.061061,    0.062062,    0.063063,    0.064064,    0.065065,    0.066066,    0.067067,    0.068068,    0.069069,     0.07007,    0.071071,\n",
      "          0.072072,    0.073073,    0.074074,    0.075075,    0.076076,    0.077077,    0.078078,    0.079079,     0.08008,    0.081081,    0.082082,    0.083083,    0.084084,    0.085085,    0.086086,    0.087087,    0.088088,    0.089089,     0.09009,    0.091091,    0.092092,    0.093093,    0.094094,    0.095095,\n",
      "          0.096096,    0.097097,    0.098098,    0.099099,      0.1001,      0.1011,      0.1021,      0.1031,      0.1041,     0.10511,     0.10611,     0.10711,     0.10811,     0.10911,     0.11011,     0.11111,     0.11211,     0.11311,     0.11411,     0.11512,     0.11612,     0.11712,     0.11812,     0.11912,\n",
      "           0.12012,     0.12112,     0.12212,     0.12312,     0.12412,     0.12513,     0.12613,     0.12713,     0.12813,     0.12913,     0.13013,     0.13113,     0.13213,     0.13313,     0.13413,     0.13514,     0.13614,     0.13714,     0.13814,     0.13914,     0.14014,     0.14114,     0.14214,     0.14314,\n",
      "           0.14414,     0.14515,     0.14615,     0.14715,     0.14815,     0.14915,     0.15015,     0.15115,     0.15215,     0.15315,     0.15415,     0.15516,     0.15616,     0.15716,     0.15816,     0.15916,     0.16016,     0.16116,     0.16216,     0.16316,     0.16416,     0.16517,     0.16617,     0.16717,\n",
      "           0.16817,     0.16917,     0.17017,     0.17117,     0.17217,     0.17317,     0.17417,     0.17518,     0.17618,     0.17718,     0.17818,     0.17918,     0.18018,     0.18118,     0.18218,     0.18318,     0.18418,     0.18519,     0.18619,     0.18719,     0.18819,     0.18919,     0.19019,     0.19119,\n",
      "           0.19219,     0.19319,     0.19419,      0.1952,      0.1962,      0.1972,      0.1982,      0.1992,      0.2002,      0.2012,      0.2022,      0.2032,      0.2042,     0.20521,     0.20621,     0.20721,     0.20821,     0.20921,     0.21021,     0.21121,     0.21221,     0.21321,     0.21421,     0.21522,\n",
      "           0.21622,     0.21722,     0.21822,     0.21922,     0.22022,     0.22122,     0.22222,     0.22322,     0.22422,     0.22523,     0.22623,     0.22723,     0.22823,     0.22923,     0.23023,     0.23123,     0.23223,     0.23323,     0.23423,     0.23524,     0.23624,     0.23724,     0.23824,     0.23924,\n",
      "           0.24024,     0.24124,     0.24224,     0.24324,     0.24424,     0.24525,     0.24625,     0.24725,     0.24825,     0.24925,     0.25025,     0.25125,     0.25225,     0.25325,     0.25425,     0.25526,     0.25626,     0.25726,     0.25826,     0.25926,     0.26026,     0.26126,     0.26226,     0.26326,\n",
      "           0.26426,     0.26527,     0.26627,     0.26727,     0.26827,     0.26927,     0.27027,     0.27127,     0.27227,     0.27327,     0.27427,     0.27528,     0.27628,     0.27728,     0.27828,     0.27928,     0.28028,     0.28128,     0.28228,     0.28328,     0.28428,     0.28529,     0.28629,     0.28729,\n",
      "           0.28829,     0.28929,     0.29029,     0.29129,     0.29229,     0.29329,     0.29429,      0.2953,      0.2963,      0.2973,      0.2983,      0.2993,      0.3003,      0.3013,      0.3023,      0.3033,      0.3043,     0.30531,     0.30631,     0.30731,     0.30831,     0.30931,     0.31031,     0.31131,\n",
      "           0.31231,     0.31331,     0.31431,     0.31532,     0.31632,     0.31732,     0.31832,     0.31932,     0.32032,     0.32132,     0.32232,     0.32332,     0.32432,     0.32533,     0.32633,     0.32733,     0.32833,     0.32933,     0.33033,     0.33133,     0.33233,     0.33333,     0.33433,     0.33534,\n",
      "           0.33634,     0.33734,     0.33834,     0.33934,     0.34034,     0.34134,     0.34234,     0.34334,     0.34434,     0.34535,     0.34635,     0.34735,     0.34835,     0.34935,     0.35035,     0.35135,     0.35235,     0.35335,     0.35435,     0.35536,     0.35636,     0.35736,     0.35836,     0.35936,\n",
      "           0.36036,     0.36136,     0.36236,     0.36336,     0.36436,     0.36537,     0.36637,     0.36737,     0.36837,     0.36937,     0.37037,     0.37137,     0.37237,     0.37337,     0.37437,     0.37538,     0.37638,     0.37738,     0.37838,     0.37938,     0.38038,     0.38138,     0.38238,     0.38338,\n",
      "           0.38438,     0.38539,     0.38639,     0.38739,     0.38839,     0.38939,     0.39039,     0.39139,     0.39239,     0.39339,     0.39439,      0.3954,      0.3964,      0.3974,      0.3984,      0.3994,      0.4004,      0.4014,      0.4024,      0.4034,      0.4044,     0.40541,     0.40641,     0.40741,\n",
      "           0.40841,     0.40941,     0.41041,     0.41141,     0.41241,     0.41341,     0.41441,     0.41542,     0.41642,     0.41742,     0.41842,     0.41942,     0.42042,     0.42142,     0.42242,     0.42342,     0.42442,     0.42543,     0.42643,     0.42743,     0.42843,     0.42943,     0.43043,     0.43143,\n",
      "           0.43243,     0.43343,     0.43443,     0.43544,     0.43644,     0.43744,     0.43844,     0.43944,     0.44044,     0.44144,     0.44244,     0.44344,     0.44444,     0.44545,     0.44645,     0.44745,     0.44845,     0.44945,     0.45045,     0.45145,     0.45245,     0.45345,     0.45445,     0.45546,\n",
      "           0.45646,     0.45746,     0.45846,     0.45946,     0.46046,     0.46146,     0.46246,     0.46346,     0.46446,     0.46547,     0.46647,     0.46747,     0.46847,     0.46947,     0.47047,     0.47147,     0.47247,     0.47347,     0.47447,     0.47548,     0.47648,     0.47748,     0.47848,     0.47948,\n",
      "           0.48048,     0.48148,     0.48248,     0.48348,     0.48448,     0.48549,     0.48649,     0.48749,     0.48849,     0.48949,     0.49049,     0.49149,     0.49249,     0.49349,     0.49449,      0.4955,      0.4965,      0.4975,      0.4985,      0.4995,      0.5005,      0.5015,      0.5025,      0.5035,\n",
      "            0.5045,     0.50551,     0.50651,     0.50751,     0.50851,     0.50951,     0.51051,     0.51151,     0.51251,     0.51351,     0.51451,     0.51552,     0.51652,     0.51752,     0.51852,     0.51952,     0.52052,     0.52152,     0.52252,     0.52352,     0.52452,     0.52553,     0.52653,     0.52753,\n",
      "           0.52853,     0.52953,     0.53053,     0.53153,     0.53253,     0.53353,     0.53453,     0.53554,     0.53654,     0.53754,     0.53854,     0.53954,     0.54054,     0.54154,     0.54254,     0.54354,     0.54454,     0.54555,     0.54655,     0.54755,     0.54855,     0.54955,     0.55055,     0.55155,\n",
      "           0.55255,     0.55355,     0.55455,     0.55556,     0.55656,     0.55756,     0.55856,     0.55956,     0.56056,     0.56156,     0.56256,     0.56356,     0.56456,     0.56557,     0.56657,     0.56757,     0.56857,     0.56957,     0.57057,     0.57157,     0.57257,     0.57357,     0.57457,     0.57558,\n",
      "           0.57658,     0.57758,     0.57858,     0.57958,     0.58058,     0.58158,     0.58258,     0.58358,     0.58458,     0.58559,     0.58659,     0.58759,     0.58859,     0.58959,     0.59059,     0.59159,     0.59259,     0.59359,     0.59459,      0.5956,      0.5966,      0.5976,      0.5986,      0.5996,\n",
      "            0.6006,      0.6016,      0.6026,      0.6036,      0.6046,     0.60561,     0.60661,     0.60761,     0.60861,     0.60961,     0.61061,     0.61161,     0.61261,     0.61361,     0.61461,     0.61562,     0.61662,     0.61762,     0.61862,     0.61962,     0.62062,     0.62162,     0.62262,     0.62362,\n",
      "           0.62462,     0.62563,     0.62663,     0.62763,     0.62863,     0.62963,     0.63063,     0.63163,     0.63263,     0.63363,     0.63463,     0.63564,     0.63664,     0.63764,     0.63864,     0.63964,     0.64064,     0.64164,     0.64264,     0.64364,     0.64464,     0.64565,     0.64665,     0.64765,\n",
      "           0.64865,     0.64965,     0.65065,     0.65165,     0.65265,     0.65365,     0.65465,     0.65566,     0.65666,     0.65766,     0.65866,     0.65966,     0.66066,     0.66166,     0.66266,     0.66366,     0.66466,     0.66567,     0.66667,     0.66767,     0.66867,     0.66967,     0.67067,     0.67167,\n",
      "           0.67267,     0.67367,     0.67467,     0.67568,     0.67668,     0.67768,     0.67868,     0.67968,     0.68068,     0.68168,     0.68268,     0.68368,     0.68468,     0.68569,     0.68669,     0.68769,     0.68869,     0.68969,     0.69069,     0.69169,     0.69269,     0.69369,     0.69469,      0.6957,\n",
      "            0.6967,      0.6977,      0.6987,      0.6997,      0.7007,      0.7017,      0.7027,      0.7037,      0.7047,     0.70571,     0.70671,     0.70771,     0.70871,     0.70971,     0.71071,     0.71171,     0.71271,     0.71371,     0.71471,     0.71572,     0.71672,     0.71772,     0.71872,     0.71972,\n",
      "           0.72072,     0.72172,     0.72272,     0.72372,     0.72472,     0.72573,     0.72673,     0.72773,     0.72873,     0.72973,     0.73073,     0.73173,     0.73273,     0.73373,     0.73473,     0.73574,     0.73674,     0.73774,     0.73874,     0.73974,     0.74074,     0.74174,     0.74274,     0.74374,\n",
      "           0.74474,     0.74575,     0.74675,     0.74775,     0.74875,     0.74975,     0.75075,     0.75175,     0.75275,     0.75375,     0.75475,     0.75576,     0.75676,     0.75776,     0.75876,     0.75976,     0.76076,     0.76176,     0.76276,     0.76376,     0.76476,     0.76577,     0.76677,     0.76777,\n",
      "           0.76877,     0.76977,     0.77077,     0.77177,     0.77277,     0.77377,     0.77477,     0.77578,     0.77678,     0.77778,     0.77878,     0.77978,     0.78078,     0.78178,     0.78278,     0.78378,     0.78478,     0.78579,     0.78679,     0.78779,     0.78879,     0.78979,     0.79079,     0.79179,\n",
      "           0.79279,     0.79379,     0.79479,      0.7958,      0.7968,      0.7978,      0.7988,      0.7998,      0.8008,      0.8018,      0.8028,      0.8038,      0.8048,     0.80581,     0.80681,     0.80781,     0.80881,     0.80981,     0.81081,     0.81181,     0.81281,     0.81381,     0.81481,     0.81582,\n",
      "           0.81682,     0.81782,     0.81882,     0.81982,     0.82082,     0.82182,     0.82282,     0.82382,     0.82482,     0.82583,     0.82683,     0.82783,     0.82883,     0.82983,     0.83083,     0.83183,     0.83283,     0.83383,     0.83483,     0.83584,     0.83684,     0.83784,     0.83884,     0.83984,\n",
      "           0.84084,     0.84184,     0.84284,     0.84384,     0.84484,     0.84585,     0.84685,     0.84785,     0.84885,     0.84985,     0.85085,     0.85185,     0.85285,     0.85385,     0.85485,     0.85586,     0.85686,     0.85786,     0.85886,     0.85986,     0.86086,     0.86186,     0.86286,     0.86386,\n",
      "           0.86486,     0.86587,     0.86687,     0.86787,     0.86887,     0.86987,     0.87087,     0.87187,     0.87287,     0.87387,     0.87487,     0.87588,     0.87688,     0.87788,     0.87888,     0.87988,     0.88088,     0.88188,     0.88288,     0.88388,     0.88488,     0.88589,     0.88689,     0.88789,\n",
      "           0.88889,     0.88989,     0.89089,     0.89189,     0.89289,     0.89389,     0.89489,      0.8959,      0.8969,      0.8979,      0.8989,      0.8999,      0.9009,      0.9019,      0.9029,      0.9039,      0.9049,     0.90591,     0.90691,     0.90791,     0.90891,     0.90991,     0.91091,     0.91191,\n",
      "           0.91291,     0.91391,     0.91491,     0.91592,     0.91692,     0.91792,     0.91892,     0.91992,     0.92092,     0.92192,     0.92292,     0.92392,     0.92492,     0.92593,     0.92693,     0.92793,     0.92893,     0.92993,     0.93093,     0.93193,     0.93293,     0.93393,     0.93493,     0.93594,\n",
      "           0.93694,     0.93794,     0.93894,     0.93994,     0.94094,     0.94194,     0.94294,     0.94394,     0.94494,     0.94595,     0.94695,     0.94795,     0.94895,     0.94995,     0.95095,     0.95195,     0.95295,     0.95395,     0.95495,     0.95596,     0.95696,     0.95796,     0.95896,     0.95996,\n",
      "           0.96096,     0.96196,     0.96296,     0.96396,     0.96496,     0.96597,     0.96697,     0.96797,     0.96897,     0.96997,     0.97097,     0.97197,     0.97297,     0.97397,     0.97497,     0.97598,     0.97698,     0.97798,     0.97898,     0.97998,     0.98098,     0.98198,     0.98298,     0.98398,\n",
      "           0.98498,     0.98599,     0.98699,     0.98799,     0.98899,     0.98999,     0.99099,     0.99199,     0.99299,     0.99399,     0.99499,       0.996,       0.997,       0.998,       0.999,           1]), array([[    0.81327,     0.81327,     0.86795,     0.88469,     0.89522,     0.90149,     0.90973,     0.91846,     0.92008,     0.92122,     0.92345,     0.92461,     0.92573,     0.92715,     0.92995,     0.93064,     0.93122,     0.93208,     0.93389,     0.93497,     0.93541,     0.93563,     0.93584,\n",
      "            0.93606,     0.93736,     0.93843,     0.93867,      0.9389,     0.93914,     0.93938,     0.93992,      0.9413,     0.94035,     0.94054,     0.94074,     0.94093,     0.94112,     0.94128,     0.94079,      0.9403,     0.94056,      0.9412,     0.94156,     0.94191,     0.94219,      0.9419,\n",
      "            0.94161,     0.94132,     0.94107,     0.94165,     0.94205,     0.94185,     0.94166,     0.94147,     0.94128,     0.94108,     0.94089,     0.94067,     0.94046,     0.94025,     0.94004,     0.93982,     0.94083,     0.94099,     0.94115,     0.94131,     0.94147,     0.94163,     0.94178,\n",
      "            0.94207,     0.94241,     0.94276,       0.943,     0.94318,     0.94335,     0.94353,     0.94371,     0.94388,     0.94397,       0.944,     0.94404,     0.94407,      0.9441,     0.94414,     0.94417,      0.9442,     0.94424,     0.94427,      0.9443,     0.94434,     0.94437,     0.94441,\n",
      "            0.94444,     0.94447,     0.94451,     0.94454,     0.94457,     0.94461,     0.94464,     0.94467,     0.94471,     0.94474,     0.94477,     0.94481,     0.94484,     0.94488,     0.94491,     0.94494,     0.94498,     0.94501,     0.94503,     0.94506,     0.94508,     0.94511,     0.94513,\n",
      "            0.94516,     0.94518,     0.94521,     0.94523,     0.94526,     0.94528,     0.94531,     0.94533,     0.94536,     0.94538,     0.94541,     0.94543,     0.94546,     0.94548,     0.94551,     0.94553,     0.94556,     0.94558,     0.94561,     0.94563,     0.94566,     0.94568,     0.94571,\n",
      "            0.94573,     0.94576,     0.94578,     0.94581,     0.94583,     0.94585,     0.94588,      0.9459,     0.94593,     0.94595,     0.94598,       0.946,     0.94603,     0.94605,     0.94605,     0.94601,     0.94597,     0.94593,     0.94589,     0.94585,      0.9458,     0.94576,     0.94572,\n",
      "            0.94568,     0.94564,      0.9456,     0.94556,     0.94552,     0.94548,     0.94544,      0.9454,     0.94536,     0.94532,     0.94528,     0.94523,     0.94519,     0.94515,     0.94511,     0.94507,     0.94503,     0.94499,     0.94495,     0.94491,     0.94487,     0.94485,     0.94482,\n",
      "             0.9448,     0.94477,     0.94475,     0.94472,      0.9447,     0.94467,     0.94465,     0.94462,      0.9446,     0.94457,     0.94455,     0.94452,     0.94449,     0.94447,     0.94444,     0.94442,     0.94439,     0.94437,     0.94434,     0.94432,     0.94429,     0.94427,     0.94424,\n",
      "            0.94422,     0.94419,     0.94417,     0.94414,     0.94412,     0.94409,     0.94406,     0.94404,     0.94401,     0.94399,     0.94396,     0.94394,     0.94391,     0.94389,     0.94386,     0.94384,     0.94381,     0.94379,     0.94376,     0.94374,     0.94371,     0.94366,     0.94356,\n",
      "            0.94346,     0.94336,     0.94326,     0.94316,     0.94307,     0.94297,     0.94287,     0.94277,     0.94267,     0.94257,     0.94246,     0.94235,     0.94224,     0.94213,     0.94202,      0.9419,     0.94179,     0.94168,     0.94157,     0.94146,     0.94134,     0.94141,     0.94156,\n",
      "            0.94171,     0.94186,     0.94201,     0.94216,     0.94231,     0.94238,     0.94239,      0.9424,     0.94241,     0.94242,     0.94243,     0.94244,     0.94245,     0.94246,     0.94247,     0.94248,     0.94249,      0.9425,     0.94252,     0.94253,     0.94254,     0.94255,     0.94256,\n",
      "            0.94257,     0.94258,     0.94259,      0.9426,     0.94261,     0.94262,     0.94263,     0.94264,     0.94265,     0.94266,     0.94267,     0.94268,     0.94269,      0.9427,     0.94271,     0.94272,     0.94273,     0.94274,     0.94276,     0.94277,     0.94278,     0.94279,      0.9428,\n",
      "            0.94281,     0.94282,     0.94283,     0.94284,     0.94285,     0.94286,     0.94287,     0.94288,     0.94289,      0.9429,     0.94291,     0.94292,     0.94293,     0.94294,     0.94295,     0.94296,     0.94297,     0.94298,       0.943,     0.94301,     0.94302,     0.94303,     0.94304,\n",
      "            0.94305,     0.94306,     0.94307,     0.94308,     0.94309,      0.9431,     0.94311,     0.94312,     0.94313,     0.94314,     0.94315,     0.94316,     0.94317,     0.94318,     0.94319,      0.9432,     0.94321,     0.94322,     0.94324,     0.94325,     0.94326,     0.94327,     0.94328,\n",
      "            0.94329,      0.9433,     0.94331,     0.94332,     0.94333,     0.94334,     0.94335,     0.94336,     0.94337,     0.94338,     0.94339,      0.9434,     0.94341,     0.94342,     0.94343,     0.94343,      0.9434,     0.94337,     0.94334,     0.94331,     0.94328,     0.94325,     0.94322,\n",
      "             0.9432,     0.94317,     0.94314,     0.94311,     0.94308,     0.94305,     0.94302,     0.94299,     0.94297,     0.94294,     0.94291,     0.94288,     0.94285,     0.94282,     0.94279,     0.94276,     0.94274,     0.94271,     0.94268,     0.94265,     0.94262,     0.94259,     0.94256,\n",
      "            0.94253,     0.94251,     0.94248,     0.94245,     0.94242,     0.94239,     0.94236,     0.94233,      0.9423,     0.94228,     0.94225,     0.94192,     0.94155,     0.94118,     0.94101,     0.94095,     0.94089,     0.94083,     0.94078,     0.94072,     0.94066,      0.9406,     0.94054,\n",
      "            0.94049,     0.94043,     0.94037,     0.94031,     0.94025,      0.9402,     0.94014,     0.94008,     0.94002,     0.93996,     0.93991,     0.93985,     0.93956,     0.93925,     0.93893,     0.93863,      0.9385,     0.93836,     0.93823,      0.9381,     0.93797,     0.93783,      0.9377,\n",
      "            0.93757,     0.93744,     0.93741,     0.93738,     0.93736,     0.93734,     0.93731,     0.93729,     0.93727,     0.93725,     0.93722,      0.9372,     0.93718,     0.93715,     0.93713,     0.93711,     0.93708,     0.93706,     0.93704,     0.93701,     0.93699,     0.93697,     0.93695,\n",
      "            0.93692,      0.9369,     0.93688,     0.93685,     0.93683,     0.93681,     0.93678,     0.93676,     0.93674,     0.93671,     0.93669,     0.93667,     0.93665,     0.93662,      0.9366,     0.93658,     0.93655,     0.93653,     0.93651,     0.93648,     0.93646,     0.93644,     0.93641,\n",
      "            0.93639,     0.93637,     0.93634,     0.93632,      0.9363,     0.93628,     0.93625,     0.93623,     0.93614,     0.93598,     0.93583,     0.93568,     0.93553,     0.93538,     0.93523,     0.93508,     0.93504,      0.9351,     0.93515,     0.93521,     0.93527,     0.93533,     0.93539,\n",
      "            0.93545,      0.9355,     0.93556,     0.93562,     0.93568,     0.93574,     0.93579,     0.93585,     0.93591,     0.93597,     0.93603,     0.93603,     0.93586,     0.93568,     0.93551,     0.93533,     0.93516,     0.93498,      0.9349,     0.93506,     0.93522,     0.93537,     0.93553,\n",
      "            0.93568,     0.93584,     0.93596,     0.93603,      0.9361,     0.93617,     0.93624,     0.93631,     0.93639,     0.93646,     0.93653,      0.9366,     0.93667,     0.93674,     0.93681,     0.93688,     0.93696,     0.93695,     0.93683,     0.93671,     0.93659,     0.93647,     0.93635,\n",
      "            0.93623,     0.93611,     0.93599,     0.93587,     0.93578,     0.93581,     0.93583,     0.93585,     0.93587,     0.93589,     0.93592,     0.93594,     0.93596,     0.93598,       0.936,     0.93603,     0.93605,     0.93607,     0.93609,     0.93611,     0.93614,     0.93616,     0.93618,\n",
      "             0.9362,     0.93622,     0.93625,     0.93627,     0.93629,     0.93631,     0.93633,     0.93636,     0.93638,      0.9364,     0.93642,     0.93644,     0.93647,     0.93649,     0.93651,     0.93653,     0.93655,     0.93658,      0.9366,     0.93662,     0.93664,     0.93666,     0.93669,\n",
      "            0.93671,     0.93673,     0.93675,     0.93677,      0.9368,     0.93682,     0.93684,     0.93685,     0.93683,      0.9368,     0.93678,     0.93676,     0.93674,     0.93672,      0.9367,     0.93668,     0.93665,     0.93663,     0.93661,     0.93659,     0.93657,     0.93655,     0.93652,\n",
      "             0.9365,     0.93648,     0.93646,     0.93644,     0.93642,      0.9364,     0.93637,     0.93635,     0.93633,     0.93631,     0.93629,     0.93627,     0.93624,     0.93622,      0.9362,     0.93618,     0.93616,     0.93614,     0.93612,     0.93609,     0.93607,     0.93605,     0.93603,\n",
      "            0.93601,     0.93599,     0.93596,     0.93594,     0.93592,      0.9359,     0.93588,     0.93586,     0.93584,     0.93581,     0.93579,     0.93577,     0.93575,     0.93573,     0.93571,     0.93568,     0.93566,     0.93564,      0.9354,     0.93499,     0.93458,     0.93434,     0.93423,\n",
      "            0.93413,     0.93402,     0.93391,      0.9338,     0.93369,     0.93358,     0.93347,     0.93336,     0.93325,     0.93316,     0.93311,     0.93305,     0.93299,     0.93294,     0.93288,     0.93283,     0.93277,     0.93271,     0.93266,      0.9326,     0.93255,     0.93249,     0.93243,\n",
      "            0.93238,     0.93232,     0.93227,     0.93221,     0.93215,      0.9321,     0.93204,     0.93199,     0.93187,     0.93165,     0.93143,      0.9312,     0.93098,     0.93076,      0.9304,        0.93,     0.92961,     0.92947,     0.92945,     0.92942,      0.9294,     0.92938,     0.92936,\n",
      "            0.92934,     0.92932,      0.9293,     0.92928,     0.92926,     0.92924,     0.92922,      0.9292,     0.92918,     0.92916,     0.92914,     0.92912,      0.9291,     0.92907,     0.92905,     0.92903,     0.92901,     0.92899,     0.92897,     0.92895,     0.92893,     0.92891,     0.92889,\n",
      "            0.92887,     0.92885,     0.92883,     0.92881,     0.92879,     0.92877,     0.92875,     0.92872,      0.9287,     0.92868,     0.92866,     0.92864,     0.92862,      0.9286,     0.92858,     0.92856,     0.92854,     0.92852,      0.9285,     0.92848,     0.92846,     0.92844,     0.92842,\n",
      "            0.92839,     0.92837,     0.92835,     0.92833,     0.92831,     0.92829,     0.92827,     0.92825,     0.92795,     0.92742,     0.92698,      0.9269,     0.92682,     0.92674,     0.92666,     0.92658,      0.9265,     0.92642,     0.92634,     0.92626,     0.92618,      0.9261,     0.92602,\n",
      "            0.92594,     0.92586,     0.92578,     0.92571,     0.92564,     0.92557,      0.9255,     0.92543,     0.92536,     0.92529,     0.92522,     0.92515,     0.92508,     0.92502,     0.92495,     0.92488,     0.92481,     0.92474,     0.92467,      0.9246,     0.92453,     0.92392,     0.92322,\n",
      "             0.9231,     0.92298,     0.92286,     0.92274,     0.92263,     0.92251,     0.92239,     0.92227,     0.92215,     0.92203,     0.92183,     0.92161,     0.92139,     0.92117,     0.92096,     0.92074,     0.92058,     0.92041,     0.92025,     0.92009,     0.91992,     0.91976,      0.9196,\n",
      "            0.91937,       0.919,     0.91864,     0.91827,     0.91798,     0.91769,     0.91741,     0.91712,     0.91691,      0.9168,     0.91669,     0.91659,     0.91648,     0.91637,     0.91626,     0.91615,     0.91604,     0.91593,     0.91582,     0.91571,     0.91552,     0.91532,     0.91512,\n",
      "            0.91492,     0.91472,     0.91451,     0.91412,     0.91357,     0.91257,      0.9111,     0.91043,     0.91011,      0.9098,     0.90948,     0.90913,     0.90874,     0.90834,     0.90792,      0.9074,     0.90688,     0.90647,     0.90612,     0.90576,     0.90507,     0.90353,     0.90282,\n",
      "            0.90266,     0.90251,     0.90235,      0.9022,     0.90204,     0.90189,     0.90174,     0.90158,     0.90042,     0.89892,     0.89831,      0.8977,     0.89683,     0.89585,     0.89475,     0.89369,     0.89213,     0.89093,     0.89052,     0.89012,     0.88971,     0.88889,     0.88808,\n",
      "            0.88731,     0.88343,     0.88156,     0.87993,     0.87825,     0.87239,     0.87133,     0.87013,     0.86831,     0.86598,     0.86371,     0.86293,     0.86064,     0.85907,     0.85654,     0.85522,     0.85243,     0.84777,     0.84544,     0.84145,     0.83853,     0.83744,     0.83534,\n",
      "            0.83051,     0.82358,     0.80871,     0.79874,     0.78415,     0.76637,      0.7511,     0.72849,     0.72161,     0.69624,     0.66852,     0.64582,     0.62244,     0.59782,     0.55392,     0.51909,     0.49595,     0.45108,     0.40567,     0.35358,     0.31769,     0.27287,     0.22787,\n",
      "            0.19547,     0.16344,     0.12876,    0.094143,    0.060858,    0.043232,    0.031879,    0.020137,    0.014322,    0.010544,           0,           0,           0,           0,           0,           0,           0,           0,           0,           0,           0,           0,           0,\n",
      "                  0,           0,           0,           0,           0,           0,           0,           0,           0,           0,           0,           0,           0,           0,           0,           0,           0,           0,           0,           0,           0,           0,           0,\n",
      "                  0,           0,           0,           0,           0,           0,           0,           0,           0,           0,           0]]), 'Confidence', 'F1'], [array([          0,    0.001001,    0.002002,    0.003003,    0.004004,    0.005005,    0.006006,    0.007007,    0.008008,    0.009009,     0.01001,    0.011011,    0.012012,    0.013013,    0.014014,    0.015015,    0.016016,    0.017017,    0.018018,    0.019019,     0.02002,    0.021021,    0.022022,    0.023023,\n",
      "          0.024024,    0.025025,    0.026026,    0.027027,    0.028028,    0.029029,     0.03003,    0.031031,    0.032032,    0.033033,    0.034034,    0.035035,    0.036036,    0.037037,    0.038038,    0.039039,     0.04004,    0.041041,    0.042042,    0.043043,    0.044044,    0.045045,    0.046046,    0.047047,\n",
      "          0.048048,    0.049049,     0.05005,    0.051051,    0.052052,    0.053053,    0.054054,    0.055055,    0.056056,    0.057057,    0.058058,    0.059059,     0.06006,    0.061061,    0.062062,    0.063063,    0.064064,    0.065065,    0.066066,    0.067067,    0.068068,    0.069069,     0.07007,    0.071071,\n",
      "          0.072072,    0.073073,    0.074074,    0.075075,    0.076076,    0.077077,    0.078078,    0.079079,     0.08008,    0.081081,    0.082082,    0.083083,    0.084084,    0.085085,    0.086086,    0.087087,    0.088088,    0.089089,     0.09009,    0.091091,    0.092092,    0.093093,    0.094094,    0.095095,\n",
      "          0.096096,    0.097097,    0.098098,    0.099099,      0.1001,      0.1011,      0.1021,      0.1031,      0.1041,     0.10511,     0.10611,     0.10711,     0.10811,     0.10911,     0.11011,     0.11111,     0.11211,     0.11311,     0.11411,     0.11512,     0.11612,     0.11712,     0.11812,     0.11912,\n",
      "           0.12012,     0.12112,     0.12212,     0.12312,     0.12412,     0.12513,     0.12613,     0.12713,     0.12813,     0.12913,     0.13013,     0.13113,     0.13213,     0.13313,     0.13413,     0.13514,     0.13614,     0.13714,     0.13814,     0.13914,     0.14014,     0.14114,     0.14214,     0.14314,\n",
      "           0.14414,     0.14515,     0.14615,     0.14715,     0.14815,     0.14915,     0.15015,     0.15115,     0.15215,     0.15315,     0.15415,     0.15516,     0.15616,     0.15716,     0.15816,     0.15916,     0.16016,     0.16116,     0.16216,     0.16316,     0.16416,     0.16517,     0.16617,     0.16717,\n",
      "           0.16817,     0.16917,     0.17017,     0.17117,     0.17217,     0.17317,     0.17417,     0.17518,     0.17618,     0.17718,     0.17818,     0.17918,     0.18018,     0.18118,     0.18218,     0.18318,     0.18418,     0.18519,     0.18619,     0.18719,     0.18819,     0.18919,     0.19019,     0.19119,\n",
      "           0.19219,     0.19319,     0.19419,      0.1952,      0.1962,      0.1972,      0.1982,      0.1992,      0.2002,      0.2012,      0.2022,      0.2032,      0.2042,     0.20521,     0.20621,     0.20721,     0.20821,     0.20921,     0.21021,     0.21121,     0.21221,     0.21321,     0.21421,     0.21522,\n",
      "           0.21622,     0.21722,     0.21822,     0.21922,     0.22022,     0.22122,     0.22222,     0.22322,     0.22422,     0.22523,     0.22623,     0.22723,     0.22823,     0.22923,     0.23023,     0.23123,     0.23223,     0.23323,     0.23423,     0.23524,     0.23624,     0.23724,     0.23824,     0.23924,\n",
      "           0.24024,     0.24124,     0.24224,     0.24324,     0.24424,     0.24525,     0.24625,     0.24725,     0.24825,     0.24925,     0.25025,     0.25125,     0.25225,     0.25325,     0.25425,     0.25526,     0.25626,     0.25726,     0.25826,     0.25926,     0.26026,     0.26126,     0.26226,     0.26326,\n",
      "           0.26426,     0.26527,     0.26627,     0.26727,     0.26827,     0.26927,     0.27027,     0.27127,     0.27227,     0.27327,     0.27427,     0.27528,     0.27628,     0.27728,     0.27828,     0.27928,     0.28028,     0.28128,     0.28228,     0.28328,     0.28428,     0.28529,     0.28629,     0.28729,\n",
      "           0.28829,     0.28929,     0.29029,     0.29129,     0.29229,     0.29329,     0.29429,      0.2953,      0.2963,      0.2973,      0.2983,      0.2993,      0.3003,      0.3013,      0.3023,      0.3033,      0.3043,     0.30531,     0.30631,     0.30731,     0.30831,     0.30931,     0.31031,     0.31131,\n",
      "           0.31231,     0.31331,     0.31431,     0.31532,     0.31632,     0.31732,     0.31832,     0.31932,     0.32032,     0.32132,     0.32232,     0.32332,     0.32432,     0.32533,     0.32633,     0.32733,     0.32833,     0.32933,     0.33033,     0.33133,     0.33233,     0.33333,     0.33433,     0.33534,\n",
      "           0.33634,     0.33734,     0.33834,     0.33934,     0.34034,     0.34134,     0.34234,     0.34334,     0.34434,     0.34535,     0.34635,     0.34735,     0.34835,     0.34935,     0.35035,     0.35135,     0.35235,     0.35335,     0.35435,     0.35536,     0.35636,     0.35736,     0.35836,     0.35936,\n",
      "           0.36036,     0.36136,     0.36236,     0.36336,     0.36436,     0.36537,     0.36637,     0.36737,     0.36837,     0.36937,     0.37037,     0.37137,     0.37237,     0.37337,     0.37437,     0.37538,     0.37638,     0.37738,     0.37838,     0.37938,     0.38038,     0.38138,     0.38238,     0.38338,\n",
      "           0.38438,     0.38539,     0.38639,     0.38739,     0.38839,     0.38939,     0.39039,     0.39139,     0.39239,     0.39339,     0.39439,      0.3954,      0.3964,      0.3974,      0.3984,      0.3994,      0.4004,      0.4014,      0.4024,      0.4034,      0.4044,     0.40541,     0.40641,     0.40741,\n",
      "           0.40841,     0.40941,     0.41041,     0.41141,     0.41241,     0.41341,     0.41441,     0.41542,     0.41642,     0.41742,     0.41842,     0.41942,     0.42042,     0.42142,     0.42242,     0.42342,     0.42442,     0.42543,     0.42643,     0.42743,     0.42843,     0.42943,     0.43043,     0.43143,\n",
      "           0.43243,     0.43343,     0.43443,     0.43544,     0.43644,     0.43744,     0.43844,     0.43944,     0.44044,     0.44144,     0.44244,     0.44344,     0.44444,     0.44545,     0.44645,     0.44745,     0.44845,     0.44945,     0.45045,     0.45145,     0.45245,     0.45345,     0.45445,     0.45546,\n",
      "           0.45646,     0.45746,     0.45846,     0.45946,     0.46046,     0.46146,     0.46246,     0.46346,     0.46446,     0.46547,     0.46647,     0.46747,     0.46847,     0.46947,     0.47047,     0.47147,     0.47247,     0.47347,     0.47447,     0.47548,     0.47648,     0.47748,     0.47848,     0.47948,\n",
      "           0.48048,     0.48148,     0.48248,     0.48348,     0.48448,     0.48549,     0.48649,     0.48749,     0.48849,     0.48949,     0.49049,     0.49149,     0.49249,     0.49349,     0.49449,      0.4955,      0.4965,      0.4975,      0.4985,      0.4995,      0.5005,      0.5015,      0.5025,      0.5035,\n",
      "            0.5045,     0.50551,     0.50651,     0.50751,     0.50851,     0.50951,     0.51051,     0.51151,     0.51251,     0.51351,     0.51451,     0.51552,     0.51652,     0.51752,     0.51852,     0.51952,     0.52052,     0.52152,     0.52252,     0.52352,     0.52452,     0.52553,     0.52653,     0.52753,\n",
      "           0.52853,     0.52953,     0.53053,     0.53153,     0.53253,     0.53353,     0.53453,     0.53554,     0.53654,     0.53754,     0.53854,     0.53954,     0.54054,     0.54154,     0.54254,     0.54354,     0.54454,     0.54555,     0.54655,     0.54755,     0.54855,     0.54955,     0.55055,     0.55155,\n",
      "           0.55255,     0.55355,     0.55455,     0.55556,     0.55656,     0.55756,     0.55856,     0.55956,     0.56056,     0.56156,     0.56256,     0.56356,     0.56456,     0.56557,     0.56657,     0.56757,     0.56857,     0.56957,     0.57057,     0.57157,     0.57257,     0.57357,     0.57457,     0.57558,\n",
      "           0.57658,     0.57758,     0.57858,     0.57958,     0.58058,     0.58158,     0.58258,     0.58358,     0.58458,     0.58559,     0.58659,     0.58759,     0.58859,     0.58959,     0.59059,     0.59159,     0.59259,     0.59359,     0.59459,      0.5956,      0.5966,      0.5976,      0.5986,      0.5996,\n",
      "            0.6006,      0.6016,      0.6026,      0.6036,      0.6046,     0.60561,     0.60661,     0.60761,     0.60861,     0.60961,     0.61061,     0.61161,     0.61261,     0.61361,     0.61461,     0.61562,     0.61662,     0.61762,     0.61862,     0.61962,     0.62062,     0.62162,     0.62262,     0.62362,\n",
      "           0.62462,     0.62563,     0.62663,     0.62763,     0.62863,     0.62963,     0.63063,     0.63163,     0.63263,     0.63363,     0.63463,     0.63564,     0.63664,     0.63764,     0.63864,     0.63964,     0.64064,     0.64164,     0.64264,     0.64364,     0.64464,     0.64565,     0.64665,     0.64765,\n",
      "           0.64865,     0.64965,     0.65065,     0.65165,     0.65265,     0.65365,     0.65465,     0.65566,     0.65666,     0.65766,     0.65866,     0.65966,     0.66066,     0.66166,     0.66266,     0.66366,     0.66466,     0.66567,     0.66667,     0.66767,     0.66867,     0.66967,     0.67067,     0.67167,\n",
      "           0.67267,     0.67367,     0.67467,     0.67568,     0.67668,     0.67768,     0.67868,     0.67968,     0.68068,     0.68168,     0.68268,     0.68368,     0.68468,     0.68569,     0.68669,     0.68769,     0.68869,     0.68969,     0.69069,     0.69169,     0.69269,     0.69369,     0.69469,      0.6957,\n",
      "            0.6967,      0.6977,      0.6987,      0.6997,      0.7007,      0.7017,      0.7027,      0.7037,      0.7047,     0.70571,     0.70671,     0.70771,     0.70871,     0.70971,     0.71071,     0.71171,     0.71271,     0.71371,     0.71471,     0.71572,     0.71672,     0.71772,     0.71872,     0.71972,\n",
      "           0.72072,     0.72172,     0.72272,     0.72372,     0.72472,     0.72573,     0.72673,     0.72773,     0.72873,     0.72973,     0.73073,     0.73173,     0.73273,     0.73373,     0.73473,     0.73574,     0.73674,     0.73774,     0.73874,     0.73974,     0.74074,     0.74174,     0.74274,     0.74374,\n",
      "           0.74474,     0.74575,     0.74675,     0.74775,     0.74875,     0.74975,     0.75075,     0.75175,     0.75275,     0.75375,     0.75475,     0.75576,     0.75676,     0.75776,     0.75876,     0.75976,     0.76076,     0.76176,     0.76276,     0.76376,     0.76476,     0.76577,     0.76677,     0.76777,\n",
      "           0.76877,     0.76977,     0.77077,     0.77177,     0.77277,     0.77377,     0.77477,     0.77578,     0.77678,     0.77778,     0.77878,     0.77978,     0.78078,     0.78178,     0.78278,     0.78378,     0.78478,     0.78579,     0.78679,     0.78779,     0.78879,     0.78979,     0.79079,     0.79179,\n",
      "           0.79279,     0.79379,     0.79479,      0.7958,      0.7968,      0.7978,      0.7988,      0.7998,      0.8008,      0.8018,      0.8028,      0.8038,      0.8048,     0.80581,     0.80681,     0.80781,     0.80881,     0.80981,     0.81081,     0.81181,     0.81281,     0.81381,     0.81481,     0.81582,\n",
      "           0.81682,     0.81782,     0.81882,     0.81982,     0.82082,     0.82182,     0.82282,     0.82382,     0.82482,     0.82583,     0.82683,     0.82783,     0.82883,     0.82983,     0.83083,     0.83183,     0.83283,     0.83383,     0.83483,     0.83584,     0.83684,     0.83784,     0.83884,     0.83984,\n",
      "           0.84084,     0.84184,     0.84284,     0.84384,     0.84484,     0.84585,     0.84685,     0.84785,     0.84885,     0.84985,     0.85085,     0.85185,     0.85285,     0.85385,     0.85485,     0.85586,     0.85686,     0.85786,     0.85886,     0.85986,     0.86086,     0.86186,     0.86286,     0.86386,\n",
      "           0.86486,     0.86587,     0.86687,     0.86787,     0.86887,     0.86987,     0.87087,     0.87187,     0.87287,     0.87387,     0.87487,     0.87588,     0.87688,     0.87788,     0.87888,     0.87988,     0.88088,     0.88188,     0.88288,     0.88388,     0.88488,     0.88589,     0.88689,     0.88789,\n",
      "           0.88889,     0.88989,     0.89089,     0.89189,     0.89289,     0.89389,     0.89489,      0.8959,      0.8969,      0.8979,      0.8989,      0.8999,      0.9009,      0.9019,      0.9029,      0.9039,      0.9049,     0.90591,     0.90691,     0.90791,     0.90891,     0.90991,     0.91091,     0.91191,\n",
      "           0.91291,     0.91391,     0.91491,     0.91592,     0.91692,     0.91792,     0.91892,     0.91992,     0.92092,     0.92192,     0.92292,     0.92392,     0.92492,     0.92593,     0.92693,     0.92793,     0.92893,     0.92993,     0.93093,     0.93193,     0.93293,     0.93393,     0.93493,     0.93594,\n",
      "           0.93694,     0.93794,     0.93894,     0.93994,     0.94094,     0.94194,     0.94294,     0.94394,     0.94494,     0.94595,     0.94695,     0.94795,     0.94895,     0.94995,     0.95095,     0.95195,     0.95295,     0.95395,     0.95495,     0.95596,     0.95696,     0.95796,     0.95896,     0.95996,\n",
      "           0.96096,     0.96196,     0.96296,     0.96396,     0.96496,     0.96597,     0.96697,     0.96797,     0.96897,     0.96997,     0.97097,     0.97197,     0.97297,     0.97397,     0.97497,     0.97598,     0.97698,     0.97798,     0.97898,     0.97998,     0.98098,     0.98198,     0.98298,     0.98398,\n",
      "           0.98498,     0.98599,     0.98699,     0.98799,     0.98899,     0.98999,     0.99099,     0.99199,     0.99299,     0.99399,     0.99499,       0.996,       0.997,       0.998,       0.999,           1]), array([[    0.72466,     0.72466,     0.81631,     0.85006,     0.87165,     0.88362,      0.8996,     0.91684,     0.92007,     0.92235,     0.92683,     0.92917,     0.93144,     0.93433,     0.94003,     0.94144,     0.94264,     0.94439,     0.94812,     0.95035,     0.95125,      0.9517,     0.95215,\n",
      "             0.9526,     0.95528,     0.95752,     0.95801,      0.9585,     0.95899,     0.95951,     0.96063,     0.96379,     0.96389,      0.9643,     0.96471,     0.96511,     0.96552,     0.96591,     0.96588,     0.96584,     0.96674,     0.96809,     0.96884,     0.96959,     0.97025,     0.97023,\n",
      "            0.97022,      0.9702,     0.97025,     0.97148,     0.97241,      0.9724,     0.97239,     0.97238,     0.97237,     0.97236,     0.97235,     0.97234,     0.97233,     0.97231,      0.9723,     0.97229,     0.97465,     0.97499,     0.97533,     0.97567,     0.97601,     0.97635,     0.97669,\n",
      "             0.9773,     0.97804,     0.97878,      0.9793,     0.97969,     0.98007,     0.98045,     0.98083,     0.98122,      0.9814,     0.98147,     0.98154,     0.98162,     0.98169,     0.98176,     0.98184,     0.98191,     0.98198,     0.98205,     0.98213,      0.9822,     0.98227,     0.98234,\n",
      "            0.98242,     0.98249,     0.98256,     0.98264,     0.98271,     0.98278,     0.98285,     0.98293,       0.983,     0.98307,     0.98314,     0.98322,     0.98329,     0.98336,     0.98344,     0.98351,     0.98358,     0.98365,     0.98371,     0.98376,     0.98381,     0.98387,     0.98392,\n",
      "            0.98398,     0.98403,     0.98408,     0.98414,     0.98419,     0.98425,      0.9843,     0.98435,     0.98441,     0.98446,     0.98452,     0.98457,     0.98462,     0.98468,     0.98473,     0.98479,     0.98484,     0.98489,     0.98495,       0.985,     0.98506,     0.98511,     0.98516,\n",
      "            0.98522,     0.98527,     0.98533,     0.98538,     0.98543,     0.98549,     0.98554,      0.9856,     0.98565,      0.9857,     0.98576,     0.98581,     0.98586,     0.98592,     0.98595,     0.98595,     0.98595,     0.98594,     0.98594,     0.98594,     0.98594,     0.98594,     0.98594,\n",
      "            0.98594,     0.98594,     0.98594,     0.98593,     0.98593,     0.98593,     0.98593,     0.98593,     0.98593,     0.98593,     0.98593,     0.98593,     0.98592,     0.98592,     0.98592,     0.98592,     0.98592,     0.98592,     0.98592,     0.98592,     0.98592,     0.98591,     0.98591,\n",
      "            0.98591,     0.98591,     0.98591,     0.98591,     0.98591,     0.98591,     0.98591,     0.98591,     0.98591,     0.98591,     0.98591,     0.98591,      0.9859,      0.9859,      0.9859,      0.9859,      0.9859,      0.9859,      0.9859,      0.9859,      0.9859,      0.9859,      0.9859,\n",
      "             0.9859,      0.9859,      0.9859,     0.98589,     0.98589,     0.98589,     0.98589,     0.98589,     0.98589,     0.98589,     0.98589,     0.98589,     0.98589,     0.98589,     0.98589,     0.98589,     0.98589,     0.98588,     0.98588,     0.98588,     0.98588,     0.98588,     0.98588,\n",
      "            0.98588,     0.98587,     0.98587,     0.98587,     0.98586,     0.98586,     0.98586,     0.98586,     0.98585,     0.98585,     0.98585,     0.98584,     0.98584,     0.98584,     0.98584,     0.98583,     0.98583,     0.98583,     0.98582,     0.98582,     0.98582,     0.98604,     0.98637,\n",
      "             0.9867,     0.98703,     0.98736,     0.98769,     0.98802,     0.98817,     0.98819,     0.98821,     0.98823,     0.98826,     0.98828,      0.9883,     0.98833,     0.98835,     0.98837,      0.9884,     0.98842,     0.98844,     0.98846,     0.98849,     0.98851,     0.98853,     0.98856,\n",
      "            0.98858,      0.9886,     0.98863,     0.98865,     0.98867,     0.98869,     0.98872,     0.98874,     0.98876,     0.98879,     0.98881,     0.98883,     0.98885,     0.98888,      0.9889,     0.98892,     0.98895,     0.98897,     0.98899,     0.98902,     0.98904,     0.98906,     0.98908,\n",
      "            0.98911,     0.98913,     0.98915,     0.98918,      0.9892,     0.98922,     0.98925,     0.98927,     0.98929,     0.98931,     0.98934,     0.98936,     0.98938,     0.98941,     0.98943,     0.98945,     0.98948,      0.9895,     0.98952,     0.98954,     0.98957,     0.98959,     0.98961,\n",
      "            0.98964,     0.98966,     0.98968,     0.98971,     0.98973,     0.98975,     0.98977,      0.9898,     0.98982,     0.98984,     0.98987,     0.98989,     0.98991,     0.98994,     0.98996,     0.98998,        0.99,     0.99003,     0.99005,     0.99007,      0.9901,     0.99012,     0.99014,\n",
      "            0.99016,     0.99019,     0.99021,     0.99023,     0.99026,     0.99028,      0.9903,     0.99033,     0.99035,     0.99037,     0.99039,     0.99042,     0.99044,     0.99046,     0.99049,      0.9905,      0.9905,      0.9905,      0.9905,      0.9905,      0.9905,      0.9905,     0.99049,\n",
      "            0.99049,     0.99049,     0.99049,     0.99049,     0.99049,     0.99049,     0.99049,     0.99049,     0.99049,     0.99049,     0.99049,     0.99049,     0.99049,     0.99049,     0.99049,     0.99049,     0.99049,     0.99048,     0.99048,     0.99048,     0.99048,     0.99048,     0.99048,\n",
      "            0.99048,     0.99048,     0.99048,     0.99048,     0.99048,     0.99048,     0.99048,     0.99048,     0.99048,     0.99048,     0.99048,     0.99047,     0.99046,     0.99046,     0.99045,     0.99045,     0.99045,     0.99045,     0.99045,     0.99045,     0.99045,     0.99045,     0.99044,\n",
      "            0.99044,     0.99044,     0.99044,     0.99044,     0.99044,     0.99044,     0.99044,     0.99044,     0.99043,     0.99043,     0.99043,     0.99043,     0.99043,     0.99042,     0.99041,     0.99041,      0.9904,      0.9904,      0.9904,      0.9904,     0.99039,     0.99039,     0.99039,\n",
      "            0.99039,     0.99038,     0.99038,     0.99038,     0.99038,     0.99038,     0.99038,     0.99038,     0.99038,     0.99038,     0.99038,     0.99038,     0.99038,     0.99038,     0.99038,     0.99038,     0.99038,     0.99038,     0.99038,     0.99038,     0.99038,     0.99038,     0.99038,\n",
      "            0.99037,     0.99037,     0.99037,     0.99037,     0.99037,     0.99037,     0.99037,     0.99037,     0.99037,     0.99037,     0.99037,     0.99037,     0.99037,     0.99037,     0.99037,     0.99037,     0.99037,     0.99037,     0.99037,     0.99037,     0.99037,     0.99037,     0.99037,\n",
      "            0.99036,     0.99036,     0.99036,     0.99036,     0.99036,     0.99036,     0.99036,     0.99036,     0.99036,     0.99036,     0.99035,     0.99035,     0.99035,     0.99035,     0.99034,     0.99034,     0.99041,     0.99054,     0.99067,      0.9908,     0.99093,     0.99106,     0.99119,\n",
      "            0.99132,     0.99146,     0.99159,     0.99172,     0.99185,     0.99198,     0.99211,     0.99224,     0.99237,      0.9925,     0.99263,     0.99274,     0.99273,     0.99273,     0.99273,     0.99273,     0.99272,     0.99272,     0.99282,     0.99318,     0.99353,     0.99388,     0.99423,\n",
      "            0.99458,     0.99493,      0.9952,     0.99537,     0.99553,     0.99569,     0.99585,     0.99601,     0.99617,     0.99633,     0.99649,     0.99666,     0.99682,     0.99698,     0.99714,      0.9973,     0.99746,     0.99756,     0.99756,     0.99756,     0.99756,     0.99756,     0.99756,\n",
      "            0.99756,     0.99756,     0.99756,     0.99756,     0.99757,     0.99762,     0.99767,     0.99772,     0.99777,     0.99782,     0.99787,     0.99792,     0.99797,     0.99802,     0.99807,     0.99812,     0.99817,     0.99822,     0.99827,     0.99832,     0.99837,     0.99842,     0.99847,\n",
      "            0.99852,     0.99857,     0.99862,     0.99867,     0.99872,     0.99877,     0.99882,     0.99887,     0.99892,     0.99897,     0.99902,     0.99907,     0.99912,     0.99917,     0.99922,     0.99927,     0.99932,     0.99937,     0.99942,     0.99947,     0.99952,     0.99957,     0.99962,\n",
      "            0.99967,     0.99972,     0.99977,     0.99982,     0.99987,     0.99992,     0.99997,           1,           1,           1,           1,           1,           1,           1,           1,           1,           1,           1,           1,           1,           1,           1,           1,\n",
      "                  1,           1,           1,           1,           1,           1,           1,           1,           1,           1,           1,           1,           1,           1,           1,           1,           1,           1,           1,           1,           1,           1,           1,\n",
      "                  1,           1,           1,           1,           1,           1,           1,           1,           1,           1,           1,           1,           1,           1,           1,           1,           1,           1,           1,           1,           1,           1,           1,\n",
      "                  1,           1,           1,           1,           1,           1,           1,           1,           1,           1,           1,           1,           1,           1,           1,           1,           1,           1,           1,           1,           1,           1,           1,\n",
      "                  1,           1,           1,           1,           1,           1,           1,           1,           1,           1,           1,           1,           1,           1,           1,           1,           1,           1,           1,           1,           1,           1,           1,\n",
      "                  1,           1,           1,           1,           1,           1,           1,           1,           1,           1,           1,           1,           1,           1,           1,           1,           1,           1,           1,           1,           1,           1,           1,\n",
      "                  1,           1,           1,           1,           1,           1,           1,           1,           1,           1,           1,           1,           1,           1,           1,           1,           1,           1,           1,           1,           1,           1,           1,\n",
      "                  1,           1,           1,           1,           1,           1,           1,           1,           1,           1,           1,           1,           1,           1,           1,           1,           1,           1,           1,           1,           1,           1,           1,\n",
      "                  1,           1,           1,           1,           1,           1,           1,           1,           1,           1,           1,           1,           1,           1,           1,           1,           1,           1,           1,           1,           1,           1,           1,\n",
      "                  1,           1,           1,           1,           1,           1,           1,           1,           1,           1,           1,           1,           1,           1,           1,           1,           1,           1,           1,           1,           1,           1,           1,\n",
      "                  1,           1,           1,           1,           1,           1,           1,           1,           1,           1,           1,           1,           1,           1,           1,           1,           1,           1,           1,           1,           1,           1,           1,\n",
      "                  1,           1,           1,           1,           1,           1,           1,           1,           1,           1,           1,           1,           1,           1,           1,           1,           1,           1,           1,           1,           1,           1,           1,\n",
      "                  1,           1,           1,           1,           1,           1,           1,           1,           1,           1,           1,           1,           1,           1,           1,           1,           1,           1,           1,           1,           1,           1,           1,\n",
      "                  1,           1,           1,           1,           1,           1,           1,           1,           1,           1,           1,           1,           1,           1,           1,           1,           1,           1,           1,           1,           1,           1,           1,\n",
      "                  1,           1,           1,           1,           1,           1,           1,           1,           1,           1,           1,           1,           1,           1,           1,           1,           1,           1,           1,           1,           1,           1,           1,\n",
      "                  1,           1,           1,           1,           1,           1,           1,           1,           1,           1,           1,           1,           1,           1,           1,           1,           1,           1,           1,           1,           1,           1,           1,\n",
      "                  1,           1,           1,           1,           1,           1,           1,           1,           1,           1,           1,           1,           1,           1,           1,           1,           1,           1,           1,           1,           1,           1,           1,\n",
      "                  1,           1,           1,           1,           1,           1,           1,           1,           1,           1,           1]]), 'Confidence', 'Precision'], [array([          0,    0.001001,    0.002002,    0.003003,    0.004004,    0.005005,    0.006006,    0.007007,    0.008008,    0.009009,     0.01001,    0.011011,    0.012012,    0.013013,    0.014014,    0.015015,    0.016016,    0.017017,    0.018018,    0.019019,     0.02002,    0.021021,    0.022022,    0.023023,\n",
      "          0.024024,    0.025025,    0.026026,    0.027027,    0.028028,    0.029029,     0.03003,    0.031031,    0.032032,    0.033033,    0.034034,    0.035035,    0.036036,    0.037037,    0.038038,    0.039039,     0.04004,    0.041041,    0.042042,    0.043043,    0.044044,    0.045045,    0.046046,    0.047047,\n",
      "          0.048048,    0.049049,     0.05005,    0.051051,    0.052052,    0.053053,    0.054054,    0.055055,    0.056056,    0.057057,    0.058058,    0.059059,     0.06006,    0.061061,    0.062062,    0.063063,    0.064064,    0.065065,    0.066066,    0.067067,    0.068068,    0.069069,     0.07007,    0.071071,\n",
      "          0.072072,    0.073073,    0.074074,    0.075075,    0.076076,    0.077077,    0.078078,    0.079079,     0.08008,    0.081081,    0.082082,    0.083083,    0.084084,    0.085085,    0.086086,    0.087087,    0.088088,    0.089089,     0.09009,    0.091091,    0.092092,    0.093093,    0.094094,    0.095095,\n",
      "          0.096096,    0.097097,    0.098098,    0.099099,      0.1001,      0.1011,      0.1021,      0.1031,      0.1041,     0.10511,     0.10611,     0.10711,     0.10811,     0.10911,     0.11011,     0.11111,     0.11211,     0.11311,     0.11411,     0.11512,     0.11612,     0.11712,     0.11812,     0.11912,\n",
      "           0.12012,     0.12112,     0.12212,     0.12312,     0.12412,     0.12513,     0.12613,     0.12713,     0.12813,     0.12913,     0.13013,     0.13113,     0.13213,     0.13313,     0.13413,     0.13514,     0.13614,     0.13714,     0.13814,     0.13914,     0.14014,     0.14114,     0.14214,     0.14314,\n",
      "           0.14414,     0.14515,     0.14615,     0.14715,     0.14815,     0.14915,     0.15015,     0.15115,     0.15215,     0.15315,     0.15415,     0.15516,     0.15616,     0.15716,     0.15816,     0.15916,     0.16016,     0.16116,     0.16216,     0.16316,     0.16416,     0.16517,     0.16617,     0.16717,\n",
      "           0.16817,     0.16917,     0.17017,     0.17117,     0.17217,     0.17317,     0.17417,     0.17518,     0.17618,     0.17718,     0.17818,     0.17918,     0.18018,     0.18118,     0.18218,     0.18318,     0.18418,     0.18519,     0.18619,     0.18719,     0.18819,     0.18919,     0.19019,     0.19119,\n",
      "           0.19219,     0.19319,     0.19419,      0.1952,      0.1962,      0.1972,      0.1982,      0.1992,      0.2002,      0.2012,      0.2022,      0.2032,      0.2042,     0.20521,     0.20621,     0.20721,     0.20821,     0.20921,     0.21021,     0.21121,     0.21221,     0.21321,     0.21421,     0.21522,\n",
      "           0.21622,     0.21722,     0.21822,     0.21922,     0.22022,     0.22122,     0.22222,     0.22322,     0.22422,     0.22523,     0.22623,     0.22723,     0.22823,     0.22923,     0.23023,     0.23123,     0.23223,     0.23323,     0.23423,     0.23524,     0.23624,     0.23724,     0.23824,     0.23924,\n",
      "           0.24024,     0.24124,     0.24224,     0.24324,     0.24424,     0.24525,     0.24625,     0.24725,     0.24825,     0.24925,     0.25025,     0.25125,     0.25225,     0.25325,     0.25425,     0.25526,     0.25626,     0.25726,     0.25826,     0.25926,     0.26026,     0.26126,     0.26226,     0.26326,\n",
      "           0.26426,     0.26527,     0.26627,     0.26727,     0.26827,     0.26927,     0.27027,     0.27127,     0.27227,     0.27327,     0.27427,     0.27528,     0.27628,     0.27728,     0.27828,     0.27928,     0.28028,     0.28128,     0.28228,     0.28328,     0.28428,     0.28529,     0.28629,     0.28729,\n",
      "           0.28829,     0.28929,     0.29029,     0.29129,     0.29229,     0.29329,     0.29429,      0.2953,      0.2963,      0.2973,      0.2983,      0.2993,      0.3003,      0.3013,      0.3023,      0.3033,      0.3043,     0.30531,     0.30631,     0.30731,     0.30831,     0.30931,     0.31031,     0.31131,\n",
      "           0.31231,     0.31331,     0.31431,     0.31532,     0.31632,     0.31732,     0.31832,     0.31932,     0.32032,     0.32132,     0.32232,     0.32332,     0.32432,     0.32533,     0.32633,     0.32733,     0.32833,     0.32933,     0.33033,     0.33133,     0.33233,     0.33333,     0.33433,     0.33534,\n",
      "           0.33634,     0.33734,     0.33834,     0.33934,     0.34034,     0.34134,     0.34234,     0.34334,     0.34434,     0.34535,     0.34635,     0.34735,     0.34835,     0.34935,     0.35035,     0.35135,     0.35235,     0.35335,     0.35435,     0.35536,     0.35636,     0.35736,     0.35836,     0.35936,\n",
      "           0.36036,     0.36136,     0.36236,     0.36336,     0.36436,     0.36537,     0.36637,     0.36737,     0.36837,     0.36937,     0.37037,     0.37137,     0.37237,     0.37337,     0.37437,     0.37538,     0.37638,     0.37738,     0.37838,     0.37938,     0.38038,     0.38138,     0.38238,     0.38338,\n",
      "           0.38438,     0.38539,     0.38639,     0.38739,     0.38839,     0.38939,     0.39039,     0.39139,     0.39239,     0.39339,     0.39439,      0.3954,      0.3964,      0.3974,      0.3984,      0.3994,      0.4004,      0.4014,      0.4024,      0.4034,      0.4044,     0.40541,     0.40641,     0.40741,\n",
      "           0.40841,     0.40941,     0.41041,     0.41141,     0.41241,     0.41341,     0.41441,     0.41542,     0.41642,     0.41742,     0.41842,     0.41942,     0.42042,     0.42142,     0.42242,     0.42342,     0.42442,     0.42543,     0.42643,     0.42743,     0.42843,     0.42943,     0.43043,     0.43143,\n",
      "           0.43243,     0.43343,     0.43443,     0.43544,     0.43644,     0.43744,     0.43844,     0.43944,     0.44044,     0.44144,     0.44244,     0.44344,     0.44444,     0.44545,     0.44645,     0.44745,     0.44845,     0.44945,     0.45045,     0.45145,     0.45245,     0.45345,     0.45445,     0.45546,\n",
      "           0.45646,     0.45746,     0.45846,     0.45946,     0.46046,     0.46146,     0.46246,     0.46346,     0.46446,     0.46547,     0.46647,     0.46747,     0.46847,     0.46947,     0.47047,     0.47147,     0.47247,     0.47347,     0.47447,     0.47548,     0.47648,     0.47748,     0.47848,     0.47948,\n",
      "           0.48048,     0.48148,     0.48248,     0.48348,     0.48448,     0.48549,     0.48649,     0.48749,     0.48849,     0.48949,     0.49049,     0.49149,     0.49249,     0.49349,     0.49449,      0.4955,      0.4965,      0.4975,      0.4985,      0.4995,      0.5005,      0.5015,      0.5025,      0.5035,\n",
      "            0.5045,     0.50551,     0.50651,     0.50751,     0.50851,     0.50951,     0.51051,     0.51151,     0.51251,     0.51351,     0.51451,     0.51552,     0.51652,     0.51752,     0.51852,     0.51952,     0.52052,     0.52152,     0.52252,     0.52352,     0.52452,     0.52553,     0.52653,     0.52753,\n",
      "           0.52853,     0.52953,     0.53053,     0.53153,     0.53253,     0.53353,     0.53453,     0.53554,     0.53654,     0.53754,     0.53854,     0.53954,     0.54054,     0.54154,     0.54254,     0.54354,     0.54454,     0.54555,     0.54655,     0.54755,     0.54855,     0.54955,     0.55055,     0.55155,\n",
      "           0.55255,     0.55355,     0.55455,     0.55556,     0.55656,     0.55756,     0.55856,     0.55956,     0.56056,     0.56156,     0.56256,     0.56356,     0.56456,     0.56557,     0.56657,     0.56757,     0.56857,     0.56957,     0.57057,     0.57157,     0.57257,     0.57357,     0.57457,     0.57558,\n",
      "           0.57658,     0.57758,     0.57858,     0.57958,     0.58058,     0.58158,     0.58258,     0.58358,     0.58458,     0.58559,     0.58659,     0.58759,     0.58859,     0.58959,     0.59059,     0.59159,     0.59259,     0.59359,     0.59459,      0.5956,      0.5966,      0.5976,      0.5986,      0.5996,\n",
      "            0.6006,      0.6016,      0.6026,      0.6036,      0.6046,     0.60561,     0.60661,     0.60761,     0.60861,     0.60961,     0.61061,     0.61161,     0.61261,     0.61361,     0.61461,     0.61562,     0.61662,     0.61762,     0.61862,     0.61962,     0.62062,     0.62162,     0.62262,     0.62362,\n",
      "           0.62462,     0.62563,     0.62663,     0.62763,     0.62863,     0.62963,     0.63063,     0.63163,     0.63263,     0.63363,     0.63463,     0.63564,     0.63664,     0.63764,     0.63864,     0.63964,     0.64064,     0.64164,     0.64264,     0.64364,     0.64464,     0.64565,     0.64665,     0.64765,\n",
      "           0.64865,     0.64965,     0.65065,     0.65165,     0.65265,     0.65365,     0.65465,     0.65566,     0.65666,     0.65766,     0.65866,     0.65966,     0.66066,     0.66166,     0.66266,     0.66366,     0.66466,     0.66567,     0.66667,     0.66767,     0.66867,     0.66967,     0.67067,     0.67167,\n",
      "           0.67267,     0.67367,     0.67467,     0.67568,     0.67668,     0.67768,     0.67868,     0.67968,     0.68068,     0.68168,     0.68268,     0.68368,     0.68468,     0.68569,     0.68669,     0.68769,     0.68869,     0.68969,     0.69069,     0.69169,     0.69269,     0.69369,     0.69469,      0.6957,\n",
      "            0.6967,      0.6977,      0.6987,      0.6997,      0.7007,      0.7017,      0.7027,      0.7037,      0.7047,     0.70571,     0.70671,     0.70771,     0.70871,     0.70971,     0.71071,     0.71171,     0.71271,     0.71371,     0.71471,     0.71572,     0.71672,     0.71772,     0.71872,     0.71972,\n",
      "           0.72072,     0.72172,     0.72272,     0.72372,     0.72472,     0.72573,     0.72673,     0.72773,     0.72873,     0.72973,     0.73073,     0.73173,     0.73273,     0.73373,     0.73473,     0.73574,     0.73674,     0.73774,     0.73874,     0.73974,     0.74074,     0.74174,     0.74274,     0.74374,\n",
      "           0.74474,     0.74575,     0.74675,     0.74775,     0.74875,     0.74975,     0.75075,     0.75175,     0.75275,     0.75375,     0.75475,     0.75576,     0.75676,     0.75776,     0.75876,     0.75976,     0.76076,     0.76176,     0.76276,     0.76376,     0.76476,     0.76577,     0.76677,     0.76777,\n",
      "           0.76877,     0.76977,     0.77077,     0.77177,     0.77277,     0.77377,     0.77477,     0.77578,     0.77678,     0.77778,     0.77878,     0.77978,     0.78078,     0.78178,     0.78278,     0.78378,     0.78478,     0.78579,     0.78679,     0.78779,     0.78879,     0.78979,     0.79079,     0.79179,\n",
      "           0.79279,     0.79379,     0.79479,      0.7958,      0.7968,      0.7978,      0.7988,      0.7998,      0.8008,      0.8018,      0.8028,      0.8038,      0.8048,     0.80581,     0.80681,     0.80781,     0.80881,     0.80981,     0.81081,     0.81181,     0.81281,     0.81381,     0.81481,     0.81582,\n",
      "           0.81682,     0.81782,     0.81882,     0.81982,     0.82082,     0.82182,     0.82282,     0.82382,     0.82482,     0.82583,     0.82683,     0.82783,     0.82883,     0.82983,     0.83083,     0.83183,     0.83283,     0.83383,     0.83483,     0.83584,     0.83684,     0.83784,     0.83884,     0.83984,\n",
      "           0.84084,     0.84184,     0.84284,     0.84384,     0.84484,     0.84585,     0.84685,     0.84785,     0.84885,     0.84985,     0.85085,     0.85185,     0.85285,     0.85385,     0.85485,     0.85586,     0.85686,     0.85786,     0.85886,     0.85986,     0.86086,     0.86186,     0.86286,     0.86386,\n",
      "           0.86486,     0.86587,     0.86687,     0.86787,     0.86887,     0.86987,     0.87087,     0.87187,     0.87287,     0.87387,     0.87487,     0.87588,     0.87688,     0.87788,     0.87888,     0.87988,     0.88088,     0.88188,     0.88288,     0.88388,     0.88488,     0.88589,     0.88689,     0.88789,\n",
      "           0.88889,     0.88989,     0.89089,     0.89189,     0.89289,     0.89389,     0.89489,      0.8959,      0.8969,      0.8979,      0.8989,      0.8999,      0.9009,      0.9019,      0.9029,      0.9039,      0.9049,     0.90591,     0.90691,     0.90791,     0.90891,     0.90991,     0.91091,     0.91191,\n",
      "           0.91291,     0.91391,     0.91491,     0.91592,     0.91692,     0.91792,     0.91892,     0.91992,     0.92092,     0.92192,     0.92292,     0.92392,     0.92492,     0.92593,     0.92693,     0.92793,     0.92893,     0.92993,     0.93093,     0.93193,     0.93293,     0.93393,     0.93493,     0.93594,\n",
      "           0.93694,     0.93794,     0.93894,     0.93994,     0.94094,     0.94194,     0.94294,     0.94394,     0.94494,     0.94595,     0.94695,     0.94795,     0.94895,     0.94995,     0.95095,     0.95195,     0.95295,     0.95395,     0.95495,     0.95596,     0.95696,     0.95796,     0.95896,     0.95996,\n",
      "           0.96096,     0.96196,     0.96296,     0.96396,     0.96496,     0.96597,     0.96697,     0.96797,     0.96897,     0.96997,     0.97097,     0.97197,     0.97297,     0.97397,     0.97497,     0.97598,     0.97698,     0.97798,     0.97898,     0.97998,     0.98098,     0.98198,     0.98298,     0.98398,\n",
      "           0.98498,     0.98599,     0.98699,     0.98799,     0.98899,     0.98999,     0.99099,     0.99199,     0.99299,     0.99399,     0.99499,       0.996,       0.997,       0.998,       0.999,           1]), array([[    0.92657,     0.92657,     0.92657,     0.92225,     0.92009,     0.92009,     0.92009,     0.92009,     0.92009,     0.92009,     0.92009,     0.92009,     0.92009,     0.92009,     0.92009,     0.92009,     0.92009,     0.92009,     0.92009,     0.92009,     0.92009,     0.92009,     0.92009,\n",
      "            0.92009,     0.92009,     0.92009,     0.92009,     0.92009,     0.92009,     0.92009,     0.92009,     0.91984,     0.91793,     0.91793,     0.91793,     0.91793,     0.91793,     0.91788,     0.91698,     0.91608,     0.91577,     0.91577,     0.91577,     0.91577,     0.91571,     0.91517,\n",
      "            0.91464,     0.91411,     0.91361,     0.91361,     0.91352,     0.91317,     0.91281,     0.91246,     0.91211,     0.91176,      0.9114,     0.91101,     0.91062,     0.91023,     0.90984,     0.90945,     0.90929,     0.90929,     0.90929,     0.90929,     0.90929,     0.90929,     0.90929,\n",
      "            0.90929,     0.90929,     0.90929,     0.90929,     0.90929,     0.90929,     0.90929,     0.90929,     0.90929,     0.90929,     0.90929,     0.90929,     0.90929,     0.90929,     0.90929,     0.90929,     0.90929,     0.90929,     0.90929,     0.90929,     0.90929,     0.90929,     0.90929,\n",
      "            0.90929,     0.90929,     0.90929,     0.90929,     0.90929,     0.90929,     0.90929,     0.90929,     0.90929,     0.90929,     0.90929,     0.90929,     0.90929,     0.90929,     0.90929,     0.90929,     0.90929,     0.90929,     0.90929,     0.90929,     0.90929,     0.90929,     0.90929,\n",
      "            0.90929,     0.90929,     0.90929,     0.90929,     0.90929,     0.90929,     0.90929,     0.90929,     0.90929,     0.90929,     0.90929,     0.90929,     0.90929,     0.90929,     0.90929,     0.90929,     0.90929,     0.90929,     0.90929,     0.90929,     0.90929,     0.90929,     0.90929,\n",
      "            0.90929,     0.90929,     0.90929,     0.90929,     0.90929,     0.90929,     0.90929,     0.90929,     0.90929,     0.90929,     0.90929,     0.90929,     0.90929,     0.90929,     0.90925,     0.90918,     0.90911,     0.90903,     0.90896,     0.90888,     0.90881,     0.90873,     0.90866,\n",
      "            0.90859,     0.90851,     0.90844,     0.90836,     0.90829,     0.90822,     0.90814,     0.90807,     0.90799,     0.90792,     0.90784,     0.90777,      0.9077,     0.90762,     0.90755,     0.90747,      0.9074,     0.90732,     0.90725,     0.90718,     0.90711,     0.90707,     0.90702,\n",
      "            0.90697,     0.90693,     0.90688,     0.90684,     0.90679,     0.90674,      0.9067,     0.90665,     0.90661,     0.90656,     0.90651,     0.90647,     0.90642,     0.90638,     0.90633,     0.90628,     0.90624,     0.90619,     0.90615,      0.9061,     0.90606,     0.90601,     0.90596,\n",
      "            0.90592,     0.90587,     0.90583,     0.90578,     0.90573,     0.90569,     0.90564,      0.9056,     0.90555,      0.9055,     0.90546,     0.90541,     0.90537,     0.90532,     0.90527,     0.90523,     0.90518,     0.90514,     0.90509,     0.90504,       0.905,     0.90491,     0.90473,\n",
      "            0.90455,     0.90437,     0.90419,     0.90401,     0.90383,     0.90365,     0.90347,     0.90329,     0.90311,     0.90293,     0.90274,     0.90254,     0.90233,     0.90213,     0.90193,     0.90172,     0.90152,     0.90132,     0.90112,     0.90091,     0.90071,     0.90065,     0.90065,\n",
      "            0.90065,     0.90065,     0.90065,     0.90065,     0.90065,     0.90065,     0.90065,     0.90065,     0.90065,     0.90065,     0.90065,     0.90065,     0.90065,     0.90065,     0.90065,     0.90065,     0.90065,     0.90065,     0.90065,     0.90065,     0.90065,     0.90065,     0.90065,\n",
      "            0.90065,     0.90065,     0.90065,     0.90065,     0.90065,     0.90065,     0.90065,     0.90065,     0.90065,     0.90065,     0.90065,     0.90065,     0.90065,     0.90065,     0.90065,     0.90065,     0.90065,     0.90065,     0.90065,     0.90065,     0.90065,     0.90065,     0.90065,\n",
      "            0.90065,     0.90065,     0.90065,     0.90065,     0.90065,     0.90065,     0.90065,     0.90065,     0.90065,     0.90065,     0.90065,     0.90065,     0.90065,     0.90065,     0.90065,     0.90065,     0.90065,     0.90065,     0.90065,     0.90065,     0.90065,     0.90065,     0.90065,\n",
      "            0.90065,     0.90065,     0.90065,     0.90065,     0.90065,     0.90065,     0.90065,     0.90065,     0.90065,     0.90065,     0.90065,     0.90065,     0.90065,     0.90065,     0.90065,     0.90065,     0.90065,     0.90065,     0.90065,     0.90065,     0.90065,     0.90065,     0.90065,\n",
      "            0.90065,     0.90065,     0.90065,     0.90065,     0.90065,     0.90065,     0.90065,     0.90065,     0.90065,     0.90065,     0.90065,     0.90065,     0.90065,     0.90065,     0.90065,     0.90062,     0.90057,     0.90052,     0.90047,     0.90042,     0.90036,     0.90031,     0.90026,\n",
      "            0.90021,     0.90016,      0.9001,     0.90005,         0.9,     0.89995,      0.8999,     0.89985,     0.89979,     0.89974,     0.89969,     0.89964,     0.89959,     0.89953,     0.89948,     0.89943,     0.89938,     0.89933,     0.89927,     0.89922,     0.89917,     0.89912,     0.89907,\n",
      "            0.89901,     0.89896,     0.89891,     0.89886,     0.89881,     0.89876,      0.8987,     0.89865,      0.8986,     0.89855,      0.8985,     0.89792,     0.89725,     0.89658,     0.89626,     0.89616,     0.89605,     0.89595,     0.89585,     0.89574,     0.89564,     0.89553,     0.89543,\n",
      "            0.89533,     0.89522,     0.89512,     0.89501,     0.89491,     0.89481,      0.8947,      0.8946,     0.89449,     0.89439,     0.89428,     0.89418,     0.89367,      0.8931,     0.89254,     0.89199,     0.89176,     0.89152,     0.89128,     0.89105,     0.89081,     0.89057,     0.89034,\n",
      "             0.8901,     0.88986,     0.88981,     0.88977,     0.88973,     0.88969,     0.88964,      0.8896,     0.88956,     0.88952,     0.88948,     0.88944,      0.8894,     0.88936,     0.88932,     0.88927,     0.88923,     0.88919,     0.88915,     0.88911,     0.88907,     0.88903,     0.88899,\n",
      "            0.88894,      0.8889,     0.88886,     0.88882,     0.88878,     0.88874,      0.8887,     0.88866,     0.88861,     0.88857,     0.88853,     0.88849,     0.88845,     0.88841,     0.88837,     0.88833,     0.88828,     0.88824,      0.8882,     0.88816,     0.88812,     0.88808,     0.88804,\n",
      "              0.888,     0.88795,     0.88791,     0.88787,     0.88783,     0.88779,     0.88775,     0.88771,     0.88754,     0.88727,       0.887,     0.88673,     0.88646,     0.88619,     0.88592,     0.88565,     0.88553,     0.88553,     0.88553,     0.88553,     0.88553,     0.88553,     0.88553,\n",
      "            0.88553,     0.88553,     0.88553,     0.88553,     0.88553,     0.88553,     0.88553,     0.88553,     0.88553,     0.88553,     0.88553,     0.88546,     0.88515,     0.88484,     0.88452,     0.88421,      0.8839,     0.88359,     0.88337,     0.88337,     0.88337,     0.88337,     0.88337,\n",
      "            0.88337,     0.88337,     0.88337,     0.88337,     0.88337,     0.88337,     0.88337,     0.88337,     0.88337,     0.88337,     0.88337,     0.88337,     0.88337,     0.88337,     0.88337,     0.88337,     0.88337,     0.88329,     0.88307,     0.88286,     0.88265,     0.88244,     0.88222,\n",
      "            0.88201,      0.8818,     0.88159,     0.88137,     0.88121,     0.88121,     0.88121,     0.88121,     0.88121,     0.88121,     0.88121,     0.88121,     0.88121,     0.88121,     0.88121,     0.88121,     0.88121,     0.88121,     0.88121,     0.88121,     0.88121,     0.88121,     0.88121,\n",
      "            0.88121,     0.88121,     0.88121,     0.88121,     0.88121,     0.88121,     0.88121,     0.88121,     0.88121,     0.88121,     0.88121,     0.88121,     0.88121,     0.88121,     0.88121,     0.88121,     0.88121,     0.88121,     0.88121,     0.88121,     0.88121,     0.88121,     0.88121,\n",
      "            0.88121,     0.88121,     0.88121,     0.88121,     0.88121,     0.88121,     0.88121,      0.8812,     0.88116,     0.88112,     0.88108,     0.88105,     0.88101,     0.88097,     0.88093,     0.88089,     0.88086,     0.88082,     0.88078,     0.88074,      0.8807,     0.88067,     0.88063,\n",
      "            0.88059,     0.88055,     0.88051,     0.88047,     0.88044,      0.8804,     0.88036,     0.88032,     0.88028,     0.88025,     0.88021,     0.88017,     0.88013,     0.88009,     0.88006,     0.88002,     0.87998,     0.87994,      0.8799,     0.87987,     0.87983,     0.87979,     0.87975,\n",
      "            0.87971,     0.87968,     0.87964,      0.8796,     0.87956,     0.87952,     0.87949,     0.87945,     0.87941,     0.87937,     0.87933,     0.87929,     0.87926,     0.87922,     0.87918,     0.87914,      0.8791,     0.87907,     0.87864,     0.87791,     0.87719,     0.87678,     0.87658,\n",
      "            0.87639,      0.8762,     0.87601,     0.87582,     0.87563,     0.87543,     0.87524,     0.87505,     0.87486,      0.8747,      0.8746,      0.8745,      0.8744,      0.8743,     0.87421,     0.87411,     0.87401,     0.87391,     0.87381,     0.87372,     0.87362,     0.87352,     0.87342,\n",
      "            0.87332,     0.87322,     0.87313,     0.87303,     0.87293,     0.87283,     0.87273,     0.87263,     0.87244,     0.87205,     0.87166,     0.87127,     0.87088,     0.87049,     0.86985,     0.86917,     0.86848,     0.86823,     0.86819,     0.86815,     0.86812,     0.86808,     0.86805,\n",
      "            0.86801,     0.86798,     0.86794,      0.8679,     0.86787,     0.86783,      0.8678,     0.86776,     0.86772,     0.86769,     0.86765,     0.86762,     0.86758,     0.86754,     0.86751,     0.86747,     0.86744,      0.8674,     0.86736,     0.86733,     0.86729,     0.86726,     0.86722,\n",
      "            0.86718,     0.86715,     0.86711,     0.86708,     0.86704,     0.86701,     0.86697,     0.86693,      0.8669,     0.86686,     0.86683,     0.86679,     0.86675,     0.86672,     0.86668,     0.86665,     0.86661,     0.86657,     0.86654,      0.8665,     0.86647,     0.86643,     0.86639,\n",
      "            0.86636,     0.86632,     0.86629,     0.86625,     0.86621,     0.86618,     0.86614,     0.86611,     0.86559,     0.86466,      0.8639,     0.86376,     0.86362,     0.86348,     0.86334,     0.86321,     0.86307,     0.86293,     0.86279,     0.86265,     0.86251,     0.86237,     0.86223,\n",
      "            0.86209,     0.86195,     0.86181,     0.86169,     0.86157,     0.86145,     0.86133,     0.86121,     0.86109,     0.86097,     0.86085,     0.86073,     0.86061,     0.86049,     0.86037,     0.86025,     0.86013,     0.86001,     0.85989,     0.85978,     0.85966,     0.85861,     0.85739,\n",
      "            0.85719,     0.85698,     0.85678,     0.85657,     0.85636,     0.85616,     0.85595,     0.85575,     0.85554,     0.85533,     0.85499,     0.85462,     0.85424,     0.85387,     0.85349,     0.85312,     0.85284,     0.85256,     0.85228,       0.852,     0.85172,     0.85144,     0.85116,\n",
      "            0.85077,     0.85014,     0.84952,      0.8489,     0.84839,      0.8479,     0.84742,     0.84693,     0.84657,     0.84639,      0.8462,     0.84601,     0.84583,     0.84564,     0.84546,     0.84527,     0.84508,      0.8449,     0.84471,     0.84452,     0.84421,     0.84387,     0.84352,\n",
      "            0.84318,     0.84283,     0.84249,     0.84183,      0.8409,      0.8392,     0.83672,     0.83558,     0.83505,     0.83452,     0.83399,      0.8334,     0.83274,     0.83207,     0.83137,      0.8305,     0.82962,     0.82895,     0.82835,     0.82775,      0.8266,     0.82404,     0.82285,\n",
      "            0.82259,     0.82234,     0.82208,     0.82182,     0.82157,     0.82131,     0.82106,      0.8208,     0.81888,      0.8164,     0.81539,     0.81438,     0.81296,     0.81134,     0.80955,     0.80781,     0.80527,     0.80331,     0.80265,     0.80199,     0.80133,     0.80001,     0.79869,\n",
      "            0.79745,     0.79121,     0.78821,      0.7856,     0.78292,     0.77367,     0.77199,     0.77012,     0.76726,     0.76363,     0.76011,     0.75891,     0.75538,     0.75296,     0.74908,     0.74707,     0.74281,     0.73577,     0.73226,      0.7263,     0.72196,     0.72034,     0.71724,\n",
      "            0.71015,     0.70007,     0.67885,     0.66492,     0.64494,     0.62123,     0.60141,     0.57293,     0.56447,     0.53402,     0.50208,      0.4769,     0.45184,     0.42635,     0.38305,     0.35053,     0.32974,     0.29122,     0.25444,     0.21475,     0.18884,     0.15799,     0.12858,\n",
      "            0.10832,    0.088991,    0.068812,    0.049396,    0.031384,    0.022093,    0.016198,    0.010171,   0.0072126,   0.0052999,           0,           0,           0,           0,           0,           0,           0,           0,           0,           0,           0,           0,           0,\n",
      "                  0,           0,           0,           0,           0,           0,           0,           0,           0,           0,           0,           0,           0,           0,           0,           0,           0,           0,           0,           0,           0,           0,           0,\n",
      "                  0,           0,           0,           0,           0,           0,           0,           0,           0,           0,           0]]), 'Confidence', 'Recall']]\n",
      "fitness: np.float64(0.862652241709874)\n",
      "keys: ['metrics/precision(B)', 'metrics/recall(B)', 'metrics/mAP50(B)', 'metrics/mAP50-95(B)']\n",
      "maps: array([    0.85275])\n",
      "names: {0: 'player'}\n",
      "nt_per_class: array([463])\n",
      "nt_per_image: array([307])\n",
      "results_dict: {'metrics/precision(B)': np.float64(0.985595072020611), 'metrics/recall(B)': np.float64(0.9092872570194385), 'metrics/mAP50(B)': np.float64(0.9518030651992222), 'metrics/mAP50-95(B)': np.float64(0.8527465946555018), 'fitness': np.float64(0.862652241709874)}\n",
      "save_dir: WindowsPath('E:/Project Sherlock/Grafiki/Grafiki total/dataset/detect/train122')\n",
      "speed: {'preprocess': 0.6652759999966898, 'inference': 33.707802833343216, 'loss': 0.00011466666516450157, 'postprocess': 0.2482501666721267}\n",
      "stats: {'tp': [], 'conf': [], 'pred_cls': [], 'target_cls': [], 'target_img': []}\n",
      "task: 'detect'\n"
     ]
    }
   ],
   "source": [
    "metrics = model.val(data=\"E:/Project Sherlock/Grafiki/Grafiki total/dataset/data.yaml\", split=\"test\")\n",
    "\n",
    "# Możesz wypisać metryki, jeśli chcesz\n",
    "print(metrics)"
   ]
  },
  {
   "cell_type": "code",
   "execution_count": null,
   "id": "5fe9de9c-6a73-43cc-899d-162b261d617f",
   "metadata": {},
   "outputs": [],
   "source": [
    "## Continue the learning pt .1"
   ]
  },
  {
   "cell_type": "code",
   "execution_count": null,
   "id": "d6c86c3f-d4e7-4a99-a379-c7e8fb47995b",
   "metadata": {},
   "outputs": [
    {
     "name": "stdout",
     "output_type": "stream",
     "text": [
      "New https://pypi.org/project/ultralytics/8.3.176 available  Update with 'pip install -U ultralytics'\n",
      "Ultralytics 8.3.168  Python-3.10.18 torch-2.7.1+cpu CPU (AMD Ryzen 5 5600X 6-Core Processor)\n",
      "\u001b[34m\u001b[1mengine\\trainer: \u001b[0magnostic_nms=False, amp=True, augment=False, auto_augment=randaugment, batch=19, bgr=0.0, box=7.5, cache=False, cfg=None, classes=None, close_mosaic=10, cls=0.5, conf=None, copy_paste=0.0, copy_paste_mode=flip, cos_lr=False, cutmix=0.0, data=E:/Project Sherlock/Grafiki/Grafiki total/dataset/data.yaml, degrees=0.0, deterministic=True, device=cpu, dfl=1.5, dnn=False, dropout=0.0, dynamic=False, embed=None, epochs=15, erasing=0.4, exist_ok=False, fliplr=0.5, flipud=0.0, format=torchscript, fraction=1.0, freeze=None, half=False, hsv_h=0.015, hsv_s=0.7, hsv_v=0.4, imgsz=640, int8=False, iou=0.7, keras=False, kobj=1.0, line_width=None, lr0=0.0005, lrf=0.01, mask_ratio=4, max_det=300, mixup=0.0, mode=train, model=E:/Project Sherlock/Grafiki/Grafiki total/dataset/detect/train12/weights/best.pt, momentum=0.937, mosaic=1.0, multi_scale=False, name=train19, nbs=64, nms=False, opset=None, optimize=False, optimizer=Adam, overlap_mask=True, patience=3, perspective=0.0, plots=True, pose=12.0, pretrained=True, profile=False, project=None, rect=False, resume=False, retina_masks=False, save=True, save_conf=False, save_crop=False, save_dir=E:\\Project Sherlock\\Grafiki\\Grafiki total\\dataset\\detect\\train19, save_frames=False, save_json=False, save_period=1, save_txt=False, scale=0.5, seed=0, shear=0.0, show=False, show_boxes=True, show_conf=True, show_labels=True, simplify=True, single_cls=False, source=None, split=val, stream_buffer=False, task=detect, time=None, tracker=botsort.yaml, translate=0.1, val=True, verbose=True, vid_stride=1, visualize=False, warmup_bias_lr=0.1, warmup_epochs=3.0, warmup_momentum=0.8, weight_decay=0.0005, workers=8, workspace=None\n",
      "\n",
      "                   from  n    params  module                                       arguments                     \n",
      "  0                  -1  1       464  ultralytics.nn.modules.conv.Conv             [3, 16, 3, 2]                 \n",
      "  1                  -1  1      4672  ultralytics.nn.modules.conv.Conv             [16, 32, 3, 2]                \n",
      "  2                  -1  1      7360  ultralytics.nn.modules.block.C2f             [32, 32, 1, True]             \n",
      "  3                  -1  1     18560  ultralytics.nn.modules.conv.Conv             [32, 64, 3, 2]                \n",
      "  4                  -1  2     49664  ultralytics.nn.modules.block.C2f             [64, 64, 2, True]             \n",
      "  5                  -1  1     73984  ultralytics.nn.modules.conv.Conv             [64, 128, 3, 2]               \n",
      "  6                  -1  2    197632  ultralytics.nn.modules.block.C2f             [128, 128, 2, True]           \n",
      "  7                  -1  1    295424  ultralytics.nn.modules.conv.Conv             [128, 256, 3, 2]              \n",
      "  8                  -1  1    460288  ultralytics.nn.modules.block.C2f             [256, 256, 1, True]           \n",
      "  9                  -1  1    164608  ultralytics.nn.modules.block.SPPF            [256, 256, 5]                 \n",
      " 10                  -1  1         0  torch.nn.modules.upsampling.Upsample         [None, 2, 'nearest']          \n",
      " 11             [-1, 6]  1         0  ultralytics.nn.modules.conv.Concat           [1]                           \n",
      " 12                  -1  1    148224  ultralytics.nn.modules.block.C2f             [384, 128, 1]                 \n",
      " 13                  -1  1         0  torch.nn.modules.upsampling.Upsample         [None, 2, 'nearest']          \n",
      " 14             [-1, 4]  1         0  ultralytics.nn.modules.conv.Concat           [1]                           \n",
      " 15                  -1  1     37248  ultralytics.nn.modules.block.C2f             [192, 64, 1]                  \n",
      " 16                  -1  1     36992  ultralytics.nn.modules.conv.Conv             [64, 64, 3, 2]                \n",
      " 17            [-1, 12]  1         0  ultralytics.nn.modules.conv.Concat           [1]                           \n",
      " 18                  -1  1    123648  ultralytics.nn.modules.block.C2f             [192, 128, 1]                 \n",
      " 19                  -1  1    147712  ultralytics.nn.modules.conv.Conv             [128, 128, 3, 2]              \n",
      " 20             [-1, 9]  1         0  ultralytics.nn.modules.conv.Concat           [1]                           \n",
      " 21                  -1  1    493056  ultralytics.nn.modules.block.C2f             [384, 256, 1]                 \n",
      " 22        [15, 18, 21]  1    751507  ultralytics.nn.modules.head.Detect           [1, [64, 128, 256]]           \n",
      "Model summary: 129 layers, 3,011,043 parameters, 3,011,027 gradients, 8.2 GFLOPs\n",
      "\n",
      "Transferred 355/355 items from pretrained weights\n",
      "Freezing layer 'model.22.dfl.conv.weight'\n",
      "\u001b[34m\u001b[1mtrain: \u001b[0mFast image access  (ping: 0.00.0 ms, read: 1746.31116.3 MB/s, size: 760.4 KB)\n"
     ]
    },
    {
     "name": "stderr",
     "output_type": "stream",
     "text": [
      "\u001b[34m\u001b[1mtrain: \u001b[0mScanning E:\\Project Sherlock\\Grafiki\\Grafiki total\\dataset\\labels\\train.cache... 4800 images, 2365 backgrounds, \u001b[0m"
     ]
    },
    {
     "name": "stdout",
     "output_type": "stream",
     "text": [
      "\u001b[34m\u001b[1mval: \u001b[0mFast image access  (ping: 0.00.0 ms, read: 2659.8744.0 MB/s, size: 771.7 KB)\n"
     ]
    },
    {
     "name": "stderr",
     "output_type": "stream",
     "text": [
      "\n",
      "D:\\anaconda\\envs\\yalo_env\\lib\\site-packages\\torch\\utils\\data\\dataloader.py:665: UserWarning: 'pin_memory' argument is set as true but no accelerator is found, then device pinned memory won't be used.\n",
      "  warnings.warn(warn_msg)\n",
      "\u001b[34m\u001b[1mval: \u001b[0mScanning E:\\Project Sherlock\\Grafiki\\Grafiki total\\dataset\\labels\\val.cache... 600 images, 299 backgrounds, 0 corr\u001b[0m"
     ]
    },
    {
     "name": "stdout",
     "output_type": "stream",
     "text": [
      "Plotting labels to E:\\Project Sherlock\\Grafiki\\Grafiki total\\dataset\\detect\\train19\\labels.jpg... \n"
     ]
    },
    {
     "name": "stderr",
     "output_type": "stream",
     "text": [
      "\n",
      "D:\\anaconda\\envs\\yalo_env\\lib\\site-packages\\torch\\utils\\data\\dataloader.py:665: UserWarning: 'pin_memory' argument is set as true but no accelerator is found, then device pinned memory won't be used.\n",
      "  warnings.warn(warn_msg)\n"
     ]
    },
    {
     "name": "stdout",
     "output_type": "stream",
     "text": [
      "\u001b[34m\u001b[1moptimizer:\u001b[0m Adam(lr=0.0005, momentum=0.937) with parameter groups 57 weight(decay=0.0), 64 weight(decay=0.00044531249999999996), 63 bias(decay=0.0)\n",
      "Image sizes 640 train, 640 val\n",
      "Using 0 dataloader workers\n",
      "Logging results to \u001b[1mE:\\Project Sherlock\\Grafiki\\Grafiki total\\dataset\\detect\\train19\u001b[0m\n",
      "Starting training for 15 epochs...\n",
      "\n",
      "      Epoch    GPU_mem   box_loss   cls_loss   dfl_loss  Instances       Size\n"
     ]
    },
    {
     "name": "stderr",
     "output_type": "stream",
     "text": [
      "       1/15         0G     0.5462     0.3384     0.8129         10        640: 100%|██████████| 253/253 [23:13<00:00,  \n",
      "                 Class     Images  Instances      Box(P          R      mAP50  mAP50-95): 100%|██████████| 16/16 [00:37\n"
     ]
    },
    {
     "name": "stdout",
     "output_type": "stream",
     "text": [
      "                   all        600        463      0.995       0.87      0.922      0.827\n",
      "\n",
      "      Epoch    GPU_mem   box_loss   cls_loss   dfl_loss  Instances       Size\n"
     ]
    },
    {
     "name": "stderr",
     "output_type": "stream",
     "text": [
      "       2/15         0G     0.5197     0.3128     0.8052         13        640: 100%|██████████| 253/253 [23:12<00:00,  \n",
      "                 Class     Images  Instances      Box(P          R      mAP50  mAP50-95): 100%|██████████| 16/16 [00:37"
     ]
    },
    {
     "name": "stdout",
     "output_type": "stream",
     "text": [
      "                   all        600        463      0.983      0.896      0.927       0.81\n"
     ]
    },
    {
     "name": "stderr",
     "output_type": "stream",
     "text": [
      "\n"
     ]
    },
    {
     "name": "stdout",
     "output_type": "stream",
     "text": [
      "\n",
      "      Epoch    GPU_mem   box_loss   cls_loss   dfl_loss  Instances       Size\n"
     ]
    },
    {
     "name": "stderr",
     "output_type": "stream",
     "text": [
      "       3/15         0G     0.4898     0.2977      0.803         11        640: 100%|██████████| 253/253 [23:07<00:00,  \n",
      "                 Class     Images  Instances      Box(P          R      mAP50  mAP50-95): 100%|██████████| 16/16 [00:37"
     ]
    },
    {
     "name": "stdout",
     "output_type": "stream",
     "text": [
      "                   all        600        463      0.986      0.895      0.928      0.836\n"
     ]
    },
    {
     "name": "stderr",
     "output_type": "stream",
     "text": [
      "\n"
     ]
    },
    {
     "name": "stdout",
     "output_type": "stream",
     "text": [
      "\n",
      "      Epoch    GPU_mem   box_loss   cls_loss   dfl_loss  Instances       Size\n"
     ]
    },
    {
     "name": "stderr",
     "output_type": "stream",
     "text": [
      "       4/15         0G     0.4809     0.2885     0.8013          9        640: 100%|██████████| 253/253 [23:11<00:00,  \n",
      "                 Class     Images  Instances      Box(P          R      mAP50  mAP50-95): 100%|██████████| 16/16 [00:37"
     ]
    },
    {
     "name": "stdout",
     "output_type": "stream",
     "text": [
      "                   all        600        463      0.986      0.899      0.942      0.851\n"
     ]
    },
    {
     "name": "stderr",
     "output_type": "stream",
     "text": [
      "\n"
     ]
    },
    {
     "name": "stdout",
     "output_type": "stream",
     "text": [
      "\n",
      "      Epoch    GPU_mem   box_loss   cls_loss   dfl_loss  Instances       Size\n"
     ]
    },
    {
     "name": "stderr",
     "output_type": "stream",
     "text": [
      "       5/15         0G     0.5104     0.3058     0.8143         25        640:   2%|▏         | 4/253 [00:21<21:58,  5."
     ]
    }
   ],
   "source": [
    "model = YOLO('E:/Project Sherlock/Grafiki/Grafiki total/dataset/detect/train19/weights/best.pt')\n",
    "\n",
    "model.train(data='E:/Project Sherlock/Grafiki/Grafiki total/dataset/data.yaml', \n",
    "    epochs=15,\n",
    "    batch=19,        # tutaj zmieniasz batch size\n",
    "    imgsz=640,        # i inne parametry, jeśli chcesz\n",
    "    patience=4,                 # early stopping: przerwij po 5 epokach bez poprawy\n",
    "    save=True,                  # zapisuj wszystkie wagi\n",
    "    save_period=1,               # zapisuj co epokę\n",
    "    lr0=0.0005,          # mniejszy learning rate\n",
    "    optimizer=\"Adam\",    # stabilniejszy od SGD przy fine-tuningu     \n",
    "    verbose=True                 # pokazuj logi w konsoli\n",
    ")"
   ]
  },
  {
   "cell_type": "code",
   "execution_count": null,
   "id": "03be2b1e-7fef-42a4-b4af-f2747a7c9699",
   "metadata": {},
   "outputs": [],
   "source": []
  },
  {
   "cell_type": "code",
   "execution_count": 7,
   "id": "38d5ee63-65fe-4a49-bb55-4356b25e9222",
   "metadata": {
    "scrolled": true
   },
   "outputs": [
    {
     "name": "stdout",
     "output_type": "stream",
     "text": [
      "New https://pypi.org/project/ultralytics/8.3.176 available  Update with 'pip install -U ultralytics'\n",
      "Ultralytics 8.3.168  Python-3.10.18 torch-2.7.1+cpu CPU (AMD Ryzen 5 5600X 6-Core Processor)\n",
      "\u001b[34m\u001b[1mengine\\trainer: \u001b[0magnostic_nms=False, amp=True, augment=False, auto_augment=randaugment, batch=19, bgr=0.0, box=7.5, cache=False, cfg=None, classes=None, close_mosaic=10, cls=0.5, conf=None, copy_paste=0.0, copy_paste_mode=flip, cos_lr=False, cutmix=0.0, data=E:/Project Sherlock/Grafiki/Grafiki total/dataset/data.yaml, degrees=0.0, deterministic=True, device=cpu, dfl=1.5, dnn=False, dropout=0.0, dynamic=False, embed=None, epochs=15, erasing=0.4, exist_ok=False, fliplr=0.5, flipud=0.0, format=torchscript, fraction=1.0, freeze=None, half=False, hsv_h=0.015, hsv_s=0.7, hsv_v=0.4, imgsz=640, int8=False, iou=0.7, keras=False, kobj=1.0, line_width=None, lr0=0.0005, lrf=0.01, mask_ratio=4, max_det=300, mixup=0.0, mode=train, model=E:\\Project Sherlock\\Grafiki\\Grafiki total\\dataset\\detect\\train19\\weights\\best.pt, momentum=0.937, mosaic=1.0, multi_scale=False, name=train19, nbs=64, nms=False, opset=None, optimize=False, optimizer=Adam, overlap_mask=True, patience=3, perspective=0.0, plots=True, pose=12.0, pretrained=True, profile=False, project=None, rect=False, resume=E:\\Project Sherlock\\Grafiki\\Grafiki total\\dataset\\detect\\train19\\weights\\best.pt, retina_masks=False, save=True, save_conf=False, save_crop=False, save_dir=E:\\Project Sherlock\\Grafiki\\Grafiki total\\dataset\\detect\\train19, save_frames=False, save_json=False, save_period=1, save_txt=False, scale=0.5, seed=0, shear=0.0, show=False, show_boxes=True, show_conf=True, show_labels=True, simplify=True, single_cls=False, source=None, split=val, stream_buffer=False, task=detect, time=None, tracker=botsort.yaml, translate=0.1, val=True, verbose=True, vid_stride=1, visualize=False, warmup_bias_lr=0.1, warmup_epochs=3.0, warmup_momentum=0.8, weight_decay=0.0005, workers=0, workspace=None\n",
      "\n",
      "                   from  n    params  module                                       arguments                     \n",
      "  0                  -1  1       464  ultralytics.nn.modules.conv.Conv             [3, 16, 3, 2]                 \n",
      "  1                  -1  1      4672  ultralytics.nn.modules.conv.Conv             [16, 32, 3, 2]                \n",
      "  2                  -1  1      7360  ultralytics.nn.modules.block.C2f             [32, 32, 1, True]             \n",
      "  3                  -1  1     18560  ultralytics.nn.modules.conv.Conv             [32, 64, 3, 2]                \n",
      "  4                  -1  2     49664  ultralytics.nn.modules.block.C2f             [64, 64, 2, True]             \n",
      "  5                  -1  1     73984  ultralytics.nn.modules.conv.Conv             [64, 128, 3, 2]               \n",
      "  6                  -1  2    197632  ultralytics.nn.modules.block.C2f             [128, 128, 2, True]           \n",
      "  7                  -1  1    295424  ultralytics.nn.modules.conv.Conv             [128, 256, 3, 2]              \n",
      "  8                  -1  1    460288  ultralytics.nn.modules.block.C2f             [256, 256, 1, True]           \n",
      "  9                  -1  1    164608  ultralytics.nn.modules.block.SPPF            [256, 256, 5]                 \n",
      " 10                  -1  1         0  torch.nn.modules.upsampling.Upsample         [None, 2, 'nearest']          \n",
      " 11             [-1, 6]  1         0  ultralytics.nn.modules.conv.Concat           [1]                           \n",
      " 12                  -1  1    148224  ultralytics.nn.modules.block.C2f             [384, 128, 1]                 \n",
      " 13                  -1  1         0  torch.nn.modules.upsampling.Upsample         [None, 2, 'nearest']          \n",
      " 14             [-1, 4]  1         0  ultralytics.nn.modules.conv.Concat           [1]                           \n",
      " 15                  -1  1     37248  ultralytics.nn.modules.block.C2f             [192, 64, 1]                  \n",
      " 16                  -1  1     36992  ultralytics.nn.modules.conv.Conv             [64, 64, 3, 2]                \n",
      " 17            [-1, 12]  1         0  ultralytics.nn.modules.conv.Concat           [1]                           \n",
      " 18                  -1  1    123648  ultralytics.nn.modules.block.C2f             [192, 128, 1]                 \n",
      " 19                  -1  1    147712  ultralytics.nn.modules.conv.Conv             [128, 128, 3, 2]              \n",
      " 20             [-1, 9]  1         0  ultralytics.nn.modules.conv.Concat           [1]                           \n",
      " 21                  -1  1    493056  ultralytics.nn.modules.block.C2f             [384, 256, 1]                 \n",
      " 22        [15, 18, 21]  1    751507  ultralytics.nn.modules.head.Detect           [1, [64, 128, 256]]           \n",
      "Model summary: 129 layers, 3,011,043 parameters, 3,011,027 gradients, 8.2 GFLOPs\n",
      "\n",
      "Transferred 355/355 items from pretrained weights\n",
      "Freezing layer 'model.22.dfl.conv.weight'\n",
      "\u001b[34m\u001b[1mtrain: \u001b[0mFast image access  (ping: 0.00.0 ms, read: 3380.1489.3 MB/s, size: 760.4 KB)\n"
     ]
    },
    {
     "name": "stderr",
     "output_type": "stream",
     "text": [
      "\u001b[34m\u001b[1mtrain: \u001b[0mScanning E:\\Project Sherlock\\Grafiki\\Grafiki total\\dataset\\labels\\train.cache... 4800 images, 2365 backgrounds, \u001b[0m"
     ]
    },
    {
     "name": "stdout",
     "output_type": "stream",
     "text": [
      "\u001b[34m\u001b[1mval: \u001b[0mFast image access  (ping: 0.00.0 ms, read: 2848.4773.0 MB/s, size: 771.7 KB)\n"
     ]
    },
    {
     "name": "stderr",
     "output_type": "stream",
     "text": [
      "\n",
      "D:\\anaconda\\envs\\yalo_env\\lib\\site-packages\\torch\\utils\\data\\dataloader.py:665: UserWarning: 'pin_memory' argument is set as true but no accelerator is found, then device pinned memory won't be used.\n",
      "  warnings.warn(warn_msg)\n",
      "\u001b[34m\u001b[1mval: \u001b[0mScanning E:\\Project Sherlock\\Grafiki\\Grafiki total\\dataset\\labels\\val.cache... 600 images, 299 backgrounds, 0 corr\u001b[0m"
     ]
    },
    {
     "name": "stdout",
     "output_type": "stream",
     "text": [
      "Plotting labels to E:\\Project Sherlock\\Grafiki\\Grafiki total\\dataset\\detect\\train19\\labels.jpg... \n"
     ]
    },
    {
     "name": "stderr",
     "output_type": "stream",
     "text": [
      "\n",
      "D:\\anaconda\\envs\\yalo_env\\lib\\site-packages\\torch\\utils\\data\\dataloader.py:665: UserWarning: 'pin_memory' argument is set as true but no accelerator is found, then device pinned memory won't be used.\n",
      "  warnings.warn(warn_msg)\n"
     ]
    },
    {
     "name": "stdout",
     "output_type": "stream",
     "text": [
      "\u001b[34m\u001b[1moptimizer:\u001b[0m Adam(lr=0.0005, momentum=0.937) with parameter groups 57 weight(decay=0.0), 64 weight(decay=0.00044531249999999996), 63 bias(decay=0.0)\n",
      "Resuming training E:\\Project Sherlock\\Grafiki\\Grafiki total\\dataset\\detect\\train19\\weights\\best.pt from epoch 5 to 15 total epochs\n",
      "Image sizes 640 train, 640 val\n",
      "Using 0 dataloader workers\n",
      "Logging results to \u001b[1mE:\\Project Sherlock\\Grafiki\\Grafiki total\\dataset\\detect\\train19\u001b[0m\n",
      "Starting training for 15 epochs...\n",
      "\n",
      "      Epoch    GPU_mem   box_loss   cls_loss   dfl_loss  Instances       Size\n"
     ]
    },
    {
     "name": "stderr",
     "output_type": "stream",
     "text": [
      "       5/15         0G     0.4594     0.2797     0.7983         10        640: 100%|██████████| 253/253 [17:01<00:00,  \n",
      "                 Class     Images  Instances      Box(P          R      mAP50  mAP50-95): 100%|██████████| 16/16 [00:34"
     ]
    },
    {
     "name": "stdout",
     "output_type": "stream",
     "text": [
      "                   all        600        463       0.99        0.9      0.929      0.845\n"
     ]
    },
    {
     "name": "stderr",
     "output_type": "stream",
     "text": [
      "\n"
     ]
    },
    {
     "name": "stdout",
     "output_type": "stream",
     "text": [
      "Closing dataloader mosaic\n",
      "\n",
      "      Epoch    GPU_mem   box_loss   cls_loss   dfl_loss  Instances       Size\n"
     ]
    },
    {
     "name": "stderr",
     "output_type": "stream",
     "text": [
      "D:\\anaconda\\envs\\yalo_env\\lib\\site-packages\\torch\\utils\\data\\dataloader.py:665: UserWarning: 'pin_memory' argument is set as true but no accelerator is found, then device pinned memory won't be used.\n",
      "  warnings.warn(warn_msg)\n",
      "       6/15         0G     0.3971     0.2424     0.7864          3        640: 100%|██████████| 253/253 [16:55<00:00,  \n",
      "                 Class     Images  Instances      Box(P          R      mAP50  mAP50-95): 100%|██████████| 16/16 [00:33"
     ]
    },
    {
     "name": "stdout",
     "output_type": "stream",
     "text": [
      "                   all        600        463      0.984      0.898      0.944      0.869\n"
     ]
    },
    {
     "name": "stderr",
     "output_type": "stream",
     "text": [
      "\n"
     ]
    },
    {
     "name": "stdout",
     "output_type": "stream",
     "text": [
      "\n",
      "      Epoch    GPU_mem   box_loss   cls_loss   dfl_loss  Instances       Size\n"
     ]
    },
    {
     "name": "stderr",
     "output_type": "stream",
     "text": [
      "       7/15         0G     0.3797     0.2343     0.7803          5        640: 100%|██████████| 253/253 [16:52<00:00,  \n",
      "                 Class     Images  Instances      Box(P          R      mAP50  mAP50-95): 100%|██████████| 16/16 [00:34"
     ]
    },
    {
     "name": "stdout",
     "output_type": "stream",
     "text": [
      "                   all        600        463      0.988      0.894      0.941      0.861\n"
     ]
    },
    {
     "name": "stderr",
     "output_type": "stream",
     "text": [
      "\n"
     ]
    },
    {
     "name": "stdout",
     "output_type": "stream",
     "text": [
      "\n",
      "      Epoch    GPU_mem   box_loss   cls_loss   dfl_loss  Instances       Size\n"
     ]
    },
    {
     "name": "stderr",
     "output_type": "stream",
     "text": [
      "       8/15         0G     0.3676     0.2261     0.7825          7        640: 100%|██████████| 253/253 [17:00<00:00,  \n",
      "                 Class     Images  Instances      Box(P          R      mAP50  mAP50-95): 100%|██████████| 16/16 [00:34\n"
     ]
    },
    {
     "name": "stdout",
     "output_type": "stream",
     "text": [
      "                   all        600        463      0.988      0.891      0.944      0.877\n",
      "\n",
      "      Epoch    GPU_mem   box_loss   cls_loss   dfl_loss  Instances       Size\n"
     ]
    },
    {
     "name": "stderr",
     "output_type": "stream",
     "text": [
      "       9/15         0G     0.3557     0.2228     0.7817          7        640: 100%|██████████| 253/253 [17:03<00:00,  \n",
      "                 Class     Images  Instances      Box(P          R      mAP50  mAP50-95): 100%|██████████| 16/16 [00:34"
     ]
    },
    {
     "name": "stdout",
     "output_type": "stream",
     "text": [
      "                   all        600        463      0.995      0.893      0.942      0.869\n"
     ]
    },
    {
     "name": "stderr",
     "output_type": "stream",
     "text": [
      "\n"
     ]
    },
    {
     "name": "stdout",
     "output_type": "stream",
     "text": [
      "\n",
      "      Epoch    GPU_mem   box_loss   cls_loss   dfl_loss  Instances       Size\n"
     ]
    },
    {
     "name": "stderr",
     "output_type": "stream",
     "text": [
      "      10/15         0G     0.3496      0.217     0.7779          4        640: 100%|██████████| 253/253 [17:09<00:00,  \n",
      "                 Class     Images  Instances      Box(P          R      mAP50  mAP50-95): 100%|██████████| 16/16 [00:34"
     ]
    },
    {
     "name": "stdout",
     "output_type": "stream",
     "text": [
      "                   all        600        463      0.992      0.894      0.931      0.859\n",
      "\n",
      "      Epoch    GPU_mem   box_loss   cls_loss   dfl_loss  Instances       Size\n"
     ]
    },
    {
     "name": "stderr",
     "output_type": "stream",
     "text": [
      "\n",
      "      11/15         0G     0.3343     0.2063     0.7758          7        640: 100%|██████████| 253/253 [16:56<00:00,  \n",
      "                 Class     Images  Instances      Box(P          R      mAP50  mAP50-95): 100%|██████████| 16/16 [00:33"
     ]
    },
    {
     "name": "stdout",
     "output_type": "stream",
     "text": [
      "                   all        600        463      0.991      0.903      0.939      0.883\n"
     ]
    },
    {
     "name": "stderr",
     "output_type": "stream",
     "text": [
      "\n"
     ]
    },
    {
     "name": "stdout",
     "output_type": "stream",
     "text": [
      "\n",
      "      Epoch    GPU_mem   box_loss   cls_loss   dfl_loss  Instances       Size\n"
     ]
    },
    {
     "name": "stderr",
     "output_type": "stream",
     "text": [
      "      12/15         0G     0.3222     0.1984     0.7733          6        640: 100%|██████████| 253/253 [16:49<00:00,  \n",
      "                 Class     Images  Instances      Box(P          R      mAP50  mAP50-95): 100%|██████████| 16/16 [00:32"
     ]
    },
    {
     "name": "stdout",
     "output_type": "stream",
     "text": [
      "                   all        600        463          1      0.891       0.94       0.88\n"
     ]
    },
    {
     "name": "stderr",
     "output_type": "stream",
     "text": [
      "\n"
     ]
    },
    {
     "name": "stdout",
     "output_type": "stream",
     "text": [
      "\n",
      "      Epoch    GPU_mem   box_loss   cls_loss   dfl_loss  Instances       Size\n"
     ]
    },
    {
     "name": "stderr",
     "output_type": "stream",
     "text": [
      "      13/15         0G     0.3112     0.1908     0.7765         14        640: 100%|██████████| 253/253 [16:45<00:00,  \n",
      "                 Class     Images  Instances      Box(P          R      mAP50  mAP50-95): 100%|██████████| 16/16 [00:33"
     ]
    },
    {
     "name": "stdout",
     "output_type": "stream",
     "text": [
      "                   all        600        463      0.998       0.89      0.947      0.883\n"
     ]
    },
    {
     "name": "stderr",
     "output_type": "stream",
     "text": [
      "\n"
     ]
    },
    {
     "name": "stdout",
     "output_type": "stream",
     "text": [
      "\n",
      "      Epoch    GPU_mem   box_loss   cls_loss   dfl_loss  Instances       Size\n"
     ]
    },
    {
     "name": "stderr",
     "output_type": "stream",
     "text": [
      "      14/15         0G     0.3058     0.1867     0.7741          6        640: 100%|██████████| 253/253 [16:41<00:00,  \n",
      "                 Class     Images  Instances      Box(P          R      mAP50  mAP50-95): 100%|██████████| 16/16 [00:33"
     ]
    },
    {
     "name": "stdout",
     "output_type": "stream",
     "text": [
      "                   all        600        463      0.985      0.905      0.942      0.876\n"
     ]
    },
    {
     "name": "stderr",
     "output_type": "stream",
     "text": [
      "\n"
     ]
    },
    {
     "name": "stdout",
     "output_type": "stream",
     "text": [
      "\n",
      "      Epoch    GPU_mem   box_loss   cls_loss   dfl_loss  Instances       Size\n"
     ]
    },
    {
     "name": "stderr",
     "output_type": "stream",
     "text": [
      "      15/15         0G     0.2982     0.1838     0.7781         12        640: 100%|██████████| 253/253 [16:36<00:00,  \n",
      "                 Class     Images  Instances      Box(P          R      mAP50  mAP50-95): 100%|██████████| 16/16 [00:32"
     ]
    },
    {
     "name": "stdout",
     "output_type": "stream",
     "text": [
      "                   all        600        463      0.985      0.905      0.942      0.884\n"
     ]
    },
    {
     "name": "stderr",
     "output_type": "stream",
     "text": [
      "\n"
     ]
    },
    {
     "name": "stdout",
     "output_type": "stream",
     "text": [
      "\n",
      "11 epochs completed in 3.202 hours.\n",
      "Optimizer stripped from E:\\Project Sherlock\\Grafiki\\Grafiki total\\dataset\\detect\\train19\\weights\\last.pt, 6.2MB\n",
      "Optimizer stripped from E:\\Project Sherlock\\Grafiki\\Grafiki total\\dataset\\detect\\train19\\weights\\best.pt, 6.2MB\n",
      "\n",
      "Validating E:\\Project Sherlock\\Grafiki\\Grafiki total\\dataset\\detect\\train19\\weights\\best.pt...\n",
      "Ultralytics 8.3.168  Python-3.10.18 torch-2.7.1+cpu CPU (AMD Ryzen 5 5600X 6-Core Processor)\n",
      "Model summary (fused): 72 layers, 3,005,843 parameters, 0 gradients, 8.1 GFLOPs\n"
     ]
    },
    {
     "name": "stderr",
     "output_type": "stream",
     "text": [
      "                 Class     Images  Instances      Box(P          R      mAP50  mAP50-95): 100%|██████████| 16/16 [00:28\n"
     ]
    },
    {
     "name": "stdout",
     "output_type": "stream",
     "text": [
      "                   all        600        463      0.985      0.905      0.941      0.884\n",
      "Speed: 1.6ms preprocess, 30.5ms inference, 0.0ms loss, 0.2ms postprocess per image\n",
      "Results saved to \u001b[1mE:\\Project Sherlock\\Grafiki\\Grafiki total\\dataset\\detect\\train19\u001b[0m\n"
     ]
    },
    {
     "data": {
      "text/plain": [
       "ultralytics.utils.metrics.DetMetrics object with attributes:\n",
       "\n",
       "ap_class_index: array([0])\n",
       "box: ultralytics.utils.metrics.Metric object\n",
       "confusion_matrix: <ultralytics.utils.metrics.ConfusionMatrix object at 0x00000163215BA380>\n",
       "curves: ['Precision-Recall(B)', 'F1-Confidence(B)', 'Precision-Confidence(B)', 'Recall-Confidence(B)']\n",
       "curves_results: [[array([          0,    0.001001,    0.002002,    0.003003,    0.004004,    0.005005,    0.006006,    0.007007,    0.008008,    0.009009,     0.01001,    0.011011,    0.012012,    0.013013,    0.014014,    0.015015,    0.016016,    0.017017,    0.018018,    0.019019,     0.02002,    0.021021,    0.022022,    0.023023,\n",
       "          0.024024,    0.025025,    0.026026,    0.027027,    0.028028,    0.029029,     0.03003,    0.031031,    0.032032,    0.033033,    0.034034,    0.035035,    0.036036,    0.037037,    0.038038,    0.039039,     0.04004,    0.041041,    0.042042,    0.043043,    0.044044,    0.045045,    0.046046,    0.047047,\n",
       "          0.048048,    0.049049,     0.05005,    0.051051,    0.052052,    0.053053,    0.054054,    0.055055,    0.056056,    0.057057,    0.058058,    0.059059,     0.06006,    0.061061,    0.062062,    0.063063,    0.064064,    0.065065,    0.066066,    0.067067,    0.068068,    0.069069,     0.07007,    0.071071,\n",
       "          0.072072,    0.073073,    0.074074,    0.075075,    0.076076,    0.077077,    0.078078,    0.079079,     0.08008,    0.081081,    0.082082,    0.083083,    0.084084,    0.085085,    0.086086,    0.087087,    0.088088,    0.089089,     0.09009,    0.091091,    0.092092,    0.093093,    0.094094,    0.095095,\n",
       "          0.096096,    0.097097,    0.098098,    0.099099,      0.1001,      0.1011,      0.1021,      0.1031,      0.1041,     0.10511,     0.10611,     0.10711,     0.10811,     0.10911,     0.11011,     0.11111,     0.11211,     0.11311,     0.11411,     0.11512,     0.11612,     0.11712,     0.11812,     0.11912,\n",
       "           0.12012,     0.12112,     0.12212,     0.12312,     0.12412,     0.12513,     0.12613,     0.12713,     0.12813,     0.12913,     0.13013,     0.13113,     0.13213,     0.13313,     0.13413,     0.13514,     0.13614,     0.13714,     0.13814,     0.13914,     0.14014,     0.14114,     0.14214,     0.14314,\n",
       "           0.14414,     0.14515,     0.14615,     0.14715,     0.14815,     0.14915,     0.15015,     0.15115,     0.15215,     0.15315,     0.15415,     0.15516,     0.15616,     0.15716,     0.15816,     0.15916,     0.16016,     0.16116,     0.16216,     0.16316,     0.16416,     0.16517,     0.16617,     0.16717,\n",
       "           0.16817,     0.16917,     0.17017,     0.17117,     0.17217,     0.17317,     0.17417,     0.17518,     0.17618,     0.17718,     0.17818,     0.17918,     0.18018,     0.18118,     0.18218,     0.18318,     0.18418,     0.18519,     0.18619,     0.18719,     0.18819,     0.18919,     0.19019,     0.19119,\n",
       "           0.19219,     0.19319,     0.19419,      0.1952,      0.1962,      0.1972,      0.1982,      0.1992,      0.2002,      0.2012,      0.2022,      0.2032,      0.2042,     0.20521,     0.20621,     0.20721,     0.20821,     0.20921,     0.21021,     0.21121,     0.21221,     0.21321,     0.21421,     0.21522,\n",
       "           0.21622,     0.21722,     0.21822,     0.21922,     0.22022,     0.22122,     0.22222,     0.22322,     0.22422,     0.22523,     0.22623,     0.22723,     0.22823,     0.22923,     0.23023,     0.23123,     0.23223,     0.23323,     0.23423,     0.23524,     0.23624,     0.23724,     0.23824,     0.23924,\n",
       "           0.24024,     0.24124,     0.24224,     0.24324,     0.24424,     0.24525,     0.24625,     0.24725,     0.24825,     0.24925,     0.25025,     0.25125,     0.25225,     0.25325,     0.25425,     0.25526,     0.25626,     0.25726,     0.25826,     0.25926,     0.26026,     0.26126,     0.26226,     0.26326,\n",
       "           0.26426,     0.26527,     0.26627,     0.26727,     0.26827,     0.26927,     0.27027,     0.27127,     0.27227,     0.27327,     0.27427,     0.27528,     0.27628,     0.27728,     0.27828,     0.27928,     0.28028,     0.28128,     0.28228,     0.28328,     0.28428,     0.28529,     0.28629,     0.28729,\n",
       "           0.28829,     0.28929,     0.29029,     0.29129,     0.29229,     0.29329,     0.29429,      0.2953,      0.2963,      0.2973,      0.2983,      0.2993,      0.3003,      0.3013,      0.3023,      0.3033,      0.3043,     0.30531,     0.30631,     0.30731,     0.30831,     0.30931,     0.31031,     0.31131,\n",
       "           0.31231,     0.31331,     0.31431,     0.31532,     0.31632,     0.31732,     0.31832,     0.31932,     0.32032,     0.32132,     0.32232,     0.32332,     0.32432,     0.32533,     0.32633,     0.32733,     0.32833,     0.32933,     0.33033,     0.33133,     0.33233,     0.33333,     0.33433,     0.33534,\n",
       "           0.33634,     0.33734,     0.33834,     0.33934,     0.34034,     0.34134,     0.34234,     0.34334,     0.34434,     0.34535,     0.34635,     0.34735,     0.34835,     0.34935,     0.35035,     0.35135,     0.35235,     0.35335,     0.35435,     0.35536,     0.35636,     0.35736,     0.35836,     0.35936,\n",
       "           0.36036,     0.36136,     0.36236,     0.36336,     0.36436,     0.36537,     0.36637,     0.36737,     0.36837,     0.36937,     0.37037,     0.37137,     0.37237,     0.37337,     0.37437,     0.37538,     0.37638,     0.37738,     0.37838,     0.37938,     0.38038,     0.38138,     0.38238,     0.38338,\n",
       "           0.38438,     0.38539,     0.38639,     0.38739,     0.38839,     0.38939,     0.39039,     0.39139,     0.39239,     0.39339,     0.39439,      0.3954,      0.3964,      0.3974,      0.3984,      0.3994,      0.4004,      0.4014,      0.4024,      0.4034,      0.4044,     0.40541,     0.40641,     0.40741,\n",
       "           0.40841,     0.40941,     0.41041,     0.41141,     0.41241,     0.41341,     0.41441,     0.41542,     0.41642,     0.41742,     0.41842,     0.41942,     0.42042,     0.42142,     0.42242,     0.42342,     0.42442,     0.42543,     0.42643,     0.42743,     0.42843,     0.42943,     0.43043,     0.43143,\n",
       "           0.43243,     0.43343,     0.43443,     0.43544,     0.43644,     0.43744,     0.43844,     0.43944,     0.44044,     0.44144,     0.44244,     0.44344,     0.44444,     0.44545,     0.44645,     0.44745,     0.44845,     0.44945,     0.45045,     0.45145,     0.45245,     0.45345,     0.45445,     0.45546,\n",
       "           0.45646,     0.45746,     0.45846,     0.45946,     0.46046,     0.46146,     0.46246,     0.46346,     0.46446,     0.46547,     0.46647,     0.46747,     0.46847,     0.46947,     0.47047,     0.47147,     0.47247,     0.47347,     0.47447,     0.47548,     0.47648,     0.47748,     0.47848,     0.47948,\n",
       "           0.48048,     0.48148,     0.48248,     0.48348,     0.48448,     0.48549,     0.48649,     0.48749,     0.48849,     0.48949,     0.49049,     0.49149,     0.49249,     0.49349,     0.49449,      0.4955,      0.4965,      0.4975,      0.4985,      0.4995,      0.5005,      0.5015,      0.5025,      0.5035,\n",
       "            0.5045,     0.50551,     0.50651,     0.50751,     0.50851,     0.50951,     0.51051,     0.51151,     0.51251,     0.51351,     0.51451,     0.51552,     0.51652,     0.51752,     0.51852,     0.51952,     0.52052,     0.52152,     0.52252,     0.52352,     0.52452,     0.52553,     0.52653,     0.52753,\n",
       "           0.52853,     0.52953,     0.53053,     0.53153,     0.53253,     0.53353,     0.53453,     0.53554,     0.53654,     0.53754,     0.53854,     0.53954,     0.54054,     0.54154,     0.54254,     0.54354,     0.54454,     0.54555,     0.54655,     0.54755,     0.54855,     0.54955,     0.55055,     0.55155,\n",
       "           0.55255,     0.55355,     0.55455,     0.55556,     0.55656,     0.55756,     0.55856,     0.55956,     0.56056,     0.56156,     0.56256,     0.56356,     0.56456,     0.56557,     0.56657,     0.56757,     0.56857,     0.56957,     0.57057,     0.57157,     0.57257,     0.57357,     0.57457,     0.57558,\n",
       "           0.57658,     0.57758,     0.57858,     0.57958,     0.58058,     0.58158,     0.58258,     0.58358,     0.58458,     0.58559,     0.58659,     0.58759,     0.58859,     0.58959,     0.59059,     0.59159,     0.59259,     0.59359,     0.59459,      0.5956,      0.5966,      0.5976,      0.5986,      0.5996,\n",
       "            0.6006,      0.6016,      0.6026,      0.6036,      0.6046,     0.60561,     0.60661,     0.60761,     0.60861,     0.60961,     0.61061,     0.61161,     0.61261,     0.61361,     0.61461,     0.61562,     0.61662,     0.61762,     0.61862,     0.61962,     0.62062,     0.62162,     0.62262,     0.62362,\n",
       "           0.62462,     0.62563,     0.62663,     0.62763,     0.62863,     0.62963,     0.63063,     0.63163,     0.63263,     0.63363,     0.63463,     0.63564,     0.63664,     0.63764,     0.63864,     0.63964,     0.64064,     0.64164,     0.64264,     0.64364,     0.64464,     0.64565,     0.64665,     0.64765,\n",
       "           0.64865,     0.64965,     0.65065,     0.65165,     0.65265,     0.65365,     0.65465,     0.65566,     0.65666,     0.65766,     0.65866,     0.65966,     0.66066,     0.66166,     0.66266,     0.66366,     0.66466,     0.66567,     0.66667,     0.66767,     0.66867,     0.66967,     0.67067,     0.67167,\n",
       "           0.67267,     0.67367,     0.67467,     0.67568,     0.67668,     0.67768,     0.67868,     0.67968,     0.68068,     0.68168,     0.68268,     0.68368,     0.68468,     0.68569,     0.68669,     0.68769,     0.68869,     0.68969,     0.69069,     0.69169,     0.69269,     0.69369,     0.69469,      0.6957,\n",
       "            0.6967,      0.6977,      0.6987,      0.6997,      0.7007,      0.7017,      0.7027,      0.7037,      0.7047,     0.70571,     0.70671,     0.70771,     0.70871,     0.70971,     0.71071,     0.71171,     0.71271,     0.71371,     0.71471,     0.71572,     0.71672,     0.71772,     0.71872,     0.71972,\n",
       "           0.72072,     0.72172,     0.72272,     0.72372,     0.72472,     0.72573,     0.72673,     0.72773,     0.72873,     0.72973,     0.73073,     0.73173,     0.73273,     0.73373,     0.73473,     0.73574,     0.73674,     0.73774,     0.73874,     0.73974,     0.74074,     0.74174,     0.74274,     0.74374,\n",
       "           0.74474,     0.74575,     0.74675,     0.74775,     0.74875,     0.74975,     0.75075,     0.75175,     0.75275,     0.75375,     0.75475,     0.75576,     0.75676,     0.75776,     0.75876,     0.75976,     0.76076,     0.76176,     0.76276,     0.76376,     0.76476,     0.76577,     0.76677,     0.76777,\n",
       "           0.76877,     0.76977,     0.77077,     0.77177,     0.77277,     0.77377,     0.77477,     0.77578,     0.77678,     0.77778,     0.77878,     0.77978,     0.78078,     0.78178,     0.78278,     0.78378,     0.78478,     0.78579,     0.78679,     0.78779,     0.78879,     0.78979,     0.79079,     0.79179,\n",
       "           0.79279,     0.79379,     0.79479,      0.7958,      0.7968,      0.7978,      0.7988,      0.7998,      0.8008,      0.8018,      0.8028,      0.8038,      0.8048,     0.80581,     0.80681,     0.80781,     0.80881,     0.80981,     0.81081,     0.81181,     0.81281,     0.81381,     0.81481,     0.81582,\n",
       "           0.81682,     0.81782,     0.81882,     0.81982,     0.82082,     0.82182,     0.82282,     0.82382,     0.82482,     0.82583,     0.82683,     0.82783,     0.82883,     0.82983,     0.83083,     0.83183,     0.83283,     0.83383,     0.83483,     0.83584,     0.83684,     0.83784,     0.83884,     0.83984,\n",
       "           0.84084,     0.84184,     0.84284,     0.84384,     0.84484,     0.84585,     0.84685,     0.84785,     0.84885,     0.84985,     0.85085,     0.85185,     0.85285,     0.85385,     0.85485,     0.85586,     0.85686,     0.85786,     0.85886,     0.85986,     0.86086,     0.86186,     0.86286,     0.86386,\n",
       "           0.86486,     0.86587,     0.86687,     0.86787,     0.86887,     0.86987,     0.87087,     0.87187,     0.87287,     0.87387,     0.87487,     0.87588,     0.87688,     0.87788,     0.87888,     0.87988,     0.88088,     0.88188,     0.88288,     0.88388,     0.88488,     0.88589,     0.88689,     0.88789,\n",
       "           0.88889,     0.88989,     0.89089,     0.89189,     0.89289,     0.89389,     0.89489,      0.8959,      0.8969,      0.8979,      0.8989,      0.8999,      0.9009,      0.9019,      0.9029,      0.9039,      0.9049,     0.90591,     0.90691,     0.90791,     0.90891,     0.90991,     0.91091,     0.91191,\n",
       "           0.91291,     0.91391,     0.91491,     0.91592,     0.91692,     0.91792,     0.91892,     0.91992,     0.92092,     0.92192,     0.92292,     0.92392,     0.92492,     0.92593,     0.92693,     0.92793,     0.92893,     0.92993,     0.93093,     0.93193,     0.93293,     0.93393,     0.93493,     0.93594,\n",
       "           0.93694,     0.93794,     0.93894,     0.93994,     0.94094,     0.94194,     0.94294,     0.94394,     0.94494,     0.94595,     0.94695,     0.94795,     0.94895,     0.94995,     0.95095,     0.95195,     0.95295,     0.95395,     0.95495,     0.95596,     0.95696,     0.95796,     0.95896,     0.95996,\n",
       "           0.96096,     0.96196,     0.96296,     0.96396,     0.96496,     0.96597,     0.96697,     0.96797,     0.96897,     0.96997,     0.97097,     0.97197,     0.97297,     0.97397,     0.97497,     0.97598,     0.97698,     0.97798,     0.97898,     0.97998,     0.98098,     0.98198,     0.98298,     0.98398,\n",
       "           0.98498,     0.98599,     0.98699,     0.98799,     0.98899,     0.98999,     0.99099,     0.99199,     0.99299,     0.99399,     0.99499,       0.996,       0.997,       0.998,       0.999,           1]), array([[          1,           1,           1,           1,           1,           1,           1,           1,           1,           1,           1,           1,           1,           1,           1,           1,           1,           1,           1,           1,           1,           1,           1,\n",
       "                  1,           1,           1,           1,           1,           1,           1,           1,           1,           1,           1,           1,           1,           1,           1,           1,           1,           1,           1,           1,           1,           1,           1,\n",
       "                  1,           1,           1,           1,           1,           1,           1,           1,           1,           1,           1,           1,           1,           1,           1,           1,           1,           1,           1,           1,           1,           1,           1,\n",
       "                  1,           1,           1,           1,           1,           1,           1,           1,           1,           1,           1,           1,           1,           1,           1,           1,           1,           1,           1,           1,           1,           1,           1,\n",
       "                  1,           1,           1,           1,           1,           1,           1,           1,           1,           1,           1,           1,           1,           1,           1,           1,           1,           1,           1,           1,           1,           1,           1,\n",
       "                  1,           1,           1,           1,           1,           1,           1,           1,           1,           1,           1,           1,           1,           1,           1,           1,           1,           1,           1,           1,           1,           1,           1,\n",
       "                  1,           1,           1,           1,           1,           1,           1,           1,           1,           1,           1,           1,           1,           1,           1,           1,           1,           1,           1,           1,           1,           1,           1,\n",
       "                  1,           1,           1,           1,           1,           1,           1,           1,           1,           1,           1,           1,           1,           1,           1,           1,           1,           1,           1,           1,           1,           1,           1,\n",
       "                  1,           1,           1,           1,           1,           1,           1,           1,           1,           1,           1,           1,           1,           1,           1,           1,           1,           1,           1,           1,           1,           1,           1,\n",
       "                  1,           1,           1,           1,           1,           1,           1,           1,           1,           1,           1,           1,           1,           1,           1,           1,           1,           1,           1,           1,           1,           1,           1,\n",
       "                  1,           1,           1,           1,           1,           1,           1,           1,           1,           1,           1,           1,           1,           1,           1,           1,           1,           1,           1,           1,           1,           1,           1,\n",
       "                  1,           1,           1,           1,           1,           1,           1,           1,           1,           1,           1,           1,           1,           1,           1,           1,           1,           1,           1,           1,           1,           1,           1,\n",
       "                  1,           1,           1,           1,           1,           1,           1,           1,           1,           1,           1,           1,           1,           1,           1,           1,           1,           1,           1,           1,           1,           1,           1,\n",
       "                  1,           1,           1,           1,           1,           1,           1,           1,           1,           1,           1,           1,           1,           1,           1,           1,           1,           1,           1,           1,           1,           1,           1,\n",
       "                  1,           1,           1,           1,           1,           1,           1,           1,           1,           1,           1,           1,           1,           1,           1,           1,           1,           1,           1,           1,           1,           1,           1,\n",
       "                  1,           1,           1,           1,           1,           1,           1,           1,           1,           1,           1,           1,           1,           1,           1,           1,           1,           1,           1,           1,           1,           1,           1,\n",
       "                  1,           1,           1,           1,           1,           1,           1,           1,           1,           1,           1,           1,           1,           1,           1,           1,           1,           1,           1,           1,           1,           1,           1,\n",
       "                  1,           1,           1,           1,           1,           1,           1,           1,           1,           1,           1,           1,           1,           1,           1,           1,           1,           1,           1,           1,           1,           1,           1,\n",
       "                  1,           1,           1,           1,           1,           1,           1,           1,           1,           1,           1,           1,           1,           1,           1,           1,           1,           1,           1,           1,           1,           1,           1,\n",
       "                  1,           1,           1,           1,           1,           1,           1,           1,           1,           1,           1,           1,           1,           1,           1,           1,           1,           1,           1,           1,           1,           1,           1,\n",
       "                  1,           1,           1,           1,           1,           1,           1,           1,           1,           1,           1,           1,           1,           1,           1,           1,           1,           1,           1,           1,           1,           1,           1,\n",
       "                  1,           1,           1,           1,           1,           1,           1,           1,           1,           1,           1,           1,           1,           1,           1,           1,           1,           1,           1,           1,           1,           1,           1,\n",
       "                  1,           1,           1,           1,           1,           1,           1,           1,           1,           1,           1,           1,           1,           1,           1,           1,           1,           1,           1,           1,           1,           1,           1,\n",
       "                  1,           1,           1,           1,           1,           1,           1,           1,           1,           1,           1,           1,           1,           1,           1,           1,           1,           1,           1,           1,           1,           1,           1,\n",
       "                  1,           1,           1,           1,           1,           1,           1,           1,           1,           1,           1,           1,           1,           1,           1,           1,           1,           1,           1,           1,           1,           1,           1,\n",
       "                  1,           1,           1,           1,           1,           1,           1,           1,           1,           1,           1,           1,           1,           1,           1,           1,           1,           1,           1,           1,           1,           1,           1,\n",
       "                  1,           1,           1,           1,           1,           1,           1,           1,           1,           1,           1,           1,           1,           1,           1,           1,           1,           1,           1,           1,           1,           1,           1,\n",
       "                  1,           1,           1,           1,           1,           1,           1,           1,           1,           1,           1,           1,           1,           1,           1,           1,           1,           1,           1,           1,           1,           1,           1,\n",
       "                  1,           1,           1,           1,           1,           1,           1,           1,           1,           1,           1,           1,           1,           1,           1,           1,           1,           1,           1,           1,           1,           1,           1,\n",
       "                  1,           1,           1,           1,           1,           1,           1,           1,           1,           1,           1,           1,           1,           1,           1,           1,           1,           1,           1,           1,           1,           1,           1,\n",
       "                  1,           1,           1,           1,           1,           1,           1,           1,           1,           1,           1,           1,           1,           1,           1,           1,           1,           1,           1,           1,           1,           1,           1,\n",
       "                  1,           1,           1,           1,           1,           1,           1,           1,           1,           1,           1,           1,           1,           1,           1,           1,           1,           1,           1,           1,           1,           1,           1,\n",
       "                  1,           1,           1,           1,           1,           1,           1,           1,           1,           1,           1,           1,           1,           1,           1,           1,           1,           1,           1,           1,           1,           1,           1,\n",
       "                  1,           1,           1,           1,           1,           1,           1,           1,           1,           1,           1,           1,           1,           1,           1,           1,           1,           1,           1,           1,           1,           1,           1,\n",
       "                  1,           1,           1,           1,           1,           1,           1,           1,           1,           1,           1,           1,           1,           1,           1,           1,           1,           1,           1,           1,           1,           1,           1,\n",
       "                  1,           1,           1,           1,           1,           1,           1,           1,           1,           1,           1,           1,           1,           1,           1,           1,           1,           1,           1,           1,           1,           1,           1,\n",
       "                  1,           1,           1,           1,           1,           1,           1,           1,           1,           1,           1,           1,           1,           1,           1,           1,           1,           1,           1,           1,           1,           1,           1,\n",
       "                  1,           1,           1,           1,           1,           1,           1,           1,           1,           1,           1,           1,           1,           1,           1,           1,           1,           1,           1,           1,           1,           1,           1,\n",
       "                  1,           1,           1,           1,           1,           1,           1,           1,           1,           1,           1,     0.99757,     0.99757,     0.99517,     0.99517,     0.99279,     0.99279,     0.99279,     0.98812,     0.98812,     0.98812,     0.98812,     0.98812,\n",
       "            0.98812,     0.98588,     0.98588,     0.98588,     0.98588,     0.98588,     0.98588,     0.98588,     0.97674,     0.97674,     0.97005,     0.97005,     0.94407,     0.94407,        0.94,        0.94,     0.90213,     0.90213,     0.88727,     0.88727,     0.88727,     0.80835,     0.80835,\n",
       "            0.75442,     0.75442,     0.72666,     0.72666,     0.62811,     0.62811,     0.56653,     0.56653,     0.48614,     0.47929,     0.47244,      0.4656,     0.45875,      0.4519,     0.44506,     0.43821,     0.43136,     0.42452,     0.41767,     0.41082,     0.40397,     0.39713,     0.39028,\n",
       "            0.38343,     0.37659,     0.36974,     0.36289,     0.35604,      0.3492,     0.34235,      0.3355,     0.32866,     0.32181,     0.31496,     0.30812,     0.30127,     0.29442,     0.28757,     0.28073,     0.27388,     0.26703,     0.26019,     0.25334,     0.24649,     0.23965,      0.2328,\n",
       "            0.22595,      0.2191,     0.21226,     0.20541,     0.19856,     0.19172,     0.18487,     0.17802,     0.17118,     0.16433,     0.15748,     0.15063,     0.14379,     0.13694,     0.13009,     0.12325,      0.1164,     0.10955,     0.10271,    0.095858,    0.089011,    0.082164,    0.075317,\n",
       "            0.06847,    0.061623,    0.054776,    0.047929,    0.041082,    0.034235,    0.027388,    0.020541,    0.013694,    0.006847,           0]]), 'Recall', 'Precision'], [array([          0,    0.001001,    0.002002,    0.003003,    0.004004,    0.005005,    0.006006,    0.007007,    0.008008,    0.009009,     0.01001,    0.011011,    0.012012,    0.013013,    0.014014,    0.015015,    0.016016,    0.017017,    0.018018,    0.019019,     0.02002,    0.021021,    0.022022,    0.023023,\n",
       "          0.024024,    0.025025,    0.026026,    0.027027,    0.028028,    0.029029,     0.03003,    0.031031,    0.032032,    0.033033,    0.034034,    0.035035,    0.036036,    0.037037,    0.038038,    0.039039,     0.04004,    0.041041,    0.042042,    0.043043,    0.044044,    0.045045,    0.046046,    0.047047,\n",
       "          0.048048,    0.049049,     0.05005,    0.051051,    0.052052,    0.053053,    0.054054,    0.055055,    0.056056,    0.057057,    0.058058,    0.059059,     0.06006,    0.061061,    0.062062,    0.063063,    0.064064,    0.065065,    0.066066,    0.067067,    0.068068,    0.069069,     0.07007,    0.071071,\n",
       "          0.072072,    0.073073,    0.074074,    0.075075,    0.076076,    0.077077,    0.078078,    0.079079,     0.08008,    0.081081,    0.082082,    0.083083,    0.084084,    0.085085,    0.086086,    0.087087,    0.088088,    0.089089,     0.09009,    0.091091,    0.092092,    0.093093,    0.094094,    0.095095,\n",
       "          0.096096,    0.097097,    0.098098,    0.099099,      0.1001,      0.1011,      0.1021,      0.1031,      0.1041,     0.10511,     0.10611,     0.10711,     0.10811,     0.10911,     0.11011,     0.11111,     0.11211,     0.11311,     0.11411,     0.11512,     0.11612,     0.11712,     0.11812,     0.11912,\n",
       "           0.12012,     0.12112,     0.12212,     0.12312,     0.12412,     0.12513,     0.12613,     0.12713,     0.12813,     0.12913,     0.13013,     0.13113,     0.13213,     0.13313,     0.13413,     0.13514,     0.13614,     0.13714,     0.13814,     0.13914,     0.14014,     0.14114,     0.14214,     0.14314,\n",
       "           0.14414,     0.14515,     0.14615,     0.14715,     0.14815,     0.14915,     0.15015,     0.15115,     0.15215,     0.15315,     0.15415,     0.15516,     0.15616,     0.15716,     0.15816,     0.15916,     0.16016,     0.16116,     0.16216,     0.16316,     0.16416,     0.16517,     0.16617,     0.16717,\n",
       "           0.16817,     0.16917,     0.17017,     0.17117,     0.17217,     0.17317,     0.17417,     0.17518,     0.17618,     0.17718,     0.17818,     0.17918,     0.18018,     0.18118,     0.18218,     0.18318,     0.18418,     0.18519,     0.18619,     0.18719,     0.18819,     0.18919,     0.19019,     0.19119,\n",
       "           0.19219,     0.19319,     0.19419,      0.1952,      0.1962,      0.1972,      0.1982,      0.1992,      0.2002,      0.2012,      0.2022,      0.2032,      0.2042,     0.20521,     0.20621,     0.20721,     0.20821,     0.20921,     0.21021,     0.21121,     0.21221,     0.21321,     0.21421,     0.21522,\n",
       "           0.21622,     0.21722,     0.21822,     0.21922,     0.22022,     0.22122,     0.22222,     0.22322,     0.22422,     0.22523,     0.22623,     0.22723,     0.22823,     0.22923,     0.23023,     0.23123,     0.23223,     0.23323,     0.23423,     0.23524,     0.23624,     0.23724,     0.23824,     0.23924,\n",
       "           0.24024,     0.24124,     0.24224,     0.24324,     0.24424,     0.24525,     0.24625,     0.24725,     0.24825,     0.24925,     0.25025,     0.25125,     0.25225,     0.25325,     0.25425,     0.25526,     0.25626,     0.25726,     0.25826,     0.25926,     0.26026,     0.26126,     0.26226,     0.26326,\n",
       "           0.26426,     0.26527,     0.26627,     0.26727,     0.26827,     0.26927,     0.27027,     0.27127,     0.27227,     0.27327,     0.27427,     0.27528,     0.27628,     0.27728,     0.27828,     0.27928,     0.28028,     0.28128,     0.28228,     0.28328,     0.28428,     0.28529,     0.28629,     0.28729,\n",
       "           0.28829,     0.28929,     0.29029,     0.29129,     0.29229,     0.29329,     0.29429,      0.2953,      0.2963,      0.2973,      0.2983,      0.2993,      0.3003,      0.3013,      0.3023,      0.3033,      0.3043,     0.30531,     0.30631,     0.30731,     0.30831,     0.30931,     0.31031,     0.31131,\n",
       "           0.31231,     0.31331,     0.31431,     0.31532,     0.31632,     0.31732,     0.31832,     0.31932,     0.32032,     0.32132,     0.32232,     0.32332,     0.32432,     0.32533,     0.32633,     0.32733,     0.32833,     0.32933,     0.33033,     0.33133,     0.33233,     0.33333,     0.33433,     0.33534,\n",
       "           0.33634,     0.33734,     0.33834,     0.33934,     0.34034,     0.34134,     0.34234,     0.34334,     0.34434,     0.34535,     0.34635,     0.34735,     0.34835,     0.34935,     0.35035,     0.35135,     0.35235,     0.35335,     0.35435,     0.35536,     0.35636,     0.35736,     0.35836,     0.35936,\n",
       "           0.36036,     0.36136,     0.36236,     0.36336,     0.36436,     0.36537,     0.36637,     0.36737,     0.36837,     0.36937,     0.37037,     0.37137,     0.37237,     0.37337,     0.37437,     0.37538,     0.37638,     0.37738,     0.37838,     0.37938,     0.38038,     0.38138,     0.38238,     0.38338,\n",
       "           0.38438,     0.38539,     0.38639,     0.38739,     0.38839,     0.38939,     0.39039,     0.39139,     0.39239,     0.39339,     0.39439,      0.3954,      0.3964,      0.3974,      0.3984,      0.3994,      0.4004,      0.4014,      0.4024,      0.4034,      0.4044,     0.40541,     0.40641,     0.40741,\n",
       "           0.40841,     0.40941,     0.41041,     0.41141,     0.41241,     0.41341,     0.41441,     0.41542,     0.41642,     0.41742,     0.41842,     0.41942,     0.42042,     0.42142,     0.42242,     0.42342,     0.42442,     0.42543,     0.42643,     0.42743,     0.42843,     0.42943,     0.43043,     0.43143,\n",
       "           0.43243,     0.43343,     0.43443,     0.43544,     0.43644,     0.43744,     0.43844,     0.43944,     0.44044,     0.44144,     0.44244,     0.44344,     0.44444,     0.44545,     0.44645,     0.44745,     0.44845,     0.44945,     0.45045,     0.45145,     0.45245,     0.45345,     0.45445,     0.45546,\n",
       "           0.45646,     0.45746,     0.45846,     0.45946,     0.46046,     0.46146,     0.46246,     0.46346,     0.46446,     0.46547,     0.46647,     0.46747,     0.46847,     0.46947,     0.47047,     0.47147,     0.47247,     0.47347,     0.47447,     0.47548,     0.47648,     0.47748,     0.47848,     0.47948,\n",
       "           0.48048,     0.48148,     0.48248,     0.48348,     0.48448,     0.48549,     0.48649,     0.48749,     0.48849,     0.48949,     0.49049,     0.49149,     0.49249,     0.49349,     0.49449,      0.4955,      0.4965,      0.4975,      0.4985,      0.4995,      0.5005,      0.5015,      0.5025,      0.5035,\n",
       "            0.5045,     0.50551,     0.50651,     0.50751,     0.50851,     0.50951,     0.51051,     0.51151,     0.51251,     0.51351,     0.51451,     0.51552,     0.51652,     0.51752,     0.51852,     0.51952,     0.52052,     0.52152,     0.52252,     0.52352,     0.52452,     0.52553,     0.52653,     0.52753,\n",
       "           0.52853,     0.52953,     0.53053,     0.53153,     0.53253,     0.53353,     0.53453,     0.53554,     0.53654,     0.53754,     0.53854,     0.53954,     0.54054,     0.54154,     0.54254,     0.54354,     0.54454,     0.54555,     0.54655,     0.54755,     0.54855,     0.54955,     0.55055,     0.55155,\n",
       "           0.55255,     0.55355,     0.55455,     0.55556,     0.55656,     0.55756,     0.55856,     0.55956,     0.56056,     0.56156,     0.56256,     0.56356,     0.56456,     0.56557,     0.56657,     0.56757,     0.56857,     0.56957,     0.57057,     0.57157,     0.57257,     0.57357,     0.57457,     0.57558,\n",
       "           0.57658,     0.57758,     0.57858,     0.57958,     0.58058,     0.58158,     0.58258,     0.58358,     0.58458,     0.58559,     0.58659,     0.58759,     0.58859,     0.58959,     0.59059,     0.59159,     0.59259,     0.59359,     0.59459,      0.5956,      0.5966,      0.5976,      0.5986,      0.5996,\n",
       "            0.6006,      0.6016,      0.6026,      0.6036,      0.6046,     0.60561,     0.60661,     0.60761,     0.60861,     0.60961,     0.61061,     0.61161,     0.61261,     0.61361,     0.61461,     0.61562,     0.61662,     0.61762,     0.61862,     0.61962,     0.62062,     0.62162,     0.62262,     0.62362,\n",
       "           0.62462,     0.62563,     0.62663,     0.62763,     0.62863,     0.62963,     0.63063,     0.63163,     0.63263,     0.63363,     0.63463,     0.63564,     0.63664,     0.63764,     0.63864,     0.63964,     0.64064,     0.64164,     0.64264,     0.64364,     0.64464,     0.64565,     0.64665,     0.64765,\n",
       "           0.64865,     0.64965,     0.65065,     0.65165,     0.65265,     0.65365,     0.65465,     0.65566,     0.65666,     0.65766,     0.65866,     0.65966,     0.66066,     0.66166,     0.66266,     0.66366,     0.66466,     0.66567,     0.66667,     0.66767,     0.66867,     0.66967,     0.67067,     0.67167,\n",
       "           0.67267,     0.67367,     0.67467,     0.67568,     0.67668,     0.67768,     0.67868,     0.67968,     0.68068,     0.68168,     0.68268,     0.68368,     0.68468,     0.68569,     0.68669,     0.68769,     0.68869,     0.68969,     0.69069,     0.69169,     0.69269,     0.69369,     0.69469,      0.6957,\n",
       "            0.6967,      0.6977,      0.6987,      0.6997,      0.7007,      0.7017,      0.7027,      0.7037,      0.7047,     0.70571,     0.70671,     0.70771,     0.70871,     0.70971,     0.71071,     0.71171,     0.71271,     0.71371,     0.71471,     0.71572,     0.71672,     0.71772,     0.71872,     0.71972,\n",
       "           0.72072,     0.72172,     0.72272,     0.72372,     0.72472,     0.72573,     0.72673,     0.72773,     0.72873,     0.72973,     0.73073,     0.73173,     0.73273,     0.73373,     0.73473,     0.73574,     0.73674,     0.73774,     0.73874,     0.73974,     0.74074,     0.74174,     0.74274,     0.74374,\n",
       "           0.74474,     0.74575,     0.74675,     0.74775,     0.74875,     0.74975,     0.75075,     0.75175,     0.75275,     0.75375,     0.75475,     0.75576,     0.75676,     0.75776,     0.75876,     0.75976,     0.76076,     0.76176,     0.76276,     0.76376,     0.76476,     0.76577,     0.76677,     0.76777,\n",
       "           0.76877,     0.76977,     0.77077,     0.77177,     0.77277,     0.77377,     0.77477,     0.77578,     0.77678,     0.77778,     0.77878,     0.77978,     0.78078,     0.78178,     0.78278,     0.78378,     0.78478,     0.78579,     0.78679,     0.78779,     0.78879,     0.78979,     0.79079,     0.79179,\n",
       "           0.79279,     0.79379,     0.79479,      0.7958,      0.7968,      0.7978,      0.7988,      0.7998,      0.8008,      0.8018,      0.8028,      0.8038,      0.8048,     0.80581,     0.80681,     0.80781,     0.80881,     0.80981,     0.81081,     0.81181,     0.81281,     0.81381,     0.81481,     0.81582,\n",
       "           0.81682,     0.81782,     0.81882,     0.81982,     0.82082,     0.82182,     0.82282,     0.82382,     0.82482,     0.82583,     0.82683,     0.82783,     0.82883,     0.82983,     0.83083,     0.83183,     0.83283,     0.83383,     0.83483,     0.83584,     0.83684,     0.83784,     0.83884,     0.83984,\n",
       "           0.84084,     0.84184,     0.84284,     0.84384,     0.84484,     0.84585,     0.84685,     0.84785,     0.84885,     0.84985,     0.85085,     0.85185,     0.85285,     0.85385,     0.85485,     0.85586,     0.85686,     0.85786,     0.85886,     0.85986,     0.86086,     0.86186,     0.86286,     0.86386,\n",
       "           0.86486,     0.86587,     0.86687,     0.86787,     0.86887,     0.86987,     0.87087,     0.87187,     0.87287,     0.87387,     0.87487,     0.87588,     0.87688,     0.87788,     0.87888,     0.87988,     0.88088,     0.88188,     0.88288,     0.88388,     0.88488,     0.88589,     0.88689,     0.88789,\n",
       "           0.88889,     0.88989,     0.89089,     0.89189,     0.89289,     0.89389,     0.89489,      0.8959,      0.8969,      0.8979,      0.8989,      0.8999,      0.9009,      0.9019,      0.9029,      0.9039,      0.9049,     0.90591,     0.90691,     0.90791,     0.90891,     0.90991,     0.91091,     0.91191,\n",
       "           0.91291,     0.91391,     0.91491,     0.91592,     0.91692,     0.91792,     0.91892,     0.91992,     0.92092,     0.92192,     0.92292,     0.92392,     0.92492,     0.92593,     0.92693,     0.92793,     0.92893,     0.92993,     0.93093,     0.93193,     0.93293,     0.93393,     0.93493,     0.93594,\n",
       "           0.93694,     0.93794,     0.93894,     0.93994,     0.94094,     0.94194,     0.94294,     0.94394,     0.94494,     0.94595,     0.94695,     0.94795,     0.94895,     0.94995,     0.95095,     0.95195,     0.95295,     0.95395,     0.95495,     0.95596,     0.95696,     0.95796,     0.95896,     0.95996,\n",
       "           0.96096,     0.96196,     0.96296,     0.96396,     0.96496,     0.96597,     0.96697,     0.96797,     0.96897,     0.96997,     0.97097,     0.97197,     0.97297,     0.97397,     0.97497,     0.97598,     0.97698,     0.97798,     0.97898,     0.97998,     0.98098,     0.98198,     0.98298,     0.98398,\n",
       "           0.98498,     0.98599,     0.98699,     0.98799,     0.98899,     0.98999,     0.99099,     0.99199,     0.99299,     0.99399,     0.99499,       0.996,       0.997,       0.998,       0.999,           1]), array([[    0.63941,     0.63945,     0.74434,     0.79343,     0.82253,     0.83216,     0.84595,     0.85991,      0.8642,     0.87322,     0.87903,     0.88218,     0.88415,     0.88759,      0.8889,     0.89258,     0.89539,     0.89886,     0.90162,     0.90413,     0.90601,     0.90722,     0.90868,\n",
       "            0.91118,     0.91301,     0.91428,     0.91573,     0.91653,     0.91695,     0.91734,     0.91769,     0.91796,     0.91824,     0.91851,     0.91897,     0.91947,      0.9206,     0.92082,     0.92104,     0.92126,     0.92148,      0.9229,      0.9236,     0.92379,     0.92397,     0.92415,\n",
       "            0.92434,     0.92452,     0.92586,     0.92657,      0.9265,     0.92638,     0.92627,     0.92615,     0.92603,     0.92591,     0.92579,     0.92567,     0.92555,     0.92545,     0.92572,     0.92598,     0.92625,      0.9266,     0.92724,      0.9264,     0.92687,     0.92834,     0.92861,\n",
       "            0.92887,     0.92913,     0.92938,     0.92951,     0.92965,     0.92978,     0.92991,     0.93005,     0.93018,     0.93032,     0.93102,     0.93173,     0.93219,     0.93262,     0.93302,     0.93342,     0.93356,     0.93365,     0.93375,     0.93384,     0.93394,     0.93403,     0.93412,\n",
       "            0.93422,     0.93431,      0.9344,      0.9345,      0.9347,     0.93494,     0.93517,      0.9354,     0.93593,      0.9368,     0.93733,     0.93867,     0.93861,     0.93854,     0.93848,     0.93842,     0.93836,      0.9383,     0.93823,     0.93817,     0.93811,     0.93805,     0.93798,\n",
       "            0.93792,     0.93786,      0.9378,     0.93774,     0.93767,     0.93761,     0.93755,     0.93757,     0.93793,     0.93829,      0.9386,      0.9388,     0.93901,     0.93921,     0.93941,     0.93962,     0.94001,      0.9404,      0.9406,     0.94048,     0.94036,     0.94024,     0.94012,\n",
       "            0.93999,     0.93987,     0.93975,     0.93963,     0.93951,     0.93958,     0.93977,     0.93995,     0.94014,     0.94032,     0.94051,     0.94085,      0.9412,     0.94154,      0.9416,     0.94164,     0.94167,     0.94171,     0.94174,     0.94178,     0.94181,     0.94184,     0.94188,\n",
       "            0.94191,     0.94195,     0.94198,     0.94202,     0.94205,     0.94209,     0.94212,     0.94215,     0.94219,     0.94222,     0.94226,     0.94229,     0.94233,     0.94236,     0.94239,     0.94243,     0.94246,      0.9425,     0.94253,     0.94257,      0.9426,     0.94263,     0.94265,\n",
       "            0.94266,     0.94267,     0.94268,      0.9427,     0.94271,     0.94272,     0.94273,     0.94275,     0.94276,     0.94277,     0.94278,      0.9428,     0.94281,     0.94282,     0.94283,     0.94285,     0.94286,     0.94287,     0.94289,      0.9429,     0.94291,     0.94292,     0.94294,\n",
       "            0.94295,     0.94296,     0.94297,     0.94299,       0.943,     0.94301,     0.94302,     0.94304,     0.94305,     0.94306,     0.94307,     0.94309,      0.9431,     0.94311,     0.94313,     0.94314,     0.94315,     0.94316,     0.94318,     0.94319,      0.9432,     0.94321,     0.94323,\n",
       "            0.94324,     0.94325,     0.94326,     0.94328,     0.94329,      0.9433,     0.94331,     0.94333,     0.94334,     0.94335,     0.94337,     0.94338,     0.94339,      0.9434,     0.94342,     0.94343,     0.94344,     0.94345,     0.94347,     0.94348,     0.94349,      0.9435,     0.94352,\n",
       "            0.94353,     0.94354,     0.94355,     0.94357,     0.94358,     0.94359,      0.9436,     0.94362,     0.94363,     0.94364,     0.94366,     0.94367,     0.94368,     0.94369,     0.94356,     0.94342,     0.94328,     0.94313,     0.94299,     0.94285,     0.94271,     0.94257,     0.94244,\n",
       "            0.94231,     0.94219,     0.94207,     0.94195,     0.94182,      0.9417,     0.94158,     0.94145,     0.94133,     0.94041,     0.94027,     0.94048,     0.94069,      0.9409,     0.94111,     0.94116,     0.94114,     0.94112,      0.9411,     0.94108,     0.94106,     0.94105,     0.94103,\n",
       "            0.94101,     0.94099,     0.94097,     0.94095,     0.94093,     0.94091,     0.94089,     0.94087,     0.94085,     0.94083,     0.94081,     0.94079,     0.94077,     0.94075,     0.94073,     0.94071,     0.94069,     0.94067,     0.94065,     0.94063,     0.94061,     0.94059,     0.94057,\n",
       "            0.94055,     0.94053,     0.94051,     0.94049,     0.94047,     0.94045,     0.94043,     0.94041,     0.94039,     0.94038,     0.94036,     0.94034,     0.94032,      0.9403,     0.94028,     0.94026,     0.94024,     0.94022,      0.9402,     0.94018,     0.94016,     0.94014,     0.94012,\n",
       "             0.9401,     0.94008,     0.94006,     0.94004,     0.94002,        0.94,     0.93998,     0.93992,     0.93984,     0.93977,     0.93969,     0.93962,     0.93955,     0.93947,      0.9394,     0.93933,     0.93925,     0.93918,      0.9391,     0.93903,     0.93896,     0.93888,     0.93881,\n",
       "            0.93876,     0.93872,     0.93869,     0.93865,     0.93861,     0.93858,     0.93854,     0.93851,     0.93847,     0.93844,      0.9384,     0.93837,     0.93833,      0.9383,     0.93826,     0.93823,     0.93819,     0.93816,     0.93812,     0.93808,     0.93805,     0.93801,     0.93798,\n",
       "            0.93794,     0.93791,     0.93787,     0.93784,      0.9378,     0.93777,     0.93773,      0.9377,     0.93766,     0.93762,     0.93759,      0.9376,     0.93766,     0.93772,     0.93778,     0.93784,      0.9379,     0.93796,     0.93802,     0.93808,     0.93814,      0.9382,     0.93826,\n",
       "            0.93832,     0.93838,     0.93844,      0.9385,     0.93856,     0.93862,     0.93925,     0.93963,     0.93949,     0.93934,      0.9392,     0.93906,     0.93891,     0.93877,     0.93863,      0.9385,     0.93852,     0.93854,     0.93856,     0.93858,      0.9386,     0.93862,     0.93864,\n",
       "            0.93866,     0.93868,      0.9387,     0.93872,     0.93874,     0.93876,     0.93878,      0.9388,     0.93882,     0.93884,     0.93886,     0.93888,      0.9389,     0.93892,     0.93894,     0.93896,     0.93898,       0.939,     0.93902,     0.93904,     0.93906,     0.93909,     0.93911,\n",
       "            0.93913,     0.93915,     0.93917,     0.93919,     0.93921,     0.93923,     0.93925,     0.93927,     0.93929,     0.93931,     0.93933,     0.93935,     0.93937,     0.93939,     0.93941,     0.93943,     0.93945,     0.93947,     0.93949,     0.93951,     0.93953,     0.93955,     0.93956,\n",
       "            0.93952,     0.93949,     0.93945,     0.93942,     0.93938,     0.93934,     0.93931,     0.93927,     0.93924,      0.9392,     0.93916,     0.93913,     0.93909,     0.93905,     0.93902,     0.93898,     0.93895,     0.93891,     0.93887,     0.93884,      0.9388,     0.93876,     0.93873,\n",
       "            0.93869,     0.93866,     0.93862,     0.93858,     0.93855,     0.93851,     0.93847,     0.93844,      0.9384,     0.93837,     0.93908,     0.93936,     0.93926,     0.93916,     0.93906,     0.93896,     0.93886,     0.93875,     0.93865,     0.93855,     0.93845,     0.93835,     0.93825,\n",
       "            0.93837,      0.9386,     0.93883,     0.93906,     0.93928,     0.93926,     0.93922,     0.93919,     0.93916,     0.93913,     0.93909,     0.93906,     0.93903,     0.93899,     0.93896,     0.93893,     0.93889,     0.93886,     0.93883,      0.9388,     0.93876,     0.93873,      0.9387,\n",
       "            0.93866,     0.93863,      0.9386,     0.93856,     0.93853,      0.9385,     0.93846,     0.93843,      0.9384,     0.93837,     0.93833,      0.9383,     0.93827,     0.93823,      0.9382,     0.93817,     0.93813,      0.9381,     0.93807,     0.93804,     0.93802,     0.93799,     0.93797,\n",
       "            0.93794,     0.93792,      0.9379,     0.93787,     0.93785,     0.93782,      0.9378,     0.93777,     0.93775,     0.93772,      0.9377,     0.93767,     0.93765,     0.93762,      0.9376,     0.93757,     0.93755,     0.93752,      0.9375,     0.93747,     0.93745,     0.93742,      0.9374,\n",
       "            0.93737,     0.93735,     0.93732,      0.9373,     0.93727,     0.93725,     0.93722,      0.9372,     0.93717,     0.93715,     0.93712,      0.9371,     0.93707,     0.93705,     0.93702,       0.937,     0.93697,     0.93695,     0.93692,      0.9369,     0.93687,     0.93648,     0.93562,\n",
       "             0.9356,     0.93557,     0.93555,     0.93553,      0.9355,     0.93548,     0.93546,     0.93543,     0.93541,     0.93539,     0.93536,     0.93534,     0.93532,     0.93529,     0.93527,     0.93525,     0.93522,      0.9352,     0.93518,     0.93515,     0.93513,     0.93511,     0.93508,\n",
       "            0.93506,     0.93504,     0.93501,     0.93499,     0.93497,     0.93494,     0.93492,      0.9349,     0.93487,     0.93485,     0.93483,      0.9348,     0.93478,     0.93476,     0.93473,     0.93471,     0.93469,     0.93467,     0.93464,     0.93462,      0.9346,     0.93457,     0.93455,\n",
       "            0.93453,      0.9345,     0.93448,     0.93446,     0.93443,     0.93441,     0.93431,      0.9342,     0.93409,     0.93398,     0.93387,     0.93376,     0.93365,     0.93354,     0.93343,     0.93332,     0.93321,     0.93315,     0.93311,     0.93307,     0.93303,     0.93298,     0.93294,\n",
       "             0.9329,     0.93286,     0.93282,     0.93278,     0.93274,      0.9327,     0.93266,     0.93262,     0.93258,     0.93253,     0.93249,     0.93245,     0.93241,     0.93237,     0.93233,     0.93229,     0.93225,     0.93221,     0.93217,     0.93213,     0.93208,     0.93204,       0.932,\n",
       "            0.93196,     0.93062,      0.9304,     0.93017,     0.92995,     0.92973,      0.9295,      0.9286,     0.92721,     0.92685,     0.92669,     0.92652,     0.92636,     0.92619,     0.92603,     0.92586,     0.92575,     0.92573,     0.92571,      0.9257,     0.92568,     0.92566,     0.92564,\n",
       "            0.92563,     0.92561,     0.92559,     0.92557,     0.92556,     0.92554,     0.92552,      0.9255,     0.92549,     0.92547,     0.92545,     0.92543,     0.92542,      0.9254,     0.92538,     0.92536,     0.92535,     0.92533,     0.92531,      0.9253,     0.92528,     0.92526,     0.92524,\n",
       "            0.92523,     0.92521,     0.92519,     0.92517,     0.92516,     0.92514,     0.92512,      0.9251,     0.92509,     0.92507,     0.92505,     0.92503,     0.92502,       0.925,     0.92498,     0.92496,     0.92495,     0.92493,     0.92491,     0.92489,     0.92488,     0.92486,     0.92484,\n",
       "            0.92482,     0.92481,     0.92479,     0.92477,     0.92475,     0.92474,     0.92472,      0.9247,     0.92468,     0.92467,     0.92465,     0.92463,     0.92461,      0.9246,     0.92458,     0.92456,     0.92455,     0.92453,     0.92451,     0.92441,     0.92429,     0.92417,     0.92406,\n",
       "            0.92394,     0.92382,      0.9237,     0.92358,     0.92346,     0.92334,     0.92322,     0.92311,       0.923,      0.9229,     0.92279,     0.92268,     0.92257,     0.92246,     0.92235,     0.92224,     0.92214,     0.92203,     0.92184,     0.92162,      0.9214,     0.92119,     0.92097,\n",
       "            0.92075,     0.91989,     0.91936,     0.91913,      0.9189,     0.91867,     0.91844,     0.91819,     0.91782,     0.91744,     0.91707,     0.91689,      0.9168,      0.9167,     0.91661,     0.91651,     0.91642,     0.91633,     0.91623,     0.91614,     0.91604,     0.91595,     0.91585,\n",
       "            0.91576,     0.91437,     0.91337,     0.91289,     0.91255,     0.91222,     0.91188,     0.91114,     0.91048,     0.91011,     0.90973,     0.90935,     0.90908,     0.90883,     0.90858,     0.90833,     0.90808,     0.90781,     0.90753,     0.90724,     0.90696,     0.90664,     0.90615,\n",
       "            0.90565,     0.90484,     0.90384,     0.90295,         0.9,     0.89937,     0.89869,     0.89789,     0.89734,     0.89691,     0.89648,     0.89588,     0.89519,     0.89423,     0.89215,     0.89084,      0.8904,     0.88997,     0.88942,     0.88863,     0.88789,     0.88718,     0.88672,\n",
       "            0.88633,     0.88594,     0.88535,     0.88437,     0.88241,     0.88029,     0.87939,     0.87739,     0.87639,     0.87485,     0.87335,     0.87296,     0.87256,     0.87217,     0.87083,     0.86994,     0.86815,     0.86604,     0.86509,     0.86124,     0.85972,      0.8576,     0.85672,\n",
       "            0.85459,     0.85376,      0.8533,     0.85283,     0.85012,     0.84755,     0.84333,     0.83812,     0.83532,      0.8244,     0.81939,     0.81256,     0.80716,     0.79611,     0.79022,     0.78403,     0.76997,     0.75595,     0.74113,     0.72373,     0.71366,     0.69313,     0.67948,\n",
       "            0.65025,     0.63759,     0.61597,     0.58386,     0.54649,     0.51969,     0.48459,     0.44425,     0.41739,     0.39681,      0.3598,     0.32757,     0.28862,     0.25162,     0.23154,     0.19778,     0.16352,     0.13931,     0.10994,    0.085333,     0.05471,    0.029794,      0.0227,\n",
       "          0.0074967,           0,           0,           0,           0,           0,           0,           0,           0,           0,           0,           0,           0,           0,           0,           0,           0,           0,           0,           0,           0,           0,           0,\n",
       "                  0,           0,           0,           0,           0,           0,           0,           0,           0,           0,           0]]), 'Confidence', 'F1'], [array([          0,    0.001001,    0.002002,    0.003003,    0.004004,    0.005005,    0.006006,    0.007007,    0.008008,    0.009009,     0.01001,    0.011011,    0.012012,    0.013013,    0.014014,    0.015015,    0.016016,    0.017017,    0.018018,    0.019019,     0.02002,    0.021021,    0.022022,    0.023023,\n",
       "          0.024024,    0.025025,    0.026026,    0.027027,    0.028028,    0.029029,     0.03003,    0.031031,    0.032032,    0.033033,    0.034034,    0.035035,    0.036036,    0.037037,    0.038038,    0.039039,     0.04004,    0.041041,    0.042042,    0.043043,    0.044044,    0.045045,    0.046046,    0.047047,\n",
       "          0.048048,    0.049049,     0.05005,    0.051051,    0.052052,    0.053053,    0.054054,    0.055055,    0.056056,    0.057057,    0.058058,    0.059059,     0.06006,    0.061061,    0.062062,    0.063063,    0.064064,    0.065065,    0.066066,    0.067067,    0.068068,    0.069069,     0.07007,    0.071071,\n",
       "          0.072072,    0.073073,    0.074074,    0.075075,    0.076076,    0.077077,    0.078078,    0.079079,     0.08008,    0.081081,    0.082082,    0.083083,    0.084084,    0.085085,    0.086086,    0.087087,    0.088088,    0.089089,     0.09009,    0.091091,    0.092092,    0.093093,    0.094094,    0.095095,\n",
       "          0.096096,    0.097097,    0.098098,    0.099099,      0.1001,      0.1011,      0.1021,      0.1031,      0.1041,     0.10511,     0.10611,     0.10711,     0.10811,     0.10911,     0.11011,     0.11111,     0.11211,     0.11311,     0.11411,     0.11512,     0.11612,     0.11712,     0.11812,     0.11912,\n",
       "           0.12012,     0.12112,     0.12212,     0.12312,     0.12412,     0.12513,     0.12613,     0.12713,     0.12813,     0.12913,     0.13013,     0.13113,     0.13213,     0.13313,     0.13413,     0.13514,     0.13614,     0.13714,     0.13814,     0.13914,     0.14014,     0.14114,     0.14214,     0.14314,\n",
       "           0.14414,     0.14515,     0.14615,     0.14715,     0.14815,     0.14915,     0.15015,     0.15115,     0.15215,     0.15315,     0.15415,     0.15516,     0.15616,     0.15716,     0.15816,     0.15916,     0.16016,     0.16116,     0.16216,     0.16316,     0.16416,     0.16517,     0.16617,     0.16717,\n",
       "           0.16817,     0.16917,     0.17017,     0.17117,     0.17217,     0.17317,     0.17417,     0.17518,     0.17618,     0.17718,     0.17818,     0.17918,     0.18018,     0.18118,     0.18218,     0.18318,     0.18418,     0.18519,     0.18619,     0.18719,     0.18819,     0.18919,     0.19019,     0.19119,\n",
       "           0.19219,     0.19319,     0.19419,      0.1952,      0.1962,      0.1972,      0.1982,      0.1992,      0.2002,      0.2012,      0.2022,      0.2032,      0.2042,     0.20521,     0.20621,     0.20721,     0.20821,     0.20921,     0.21021,     0.21121,     0.21221,     0.21321,     0.21421,     0.21522,\n",
       "           0.21622,     0.21722,     0.21822,     0.21922,     0.22022,     0.22122,     0.22222,     0.22322,     0.22422,     0.22523,     0.22623,     0.22723,     0.22823,     0.22923,     0.23023,     0.23123,     0.23223,     0.23323,     0.23423,     0.23524,     0.23624,     0.23724,     0.23824,     0.23924,\n",
       "           0.24024,     0.24124,     0.24224,     0.24324,     0.24424,     0.24525,     0.24625,     0.24725,     0.24825,     0.24925,     0.25025,     0.25125,     0.25225,     0.25325,     0.25425,     0.25526,     0.25626,     0.25726,     0.25826,     0.25926,     0.26026,     0.26126,     0.26226,     0.26326,\n",
       "           0.26426,     0.26527,     0.26627,     0.26727,     0.26827,     0.26927,     0.27027,     0.27127,     0.27227,     0.27327,     0.27427,     0.27528,     0.27628,     0.27728,     0.27828,     0.27928,     0.28028,     0.28128,     0.28228,     0.28328,     0.28428,     0.28529,     0.28629,     0.28729,\n",
       "           0.28829,     0.28929,     0.29029,     0.29129,     0.29229,     0.29329,     0.29429,      0.2953,      0.2963,      0.2973,      0.2983,      0.2993,      0.3003,      0.3013,      0.3023,      0.3033,      0.3043,     0.30531,     0.30631,     0.30731,     0.30831,     0.30931,     0.31031,     0.31131,\n",
       "           0.31231,     0.31331,     0.31431,     0.31532,     0.31632,     0.31732,     0.31832,     0.31932,     0.32032,     0.32132,     0.32232,     0.32332,     0.32432,     0.32533,     0.32633,     0.32733,     0.32833,     0.32933,     0.33033,     0.33133,     0.33233,     0.33333,     0.33433,     0.33534,\n",
       "           0.33634,     0.33734,     0.33834,     0.33934,     0.34034,     0.34134,     0.34234,     0.34334,     0.34434,     0.34535,     0.34635,     0.34735,     0.34835,     0.34935,     0.35035,     0.35135,     0.35235,     0.35335,     0.35435,     0.35536,     0.35636,     0.35736,     0.35836,     0.35936,\n",
       "           0.36036,     0.36136,     0.36236,     0.36336,     0.36436,     0.36537,     0.36637,     0.36737,     0.36837,     0.36937,     0.37037,     0.37137,     0.37237,     0.37337,     0.37437,     0.37538,     0.37638,     0.37738,     0.37838,     0.37938,     0.38038,     0.38138,     0.38238,     0.38338,\n",
       "           0.38438,     0.38539,     0.38639,     0.38739,     0.38839,     0.38939,     0.39039,     0.39139,     0.39239,     0.39339,     0.39439,      0.3954,      0.3964,      0.3974,      0.3984,      0.3994,      0.4004,      0.4014,      0.4024,      0.4034,      0.4044,     0.40541,     0.40641,     0.40741,\n",
       "           0.40841,     0.40941,     0.41041,     0.41141,     0.41241,     0.41341,     0.41441,     0.41542,     0.41642,     0.41742,     0.41842,     0.41942,     0.42042,     0.42142,     0.42242,     0.42342,     0.42442,     0.42543,     0.42643,     0.42743,     0.42843,     0.42943,     0.43043,     0.43143,\n",
       "           0.43243,     0.43343,     0.43443,     0.43544,     0.43644,     0.43744,     0.43844,     0.43944,     0.44044,     0.44144,     0.44244,     0.44344,     0.44444,     0.44545,     0.44645,     0.44745,     0.44845,     0.44945,     0.45045,     0.45145,     0.45245,     0.45345,     0.45445,     0.45546,\n",
       "           0.45646,     0.45746,     0.45846,     0.45946,     0.46046,     0.46146,     0.46246,     0.46346,     0.46446,     0.46547,     0.46647,     0.46747,     0.46847,     0.46947,     0.47047,     0.47147,     0.47247,     0.47347,     0.47447,     0.47548,     0.47648,     0.47748,     0.47848,     0.47948,\n",
       "           0.48048,     0.48148,     0.48248,     0.48348,     0.48448,     0.48549,     0.48649,     0.48749,     0.48849,     0.48949,     0.49049,     0.49149,     0.49249,     0.49349,     0.49449,      0.4955,      0.4965,      0.4975,      0.4985,      0.4995,      0.5005,      0.5015,      0.5025,      0.5035,\n",
       "            0.5045,     0.50551,     0.50651,     0.50751,     0.50851,     0.50951,     0.51051,     0.51151,     0.51251,     0.51351,     0.51451,     0.51552,     0.51652,     0.51752,     0.51852,     0.51952,     0.52052,     0.52152,     0.52252,     0.52352,     0.52452,     0.52553,     0.52653,     0.52753,\n",
       "           0.52853,     0.52953,     0.53053,     0.53153,     0.53253,     0.53353,     0.53453,     0.53554,     0.53654,     0.53754,     0.53854,     0.53954,     0.54054,     0.54154,     0.54254,     0.54354,     0.54454,     0.54555,     0.54655,     0.54755,     0.54855,     0.54955,     0.55055,     0.55155,\n",
       "           0.55255,     0.55355,     0.55455,     0.55556,     0.55656,     0.55756,     0.55856,     0.55956,     0.56056,     0.56156,     0.56256,     0.56356,     0.56456,     0.56557,     0.56657,     0.56757,     0.56857,     0.56957,     0.57057,     0.57157,     0.57257,     0.57357,     0.57457,     0.57558,\n",
       "           0.57658,     0.57758,     0.57858,     0.57958,     0.58058,     0.58158,     0.58258,     0.58358,     0.58458,     0.58559,     0.58659,     0.58759,     0.58859,     0.58959,     0.59059,     0.59159,     0.59259,     0.59359,     0.59459,      0.5956,      0.5966,      0.5976,      0.5986,      0.5996,\n",
       "            0.6006,      0.6016,      0.6026,      0.6036,      0.6046,     0.60561,     0.60661,     0.60761,     0.60861,     0.60961,     0.61061,     0.61161,     0.61261,     0.61361,     0.61461,     0.61562,     0.61662,     0.61762,     0.61862,     0.61962,     0.62062,     0.62162,     0.62262,     0.62362,\n",
       "           0.62462,     0.62563,     0.62663,     0.62763,     0.62863,     0.62963,     0.63063,     0.63163,     0.63263,     0.63363,     0.63463,     0.63564,     0.63664,     0.63764,     0.63864,     0.63964,     0.64064,     0.64164,     0.64264,     0.64364,     0.64464,     0.64565,     0.64665,     0.64765,\n",
       "           0.64865,     0.64965,     0.65065,     0.65165,     0.65265,     0.65365,     0.65465,     0.65566,     0.65666,     0.65766,     0.65866,     0.65966,     0.66066,     0.66166,     0.66266,     0.66366,     0.66466,     0.66567,     0.66667,     0.66767,     0.66867,     0.66967,     0.67067,     0.67167,\n",
       "           0.67267,     0.67367,     0.67467,     0.67568,     0.67668,     0.67768,     0.67868,     0.67968,     0.68068,     0.68168,     0.68268,     0.68368,     0.68468,     0.68569,     0.68669,     0.68769,     0.68869,     0.68969,     0.69069,     0.69169,     0.69269,     0.69369,     0.69469,      0.6957,\n",
       "            0.6967,      0.6977,      0.6987,      0.6997,      0.7007,      0.7017,      0.7027,      0.7037,      0.7047,     0.70571,     0.70671,     0.70771,     0.70871,     0.70971,     0.71071,     0.71171,     0.71271,     0.71371,     0.71471,     0.71572,     0.71672,     0.71772,     0.71872,     0.71972,\n",
       "           0.72072,     0.72172,     0.72272,     0.72372,     0.72472,     0.72573,     0.72673,     0.72773,     0.72873,     0.72973,     0.73073,     0.73173,     0.73273,     0.73373,     0.73473,     0.73574,     0.73674,     0.73774,     0.73874,     0.73974,     0.74074,     0.74174,     0.74274,     0.74374,\n",
       "           0.74474,     0.74575,     0.74675,     0.74775,     0.74875,     0.74975,     0.75075,     0.75175,     0.75275,     0.75375,     0.75475,     0.75576,     0.75676,     0.75776,     0.75876,     0.75976,     0.76076,     0.76176,     0.76276,     0.76376,     0.76476,     0.76577,     0.76677,     0.76777,\n",
       "           0.76877,     0.76977,     0.77077,     0.77177,     0.77277,     0.77377,     0.77477,     0.77578,     0.77678,     0.77778,     0.77878,     0.77978,     0.78078,     0.78178,     0.78278,     0.78378,     0.78478,     0.78579,     0.78679,     0.78779,     0.78879,     0.78979,     0.79079,     0.79179,\n",
       "           0.79279,     0.79379,     0.79479,      0.7958,      0.7968,      0.7978,      0.7988,      0.7998,      0.8008,      0.8018,      0.8028,      0.8038,      0.8048,     0.80581,     0.80681,     0.80781,     0.80881,     0.80981,     0.81081,     0.81181,     0.81281,     0.81381,     0.81481,     0.81582,\n",
       "           0.81682,     0.81782,     0.81882,     0.81982,     0.82082,     0.82182,     0.82282,     0.82382,     0.82482,     0.82583,     0.82683,     0.82783,     0.82883,     0.82983,     0.83083,     0.83183,     0.83283,     0.83383,     0.83483,     0.83584,     0.83684,     0.83784,     0.83884,     0.83984,\n",
       "           0.84084,     0.84184,     0.84284,     0.84384,     0.84484,     0.84585,     0.84685,     0.84785,     0.84885,     0.84985,     0.85085,     0.85185,     0.85285,     0.85385,     0.85485,     0.85586,     0.85686,     0.85786,     0.85886,     0.85986,     0.86086,     0.86186,     0.86286,     0.86386,\n",
       "           0.86486,     0.86587,     0.86687,     0.86787,     0.86887,     0.86987,     0.87087,     0.87187,     0.87287,     0.87387,     0.87487,     0.87588,     0.87688,     0.87788,     0.87888,     0.87988,     0.88088,     0.88188,     0.88288,     0.88388,     0.88488,     0.88589,     0.88689,     0.88789,\n",
       "           0.88889,     0.88989,     0.89089,     0.89189,     0.89289,     0.89389,     0.89489,      0.8959,      0.8969,      0.8979,      0.8989,      0.8999,      0.9009,      0.9019,      0.9029,      0.9039,      0.9049,     0.90591,     0.90691,     0.90791,     0.90891,     0.90991,     0.91091,     0.91191,\n",
       "           0.91291,     0.91391,     0.91491,     0.91592,     0.91692,     0.91792,     0.91892,     0.91992,     0.92092,     0.92192,     0.92292,     0.92392,     0.92492,     0.92593,     0.92693,     0.92793,     0.92893,     0.92993,     0.93093,     0.93193,     0.93293,     0.93393,     0.93493,     0.93594,\n",
       "           0.93694,     0.93794,     0.93894,     0.93994,     0.94094,     0.94194,     0.94294,     0.94394,     0.94494,     0.94595,     0.94695,     0.94795,     0.94895,     0.94995,     0.95095,     0.95195,     0.95295,     0.95395,     0.95495,     0.95596,     0.95696,     0.95796,     0.95896,     0.95996,\n",
       "           0.96096,     0.96196,     0.96296,     0.96396,     0.96496,     0.96597,     0.96697,     0.96797,     0.96897,     0.96997,     0.97097,     0.97197,     0.97297,     0.97397,     0.97497,     0.97598,     0.97698,     0.97798,     0.97898,     0.97998,     0.98098,     0.98198,     0.98298,     0.98398,\n",
       "           0.98498,     0.98599,     0.98699,     0.98799,     0.98899,     0.98999,     0.99099,     0.99199,     0.99299,     0.99399,     0.99499,       0.996,       0.997,       0.998,       0.999,           1]), array([[    0.48753,     0.48758,     0.62201,     0.69496,     0.74227,     0.75957,     0.78287,     0.80813,     0.81641,     0.83266,      0.8433,     0.84911,     0.85277,     0.85919,     0.86165,      0.8686,     0.87394,     0.88058,      0.8879,     0.89279,     0.89646,     0.89884,     0.90209,\n",
       "            0.90877,     0.91241,     0.91496,     0.91786,     0.91947,     0.92031,     0.92111,     0.92181,     0.92236,     0.92292,     0.92347,      0.9244,     0.92541,      0.9277,     0.92814,     0.92859,     0.92903,     0.92948,     0.93239,     0.93382,     0.93419,     0.93457,     0.93494,\n",
       "            0.93532,      0.9357,     0.93844,     0.93992,     0.93999,     0.93997,     0.93996,     0.93995,     0.93993,     0.93992,     0.93991,     0.93989,     0.93988,      0.9399,     0.94044,     0.94099,     0.94154,     0.94227,      0.9436,     0.94418,     0.94515,     0.94821,     0.94876,\n",
       "            0.94931,     0.94986,     0.95038,     0.95066,     0.95094,     0.95122,      0.9515,     0.95178,     0.95206,     0.95234,     0.95381,     0.95532,     0.95627,     0.95718,     0.95803,     0.95887,     0.95917,     0.95936,     0.95956,     0.95976,     0.95996,     0.96016,     0.96035,\n",
       "            0.96055,     0.96075,     0.96095,     0.96115,     0.96158,     0.96207,     0.96257,     0.96306,     0.96418,     0.96604,     0.96716,     0.97005,     0.97004,     0.97004,     0.97003,     0.97003,     0.97003,     0.97002,     0.97002,     0.97002,     0.97001,     0.97001,     0.97001,\n",
       "               0.97,        0.97,     0.96999,     0.96999,     0.96999,     0.96998,     0.96998,     0.97013,     0.97089,     0.97166,     0.97234,     0.97277,     0.97321,     0.97364,     0.97407,     0.97453,     0.97537,     0.97621,     0.97674,     0.97674,     0.97673,     0.97673,     0.97672,\n",
       "            0.97671,     0.97671,      0.9767,      0.9767,     0.97669,     0.97695,     0.97735,     0.97775,     0.97815,     0.97855,     0.97895,     0.97969,     0.98045,      0.9812,     0.98133,     0.98141,     0.98148,     0.98156,     0.98163,     0.98171,     0.98178,     0.98186,     0.98193,\n",
       "              0.982,     0.98208,     0.98215,     0.98223,      0.9823,     0.98238,     0.98245,     0.98253,      0.9826,     0.98268,     0.98275,     0.98283,      0.9829,     0.98297,     0.98305,     0.98312,      0.9832,     0.98327,     0.98335,     0.98342,      0.9835,     0.98357,      0.9836,\n",
       "            0.98362,     0.98365,     0.98368,     0.98371,     0.98373,     0.98376,     0.98379,     0.98382,     0.98384,     0.98387,      0.9839,     0.98393,     0.98395,     0.98398,     0.98401,     0.98404,     0.98406,     0.98409,     0.98412,     0.98415,     0.98417,      0.9842,     0.98423,\n",
       "            0.98426,     0.98428,     0.98431,     0.98434,     0.98437,     0.98439,     0.98442,     0.98445,     0.98448,      0.9845,     0.98453,     0.98456,     0.98459,     0.98462,     0.98464,     0.98467,      0.9847,     0.98473,     0.98475,     0.98478,     0.98481,     0.98484,     0.98486,\n",
       "            0.98489,     0.98492,     0.98495,     0.98497,       0.985,     0.98503,     0.98506,     0.98508,     0.98511,     0.98514,     0.98517,     0.98519,     0.98522,     0.98525,     0.98528,      0.9853,     0.98533,     0.98536,     0.98539,     0.98541,     0.98544,     0.98547,      0.9855,\n",
       "            0.98552,     0.98555,     0.98558,     0.98561,     0.98563,     0.98566,     0.98569,     0.98572,     0.98574,     0.98577,      0.9858,     0.98583,     0.98585,     0.98588,     0.98588,     0.98587,     0.98587,     0.98587,     0.98586,     0.98586,     0.98585,     0.98585,     0.98585,\n",
       "            0.98584,     0.98584,     0.98584,     0.98583,     0.98583,     0.98583,     0.98582,     0.98582,     0.98582,     0.98579,     0.98612,     0.98658,     0.98704,     0.98751,     0.98797,     0.98812,     0.98812,     0.98812,     0.98812,     0.98812,     0.98812,     0.98812,     0.98812,\n",
       "            0.98812,     0.98812,     0.98812,     0.98812,     0.98812,     0.98812,     0.98812,     0.98812,     0.98812,     0.98812,     0.98811,     0.98811,     0.98811,     0.98811,     0.98811,     0.98811,     0.98811,     0.98811,     0.98811,     0.98811,     0.98811,     0.98811,     0.98811,\n",
       "            0.98811,     0.98811,     0.98811,     0.98811,     0.98811,     0.98811,     0.98811,     0.98811,     0.98811,      0.9881,      0.9881,      0.9881,      0.9881,      0.9881,      0.9881,      0.9881,      0.9881,      0.9881,      0.9881,      0.9881,      0.9881,      0.9881,      0.9881,\n",
       "             0.9881,      0.9881,      0.9881,      0.9881,      0.9881,      0.9881,      0.9881,     0.98809,     0.98809,     0.98809,     0.98809,     0.98809,     0.98809,     0.98808,     0.98808,     0.98808,     0.98808,     0.98808,     0.98807,     0.98807,     0.98807,     0.98807,     0.98807,\n",
       "            0.98807,     0.98807,     0.98806,     0.98806,     0.98806,     0.98806,     0.98806,     0.98806,     0.98806,     0.98806,     0.98806,     0.98806,     0.98806,     0.98806,     0.98805,     0.98805,     0.98805,     0.98805,     0.98805,     0.98805,     0.98805,     0.98805,     0.98805,\n",
       "            0.98805,     0.98805,     0.98805,     0.98804,     0.98804,     0.98804,     0.98804,     0.98804,     0.98804,     0.98804,     0.98804,      0.9881,     0.98824,     0.98837,      0.9885,     0.98863,     0.98877,      0.9889,     0.98903,     0.98917,      0.9893,     0.98943,     0.98956,\n",
       "             0.9897,     0.98983,     0.98996,      0.9901,     0.99023,     0.99036,     0.99178,     0.99279,     0.99279,     0.99278,     0.99278,     0.99278,     0.99278,     0.99278,     0.99277,     0.99278,     0.99282,     0.99287,     0.99291,     0.99296,       0.993,     0.99305,     0.99309,\n",
       "            0.99314,     0.99318,     0.99323,     0.99327,     0.99332,     0.99336,     0.99341,     0.99345,      0.9935,     0.99355,     0.99359,     0.99364,     0.99368,     0.99373,     0.99377,     0.99382,     0.99386,     0.99391,     0.99395,       0.994,     0.99404,     0.99409,     0.99413,\n",
       "            0.99418,     0.99423,     0.99427,     0.99432,     0.99436,     0.99441,     0.99445,      0.9945,     0.99454,     0.99459,     0.99463,     0.99468,     0.99472,     0.99477,     0.99481,     0.99486,      0.9949,     0.99495,       0.995,     0.99504,     0.99509,     0.99513,     0.99517,\n",
       "            0.99517,     0.99517,     0.99517,     0.99517,     0.99517,     0.99517,     0.99517,     0.99517,     0.99517,     0.99517,     0.99517,     0.99516,     0.99516,     0.99516,     0.99516,     0.99516,     0.99516,     0.99516,     0.99516,     0.99516,     0.99516,     0.99516,     0.99516,\n",
       "            0.99516,     0.99516,     0.99516,     0.99516,     0.99516,     0.99516,     0.99516,     0.99516,     0.99516,     0.99516,     0.99678,     0.99757,     0.99757,     0.99757,     0.99757,     0.99757,     0.99757,     0.99757,     0.99757,     0.99757,     0.99757,     0.99757,     0.99757,\n",
       "            0.99793,     0.99844,     0.99895,     0.99947,     0.99998,           1,           1,           1,           1,           1,           1,           1,           1,           1,           1,           1,           1,           1,           1,           1,           1,           1,           1,\n",
       "                  1,           1,           1,           1,           1,           1,           1,           1,           1,           1,           1,           1,           1,           1,           1,           1,           1,           1,           1,           1,           1,           1,           1,\n",
       "                  1,           1,           1,           1,           1,           1,           1,           1,           1,           1,           1,           1,           1,           1,           1,           1,           1,           1,           1,           1,           1,           1,           1,\n",
       "                  1,           1,           1,           1,           1,           1,           1,           1,           1,           1,           1,           1,           1,           1,           1,           1,           1,           1,           1,           1,           1,           1,           1,\n",
       "                  1,           1,           1,           1,           1,           1,           1,           1,           1,           1,           1,           1,           1,           1,           1,           1,           1,           1,           1,           1,           1,           1,           1,\n",
       "                  1,           1,           1,           1,           1,           1,           1,           1,           1,           1,           1,           1,           1,           1,           1,           1,           1,           1,           1,           1,           1,           1,           1,\n",
       "                  1,           1,           1,           1,           1,           1,           1,           1,           1,           1,           1,           1,           1,           1,           1,           1,           1,           1,           1,           1,           1,           1,           1,\n",
       "                  1,           1,           1,           1,           1,           1,           1,           1,           1,           1,           1,           1,           1,           1,           1,           1,           1,           1,           1,           1,           1,           1,           1,\n",
       "                  1,           1,           1,           1,           1,           1,           1,           1,           1,           1,           1,           1,           1,           1,           1,           1,           1,           1,           1,           1,           1,           1,           1,\n",
       "                  1,           1,           1,           1,           1,           1,           1,           1,           1,           1,           1,           1,           1,           1,           1,           1,           1,           1,           1,           1,           1,           1,           1,\n",
       "                  1,           1,           1,           1,           1,           1,           1,           1,           1,           1,           1,           1,           1,           1,           1,           1,           1,           1,           1,           1,           1,           1,           1,\n",
       "                  1,           1,           1,           1,           1,           1,           1,           1,           1,           1,           1,           1,           1,           1,           1,           1,           1,           1,           1,           1,           1,           1,           1,\n",
       "                  1,           1,           1,           1,           1,           1,           1,           1,           1,           1,           1,           1,           1,           1,           1,           1,           1,           1,           1,           1,           1,           1,           1,\n",
       "                  1,           1,           1,           1,           1,           1,           1,           1,           1,           1,           1,           1,           1,           1,           1,           1,           1,           1,           1,           1,           1,           1,           1,\n",
       "                  1,           1,           1,           1,           1,           1,           1,           1,           1,           1,           1,           1,           1,           1,           1,           1,           1,           1,           1,           1,           1,           1,           1,\n",
       "                  1,           1,           1,           1,           1,           1,           1,           1,           1,           1,           1,           1,           1,           1,           1,           1,           1,           1,           1,           1,           1,           1,           1,\n",
       "                  1,           1,           1,           1,           1,           1,           1,           1,           1,           1,           1,           1,           1,           1,           1,           1,           1,           1,           1,           1,           1,           1,           1,\n",
       "                  1,           1,           1,           1,           1,           1,           1,           1,           1,           1,           1,           1,           1,           1,           1,           1,           1,           1,           1,           1,           1,           1,           1,\n",
       "                  1,           1,           1,           1,           1,           1,           1,           1,           1,           1,           1,           1,           1,           1,           1,           1,           1,           1,           1,           1,           1,           1,           1,\n",
       "                  1,           1,           1,           1,           1,           1,           1,           1,           1,           1,           1,           1,           1,           1,           1,           1,           1,           1,           1,           1,           1,           1,           1,\n",
       "                  1,           1,           1,           1,           1,           1,           1,           1,           1,           1,           1]]), 'Confidence', 'Precision'], [array([          0,    0.001001,    0.002002,    0.003003,    0.004004,    0.005005,    0.006006,    0.007007,    0.008008,    0.009009,     0.01001,    0.011011,    0.012012,    0.013013,    0.014014,    0.015015,    0.016016,    0.017017,    0.018018,    0.019019,     0.02002,    0.021021,    0.022022,    0.023023,\n",
       "          0.024024,    0.025025,    0.026026,    0.027027,    0.028028,    0.029029,     0.03003,    0.031031,    0.032032,    0.033033,    0.034034,    0.035035,    0.036036,    0.037037,    0.038038,    0.039039,     0.04004,    0.041041,    0.042042,    0.043043,    0.044044,    0.045045,    0.046046,    0.047047,\n",
       "          0.048048,    0.049049,     0.05005,    0.051051,    0.052052,    0.053053,    0.054054,    0.055055,    0.056056,    0.057057,    0.058058,    0.059059,     0.06006,    0.061061,    0.062062,    0.063063,    0.064064,    0.065065,    0.066066,    0.067067,    0.068068,    0.069069,     0.07007,    0.071071,\n",
       "          0.072072,    0.073073,    0.074074,    0.075075,    0.076076,    0.077077,    0.078078,    0.079079,     0.08008,    0.081081,    0.082082,    0.083083,    0.084084,    0.085085,    0.086086,    0.087087,    0.088088,    0.089089,     0.09009,    0.091091,    0.092092,    0.093093,    0.094094,    0.095095,\n",
       "          0.096096,    0.097097,    0.098098,    0.099099,      0.1001,      0.1011,      0.1021,      0.1031,      0.1041,     0.10511,     0.10611,     0.10711,     0.10811,     0.10911,     0.11011,     0.11111,     0.11211,     0.11311,     0.11411,     0.11512,     0.11612,     0.11712,     0.11812,     0.11912,\n",
       "           0.12012,     0.12112,     0.12212,     0.12312,     0.12412,     0.12513,     0.12613,     0.12713,     0.12813,     0.12913,     0.13013,     0.13113,     0.13213,     0.13313,     0.13413,     0.13514,     0.13614,     0.13714,     0.13814,     0.13914,     0.14014,     0.14114,     0.14214,     0.14314,\n",
       "           0.14414,     0.14515,     0.14615,     0.14715,     0.14815,     0.14915,     0.15015,     0.15115,     0.15215,     0.15315,     0.15415,     0.15516,     0.15616,     0.15716,     0.15816,     0.15916,     0.16016,     0.16116,     0.16216,     0.16316,     0.16416,     0.16517,     0.16617,     0.16717,\n",
       "           0.16817,     0.16917,     0.17017,     0.17117,     0.17217,     0.17317,     0.17417,     0.17518,     0.17618,     0.17718,     0.17818,     0.17918,     0.18018,     0.18118,     0.18218,     0.18318,     0.18418,     0.18519,     0.18619,     0.18719,     0.18819,     0.18919,     0.19019,     0.19119,\n",
       "           0.19219,     0.19319,     0.19419,      0.1952,      0.1962,      0.1972,      0.1982,      0.1992,      0.2002,      0.2012,      0.2022,      0.2032,      0.2042,     0.20521,     0.20621,     0.20721,     0.20821,     0.20921,     0.21021,     0.21121,     0.21221,     0.21321,     0.21421,     0.21522,\n",
       "           0.21622,     0.21722,     0.21822,     0.21922,     0.22022,     0.22122,     0.22222,     0.22322,     0.22422,     0.22523,     0.22623,     0.22723,     0.22823,     0.22923,     0.23023,     0.23123,     0.23223,     0.23323,     0.23423,     0.23524,     0.23624,     0.23724,     0.23824,     0.23924,\n",
       "           0.24024,     0.24124,     0.24224,     0.24324,     0.24424,     0.24525,     0.24625,     0.24725,     0.24825,     0.24925,     0.25025,     0.25125,     0.25225,     0.25325,     0.25425,     0.25526,     0.25626,     0.25726,     0.25826,     0.25926,     0.26026,     0.26126,     0.26226,     0.26326,\n",
       "           0.26426,     0.26527,     0.26627,     0.26727,     0.26827,     0.26927,     0.27027,     0.27127,     0.27227,     0.27327,     0.27427,     0.27528,     0.27628,     0.27728,     0.27828,     0.27928,     0.28028,     0.28128,     0.28228,     0.28328,     0.28428,     0.28529,     0.28629,     0.28729,\n",
       "           0.28829,     0.28929,     0.29029,     0.29129,     0.29229,     0.29329,     0.29429,      0.2953,      0.2963,      0.2973,      0.2983,      0.2993,      0.3003,      0.3013,      0.3023,      0.3033,      0.3043,     0.30531,     0.30631,     0.30731,     0.30831,     0.30931,     0.31031,     0.31131,\n",
       "           0.31231,     0.31331,     0.31431,     0.31532,     0.31632,     0.31732,     0.31832,     0.31932,     0.32032,     0.32132,     0.32232,     0.32332,     0.32432,     0.32533,     0.32633,     0.32733,     0.32833,     0.32933,     0.33033,     0.33133,     0.33233,     0.33333,     0.33433,     0.33534,\n",
       "           0.33634,     0.33734,     0.33834,     0.33934,     0.34034,     0.34134,     0.34234,     0.34334,     0.34434,     0.34535,     0.34635,     0.34735,     0.34835,     0.34935,     0.35035,     0.35135,     0.35235,     0.35335,     0.35435,     0.35536,     0.35636,     0.35736,     0.35836,     0.35936,\n",
       "           0.36036,     0.36136,     0.36236,     0.36336,     0.36436,     0.36537,     0.36637,     0.36737,     0.36837,     0.36937,     0.37037,     0.37137,     0.37237,     0.37337,     0.37437,     0.37538,     0.37638,     0.37738,     0.37838,     0.37938,     0.38038,     0.38138,     0.38238,     0.38338,\n",
       "           0.38438,     0.38539,     0.38639,     0.38739,     0.38839,     0.38939,     0.39039,     0.39139,     0.39239,     0.39339,     0.39439,      0.3954,      0.3964,      0.3974,      0.3984,      0.3994,      0.4004,      0.4014,      0.4024,      0.4034,      0.4044,     0.40541,     0.40641,     0.40741,\n",
       "           0.40841,     0.40941,     0.41041,     0.41141,     0.41241,     0.41341,     0.41441,     0.41542,     0.41642,     0.41742,     0.41842,     0.41942,     0.42042,     0.42142,     0.42242,     0.42342,     0.42442,     0.42543,     0.42643,     0.42743,     0.42843,     0.42943,     0.43043,     0.43143,\n",
       "           0.43243,     0.43343,     0.43443,     0.43544,     0.43644,     0.43744,     0.43844,     0.43944,     0.44044,     0.44144,     0.44244,     0.44344,     0.44444,     0.44545,     0.44645,     0.44745,     0.44845,     0.44945,     0.45045,     0.45145,     0.45245,     0.45345,     0.45445,     0.45546,\n",
       "           0.45646,     0.45746,     0.45846,     0.45946,     0.46046,     0.46146,     0.46246,     0.46346,     0.46446,     0.46547,     0.46647,     0.46747,     0.46847,     0.46947,     0.47047,     0.47147,     0.47247,     0.47347,     0.47447,     0.47548,     0.47648,     0.47748,     0.47848,     0.47948,\n",
       "           0.48048,     0.48148,     0.48248,     0.48348,     0.48448,     0.48549,     0.48649,     0.48749,     0.48849,     0.48949,     0.49049,     0.49149,     0.49249,     0.49349,     0.49449,      0.4955,      0.4965,      0.4975,      0.4985,      0.4995,      0.5005,      0.5015,      0.5025,      0.5035,\n",
       "            0.5045,     0.50551,     0.50651,     0.50751,     0.50851,     0.50951,     0.51051,     0.51151,     0.51251,     0.51351,     0.51451,     0.51552,     0.51652,     0.51752,     0.51852,     0.51952,     0.52052,     0.52152,     0.52252,     0.52352,     0.52452,     0.52553,     0.52653,     0.52753,\n",
       "           0.52853,     0.52953,     0.53053,     0.53153,     0.53253,     0.53353,     0.53453,     0.53554,     0.53654,     0.53754,     0.53854,     0.53954,     0.54054,     0.54154,     0.54254,     0.54354,     0.54454,     0.54555,     0.54655,     0.54755,     0.54855,     0.54955,     0.55055,     0.55155,\n",
       "           0.55255,     0.55355,     0.55455,     0.55556,     0.55656,     0.55756,     0.55856,     0.55956,     0.56056,     0.56156,     0.56256,     0.56356,     0.56456,     0.56557,     0.56657,     0.56757,     0.56857,     0.56957,     0.57057,     0.57157,     0.57257,     0.57357,     0.57457,     0.57558,\n",
       "           0.57658,     0.57758,     0.57858,     0.57958,     0.58058,     0.58158,     0.58258,     0.58358,     0.58458,     0.58559,     0.58659,     0.58759,     0.58859,     0.58959,     0.59059,     0.59159,     0.59259,     0.59359,     0.59459,      0.5956,      0.5966,      0.5976,      0.5986,      0.5996,\n",
       "            0.6006,      0.6016,      0.6026,      0.6036,      0.6046,     0.60561,     0.60661,     0.60761,     0.60861,     0.60961,     0.61061,     0.61161,     0.61261,     0.61361,     0.61461,     0.61562,     0.61662,     0.61762,     0.61862,     0.61962,     0.62062,     0.62162,     0.62262,     0.62362,\n",
       "           0.62462,     0.62563,     0.62663,     0.62763,     0.62863,     0.62963,     0.63063,     0.63163,     0.63263,     0.63363,     0.63463,     0.63564,     0.63664,     0.63764,     0.63864,     0.63964,     0.64064,     0.64164,     0.64264,     0.64364,     0.64464,     0.64565,     0.64665,     0.64765,\n",
       "           0.64865,     0.64965,     0.65065,     0.65165,     0.65265,     0.65365,     0.65465,     0.65566,     0.65666,     0.65766,     0.65866,     0.65966,     0.66066,     0.66166,     0.66266,     0.66366,     0.66466,     0.66567,     0.66667,     0.66767,     0.66867,     0.66967,     0.67067,     0.67167,\n",
       "           0.67267,     0.67367,     0.67467,     0.67568,     0.67668,     0.67768,     0.67868,     0.67968,     0.68068,     0.68168,     0.68268,     0.68368,     0.68468,     0.68569,     0.68669,     0.68769,     0.68869,     0.68969,     0.69069,     0.69169,     0.69269,     0.69369,     0.69469,      0.6957,\n",
       "            0.6967,      0.6977,      0.6987,      0.6997,      0.7007,      0.7017,      0.7027,      0.7037,      0.7047,     0.70571,     0.70671,     0.70771,     0.70871,     0.70971,     0.71071,     0.71171,     0.71271,     0.71371,     0.71471,     0.71572,     0.71672,     0.71772,     0.71872,     0.71972,\n",
       "           0.72072,     0.72172,     0.72272,     0.72372,     0.72472,     0.72573,     0.72673,     0.72773,     0.72873,     0.72973,     0.73073,     0.73173,     0.73273,     0.73373,     0.73473,     0.73574,     0.73674,     0.73774,     0.73874,     0.73974,     0.74074,     0.74174,     0.74274,     0.74374,\n",
       "           0.74474,     0.74575,     0.74675,     0.74775,     0.74875,     0.74975,     0.75075,     0.75175,     0.75275,     0.75375,     0.75475,     0.75576,     0.75676,     0.75776,     0.75876,     0.75976,     0.76076,     0.76176,     0.76276,     0.76376,     0.76476,     0.76577,     0.76677,     0.76777,\n",
       "           0.76877,     0.76977,     0.77077,     0.77177,     0.77277,     0.77377,     0.77477,     0.77578,     0.77678,     0.77778,     0.77878,     0.77978,     0.78078,     0.78178,     0.78278,     0.78378,     0.78478,     0.78579,     0.78679,     0.78779,     0.78879,     0.78979,     0.79079,     0.79179,\n",
       "           0.79279,     0.79379,     0.79479,      0.7958,      0.7968,      0.7978,      0.7988,      0.7998,      0.8008,      0.8018,      0.8028,      0.8038,      0.8048,     0.80581,     0.80681,     0.80781,     0.80881,     0.80981,     0.81081,     0.81181,     0.81281,     0.81381,     0.81481,     0.81582,\n",
       "           0.81682,     0.81782,     0.81882,     0.81982,     0.82082,     0.82182,     0.82282,     0.82382,     0.82482,     0.82583,     0.82683,     0.82783,     0.82883,     0.82983,     0.83083,     0.83183,     0.83283,     0.83383,     0.83483,     0.83584,     0.83684,     0.83784,     0.83884,     0.83984,\n",
       "           0.84084,     0.84184,     0.84284,     0.84384,     0.84484,     0.84585,     0.84685,     0.84785,     0.84885,     0.84985,     0.85085,     0.85185,     0.85285,     0.85385,     0.85485,     0.85586,     0.85686,     0.85786,     0.85886,     0.85986,     0.86086,     0.86186,     0.86286,     0.86386,\n",
       "           0.86486,     0.86587,     0.86687,     0.86787,     0.86887,     0.86987,     0.87087,     0.87187,     0.87287,     0.87387,     0.87487,     0.87588,     0.87688,     0.87788,     0.87888,     0.87988,     0.88088,     0.88188,     0.88288,     0.88388,     0.88488,     0.88589,     0.88689,     0.88789,\n",
       "           0.88889,     0.88989,     0.89089,     0.89189,     0.89289,     0.89389,     0.89489,      0.8959,      0.8969,      0.8979,      0.8989,      0.8999,      0.9009,      0.9019,      0.9029,      0.9039,      0.9049,     0.90591,     0.90691,     0.90791,     0.90891,     0.90991,     0.91091,     0.91191,\n",
       "           0.91291,     0.91391,     0.91491,     0.91592,     0.91692,     0.91792,     0.91892,     0.91992,     0.92092,     0.92192,     0.92292,     0.92392,     0.92492,     0.92593,     0.92693,     0.92793,     0.92893,     0.92993,     0.93093,     0.93193,     0.93293,     0.93393,     0.93493,     0.93594,\n",
       "           0.93694,     0.93794,     0.93894,     0.93994,     0.94094,     0.94194,     0.94294,     0.94394,     0.94494,     0.94595,     0.94695,     0.94795,     0.94895,     0.94995,     0.95095,     0.95195,     0.95295,     0.95395,     0.95495,     0.95596,     0.95696,     0.95796,     0.95896,     0.95996,\n",
       "           0.96096,     0.96196,     0.96296,     0.96396,     0.96496,     0.96597,     0.96697,     0.96797,     0.96897,     0.96997,     0.97097,     0.97197,     0.97297,     0.97397,     0.97497,     0.97598,     0.97698,     0.97798,     0.97898,     0.97998,     0.98098,     0.98198,     0.98298,     0.98398,\n",
       "           0.98498,     0.98599,     0.98699,     0.98799,     0.98899,     0.98999,     0.99099,     0.99199,     0.99299,     0.99399,     0.99499,       0.996,       0.997,       0.998,       0.999,           1]), array([[    0.92873,     0.92873,     0.92657,     0.92441,     0.92225,     0.92009,     0.92009,     0.91877,     0.91793,     0.91793,     0.91793,     0.91793,     0.91793,     0.91793,     0.91793,     0.91793,     0.91793,     0.91793,     0.91577,     0.91577,     0.91577,     0.91577,     0.91537,\n",
       "            0.91361,     0.91361,     0.91361,     0.91361,     0.91361,     0.91361,     0.91361,     0.91361,     0.91361,     0.91361,     0.91361,     0.91361,     0.91361,     0.91361,     0.91361,     0.91361,     0.91361,     0.91361,     0.91361,     0.91361,     0.91361,     0.91361,     0.91361,\n",
       "            0.91361,     0.91361,     0.91361,     0.91361,      0.9134,     0.91318,     0.91296,     0.91275,     0.91253,     0.91231,     0.91209,     0.91187,     0.91165,     0.91145,     0.91145,     0.91145,     0.91145,     0.91145,     0.91145,     0.90929,     0.90929,     0.90929,     0.90929,\n",
       "            0.90929,     0.90929,     0.90929,     0.90929,     0.90929,     0.90929,     0.90929,     0.90929,     0.90929,     0.90929,     0.90929,     0.90929,     0.90929,     0.90929,     0.90929,     0.90929,     0.90929,     0.90929,     0.90929,     0.90929,     0.90929,     0.90929,     0.90929,\n",
       "            0.90929,     0.90929,     0.90929,     0.90929,     0.90929,     0.90929,     0.90929,     0.90929,     0.90929,     0.90929,     0.90929,     0.90926,     0.90914,     0.90903,     0.90892,      0.9088,     0.90869,     0.90858,     0.90846,     0.90835,     0.90824,     0.90812,     0.90801,\n",
       "             0.9079,     0.90778,     0.90767,     0.90756,     0.90744,     0.90733,     0.90722,     0.90713,     0.90713,     0.90713,     0.90713,     0.90713,     0.90713,     0.90713,     0.90713,     0.90713,     0.90713,     0.90713,     0.90705,     0.90682,      0.9066,     0.90638,     0.90616,\n",
       "            0.90593,     0.90571,     0.90549,     0.90527,     0.90505,     0.90497,     0.90497,     0.90497,     0.90497,     0.90497,     0.90497,     0.90497,     0.90497,     0.90497,     0.90497,     0.90497,     0.90497,     0.90497,     0.90497,     0.90497,     0.90497,     0.90497,     0.90497,\n",
       "            0.90497,     0.90497,     0.90497,     0.90497,     0.90497,     0.90497,     0.90497,     0.90497,     0.90497,     0.90497,     0.90497,     0.90497,     0.90497,     0.90497,     0.90497,     0.90497,     0.90497,     0.90497,     0.90497,     0.90497,     0.90497,     0.90497,     0.90497,\n",
       "            0.90497,     0.90497,     0.90497,     0.90497,     0.90497,     0.90497,     0.90497,     0.90497,     0.90497,     0.90497,     0.90497,     0.90497,     0.90497,     0.90497,     0.90497,     0.90497,     0.90497,     0.90497,     0.90497,     0.90497,     0.90497,     0.90497,     0.90497,\n",
       "            0.90497,     0.90497,     0.90497,     0.90497,     0.90497,     0.90497,     0.90497,     0.90497,     0.90497,     0.90497,     0.90497,     0.90497,     0.90497,     0.90497,     0.90497,     0.90497,     0.90497,     0.90497,     0.90497,     0.90497,     0.90497,     0.90497,     0.90497,\n",
       "            0.90497,     0.90497,     0.90497,     0.90497,     0.90497,     0.90497,     0.90497,     0.90497,     0.90497,     0.90497,     0.90497,     0.90497,     0.90497,     0.90497,     0.90497,     0.90497,     0.90497,     0.90497,     0.90497,     0.90497,     0.90497,     0.90497,     0.90497,\n",
       "            0.90497,     0.90497,     0.90497,     0.90497,     0.90497,     0.90497,     0.90497,     0.90497,     0.90497,     0.90497,     0.90497,     0.90497,     0.90497,     0.90497,     0.90472,     0.90447,     0.90421,     0.90395,     0.90369,     0.90344,     0.90318,     0.90292,     0.90269,\n",
       "            0.90246,     0.90224,     0.90202,      0.9018,     0.90158,     0.90135,     0.90113,     0.90091,     0.90069,     0.89902,     0.89849,     0.89849,     0.89849,     0.89849,     0.89849,     0.89846,     0.89843,     0.89839,     0.89836,     0.89832,     0.89829,     0.89825,     0.89822,\n",
       "            0.89818,     0.89814,     0.89811,     0.89807,     0.89804,       0.898,     0.89797,     0.89793,      0.8979,     0.89786,     0.89783,     0.89779,     0.89775,     0.89772,     0.89768,     0.89765,     0.89761,     0.89758,     0.89754,     0.89751,     0.89747,     0.89743,      0.8974,\n",
       "            0.89736,     0.89733,     0.89729,     0.89726,     0.89722,     0.89719,     0.89715,     0.89712,     0.89708,     0.89704,     0.89701,     0.89697,     0.89694,      0.8969,     0.89687,     0.89683,      0.8968,     0.89676,     0.89672,     0.89669,     0.89665,     0.89662,     0.89658,\n",
       "            0.89655,     0.89651,     0.89648,     0.89644,     0.89641,     0.89637,     0.89633,     0.89622,     0.89609,     0.89595,     0.89582,     0.89569,     0.89555,     0.89542,     0.89529,     0.89516,     0.89502,     0.89489,     0.89476,     0.89462,     0.89449,     0.89436,     0.89423,\n",
       "            0.89413,     0.89407,     0.89401,     0.89394,     0.89388,     0.89382,     0.89375,     0.89369,     0.89363,     0.89356,      0.8935,     0.89344,     0.89337,     0.89331,     0.89325,     0.89318,     0.89312,     0.89306,     0.89299,     0.89293,     0.89287,      0.8928,     0.89274,\n",
       "            0.89268,     0.89261,     0.89255,     0.89248,     0.89242,     0.89236,     0.89229,     0.89223,     0.89217,      0.8921,     0.89204,     0.89201,     0.89201,     0.89201,     0.89201,     0.89201,     0.89201,     0.89201,     0.89201,     0.89201,     0.89201,     0.89201,     0.89201,\n",
       "            0.89201,     0.89201,     0.89201,     0.89201,     0.89201,     0.89201,     0.89201,     0.89188,     0.89162,     0.89136,     0.89111,     0.89085,     0.89059,     0.89034,     0.89008,     0.88985,     0.88985,     0.88985,     0.88985,     0.88985,     0.88985,     0.88985,     0.88985,\n",
       "            0.88985,     0.88985,     0.88985,     0.88985,     0.88985,     0.88985,     0.88985,     0.88985,     0.88985,     0.88985,     0.88985,     0.88985,     0.88985,     0.88985,     0.88985,     0.88985,     0.88985,     0.88985,     0.88985,     0.88985,     0.88985,     0.88985,     0.88985,\n",
       "            0.88985,     0.88985,     0.88985,     0.88985,     0.88985,     0.88985,     0.88985,     0.88985,     0.88985,     0.88985,     0.88985,     0.88985,     0.88985,     0.88985,     0.88985,     0.88985,     0.88985,     0.88985,     0.88985,     0.88985,     0.88985,     0.88985,     0.88984,\n",
       "            0.88977,     0.88971,     0.88964,     0.88958,     0.88951,     0.88945,     0.88939,     0.88932,     0.88926,     0.88919,     0.88913,     0.88906,       0.889,     0.88893,     0.88887,      0.8888,     0.88874,     0.88868,     0.88861,     0.88855,     0.88848,     0.88842,     0.88835,\n",
       "            0.88829,     0.88822,     0.88816,     0.88809,     0.88803,     0.88796,      0.8879,     0.88784,     0.88777,     0.88771,     0.88769,     0.88757,     0.88739,     0.88721,     0.88703,     0.88685,     0.88667,     0.88649,     0.88631,     0.88613,     0.88595,     0.88576,     0.88558,\n",
       "            0.88553,     0.88553,     0.88553,     0.88553,     0.88553,     0.88547,     0.88541,     0.88536,      0.8853,     0.88524,     0.88518,     0.88512,     0.88506,       0.885,     0.88494,     0.88489,     0.88483,     0.88477,     0.88471,     0.88465,     0.88459,     0.88453,     0.88447,\n",
       "            0.88442,     0.88436,      0.8843,     0.88424,     0.88418,     0.88412,     0.88406,       0.884,     0.88395,     0.88389,     0.88383,     0.88377,     0.88371,     0.88365,     0.88359,     0.88354,     0.88348,     0.88342,     0.88336,     0.88332,     0.88327,     0.88323,     0.88319,\n",
       "            0.88314,      0.8831,     0.88305,     0.88301,     0.88296,     0.88292,     0.88288,     0.88283,     0.88279,     0.88274,      0.8827,     0.88266,     0.88261,     0.88257,     0.88252,     0.88248,     0.88244,     0.88239,     0.88235,      0.8823,     0.88226,     0.88222,     0.88217,\n",
       "            0.88213,     0.88208,     0.88204,     0.88199,     0.88195,     0.88191,     0.88186,     0.88182,     0.88177,     0.88173,     0.88169,     0.88164,      0.8816,     0.88155,     0.88151,     0.88147,     0.88142,     0.88138,     0.88133,     0.88129,     0.88125,     0.88054,     0.87903,\n",
       "            0.87898,     0.87894,      0.8789,     0.87886,     0.87882,     0.87878,     0.87874,      0.8787,     0.87866,     0.87862,     0.87857,     0.87853,     0.87849,     0.87845,     0.87841,     0.87837,     0.87833,     0.87829,     0.87825,     0.87821,     0.87816,     0.87812,     0.87808,\n",
       "            0.87804,       0.878,     0.87796,     0.87792,     0.87788,     0.87784,      0.8778,     0.87775,     0.87771,     0.87767,     0.87763,     0.87759,     0.87755,     0.87751,     0.87747,     0.87743,     0.87739,     0.87734,      0.8773,     0.87726,     0.87722,     0.87718,     0.87714,\n",
       "             0.8771,     0.87706,     0.87702,     0.87697,     0.87693,     0.87689,     0.87671,     0.87652,     0.87632,     0.87613,     0.87594,     0.87574,     0.87555,     0.87536,     0.87516,     0.87497,     0.87477,     0.87467,      0.8746,     0.87453,     0.87446,     0.87439,     0.87432,\n",
       "            0.87424,     0.87417,      0.8741,     0.87403,     0.87396,     0.87388,     0.87381,     0.87374,     0.87367,      0.8736,     0.87353,     0.87345,     0.87338,     0.87331,     0.87324,     0.87317,      0.8731,     0.87302,     0.87295,     0.87288,     0.87281,     0.87274,     0.87266,\n",
       "            0.87259,     0.87024,     0.86985,     0.86946,     0.86907,     0.86868,     0.86829,     0.86672,      0.8643,     0.86368,     0.86339,     0.86311,     0.86282,     0.86253,     0.86225,     0.86196,     0.86176,     0.86173,      0.8617,     0.86167,     0.86164,     0.86161,     0.86158,\n",
       "            0.86155,     0.86152,     0.86149,     0.86146,     0.86143,      0.8614,     0.86137,     0.86134,     0.86131,     0.86128,     0.86125,     0.86122,     0.86119,     0.86116,     0.86113,      0.8611,     0.86107,     0.86104,     0.86101,     0.86098,     0.86095,     0.86092,     0.86089,\n",
       "            0.86086,     0.86083,     0.86079,     0.86076,     0.86073,      0.8607,     0.86067,     0.86064,     0.86061,     0.86058,     0.86055,     0.86052,     0.86049,     0.86046,     0.86043,      0.8604,     0.86037,     0.86034,     0.86031,     0.86028,     0.86025,     0.86022,     0.86019,\n",
       "            0.86016,     0.86013,      0.8601,     0.86007,     0.86004,     0.86001,     0.85998,     0.85995,     0.85992,     0.85989,     0.85986,     0.85983,      0.8598,     0.85977,     0.85974,     0.85971,     0.85968,     0.85965,     0.85962,     0.85945,     0.85924,     0.85904,     0.85883,\n",
       "            0.85862,     0.85842,     0.85821,     0.85801,      0.8578,     0.85759,     0.85739,     0.85721,     0.85702,     0.85683,     0.85664,     0.85646,     0.85627,     0.85608,      0.8559,     0.85571,     0.85552,     0.85533,       0.855,     0.85463,     0.85426,     0.85389,     0.85351,\n",
       "            0.85314,     0.85167,     0.85076,     0.85036,     0.84997,     0.84957,     0.84918,     0.84876,     0.84812,     0.84748,     0.84684,     0.84654,     0.84638,     0.84622,     0.84606,     0.84589,     0.84573,     0.84557,     0.84541,     0.84525,     0.84509,     0.84493,     0.84477,\n",
       "            0.84461,     0.84224,     0.84055,     0.83973,     0.83917,      0.8386,     0.83803,     0.83678,     0.83568,     0.83504,      0.8344,     0.83376,     0.83332,      0.8329,     0.83248,     0.83206,     0.83164,     0.83118,     0.83071,     0.83024,     0.82976,     0.82923,      0.8284,\n",
       "            0.82757,     0.82622,     0.82455,     0.82308,     0.81817,     0.81713,     0.81601,     0.81471,     0.81379,     0.81308,     0.81237,      0.8114,     0.81026,      0.8087,     0.80529,     0.80316,     0.80246,     0.80176,     0.80086,     0.79959,     0.79839,     0.79723,     0.79649,\n",
       "            0.79586,     0.79523,     0.79429,     0.79272,     0.78956,     0.78617,     0.78474,     0.78156,     0.77998,     0.77754,     0.77517,     0.77455,     0.77393,     0.77332,     0.77121,     0.76982,     0.76702,     0.76373,     0.76225,      0.7563,     0.75395,     0.75069,     0.74935,\n",
       "             0.7461,     0.74483,     0.74413,     0.74343,     0.73931,     0.73544,      0.7291,     0.72135,     0.71722,     0.70126,     0.69404,      0.6843,     0.67667,     0.66128,      0.6532,     0.64478,     0.62597,     0.60766,     0.58872,     0.56707,      0.5548,     0.53037,     0.51456,\n",
       "            0.48175,     0.46799,     0.44506,     0.41229,     0.37598,     0.35107,     0.31978,     0.28556,     0.26373,     0.24751,     0.21937,     0.19587,     0.16865,     0.14392,     0.13093,     0.10974,    0.089038,    0.074872,     0.05817,    0.044568,    0.028124,    0.015122,     0.01148,\n",
       "          0.0037625,           0,           0,           0,           0,           0,           0,           0,           0,           0,           0,           0,           0,           0,           0,           0,           0,           0,           0,           0,           0,           0,           0,\n",
       "                  0,           0,           0,           0,           0,           0,           0,           0,           0,           0,           0]]), 'Confidence', 'Recall']]\n",
       "fitness: np.float64(0.8895915748662294)\n",
       "keys: ['metrics/precision(B)', 'metrics/recall(B)', 'metrics/mAP50(B)', 'metrics/mAP50-95(B)']\n",
       "maps: array([    0.88383])\n",
       "names: {0: 'player'}\n",
       "nt_per_class: array([463])\n",
       "nt_per_image: array([301])\n",
       "results_dict: {'metrics/precision(B)': np.float64(0.9847526851901292), 'metrics/recall(B)': np.float64(0.9049676025917927), 'metrics/mAP50(B)': np.float64(0.941463392642043), 'metrics/mAP50-95(B)': np.float64(0.8838280395578056), 'fitness': np.float64(0.8895915748662294)}\n",
       "save_dir: WindowsPath('E:/Project Sherlock/Grafiki/Grafiki total/dataset/detect/train19')\n",
       "speed: {'preprocess': 1.5719536666711065, 'inference': 30.466247499995614, 'loss': 5.116666822383801e-05, 'postprocess': 0.23700733333498647}\n",
       "stats: {'tp': [], 'conf': [], 'pred_cls': [], 'target_cls': [], 'target_img': []}\n",
       "task: 'detect'"
      ]
     },
     "execution_count": 7,
     "metadata": {},
     "output_type": "execute_result"
    }
   ],
   "source": [
    "# Another model - pt.2\n",
    "model = YOLO('E:/Project Sherlock/Grafiki/Grafiki total/dataset/detect/train19/weights/best.pt')\n",
    "\n",
    "model.train(data='E:/Project Sherlock/Grafiki/Grafiki total/dataset/data.yaml', \n",
    "    resume=True\n",
    ")"
   ]
  },
  {
   "cell_type": "code",
   "execution_count": null,
   "id": "025c19ec-1ddf-48e0-a723-5b819a0e6643",
   "metadata": {},
   "outputs": [],
   "source": [
    "#From previous iteration best\n",
    "#    box_loss   cls_loss   dfl_loss  Instances       Size\n",
    "#    0.3805     0.2356      0.788          7        640"
   ]
  },
  {
   "cell_type": "code",
   "execution_count": 8,
   "id": "a5b626ec-ba03-449a-9bea-1827ca35c45b",
   "metadata": {
    "scrolled": true
   },
   "outputs": [
    {
     "name": "stdout",
     "output_type": "stream",
     "text": [
      "Ultralytics 8.3.168  Python-3.10.18 torch-2.7.1+cpu CPU (AMD Ryzen 5 5600X 6-Core Processor)\n",
      "Model summary (fused): 72 layers, 3,005,843 parameters, 0 gradients, 8.1 GFLOPs\n",
      "\u001b[34m\u001b[1mval: \u001b[0mFast image access  (ping: 0.10.0 ms, read: 708.3121.2 MB/s, size: 474.8 KB)\n"
     ]
    },
    {
     "name": "stderr",
     "output_type": "stream",
     "text": [
      "\u001b[34m\u001b[1mval: \u001b[0mScanning E:\\Project Sherlock\\Grafiki\\Grafiki total\\dataset\\labels\\test.cache... 600 images, 293 backgrounds, 0 cor\u001b[0m\n",
      "D:\\anaconda\\envs\\yalo_env\\lib\\site-packages\\torch\\utils\\data\\dataloader.py:665: UserWarning: 'pin_memory' argument is set as true but no accelerator is found, then device pinned memory won't be used.\n",
      "  warnings.warn(warn_msg)\n",
      "                 Class     Images  Instances      Box(P          R      mAP50  mAP50-95): 100%|██████████| 32/32 [00:29\n"
     ]
    },
    {
     "name": "stdout",
     "output_type": "stream",
     "text": [
      "                   all        600        463      0.995      0.923      0.955      0.903\n",
      "Speed: 0.8ms preprocess, 28.6ms inference, 0.0ms loss, 0.2ms postprocess per image\n",
      "Results saved to \u001b[1mE:\\Project Sherlock\\Grafiki\\Grafiki total\\dataset\\detect\\train192\u001b[0m\n",
      "ultralytics.utils.metrics.DetMetrics object with attributes:\n",
      "\n",
      "ap_class_index: array([0])\n",
      "box: ultralytics.utils.metrics.Metric object\n",
      "confusion_matrix: <ultralytics.utils.metrics.ConfusionMatrix object at 0x000001630CDE1720>\n",
      "curves: ['Precision-Recall(B)', 'F1-Confidence(B)', 'Precision-Confidence(B)', 'Recall-Confidence(B)']\n",
      "curves_results: [[array([          0,    0.001001,    0.002002,    0.003003,    0.004004,    0.005005,    0.006006,    0.007007,    0.008008,    0.009009,     0.01001,    0.011011,    0.012012,    0.013013,    0.014014,    0.015015,    0.016016,    0.017017,    0.018018,    0.019019,     0.02002,    0.021021,    0.022022,    0.023023,\n",
      "          0.024024,    0.025025,    0.026026,    0.027027,    0.028028,    0.029029,     0.03003,    0.031031,    0.032032,    0.033033,    0.034034,    0.035035,    0.036036,    0.037037,    0.038038,    0.039039,     0.04004,    0.041041,    0.042042,    0.043043,    0.044044,    0.045045,    0.046046,    0.047047,\n",
      "          0.048048,    0.049049,     0.05005,    0.051051,    0.052052,    0.053053,    0.054054,    0.055055,    0.056056,    0.057057,    0.058058,    0.059059,     0.06006,    0.061061,    0.062062,    0.063063,    0.064064,    0.065065,    0.066066,    0.067067,    0.068068,    0.069069,     0.07007,    0.071071,\n",
      "          0.072072,    0.073073,    0.074074,    0.075075,    0.076076,    0.077077,    0.078078,    0.079079,     0.08008,    0.081081,    0.082082,    0.083083,    0.084084,    0.085085,    0.086086,    0.087087,    0.088088,    0.089089,     0.09009,    0.091091,    0.092092,    0.093093,    0.094094,    0.095095,\n",
      "          0.096096,    0.097097,    0.098098,    0.099099,      0.1001,      0.1011,      0.1021,      0.1031,      0.1041,     0.10511,     0.10611,     0.10711,     0.10811,     0.10911,     0.11011,     0.11111,     0.11211,     0.11311,     0.11411,     0.11512,     0.11612,     0.11712,     0.11812,     0.11912,\n",
      "           0.12012,     0.12112,     0.12212,     0.12312,     0.12412,     0.12513,     0.12613,     0.12713,     0.12813,     0.12913,     0.13013,     0.13113,     0.13213,     0.13313,     0.13413,     0.13514,     0.13614,     0.13714,     0.13814,     0.13914,     0.14014,     0.14114,     0.14214,     0.14314,\n",
      "           0.14414,     0.14515,     0.14615,     0.14715,     0.14815,     0.14915,     0.15015,     0.15115,     0.15215,     0.15315,     0.15415,     0.15516,     0.15616,     0.15716,     0.15816,     0.15916,     0.16016,     0.16116,     0.16216,     0.16316,     0.16416,     0.16517,     0.16617,     0.16717,\n",
      "           0.16817,     0.16917,     0.17017,     0.17117,     0.17217,     0.17317,     0.17417,     0.17518,     0.17618,     0.17718,     0.17818,     0.17918,     0.18018,     0.18118,     0.18218,     0.18318,     0.18418,     0.18519,     0.18619,     0.18719,     0.18819,     0.18919,     0.19019,     0.19119,\n",
      "           0.19219,     0.19319,     0.19419,      0.1952,      0.1962,      0.1972,      0.1982,      0.1992,      0.2002,      0.2012,      0.2022,      0.2032,      0.2042,     0.20521,     0.20621,     0.20721,     0.20821,     0.20921,     0.21021,     0.21121,     0.21221,     0.21321,     0.21421,     0.21522,\n",
      "           0.21622,     0.21722,     0.21822,     0.21922,     0.22022,     0.22122,     0.22222,     0.22322,     0.22422,     0.22523,     0.22623,     0.22723,     0.22823,     0.22923,     0.23023,     0.23123,     0.23223,     0.23323,     0.23423,     0.23524,     0.23624,     0.23724,     0.23824,     0.23924,\n",
      "           0.24024,     0.24124,     0.24224,     0.24324,     0.24424,     0.24525,     0.24625,     0.24725,     0.24825,     0.24925,     0.25025,     0.25125,     0.25225,     0.25325,     0.25425,     0.25526,     0.25626,     0.25726,     0.25826,     0.25926,     0.26026,     0.26126,     0.26226,     0.26326,\n",
      "           0.26426,     0.26527,     0.26627,     0.26727,     0.26827,     0.26927,     0.27027,     0.27127,     0.27227,     0.27327,     0.27427,     0.27528,     0.27628,     0.27728,     0.27828,     0.27928,     0.28028,     0.28128,     0.28228,     0.28328,     0.28428,     0.28529,     0.28629,     0.28729,\n",
      "           0.28829,     0.28929,     0.29029,     0.29129,     0.29229,     0.29329,     0.29429,      0.2953,      0.2963,      0.2973,      0.2983,      0.2993,      0.3003,      0.3013,      0.3023,      0.3033,      0.3043,     0.30531,     0.30631,     0.30731,     0.30831,     0.30931,     0.31031,     0.31131,\n",
      "           0.31231,     0.31331,     0.31431,     0.31532,     0.31632,     0.31732,     0.31832,     0.31932,     0.32032,     0.32132,     0.32232,     0.32332,     0.32432,     0.32533,     0.32633,     0.32733,     0.32833,     0.32933,     0.33033,     0.33133,     0.33233,     0.33333,     0.33433,     0.33534,\n",
      "           0.33634,     0.33734,     0.33834,     0.33934,     0.34034,     0.34134,     0.34234,     0.34334,     0.34434,     0.34535,     0.34635,     0.34735,     0.34835,     0.34935,     0.35035,     0.35135,     0.35235,     0.35335,     0.35435,     0.35536,     0.35636,     0.35736,     0.35836,     0.35936,\n",
      "           0.36036,     0.36136,     0.36236,     0.36336,     0.36436,     0.36537,     0.36637,     0.36737,     0.36837,     0.36937,     0.37037,     0.37137,     0.37237,     0.37337,     0.37437,     0.37538,     0.37638,     0.37738,     0.37838,     0.37938,     0.38038,     0.38138,     0.38238,     0.38338,\n",
      "           0.38438,     0.38539,     0.38639,     0.38739,     0.38839,     0.38939,     0.39039,     0.39139,     0.39239,     0.39339,     0.39439,      0.3954,      0.3964,      0.3974,      0.3984,      0.3994,      0.4004,      0.4014,      0.4024,      0.4034,      0.4044,     0.40541,     0.40641,     0.40741,\n",
      "           0.40841,     0.40941,     0.41041,     0.41141,     0.41241,     0.41341,     0.41441,     0.41542,     0.41642,     0.41742,     0.41842,     0.41942,     0.42042,     0.42142,     0.42242,     0.42342,     0.42442,     0.42543,     0.42643,     0.42743,     0.42843,     0.42943,     0.43043,     0.43143,\n",
      "           0.43243,     0.43343,     0.43443,     0.43544,     0.43644,     0.43744,     0.43844,     0.43944,     0.44044,     0.44144,     0.44244,     0.44344,     0.44444,     0.44545,     0.44645,     0.44745,     0.44845,     0.44945,     0.45045,     0.45145,     0.45245,     0.45345,     0.45445,     0.45546,\n",
      "           0.45646,     0.45746,     0.45846,     0.45946,     0.46046,     0.46146,     0.46246,     0.46346,     0.46446,     0.46547,     0.46647,     0.46747,     0.46847,     0.46947,     0.47047,     0.47147,     0.47247,     0.47347,     0.47447,     0.47548,     0.47648,     0.47748,     0.47848,     0.47948,\n",
      "           0.48048,     0.48148,     0.48248,     0.48348,     0.48448,     0.48549,     0.48649,     0.48749,     0.48849,     0.48949,     0.49049,     0.49149,     0.49249,     0.49349,     0.49449,      0.4955,      0.4965,      0.4975,      0.4985,      0.4995,      0.5005,      0.5015,      0.5025,      0.5035,\n",
      "            0.5045,     0.50551,     0.50651,     0.50751,     0.50851,     0.50951,     0.51051,     0.51151,     0.51251,     0.51351,     0.51451,     0.51552,     0.51652,     0.51752,     0.51852,     0.51952,     0.52052,     0.52152,     0.52252,     0.52352,     0.52452,     0.52553,     0.52653,     0.52753,\n",
      "           0.52853,     0.52953,     0.53053,     0.53153,     0.53253,     0.53353,     0.53453,     0.53554,     0.53654,     0.53754,     0.53854,     0.53954,     0.54054,     0.54154,     0.54254,     0.54354,     0.54454,     0.54555,     0.54655,     0.54755,     0.54855,     0.54955,     0.55055,     0.55155,\n",
      "           0.55255,     0.55355,     0.55455,     0.55556,     0.55656,     0.55756,     0.55856,     0.55956,     0.56056,     0.56156,     0.56256,     0.56356,     0.56456,     0.56557,     0.56657,     0.56757,     0.56857,     0.56957,     0.57057,     0.57157,     0.57257,     0.57357,     0.57457,     0.57558,\n",
      "           0.57658,     0.57758,     0.57858,     0.57958,     0.58058,     0.58158,     0.58258,     0.58358,     0.58458,     0.58559,     0.58659,     0.58759,     0.58859,     0.58959,     0.59059,     0.59159,     0.59259,     0.59359,     0.59459,      0.5956,      0.5966,      0.5976,      0.5986,      0.5996,\n",
      "            0.6006,      0.6016,      0.6026,      0.6036,      0.6046,     0.60561,     0.60661,     0.60761,     0.60861,     0.60961,     0.61061,     0.61161,     0.61261,     0.61361,     0.61461,     0.61562,     0.61662,     0.61762,     0.61862,     0.61962,     0.62062,     0.62162,     0.62262,     0.62362,\n",
      "           0.62462,     0.62563,     0.62663,     0.62763,     0.62863,     0.62963,     0.63063,     0.63163,     0.63263,     0.63363,     0.63463,     0.63564,     0.63664,     0.63764,     0.63864,     0.63964,     0.64064,     0.64164,     0.64264,     0.64364,     0.64464,     0.64565,     0.64665,     0.64765,\n",
      "           0.64865,     0.64965,     0.65065,     0.65165,     0.65265,     0.65365,     0.65465,     0.65566,     0.65666,     0.65766,     0.65866,     0.65966,     0.66066,     0.66166,     0.66266,     0.66366,     0.66466,     0.66567,     0.66667,     0.66767,     0.66867,     0.66967,     0.67067,     0.67167,\n",
      "           0.67267,     0.67367,     0.67467,     0.67568,     0.67668,     0.67768,     0.67868,     0.67968,     0.68068,     0.68168,     0.68268,     0.68368,     0.68468,     0.68569,     0.68669,     0.68769,     0.68869,     0.68969,     0.69069,     0.69169,     0.69269,     0.69369,     0.69469,      0.6957,\n",
      "            0.6967,      0.6977,      0.6987,      0.6997,      0.7007,      0.7017,      0.7027,      0.7037,      0.7047,     0.70571,     0.70671,     0.70771,     0.70871,     0.70971,     0.71071,     0.71171,     0.71271,     0.71371,     0.71471,     0.71572,     0.71672,     0.71772,     0.71872,     0.71972,\n",
      "           0.72072,     0.72172,     0.72272,     0.72372,     0.72472,     0.72573,     0.72673,     0.72773,     0.72873,     0.72973,     0.73073,     0.73173,     0.73273,     0.73373,     0.73473,     0.73574,     0.73674,     0.73774,     0.73874,     0.73974,     0.74074,     0.74174,     0.74274,     0.74374,\n",
      "           0.74474,     0.74575,     0.74675,     0.74775,     0.74875,     0.74975,     0.75075,     0.75175,     0.75275,     0.75375,     0.75475,     0.75576,     0.75676,     0.75776,     0.75876,     0.75976,     0.76076,     0.76176,     0.76276,     0.76376,     0.76476,     0.76577,     0.76677,     0.76777,\n",
      "           0.76877,     0.76977,     0.77077,     0.77177,     0.77277,     0.77377,     0.77477,     0.77578,     0.77678,     0.77778,     0.77878,     0.77978,     0.78078,     0.78178,     0.78278,     0.78378,     0.78478,     0.78579,     0.78679,     0.78779,     0.78879,     0.78979,     0.79079,     0.79179,\n",
      "           0.79279,     0.79379,     0.79479,      0.7958,      0.7968,      0.7978,      0.7988,      0.7998,      0.8008,      0.8018,      0.8028,      0.8038,      0.8048,     0.80581,     0.80681,     0.80781,     0.80881,     0.80981,     0.81081,     0.81181,     0.81281,     0.81381,     0.81481,     0.81582,\n",
      "           0.81682,     0.81782,     0.81882,     0.81982,     0.82082,     0.82182,     0.82282,     0.82382,     0.82482,     0.82583,     0.82683,     0.82783,     0.82883,     0.82983,     0.83083,     0.83183,     0.83283,     0.83383,     0.83483,     0.83584,     0.83684,     0.83784,     0.83884,     0.83984,\n",
      "           0.84084,     0.84184,     0.84284,     0.84384,     0.84484,     0.84585,     0.84685,     0.84785,     0.84885,     0.84985,     0.85085,     0.85185,     0.85285,     0.85385,     0.85485,     0.85586,     0.85686,     0.85786,     0.85886,     0.85986,     0.86086,     0.86186,     0.86286,     0.86386,\n",
      "           0.86486,     0.86587,     0.86687,     0.86787,     0.86887,     0.86987,     0.87087,     0.87187,     0.87287,     0.87387,     0.87487,     0.87588,     0.87688,     0.87788,     0.87888,     0.87988,     0.88088,     0.88188,     0.88288,     0.88388,     0.88488,     0.88589,     0.88689,     0.88789,\n",
      "           0.88889,     0.88989,     0.89089,     0.89189,     0.89289,     0.89389,     0.89489,      0.8959,      0.8969,      0.8979,      0.8989,      0.8999,      0.9009,      0.9019,      0.9029,      0.9039,      0.9049,     0.90591,     0.90691,     0.90791,     0.90891,     0.90991,     0.91091,     0.91191,\n",
      "           0.91291,     0.91391,     0.91491,     0.91592,     0.91692,     0.91792,     0.91892,     0.91992,     0.92092,     0.92192,     0.92292,     0.92392,     0.92492,     0.92593,     0.92693,     0.92793,     0.92893,     0.92993,     0.93093,     0.93193,     0.93293,     0.93393,     0.93493,     0.93594,\n",
      "           0.93694,     0.93794,     0.93894,     0.93994,     0.94094,     0.94194,     0.94294,     0.94394,     0.94494,     0.94595,     0.94695,     0.94795,     0.94895,     0.94995,     0.95095,     0.95195,     0.95295,     0.95395,     0.95495,     0.95596,     0.95696,     0.95796,     0.95896,     0.95996,\n",
      "           0.96096,     0.96196,     0.96296,     0.96396,     0.96496,     0.96597,     0.96697,     0.96797,     0.96897,     0.96997,     0.97097,     0.97197,     0.97297,     0.97397,     0.97497,     0.97598,     0.97698,     0.97798,     0.97898,     0.97998,     0.98098,     0.98198,     0.98298,     0.98398,\n",
      "           0.98498,     0.98599,     0.98699,     0.98799,     0.98899,     0.98999,     0.99099,     0.99199,     0.99299,     0.99399,     0.99499,       0.996,       0.997,       0.998,       0.999,           1]), array([[          1,           1,           1,           1,           1,           1,           1,           1,           1,           1,           1,           1,           1,           1,           1,           1,           1,           1,           1,           1,           1,           1,           1,\n",
      "                  1,           1,           1,           1,           1,           1,           1,           1,           1,           1,           1,           1,           1,           1,           1,           1,           1,           1,           1,           1,           1,           1,           1,\n",
      "                  1,           1,           1,           1,           1,           1,           1,           1,           1,           1,           1,           1,           1,           1,           1,           1,           1,           1,           1,           1,           1,           1,           1,\n",
      "                  1,           1,           1,           1,           1,           1,           1,           1,           1,           1,           1,           1,           1,           1,           1,           1,           1,           1,           1,           1,           1,           1,           1,\n",
      "                  1,           1,           1,           1,           1,           1,           1,           1,           1,           1,           1,           1,           1,           1,           1,           1,           1,           1,           1,           1,           1,           1,           1,\n",
      "                  1,           1,           1,           1,           1,           1,           1,           1,           1,           1,           1,           1,           1,           1,           1,           1,           1,           1,           1,           1,           1,           1,           1,\n",
      "                  1,           1,           1,           1,           1,           1,           1,           1,           1,           1,           1,           1,           1,           1,           1,           1,           1,           1,           1,           1,           1,           1,           1,\n",
      "                  1,           1,           1,           1,           1,           1,           1,           1,           1,           1,           1,           1,           1,           1,           1,           1,           1,           1,           1,           1,           1,           1,           1,\n",
      "                  1,           1,           1,           1,           1,           1,           1,           1,           1,           1,           1,           1,           1,           1,           1,           1,           1,           1,           1,           1,           1,           1,           1,\n",
      "                  1,           1,           1,           1,           1,           1,           1,           1,           1,           1,           1,           1,           1,           1,           1,           1,           1,           1,           1,           1,           1,           1,           1,\n",
      "                  1,           1,           1,           1,           1,           1,           1,           1,           1,           1,           1,           1,           1,           1,           1,           1,           1,           1,           1,           1,           1,           1,           1,\n",
      "                  1,           1,           1,           1,           1,           1,           1,           1,           1,           1,           1,           1,           1,           1,           1,           1,           1,           1,           1,           1,           1,           1,           1,\n",
      "                  1,           1,           1,           1,           1,           1,           1,           1,           1,           1,           1,           1,           1,           1,           1,           1,           1,           1,           1,           1,           1,           1,           1,\n",
      "                  1,           1,           1,           1,           1,           1,           1,           1,           1,           1,           1,           1,           1,           1,           1,           1,           1,           1,           1,           1,           1,           1,           1,\n",
      "                  1,           1,           1,           1,           1,           1,           1,           1,           1,           1,           1,           1,           1,           1,           1,           1,           1,           1,           1,           1,           1,           1,           1,\n",
      "                  1,           1,           1,           1,           1,           1,           1,           1,           1,           1,           1,           1,           1,           1,           1,           1,           1,           1,           1,           1,           1,           1,           1,\n",
      "                  1,           1,           1,           1,           1,           1,           1,           1,           1,           1,           1,           1,           1,           1,           1,           1,           1,           1,           1,           1,           1,           1,           1,\n",
      "                  1,           1,           1,           1,           1,           1,           1,           1,           1,           1,           1,           1,           1,           1,           1,           1,           1,           1,           1,           1,           1,           1,           1,\n",
      "                  1,           1,           1,           1,           1,           1,           1,           1,           1,           1,           1,           1,           1,           1,           1,           1,           1,           1,           1,           1,           1,           1,           1,\n",
      "                  1,           1,           1,           1,           1,           1,           1,           1,           1,           1,           1,           1,           1,           1,           1,           1,           1,           1,           1,           1,           1,           1,           1,\n",
      "                  1,           1,           1,           1,           1,           1,           1,           1,           1,           1,           1,           1,           1,           1,           1,           1,           1,           1,           1,           1,           1,           1,           1,\n",
      "                  1,           1,           1,           1,           1,           1,           1,           1,           1,           1,           1,           1,           1,           1,           1,           1,           1,           1,           1,           1,           1,           1,           1,\n",
      "                  1,           1,           1,           1,           1,           1,           1,           1,           1,           1,           1,           1,           1,           1,           1,           1,           1,           1,           1,           1,           1,           1,           1,\n",
      "                  1,           1,           1,           1,           1,           1,           1,           1,           1,           1,           1,           1,           1,           1,           1,           1,           1,           1,           1,           1,           1,           1,           1,\n",
      "                  1,           1,           1,           1,           1,           1,           1,           1,           1,           1,           1,           1,           1,           1,           1,           1,           1,           1,           1,           1,           1,           1,           1,\n",
      "                  1,           1,           1,           1,           1,           1,           1,           1,           1,           1,           1,           1,           1,           1,           1,           1,           1,           1,           1,           1,           1,           1,           1,\n",
      "                  1,           1,           1,           1,           1,           1,           1,           1,           1,           1,           1,           1,           1,           1,           1,           1,           1,           1,           1,           1,           1,           1,           1,\n",
      "                  1,           1,           1,           1,           1,           1,           1,           1,           1,           1,           1,           1,           1,           1,           1,           1,           1,           1,           1,           1,           1,           1,           1,\n",
      "                  1,           1,           1,           1,           1,           1,           1,           1,           1,           1,           1,           1,           1,           1,           1,           1,           1,           1,           1,           1,           1,           1,           1,\n",
      "                  1,           1,           1,           1,           1,           1,           1,           1,           1,           1,           1,           1,           1,           1,           1,           1,           1,           1,           1,           1,           1,           1,           1,\n",
      "                  1,           1,           1,           1,           1,           1,           1,           1,           1,           1,           1,           1,           1,           1,           1,           1,           1,           1,           1,           1,           1,           1,           1,\n",
      "                  1,           1,           1,           1,           1,           1,           1,           1,           1,           1,           1,           1,           1,           1,           1,           1,           1,           1,           1,           1,           1,           1,           1,\n",
      "                  1,           1,           1,           1,           1,           1,           1,           1,           1,           1,           1,           1,           1,           1,           1,           1,           1,           1,           1,           1,           1,           1,           1,\n",
      "                  1,           1,           1,           1,           1,           1,           1,           1,           1,           1,           1,           1,           1,           1,           1,           1,           1,           1,           1,           1,           1,           1,           1,\n",
      "                  1,           1,           1,           1,           1,           1,           1,           1,           1,           1,           1,           1,           1,           1,           1,           1,           1,           1,           1,           1,           1,           1,           1,\n",
      "                  1,           1,           1,           1,           1,           1,           1,           1,           1,           1,           1,           1,           1,           1,           1,           1,           1,           1,           1,           1,           1,           1,           1,\n",
      "                  1,           1,           1,           1,           1,           1,           1,           1,           1,           1,           1,           1,           1,           1,           1,           1,           1,           1,           1,           1,           1,           1,           1,\n",
      "                  1,           1,           1,           1,           1,           1,           1,           1,           1,           1,           1,           1,           1,           1,           1,           1,           1,           1,           1,           1,           1,           1,           1,\n",
      "                  1,           1,           1,           1,           1,           1,           1,           1,           1,           1,           1,           1,           1,           1,           1,           1,           1,           1,           1,           1,           1,           1,           1,\n",
      "                  1,           1,           1,           1,           1,           1,           1,           1,           1,           1,           1,           1,           1,           1,           1,           1,           1,           1,           1,           1,           1,           1,           1,\n",
      "                  1,           1,     0.99535,     0.99535,     0.99078,     0.99078,     0.99078,     0.99078,     0.98402,     0.98402,     0.94118,     0.94118,     0.94118,     0.91737,     0.91737,     0.70915,     0.70915,     0.70847,     0.70847,     0.66667,     0.66667,     0.63889,     0.63889,\n",
      "            0.55867,     0.55867,     0.55867,     0.48246,     0.47336,     0.46425,     0.45515,     0.44605,     0.43694,     0.42784,     0.41874,     0.40964,     0.40053,     0.39143,     0.38233,     0.37322,     0.36412,     0.35502,     0.34591,     0.33681,     0.32771,     0.31861,      0.3095,\n",
      "             0.3004,      0.2913,     0.28219,     0.27309,     0.26399,     0.25488,     0.24578,     0.23668,     0.22758,     0.21847,     0.20937,     0.20027,     0.19116,     0.18206,     0.17296,     0.16385,     0.15475,     0.14565,     0.13655,     0.12744,     0.11834,     0.10924,     0.10013,\n",
      "            0.09103,    0.081927,    0.072824,    0.063721,    0.054618,    0.045515,    0.036412,    0.027309,    0.018206,    0.009103,           0]]), 'Recall', 'Precision'], [array([          0,    0.001001,    0.002002,    0.003003,    0.004004,    0.005005,    0.006006,    0.007007,    0.008008,    0.009009,     0.01001,    0.011011,    0.012012,    0.013013,    0.014014,    0.015015,    0.016016,    0.017017,    0.018018,    0.019019,     0.02002,    0.021021,    0.022022,    0.023023,\n",
      "          0.024024,    0.025025,    0.026026,    0.027027,    0.028028,    0.029029,     0.03003,    0.031031,    0.032032,    0.033033,    0.034034,    0.035035,    0.036036,    0.037037,    0.038038,    0.039039,     0.04004,    0.041041,    0.042042,    0.043043,    0.044044,    0.045045,    0.046046,    0.047047,\n",
      "          0.048048,    0.049049,     0.05005,    0.051051,    0.052052,    0.053053,    0.054054,    0.055055,    0.056056,    0.057057,    0.058058,    0.059059,     0.06006,    0.061061,    0.062062,    0.063063,    0.064064,    0.065065,    0.066066,    0.067067,    0.068068,    0.069069,     0.07007,    0.071071,\n",
      "          0.072072,    0.073073,    0.074074,    0.075075,    0.076076,    0.077077,    0.078078,    0.079079,     0.08008,    0.081081,    0.082082,    0.083083,    0.084084,    0.085085,    0.086086,    0.087087,    0.088088,    0.089089,     0.09009,    0.091091,    0.092092,    0.093093,    0.094094,    0.095095,\n",
      "          0.096096,    0.097097,    0.098098,    0.099099,      0.1001,      0.1011,      0.1021,      0.1031,      0.1041,     0.10511,     0.10611,     0.10711,     0.10811,     0.10911,     0.11011,     0.11111,     0.11211,     0.11311,     0.11411,     0.11512,     0.11612,     0.11712,     0.11812,     0.11912,\n",
      "           0.12012,     0.12112,     0.12212,     0.12312,     0.12412,     0.12513,     0.12613,     0.12713,     0.12813,     0.12913,     0.13013,     0.13113,     0.13213,     0.13313,     0.13413,     0.13514,     0.13614,     0.13714,     0.13814,     0.13914,     0.14014,     0.14114,     0.14214,     0.14314,\n",
      "           0.14414,     0.14515,     0.14615,     0.14715,     0.14815,     0.14915,     0.15015,     0.15115,     0.15215,     0.15315,     0.15415,     0.15516,     0.15616,     0.15716,     0.15816,     0.15916,     0.16016,     0.16116,     0.16216,     0.16316,     0.16416,     0.16517,     0.16617,     0.16717,\n",
      "           0.16817,     0.16917,     0.17017,     0.17117,     0.17217,     0.17317,     0.17417,     0.17518,     0.17618,     0.17718,     0.17818,     0.17918,     0.18018,     0.18118,     0.18218,     0.18318,     0.18418,     0.18519,     0.18619,     0.18719,     0.18819,     0.18919,     0.19019,     0.19119,\n",
      "           0.19219,     0.19319,     0.19419,      0.1952,      0.1962,      0.1972,      0.1982,      0.1992,      0.2002,      0.2012,      0.2022,      0.2032,      0.2042,     0.20521,     0.20621,     0.20721,     0.20821,     0.20921,     0.21021,     0.21121,     0.21221,     0.21321,     0.21421,     0.21522,\n",
      "           0.21622,     0.21722,     0.21822,     0.21922,     0.22022,     0.22122,     0.22222,     0.22322,     0.22422,     0.22523,     0.22623,     0.22723,     0.22823,     0.22923,     0.23023,     0.23123,     0.23223,     0.23323,     0.23423,     0.23524,     0.23624,     0.23724,     0.23824,     0.23924,\n",
      "           0.24024,     0.24124,     0.24224,     0.24324,     0.24424,     0.24525,     0.24625,     0.24725,     0.24825,     0.24925,     0.25025,     0.25125,     0.25225,     0.25325,     0.25425,     0.25526,     0.25626,     0.25726,     0.25826,     0.25926,     0.26026,     0.26126,     0.26226,     0.26326,\n",
      "           0.26426,     0.26527,     0.26627,     0.26727,     0.26827,     0.26927,     0.27027,     0.27127,     0.27227,     0.27327,     0.27427,     0.27528,     0.27628,     0.27728,     0.27828,     0.27928,     0.28028,     0.28128,     0.28228,     0.28328,     0.28428,     0.28529,     0.28629,     0.28729,\n",
      "           0.28829,     0.28929,     0.29029,     0.29129,     0.29229,     0.29329,     0.29429,      0.2953,      0.2963,      0.2973,      0.2983,      0.2993,      0.3003,      0.3013,      0.3023,      0.3033,      0.3043,     0.30531,     0.30631,     0.30731,     0.30831,     0.30931,     0.31031,     0.31131,\n",
      "           0.31231,     0.31331,     0.31431,     0.31532,     0.31632,     0.31732,     0.31832,     0.31932,     0.32032,     0.32132,     0.32232,     0.32332,     0.32432,     0.32533,     0.32633,     0.32733,     0.32833,     0.32933,     0.33033,     0.33133,     0.33233,     0.33333,     0.33433,     0.33534,\n",
      "           0.33634,     0.33734,     0.33834,     0.33934,     0.34034,     0.34134,     0.34234,     0.34334,     0.34434,     0.34535,     0.34635,     0.34735,     0.34835,     0.34935,     0.35035,     0.35135,     0.35235,     0.35335,     0.35435,     0.35536,     0.35636,     0.35736,     0.35836,     0.35936,\n",
      "           0.36036,     0.36136,     0.36236,     0.36336,     0.36436,     0.36537,     0.36637,     0.36737,     0.36837,     0.36937,     0.37037,     0.37137,     0.37237,     0.37337,     0.37437,     0.37538,     0.37638,     0.37738,     0.37838,     0.37938,     0.38038,     0.38138,     0.38238,     0.38338,\n",
      "           0.38438,     0.38539,     0.38639,     0.38739,     0.38839,     0.38939,     0.39039,     0.39139,     0.39239,     0.39339,     0.39439,      0.3954,      0.3964,      0.3974,      0.3984,      0.3994,      0.4004,      0.4014,      0.4024,      0.4034,      0.4044,     0.40541,     0.40641,     0.40741,\n",
      "           0.40841,     0.40941,     0.41041,     0.41141,     0.41241,     0.41341,     0.41441,     0.41542,     0.41642,     0.41742,     0.41842,     0.41942,     0.42042,     0.42142,     0.42242,     0.42342,     0.42442,     0.42543,     0.42643,     0.42743,     0.42843,     0.42943,     0.43043,     0.43143,\n",
      "           0.43243,     0.43343,     0.43443,     0.43544,     0.43644,     0.43744,     0.43844,     0.43944,     0.44044,     0.44144,     0.44244,     0.44344,     0.44444,     0.44545,     0.44645,     0.44745,     0.44845,     0.44945,     0.45045,     0.45145,     0.45245,     0.45345,     0.45445,     0.45546,\n",
      "           0.45646,     0.45746,     0.45846,     0.45946,     0.46046,     0.46146,     0.46246,     0.46346,     0.46446,     0.46547,     0.46647,     0.46747,     0.46847,     0.46947,     0.47047,     0.47147,     0.47247,     0.47347,     0.47447,     0.47548,     0.47648,     0.47748,     0.47848,     0.47948,\n",
      "           0.48048,     0.48148,     0.48248,     0.48348,     0.48448,     0.48549,     0.48649,     0.48749,     0.48849,     0.48949,     0.49049,     0.49149,     0.49249,     0.49349,     0.49449,      0.4955,      0.4965,      0.4975,      0.4985,      0.4995,      0.5005,      0.5015,      0.5025,      0.5035,\n",
      "            0.5045,     0.50551,     0.50651,     0.50751,     0.50851,     0.50951,     0.51051,     0.51151,     0.51251,     0.51351,     0.51451,     0.51552,     0.51652,     0.51752,     0.51852,     0.51952,     0.52052,     0.52152,     0.52252,     0.52352,     0.52452,     0.52553,     0.52653,     0.52753,\n",
      "           0.52853,     0.52953,     0.53053,     0.53153,     0.53253,     0.53353,     0.53453,     0.53554,     0.53654,     0.53754,     0.53854,     0.53954,     0.54054,     0.54154,     0.54254,     0.54354,     0.54454,     0.54555,     0.54655,     0.54755,     0.54855,     0.54955,     0.55055,     0.55155,\n",
      "           0.55255,     0.55355,     0.55455,     0.55556,     0.55656,     0.55756,     0.55856,     0.55956,     0.56056,     0.56156,     0.56256,     0.56356,     0.56456,     0.56557,     0.56657,     0.56757,     0.56857,     0.56957,     0.57057,     0.57157,     0.57257,     0.57357,     0.57457,     0.57558,\n",
      "           0.57658,     0.57758,     0.57858,     0.57958,     0.58058,     0.58158,     0.58258,     0.58358,     0.58458,     0.58559,     0.58659,     0.58759,     0.58859,     0.58959,     0.59059,     0.59159,     0.59259,     0.59359,     0.59459,      0.5956,      0.5966,      0.5976,      0.5986,      0.5996,\n",
      "            0.6006,      0.6016,      0.6026,      0.6036,      0.6046,     0.60561,     0.60661,     0.60761,     0.60861,     0.60961,     0.61061,     0.61161,     0.61261,     0.61361,     0.61461,     0.61562,     0.61662,     0.61762,     0.61862,     0.61962,     0.62062,     0.62162,     0.62262,     0.62362,\n",
      "           0.62462,     0.62563,     0.62663,     0.62763,     0.62863,     0.62963,     0.63063,     0.63163,     0.63263,     0.63363,     0.63463,     0.63564,     0.63664,     0.63764,     0.63864,     0.63964,     0.64064,     0.64164,     0.64264,     0.64364,     0.64464,     0.64565,     0.64665,     0.64765,\n",
      "           0.64865,     0.64965,     0.65065,     0.65165,     0.65265,     0.65365,     0.65465,     0.65566,     0.65666,     0.65766,     0.65866,     0.65966,     0.66066,     0.66166,     0.66266,     0.66366,     0.66466,     0.66567,     0.66667,     0.66767,     0.66867,     0.66967,     0.67067,     0.67167,\n",
      "           0.67267,     0.67367,     0.67467,     0.67568,     0.67668,     0.67768,     0.67868,     0.67968,     0.68068,     0.68168,     0.68268,     0.68368,     0.68468,     0.68569,     0.68669,     0.68769,     0.68869,     0.68969,     0.69069,     0.69169,     0.69269,     0.69369,     0.69469,      0.6957,\n",
      "            0.6967,      0.6977,      0.6987,      0.6997,      0.7007,      0.7017,      0.7027,      0.7037,      0.7047,     0.70571,     0.70671,     0.70771,     0.70871,     0.70971,     0.71071,     0.71171,     0.71271,     0.71371,     0.71471,     0.71572,     0.71672,     0.71772,     0.71872,     0.71972,\n",
      "           0.72072,     0.72172,     0.72272,     0.72372,     0.72472,     0.72573,     0.72673,     0.72773,     0.72873,     0.72973,     0.73073,     0.73173,     0.73273,     0.73373,     0.73473,     0.73574,     0.73674,     0.73774,     0.73874,     0.73974,     0.74074,     0.74174,     0.74274,     0.74374,\n",
      "           0.74474,     0.74575,     0.74675,     0.74775,     0.74875,     0.74975,     0.75075,     0.75175,     0.75275,     0.75375,     0.75475,     0.75576,     0.75676,     0.75776,     0.75876,     0.75976,     0.76076,     0.76176,     0.76276,     0.76376,     0.76476,     0.76577,     0.76677,     0.76777,\n",
      "           0.76877,     0.76977,     0.77077,     0.77177,     0.77277,     0.77377,     0.77477,     0.77578,     0.77678,     0.77778,     0.77878,     0.77978,     0.78078,     0.78178,     0.78278,     0.78378,     0.78478,     0.78579,     0.78679,     0.78779,     0.78879,     0.78979,     0.79079,     0.79179,\n",
      "           0.79279,     0.79379,     0.79479,      0.7958,      0.7968,      0.7978,      0.7988,      0.7998,      0.8008,      0.8018,      0.8028,      0.8038,      0.8048,     0.80581,     0.80681,     0.80781,     0.80881,     0.80981,     0.81081,     0.81181,     0.81281,     0.81381,     0.81481,     0.81582,\n",
      "           0.81682,     0.81782,     0.81882,     0.81982,     0.82082,     0.82182,     0.82282,     0.82382,     0.82482,     0.82583,     0.82683,     0.82783,     0.82883,     0.82983,     0.83083,     0.83183,     0.83283,     0.83383,     0.83483,     0.83584,     0.83684,     0.83784,     0.83884,     0.83984,\n",
      "           0.84084,     0.84184,     0.84284,     0.84384,     0.84484,     0.84585,     0.84685,     0.84785,     0.84885,     0.84985,     0.85085,     0.85185,     0.85285,     0.85385,     0.85485,     0.85586,     0.85686,     0.85786,     0.85886,     0.85986,     0.86086,     0.86186,     0.86286,     0.86386,\n",
      "           0.86486,     0.86587,     0.86687,     0.86787,     0.86887,     0.86987,     0.87087,     0.87187,     0.87287,     0.87387,     0.87487,     0.87588,     0.87688,     0.87788,     0.87888,     0.87988,     0.88088,     0.88188,     0.88288,     0.88388,     0.88488,     0.88589,     0.88689,     0.88789,\n",
      "           0.88889,     0.88989,     0.89089,     0.89189,     0.89289,     0.89389,     0.89489,      0.8959,      0.8969,      0.8979,      0.8989,      0.8999,      0.9009,      0.9019,      0.9029,      0.9039,      0.9049,     0.90591,     0.90691,     0.90791,     0.90891,     0.90991,     0.91091,     0.91191,\n",
      "           0.91291,     0.91391,     0.91491,     0.91592,     0.91692,     0.91792,     0.91892,     0.91992,     0.92092,     0.92192,     0.92292,     0.92392,     0.92492,     0.92593,     0.92693,     0.92793,     0.92893,     0.92993,     0.93093,     0.93193,     0.93293,     0.93393,     0.93493,     0.93594,\n",
      "           0.93694,     0.93794,     0.93894,     0.93994,     0.94094,     0.94194,     0.94294,     0.94394,     0.94494,     0.94595,     0.94695,     0.94795,     0.94895,     0.94995,     0.95095,     0.95195,     0.95295,     0.95395,     0.95495,     0.95596,     0.95696,     0.95796,     0.95896,     0.95996,\n",
      "           0.96096,     0.96196,     0.96296,     0.96396,     0.96496,     0.96597,     0.96697,     0.96797,     0.96897,     0.96997,     0.97097,     0.97197,     0.97297,     0.97397,     0.97497,     0.97598,     0.97698,     0.97798,     0.97898,     0.97998,     0.98098,     0.98198,     0.98298,     0.98398,\n",
      "           0.98498,     0.98599,     0.98699,     0.98799,     0.98899,     0.98999,     0.99099,     0.99199,     0.99299,     0.99399,     0.99499,       0.996,       0.997,       0.998,       0.999,           1]), array([[    0.64649,     0.64649,     0.74477,     0.79003,     0.82954,     0.85114,     0.86554,      0.8737,     0.88017,     0.88376,     0.88946,     0.89262,     0.89791,     0.90001,     0.90433,     0.90542,     0.90693,     0.90753,     0.90913,     0.91097,     0.91163,     0.91351,     0.91402,\n",
      "            0.91472,     0.91739,      0.9195,     0.92007,     0.92105,     0.92262,     0.92329,     0.92341,     0.92354,     0.92367,      0.9238,     0.92392,     0.92405,     0.92418,     0.92459,      0.9252,     0.92609,     0.92531,     0.92583,     0.92721,      0.9275,      0.9278,     0.93004,\n",
      "            0.93044,     0.93085,     0.93147,     0.93212,      0.9324,     0.93268,     0.93296,     0.93433,     0.93508,     0.93581,     0.93642,     0.93695,     0.93698,     0.93683,     0.93667,     0.93652,     0.93637,     0.93622,     0.93606,     0.93628,     0.93712,     0.93741,     0.93769,\n",
      "            0.93797,     0.93904,     0.93973,     0.94057,     0.94212,     0.94231,      0.9425,     0.94269,     0.94288,     0.94307,     0.94323,     0.94339,     0.94355,     0.94371,     0.94387,     0.94403,      0.9443,     0.94478,     0.94539,     0.94661,     0.94732,     0.94746,      0.9476,\n",
      "            0.94774,     0.94788,     0.94802,     0.94815,     0.94829,     0.95047,     0.95063,     0.95079,     0.95095,     0.95112,     0.95128,     0.95146,     0.95195,     0.95244,     0.95286,     0.95327,     0.95381,     0.95462,     0.95489,     0.95517,     0.95544,     0.95569,     0.95586,\n",
      "            0.95602,     0.95618,     0.95635,     0.95651,     0.95667,     0.95614,     0.95574,     0.95648,     0.95668,     0.95675,     0.95683,      0.9569,     0.95697,     0.95705,     0.95712,      0.9572,     0.95727,     0.95734,     0.95742,     0.95749,     0.95756,     0.95764,     0.95769,\n",
      "            0.95772,     0.95775,     0.95778,      0.9578,     0.95783,     0.95786,     0.95788,     0.95791,     0.95794,     0.95796,     0.95799,     0.95802,     0.95805,     0.95807,      0.9581,     0.95813,     0.95815,     0.95818,     0.95821,     0.95824,     0.95826,     0.95829,     0.95832,\n",
      "            0.95834,     0.95837,      0.9584,     0.95843,     0.95845,     0.95848,     0.95851,     0.95853,     0.95856,     0.95859,     0.95861,     0.95864,     0.95867,      0.9587,     0.95872,     0.95875,     0.95858,     0.95839,      0.9582,     0.95801,     0.95783,     0.95764,     0.95755,\n",
      "            0.95749,     0.95743,     0.95738,     0.95732,     0.95726,     0.95721,     0.95715,      0.9571,     0.95704,     0.95698,     0.95693,     0.95687,     0.95681,     0.95676,      0.9567,     0.95664,     0.95659,     0.95653,     0.95647,     0.95643,     0.95646,     0.95649,     0.95652,\n",
      "            0.95656,     0.95659,     0.95662,     0.95665,     0.95668,     0.95671,     0.95674,     0.95678,     0.95681,     0.95684,     0.95687,      0.9569,     0.95693,     0.95697,       0.957,     0.95703,     0.95706,     0.95709,     0.95712,     0.95715,     0.95719,     0.95722,     0.95725,\n",
      "            0.95728,     0.95731,     0.95734,     0.95737,     0.95741,     0.95744,     0.95747,      0.9575,     0.95754,     0.95757,     0.95761,     0.95764,     0.95768,     0.95771,     0.95775,     0.95778,     0.95782,     0.95785,     0.95789,     0.95792,     0.95796,     0.95799,     0.95803,\n",
      "            0.95806,      0.9581,     0.95813,     0.95816,      0.9582,     0.95823,     0.95827,      0.9583,     0.95834,     0.95837,     0.95841,     0.95844,     0.95848,     0.95851,     0.95855,     0.95856,     0.95853,     0.95851,     0.95848,     0.95846,     0.95844,     0.95841,     0.95839,\n",
      "            0.95837,     0.95834,     0.95832,      0.9583,     0.95827,     0.95825,     0.95823,      0.9582,     0.95818,     0.95815,     0.95813,     0.95811,     0.95808,     0.95806,     0.95804,     0.95801,     0.95799,     0.95797,     0.95794,     0.95792,      0.9579,     0.95787,     0.95785,\n",
      "            0.95782,      0.9578,     0.95778,     0.95775,     0.95773,     0.95771,     0.95768,     0.95766,     0.95764,     0.95761,     0.95759,     0.95756,     0.95754,     0.95752,     0.95749,     0.95747,     0.95745,     0.95742,      0.9574,     0.95811,     0.95858,     0.95878,     0.95899,\n",
      "            0.95919,      0.9594,     0.95954,      0.9595,     0.95946,     0.95943,     0.95939,     0.95935,     0.95931,     0.95927,     0.95923,      0.9592,     0.95916,     0.95912,     0.95908,     0.95904,       0.959,     0.95897,     0.95893,     0.95889,     0.95885,     0.95881,     0.95877,\n",
      "            0.95874,      0.9587,     0.95866,     0.95862,     0.95858,     0.95854,     0.95851,     0.95847,     0.95843,     0.95839,     0.95837,     0.95835,     0.95834,     0.95832,      0.9583,     0.95829,     0.95827,     0.95825,     0.95824,     0.95822,     0.95821,     0.95819,     0.95817,\n",
      "            0.95816,     0.95814,     0.95812,     0.95811,     0.95809,     0.95807,     0.95806,     0.95804,     0.95803,     0.95801,     0.95799,     0.95798,     0.95796,     0.95794,     0.95793,     0.95791,     0.95789,     0.95788,     0.95786,     0.95785,     0.95783,     0.95781,      0.9578,\n",
      "            0.95778,     0.95776,     0.95775,     0.95773,     0.95772,      0.9577,     0.95768,     0.95767,     0.95765,     0.95763,     0.95762,      0.9576,     0.95758,     0.95757,     0.95755,     0.95754,     0.95752,      0.9575,     0.95749,     0.95747,     0.95745,     0.95744,     0.95742,\n",
      "             0.9574,     0.95739,     0.95737,     0.95736,     0.95734,     0.95732,     0.95731,     0.95729,     0.95727,     0.95726,     0.95724,     0.95722,     0.95721,     0.95718,     0.95715,     0.95713,      0.9571,     0.95707,     0.95704,     0.95702,     0.95699,     0.95696,     0.95694,\n",
      "            0.95691,     0.95688,     0.95685,     0.95683,      0.9568,     0.95677,     0.95674,     0.95672,     0.95669,     0.95666,     0.95664,     0.95661,     0.95658,     0.95655,     0.95653,      0.9565,     0.95647,     0.95644,     0.95642,     0.95639,     0.95636,     0.95633,     0.95631,\n",
      "            0.95628,     0.95625,     0.95623,      0.9562,     0.95617,     0.95614,     0.95612,     0.95609,     0.95606,     0.95603,      0.9559,     0.95576,     0.95561,     0.95547,     0.95532,     0.95518,     0.95503,     0.95489,     0.95483,      0.9548,     0.95477,     0.95474,     0.95471,\n",
      "            0.95468,     0.95465,     0.95462,     0.95459,     0.95456,     0.95453,      0.9545,     0.95447,     0.95444,     0.95441,     0.95438,     0.95436,     0.95433,      0.9543,     0.95427,     0.95424,     0.95421,     0.95418,     0.95415,     0.95412,     0.95409,     0.95406,     0.95403,\n",
      "              0.954,     0.95397,     0.95394,     0.95391,     0.95388,     0.95385,     0.95382,     0.95379,     0.95376,     0.95373,      0.9537,     0.95367,     0.95365,     0.95363,     0.95361,     0.95359,     0.95357,     0.95355,     0.95352,      0.9535,     0.95348,     0.95346,     0.95344,\n",
      "            0.95342,      0.9534,     0.95338,     0.95336,     0.95334,     0.95331,     0.95329,     0.95327,     0.95325,     0.95323,     0.95321,     0.95319,     0.95317,     0.95315,     0.95312,      0.9531,     0.95308,     0.95306,     0.95304,     0.95302,       0.953,     0.95298,     0.95296,\n",
      "            0.95294,     0.95291,     0.95289,     0.95287,     0.95285,     0.95283,     0.95281,     0.95279,     0.95277,     0.95275,     0.95272,      0.9527,     0.95268,     0.95266,     0.95264,     0.95262,      0.9526,     0.95258,     0.95256,     0.95254,     0.95251,     0.95249,     0.95246,\n",
      "            0.95243,      0.9524,     0.95237,     0.95234,     0.95231,     0.95228,     0.95225,     0.95221,     0.95218,     0.95215,     0.95212,     0.95209,     0.95206,     0.95203,       0.952,     0.95196,     0.95193,      0.9519,     0.95187,     0.95184,     0.95181,     0.95178,     0.95175,\n",
      "            0.95171,     0.95168,     0.95165,     0.95162,     0.95159,     0.95156,     0.95153,      0.9515,     0.95146,     0.95143,      0.9514,     0.95137,     0.95134,     0.95131,     0.95126,     0.95121,     0.95116,      0.9511,     0.95105,       0.951,     0.95095,      0.9509,     0.95085,\n",
      "             0.9508,     0.95075,     0.95069,     0.95064,     0.95059,     0.95054,     0.95049,     0.95044,     0.95039,     0.95033,     0.95028,     0.95023,     0.95018,     0.95013,     0.95005,     0.94995,     0.94986,     0.94977,     0.94968,     0.94959,     0.94949,      0.9494,     0.94931,\n",
      "            0.94922,     0.94912,     0.94903,     0.94894,     0.94888,     0.94883,     0.94878,     0.94873,     0.94868,     0.94863,     0.94858,     0.94853,     0.94848,     0.94843,     0.94838,     0.94833,     0.94828,     0.94822,     0.94817,     0.94812,     0.94807,     0.94802,     0.94797,\n",
      "            0.94792,     0.94787,     0.94782,     0.94777,     0.94772,     0.94769,     0.94765,     0.94761,     0.94758,     0.94754,     0.94751,     0.94747,     0.94743,      0.9474,     0.94736,     0.94733,     0.94729,     0.94726,     0.94722,     0.94718,     0.94715,     0.94711,     0.94708,\n",
      "            0.94704,       0.947,     0.94697,     0.94693,      0.9469,     0.94686,     0.94682,     0.94679,     0.94675,     0.94672,     0.94668,     0.94664,     0.94661,     0.94657,     0.94654,     0.94644,     0.94632,     0.94621,     0.94609,     0.94598,     0.94586,     0.94575,     0.94563,\n",
      "            0.94552,     0.94541,      0.9453,     0.94523,     0.94515,     0.94507,       0.945,     0.94492,     0.94485,     0.94477,     0.94469,     0.94462,     0.94454,     0.94446,     0.94439,     0.94431,     0.94423,     0.94416,      0.9441,     0.94407,     0.94403,     0.94399,     0.94395,\n",
      "            0.94391,     0.94388,     0.94384,      0.9438,     0.94376,     0.94373,     0.94369,     0.94365,     0.94361,     0.94357,     0.94354,      0.9435,     0.94346,     0.94342,     0.94339,     0.94335,     0.94331,     0.94327,     0.94323,      0.9432,     0.94316,     0.94312,     0.94308,\n",
      "            0.94304,     0.94301,     0.94297,     0.94293,     0.94288,     0.94283,     0.94278,     0.94273,     0.94268,     0.94263,     0.94258,     0.94253,     0.94248,     0.94243,     0.94238,     0.94233,     0.94228,     0.94223,     0.94218,     0.94213,     0.94208,     0.94203,     0.94198,\n",
      "            0.94193,     0.94188,     0.94183,     0.94178,     0.94173,     0.94166,     0.94158,     0.94151,     0.94143,     0.94136,     0.94128,     0.94121,     0.94113,     0.94106,     0.94099,     0.94091,     0.94084,     0.94076,     0.94069,     0.94061,     0.94054,     0.94017,     0.93956,\n",
      "             0.9389,     0.93819,     0.93761,     0.93705,     0.93648,      0.9359,     0.93554,     0.93537,      0.9352,     0.93503,     0.93486,     0.93469,     0.93452,     0.93425,     0.93381,     0.93338,     0.93189,     0.93154,     0.93118,     0.93082,     0.92943,     0.92855,     0.92816,\n",
      "            0.92805,     0.92793,     0.92781,     0.92769,     0.92757,     0.92745,     0.92734,     0.92722,      0.9271,     0.92698,     0.92684,      0.9267,     0.92657,     0.92643,     0.92629,     0.92615,     0.92601,     0.92588,     0.92572,     0.92541,      0.9251,     0.92479,     0.92449,\n",
      "            0.92428,     0.92408,     0.92387,     0.92366,     0.92346,     0.92325,     0.92286,     0.92248,     0.92209,     0.92193,     0.92184,     0.92174,     0.92165,     0.92156,     0.92147,     0.92137,     0.92128,     0.92119,     0.92109,       0.921,     0.92091,     0.92082,     0.92052,\n",
      "            0.91963,     0.91879,     0.91694,     0.91659,     0.91625,     0.91591,     0.91537,      0.9145,     0.91263,     0.91156,     0.91093,     0.90957,     0.90832,     0.90784,      0.9076,     0.90735,     0.90711,     0.90687,      0.9061,     0.90423,     0.89887,      0.8984,     0.89794,\n",
      "            0.89575,     0.89401,     0.89336,     0.89293,      0.8925,     0.89178,     0.89079,     0.88903,     0.88675,     0.88621,     0.88555,     0.88095,     0.88007,     0.87975,     0.87943,     0.87912,     0.87847,     0.87607,     0.87484,     0.87406,     0.87311,     0.87187,     0.87109,\n",
      "            0.86769,     0.86602,     0.86465,     0.86365,     0.86102,     0.85751,     0.85462,     0.84804,      0.8459,      0.8332,     0.82653,     0.81696,     0.81027,     0.79513,     0.78814,     0.77714,     0.76855,     0.75955,     0.73863,     0.72531,     0.70996,     0.68395,     0.65588,\n",
      "            0.63574,     0.61911,     0.58914,     0.56618,     0.53993,     0.49011,     0.45111,     0.41091,     0.38921,     0.34627,     0.31534,     0.27937,     0.23562,     0.20886,     0.17951,     0.15495,     0.11212,     0.10014,    0.069324,    0.061628,    0.055371,    0.035339,     0.02459,\n",
      "            0.02157,   0.0086656,   0.0071873,   0.0057565,   0.0043236,           0,           0,           0,           0,           0,           0,           0,           0,           0,           0,           0,           0,           0,           0,           0,           0,           0,           0,\n",
      "                  0,           0,           0,           0,           0,           0,           0,           0,           0,           0,           0]]), 'Confidence', 'F1'], [array([          0,    0.001001,    0.002002,    0.003003,    0.004004,    0.005005,    0.006006,    0.007007,    0.008008,    0.009009,     0.01001,    0.011011,    0.012012,    0.013013,    0.014014,    0.015015,    0.016016,    0.017017,    0.018018,    0.019019,     0.02002,    0.021021,    0.022022,    0.023023,\n",
      "          0.024024,    0.025025,    0.026026,    0.027027,    0.028028,    0.029029,     0.03003,    0.031031,    0.032032,    0.033033,    0.034034,    0.035035,    0.036036,    0.037037,    0.038038,    0.039039,     0.04004,    0.041041,    0.042042,    0.043043,    0.044044,    0.045045,    0.046046,    0.047047,\n",
      "          0.048048,    0.049049,     0.05005,    0.051051,    0.052052,    0.053053,    0.054054,    0.055055,    0.056056,    0.057057,    0.058058,    0.059059,     0.06006,    0.061061,    0.062062,    0.063063,    0.064064,    0.065065,    0.066066,    0.067067,    0.068068,    0.069069,     0.07007,    0.071071,\n",
      "          0.072072,    0.073073,    0.074074,    0.075075,    0.076076,    0.077077,    0.078078,    0.079079,     0.08008,    0.081081,    0.082082,    0.083083,    0.084084,    0.085085,    0.086086,    0.087087,    0.088088,    0.089089,     0.09009,    0.091091,    0.092092,    0.093093,    0.094094,    0.095095,\n",
      "          0.096096,    0.097097,    0.098098,    0.099099,      0.1001,      0.1011,      0.1021,      0.1031,      0.1041,     0.10511,     0.10611,     0.10711,     0.10811,     0.10911,     0.11011,     0.11111,     0.11211,     0.11311,     0.11411,     0.11512,     0.11612,     0.11712,     0.11812,     0.11912,\n",
      "           0.12012,     0.12112,     0.12212,     0.12312,     0.12412,     0.12513,     0.12613,     0.12713,     0.12813,     0.12913,     0.13013,     0.13113,     0.13213,     0.13313,     0.13413,     0.13514,     0.13614,     0.13714,     0.13814,     0.13914,     0.14014,     0.14114,     0.14214,     0.14314,\n",
      "           0.14414,     0.14515,     0.14615,     0.14715,     0.14815,     0.14915,     0.15015,     0.15115,     0.15215,     0.15315,     0.15415,     0.15516,     0.15616,     0.15716,     0.15816,     0.15916,     0.16016,     0.16116,     0.16216,     0.16316,     0.16416,     0.16517,     0.16617,     0.16717,\n",
      "           0.16817,     0.16917,     0.17017,     0.17117,     0.17217,     0.17317,     0.17417,     0.17518,     0.17618,     0.17718,     0.17818,     0.17918,     0.18018,     0.18118,     0.18218,     0.18318,     0.18418,     0.18519,     0.18619,     0.18719,     0.18819,     0.18919,     0.19019,     0.19119,\n",
      "           0.19219,     0.19319,     0.19419,      0.1952,      0.1962,      0.1972,      0.1982,      0.1992,      0.2002,      0.2012,      0.2022,      0.2032,      0.2042,     0.20521,     0.20621,     0.20721,     0.20821,     0.20921,     0.21021,     0.21121,     0.21221,     0.21321,     0.21421,     0.21522,\n",
      "           0.21622,     0.21722,     0.21822,     0.21922,     0.22022,     0.22122,     0.22222,     0.22322,     0.22422,     0.22523,     0.22623,     0.22723,     0.22823,     0.22923,     0.23023,     0.23123,     0.23223,     0.23323,     0.23423,     0.23524,     0.23624,     0.23724,     0.23824,     0.23924,\n",
      "           0.24024,     0.24124,     0.24224,     0.24324,     0.24424,     0.24525,     0.24625,     0.24725,     0.24825,     0.24925,     0.25025,     0.25125,     0.25225,     0.25325,     0.25425,     0.25526,     0.25626,     0.25726,     0.25826,     0.25926,     0.26026,     0.26126,     0.26226,     0.26326,\n",
      "           0.26426,     0.26527,     0.26627,     0.26727,     0.26827,     0.26927,     0.27027,     0.27127,     0.27227,     0.27327,     0.27427,     0.27528,     0.27628,     0.27728,     0.27828,     0.27928,     0.28028,     0.28128,     0.28228,     0.28328,     0.28428,     0.28529,     0.28629,     0.28729,\n",
      "           0.28829,     0.28929,     0.29029,     0.29129,     0.29229,     0.29329,     0.29429,      0.2953,      0.2963,      0.2973,      0.2983,      0.2993,      0.3003,      0.3013,      0.3023,      0.3033,      0.3043,     0.30531,     0.30631,     0.30731,     0.30831,     0.30931,     0.31031,     0.31131,\n",
      "           0.31231,     0.31331,     0.31431,     0.31532,     0.31632,     0.31732,     0.31832,     0.31932,     0.32032,     0.32132,     0.32232,     0.32332,     0.32432,     0.32533,     0.32633,     0.32733,     0.32833,     0.32933,     0.33033,     0.33133,     0.33233,     0.33333,     0.33433,     0.33534,\n",
      "           0.33634,     0.33734,     0.33834,     0.33934,     0.34034,     0.34134,     0.34234,     0.34334,     0.34434,     0.34535,     0.34635,     0.34735,     0.34835,     0.34935,     0.35035,     0.35135,     0.35235,     0.35335,     0.35435,     0.35536,     0.35636,     0.35736,     0.35836,     0.35936,\n",
      "           0.36036,     0.36136,     0.36236,     0.36336,     0.36436,     0.36537,     0.36637,     0.36737,     0.36837,     0.36937,     0.37037,     0.37137,     0.37237,     0.37337,     0.37437,     0.37538,     0.37638,     0.37738,     0.37838,     0.37938,     0.38038,     0.38138,     0.38238,     0.38338,\n",
      "           0.38438,     0.38539,     0.38639,     0.38739,     0.38839,     0.38939,     0.39039,     0.39139,     0.39239,     0.39339,     0.39439,      0.3954,      0.3964,      0.3974,      0.3984,      0.3994,      0.4004,      0.4014,      0.4024,      0.4034,      0.4044,     0.40541,     0.40641,     0.40741,\n",
      "           0.40841,     0.40941,     0.41041,     0.41141,     0.41241,     0.41341,     0.41441,     0.41542,     0.41642,     0.41742,     0.41842,     0.41942,     0.42042,     0.42142,     0.42242,     0.42342,     0.42442,     0.42543,     0.42643,     0.42743,     0.42843,     0.42943,     0.43043,     0.43143,\n",
      "           0.43243,     0.43343,     0.43443,     0.43544,     0.43644,     0.43744,     0.43844,     0.43944,     0.44044,     0.44144,     0.44244,     0.44344,     0.44444,     0.44545,     0.44645,     0.44745,     0.44845,     0.44945,     0.45045,     0.45145,     0.45245,     0.45345,     0.45445,     0.45546,\n",
      "           0.45646,     0.45746,     0.45846,     0.45946,     0.46046,     0.46146,     0.46246,     0.46346,     0.46446,     0.46547,     0.46647,     0.46747,     0.46847,     0.46947,     0.47047,     0.47147,     0.47247,     0.47347,     0.47447,     0.47548,     0.47648,     0.47748,     0.47848,     0.47948,\n",
      "           0.48048,     0.48148,     0.48248,     0.48348,     0.48448,     0.48549,     0.48649,     0.48749,     0.48849,     0.48949,     0.49049,     0.49149,     0.49249,     0.49349,     0.49449,      0.4955,      0.4965,      0.4975,      0.4985,      0.4995,      0.5005,      0.5015,      0.5025,      0.5035,\n",
      "            0.5045,     0.50551,     0.50651,     0.50751,     0.50851,     0.50951,     0.51051,     0.51151,     0.51251,     0.51351,     0.51451,     0.51552,     0.51652,     0.51752,     0.51852,     0.51952,     0.52052,     0.52152,     0.52252,     0.52352,     0.52452,     0.52553,     0.52653,     0.52753,\n",
      "           0.52853,     0.52953,     0.53053,     0.53153,     0.53253,     0.53353,     0.53453,     0.53554,     0.53654,     0.53754,     0.53854,     0.53954,     0.54054,     0.54154,     0.54254,     0.54354,     0.54454,     0.54555,     0.54655,     0.54755,     0.54855,     0.54955,     0.55055,     0.55155,\n",
      "           0.55255,     0.55355,     0.55455,     0.55556,     0.55656,     0.55756,     0.55856,     0.55956,     0.56056,     0.56156,     0.56256,     0.56356,     0.56456,     0.56557,     0.56657,     0.56757,     0.56857,     0.56957,     0.57057,     0.57157,     0.57257,     0.57357,     0.57457,     0.57558,\n",
      "           0.57658,     0.57758,     0.57858,     0.57958,     0.58058,     0.58158,     0.58258,     0.58358,     0.58458,     0.58559,     0.58659,     0.58759,     0.58859,     0.58959,     0.59059,     0.59159,     0.59259,     0.59359,     0.59459,      0.5956,      0.5966,      0.5976,      0.5986,      0.5996,\n",
      "            0.6006,      0.6016,      0.6026,      0.6036,      0.6046,     0.60561,     0.60661,     0.60761,     0.60861,     0.60961,     0.61061,     0.61161,     0.61261,     0.61361,     0.61461,     0.61562,     0.61662,     0.61762,     0.61862,     0.61962,     0.62062,     0.62162,     0.62262,     0.62362,\n",
      "           0.62462,     0.62563,     0.62663,     0.62763,     0.62863,     0.62963,     0.63063,     0.63163,     0.63263,     0.63363,     0.63463,     0.63564,     0.63664,     0.63764,     0.63864,     0.63964,     0.64064,     0.64164,     0.64264,     0.64364,     0.64464,     0.64565,     0.64665,     0.64765,\n",
      "           0.64865,     0.64965,     0.65065,     0.65165,     0.65265,     0.65365,     0.65465,     0.65566,     0.65666,     0.65766,     0.65866,     0.65966,     0.66066,     0.66166,     0.66266,     0.66366,     0.66466,     0.66567,     0.66667,     0.66767,     0.66867,     0.66967,     0.67067,     0.67167,\n",
      "           0.67267,     0.67367,     0.67467,     0.67568,     0.67668,     0.67768,     0.67868,     0.67968,     0.68068,     0.68168,     0.68268,     0.68368,     0.68468,     0.68569,     0.68669,     0.68769,     0.68869,     0.68969,     0.69069,     0.69169,     0.69269,     0.69369,     0.69469,      0.6957,\n",
      "            0.6967,      0.6977,      0.6987,      0.6997,      0.7007,      0.7017,      0.7027,      0.7037,      0.7047,     0.70571,     0.70671,     0.70771,     0.70871,     0.70971,     0.71071,     0.71171,     0.71271,     0.71371,     0.71471,     0.71572,     0.71672,     0.71772,     0.71872,     0.71972,\n",
      "           0.72072,     0.72172,     0.72272,     0.72372,     0.72472,     0.72573,     0.72673,     0.72773,     0.72873,     0.72973,     0.73073,     0.73173,     0.73273,     0.73373,     0.73473,     0.73574,     0.73674,     0.73774,     0.73874,     0.73974,     0.74074,     0.74174,     0.74274,     0.74374,\n",
      "           0.74474,     0.74575,     0.74675,     0.74775,     0.74875,     0.74975,     0.75075,     0.75175,     0.75275,     0.75375,     0.75475,     0.75576,     0.75676,     0.75776,     0.75876,     0.75976,     0.76076,     0.76176,     0.76276,     0.76376,     0.76476,     0.76577,     0.76677,     0.76777,\n",
      "           0.76877,     0.76977,     0.77077,     0.77177,     0.77277,     0.77377,     0.77477,     0.77578,     0.77678,     0.77778,     0.77878,     0.77978,     0.78078,     0.78178,     0.78278,     0.78378,     0.78478,     0.78579,     0.78679,     0.78779,     0.78879,     0.78979,     0.79079,     0.79179,\n",
      "           0.79279,     0.79379,     0.79479,      0.7958,      0.7968,      0.7978,      0.7988,      0.7998,      0.8008,      0.8018,      0.8028,      0.8038,      0.8048,     0.80581,     0.80681,     0.80781,     0.80881,     0.80981,     0.81081,     0.81181,     0.81281,     0.81381,     0.81481,     0.81582,\n",
      "           0.81682,     0.81782,     0.81882,     0.81982,     0.82082,     0.82182,     0.82282,     0.82382,     0.82482,     0.82583,     0.82683,     0.82783,     0.82883,     0.82983,     0.83083,     0.83183,     0.83283,     0.83383,     0.83483,     0.83584,     0.83684,     0.83784,     0.83884,     0.83984,\n",
      "           0.84084,     0.84184,     0.84284,     0.84384,     0.84484,     0.84585,     0.84685,     0.84785,     0.84885,     0.84985,     0.85085,     0.85185,     0.85285,     0.85385,     0.85485,     0.85586,     0.85686,     0.85786,     0.85886,     0.85986,     0.86086,     0.86186,     0.86286,     0.86386,\n",
      "           0.86486,     0.86587,     0.86687,     0.86787,     0.86887,     0.86987,     0.87087,     0.87187,     0.87287,     0.87387,     0.87487,     0.87588,     0.87688,     0.87788,     0.87888,     0.87988,     0.88088,     0.88188,     0.88288,     0.88388,     0.88488,     0.88589,     0.88689,     0.88789,\n",
      "           0.88889,     0.88989,     0.89089,     0.89189,     0.89289,     0.89389,     0.89489,      0.8959,      0.8969,      0.8979,      0.8989,      0.8999,      0.9009,      0.9019,      0.9029,      0.9039,      0.9049,     0.90591,     0.90691,     0.90791,     0.90891,     0.90991,     0.91091,     0.91191,\n",
      "           0.91291,     0.91391,     0.91491,     0.91592,     0.91692,     0.91792,     0.91892,     0.91992,     0.92092,     0.92192,     0.92292,     0.92392,     0.92492,     0.92593,     0.92693,     0.92793,     0.92893,     0.92993,     0.93093,     0.93193,     0.93293,     0.93393,     0.93493,     0.93594,\n",
      "           0.93694,     0.93794,     0.93894,     0.93994,     0.94094,     0.94194,     0.94294,     0.94394,     0.94494,     0.94595,     0.94695,     0.94795,     0.94895,     0.94995,     0.95095,     0.95195,     0.95295,     0.95395,     0.95495,     0.95596,     0.95696,     0.95796,     0.95896,     0.95996,\n",
      "           0.96096,     0.96196,     0.96296,     0.96396,     0.96496,     0.96597,     0.96697,     0.96797,     0.96897,     0.96997,     0.97097,     0.97197,     0.97297,     0.97397,     0.97497,     0.97598,     0.97698,     0.97798,     0.97898,     0.97998,     0.98098,     0.98198,     0.98298,     0.98398,\n",
      "           0.98498,     0.98599,     0.98699,     0.98799,     0.98899,     0.98999,     0.99099,     0.99199,     0.99299,     0.99399,     0.99499,       0.996,       0.997,       0.998,       0.999,           1]), array([[    0.49103,     0.49103,     0.61504,     0.68158,     0.74533,     0.78095,     0.80554,     0.81978,     0.83126,     0.83768,     0.84798,     0.85375,     0.86347,     0.86737,     0.87543,     0.87747,     0.88031,     0.88145,     0.88447,     0.88795,     0.88922,     0.89279,     0.89377,\n",
      "            0.89511,     0.90024,      0.9043,     0.90541,     0.90732,     0.91036,     0.91167,     0.91192,     0.91217,     0.91241,     0.91266,     0.91291,     0.91316,      0.9134,     0.91422,     0.91542,     0.91715,      0.9177,     0.91874,     0.92144,     0.92202,     0.92261,     0.92706,\n",
      "            0.92786,     0.92866,     0.92989,     0.93119,     0.93175,     0.93232,     0.93288,     0.93561,     0.93713,     0.93859,     0.93981,     0.94089,     0.94116,     0.94115,     0.94113,     0.94111,      0.9411,     0.94108,     0.94106,     0.94173,     0.94345,     0.94402,     0.94459,\n",
      "            0.94517,     0.94735,     0.94875,     0.95045,     0.95363,     0.95402,     0.95441,     0.95479,     0.95518,     0.95557,     0.95591,     0.95624,     0.95657,      0.9569,     0.95723,     0.95756,     0.95811,      0.9591,     0.96035,     0.96287,     0.96434,     0.96463,     0.96492,\n",
      "            0.96521,      0.9655,     0.96579,     0.96608,     0.96637,     0.97089,     0.97123,     0.97157,     0.97191,     0.97225,     0.97259,     0.97295,     0.97399,     0.97502,     0.97589,     0.97675,      0.9779,     0.97959,     0.98017,     0.98075,     0.98133,     0.98186,      0.9822,\n",
      "            0.98255,     0.98289,     0.98324,     0.98358,     0.98393,       0.984,     0.98437,     0.98594,     0.98637,     0.98652,     0.98668,     0.98684,     0.98699,     0.98715,     0.98731,     0.98747,     0.98762,     0.98778,     0.98794,     0.98809,     0.98825,     0.98841,     0.98853,\n",
      "            0.98859,     0.98864,      0.9887,     0.98876,     0.98882,     0.98887,     0.98893,     0.98899,     0.98905,     0.98911,     0.98916,     0.98922,     0.98928,     0.98934,     0.98939,     0.98945,     0.98951,     0.98957,     0.98962,     0.98968,     0.98974,      0.9898,     0.98986,\n",
      "            0.98991,     0.98997,     0.99003,     0.99009,     0.99014,      0.9902,     0.99026,     0.99032,     0.99038,     0.99043,     0.99049,     0.99055,     0.99061,     0.99066,     0.99072,     0.99078,     0.99078,     0.99078,     0.99077,     0.99077,     0.99077,     0.99076,     0.99076,\n",
      "            0.99076,     0.99076,     0.99076,     0.99076,     0.99076,     0.99076,     0.99075,     0.99075,     0.99075,     0.99075,     0.99075,     0.99075,     0.99075,     0.99075,     0.99075,     0.99074,     0.99074,     0.99074,     0.99074,     0.99075,     0.99082,     0.99089,     0.99095,\n",
      "            0.99102,     0.99109,     0.99116,     0.99122,     0.99129,     0.99136,     0.99143,      0.9915,     0.99156,     0.99163,      0.9917,     0.99177,     0.99183,      0.9919,     0.99197,     0.99204,      0.9921,     0.99217,     0.99224,     0.99231,     0.99238,     0.99244,     0.99251,\n",
      "            0.99258,     0.99265,     0.99271,     0.99278,     0.99285,     0.99292,     0.99298,     0.99305,     0.99313,      0.9932,     0.99328,     0.99335,     0.99343,      0.9935,     0.99358,     0.99366,     0.99373,     0.99381,     0.99388,     0.99396,     0.99403,     0.99411,     0.99418,\n",
      "            0.99426,     0.99433,     0.99441,     0.99448,     0.99456,     0.99463,     0.99471,     0.99478,     0.99486,     0.99493,     0.99501,     0.99508,     0.99516,     0.99524,     0.99531,     0.99535,     0.99535,     0.99535,     0.99535,     0.99535,     0.99535,     0.99535,     0.99535,\n",
      "            0.99535,     0.99535,     0.99535,     0.99535,     0.99535,     0.99535,     0.99535,     0.99535,     0.99535,     0.99535,     0.99534,     0.99534,     0.99534,     0.99534,     0.99534,     0.99534,     0.99534,     0.99534,     0.99534,     0.99534,     0.99534,     0.99534,     0.99534,\n",
      "            0.99534,     0.99534,     0.99534,     0.99534,     0.99534,     0.99534,     0.99534,     0.99534,     0.99534,     0.99534,     0.99534,     0.99534,     0.99534,     0.99534,     0.99534,     0.99534,     0.99534,     0.99534,     0.99534,     0.99687,     0.99788,     0.99833,     0.99878,\n",
      "            0.99923,     0.99967,           1,           1,           1,           1,           1,           1,           1,           1,           1,           1,           1,           1,           1,           1,           1,           1,           1,           1,           1,           1,           1,\n",
      "                  1,           1,           1,           1,           1,           1,           1,           1,           1,           1,           1,           1,           1,           1,           1,           1,           1,           1,           1,           1,           1,           1,           1,\n",
      "                  1,           1,           1,           1,           1,           1,           1,           1,           1,           1,           1,           1,           1,           1,           1,           1,           1,           1,           1,           1,           1,           1,           1,\n",
      "                  1,           1,           1,           1,           1,           1,           1,           1,           1,           1,           1,           1,           1,           1,           1,           1,           1,           1,           1,           1,           1,           1,           1,\n",
      "                  1,           1,           1,           1,           1,           1,           1,           1,           1,           1,           1,           1,           1,           1,           1,           1,           1,           1,           1,           1,           1,           1,           1,\n",
      "                  1,           1,           1,           1,           1,           1,           1,           1,           1,           1,           1,           1,           1,           1,           1,           1,           1,           1,           1,           1,           1,           1,           1,\n",
      "                  1,           1,           1,           1,           1,           1,           1,           1,           1,           1,           1,           1,           1,           1,           1,           1,           1,           1,           1,           1,           1,           1,           1,\n",
      "                  1,           1,           1,           1,           1,           1,           1,           1,           1,           1,           1,           1,           1,           1,           1,           1,           1,           1,           1,           1,           1,           1,           1,\n",
      "                  1,           1,           1,           1,           1,           1,           1,           1,           1,           1,           1,           1,           1,           1,           1,           1,           1,           1,           1,           1,           1,           1,           1,\n",
      "                  1,           1,           1,           1,           1,           1,           1,           1,           1,           1,           1,           1,           1,           1,           1,           1,           1,           1,           1,           1,           1,           1,           1,\n",
      "                  1,           1,           1,           1,           1,           1,           1,           1,           1,           1,           1,           1,           1,           1,           1,           1,           1,           1,           1,           1,           1,           1,           1,\n",
      "                  1,           1,           1,           1,           1,           1,           1,           1,           1,           1,           1,           1,           1,           1,           1,           1,           1,           1,           1,           1,           1,           1,           1,\n",
      "                  1,           1,           1,           1,           1,           1,           1,           1,           1,           1,           1,           1,           1,           1,           1,           1,           1,           1,           1,           1,           1,           1,           1,\n",
      "                  1,           1,           1,           1,           1,           1,           1,           1,           1,           1,           1,           1,           1,           1,           1,           1,           1,           1,           1,           1,           1,           1,           1,\n",
      "                  1,           1,           1,           1,           1,           1,           1,           1,           1,           1,           1,           1,           1,           1,           1,           1,           1,           1,           1,           1,           1,           1,           1,\n",
      "                  1,           1,           1,           1,           1,           1,           1,           1,           1,           1,           1,           1,           1,           1,           1,           1,           1,           1,           1,           1,           1,           1,           1,\n",
      "                  1,           1,           1,           1,           1,           1,           1,           1,           1,           1,           1,           1,           1,           1,           1,           1,           1,           1,           1,           1,           1,           1,           1,\n",
      "                  1,           1,           1,           1,           1,           1,           1,           1,           1,           1,           1,           1,           1,           1,           1,           1,           1,           1,           1,           1,           1,           1,           1,\n",
      "                  1,           1,           1,           1,           1,           1,           1,           1,           1,           1,           1,           1,           1,           1,           1,           1,           1,           1,           1,           1,           1,           1,           1,\n",
      "                  1,           1,           1,           1,           1,           1,           1,           1,           1,           1,           1,           1,           1,           1,           1,           1,           1,           1,           1,           1,           1,           1,           1,\n",
      "                  1,           1,           1,           1,           1,           1,           1,           1,           1,           1,           1,           1,           1,           1,           1,           1,           1,           1,           1,           1,           1,           1,           1,\n",
      "                  1,           1,           1,           1,           1,           1,           1,           1,           1,           1,           1,           1,           1,           1,           1,           1,           1,           1,           1,           1,           1,           1,           1,\n",
      "                  1,           1,           1,           1,           1,           1,           1,           1,           1,           1,           1,           1,           1,           1,           1,           1,           1,           1,           1,           1,           1,           1,           1,\n",
      "                  1,           1,           1,           1,           1,           1,           1,           1,           1,           1,           1,           1,           1,           1,           1,           1,           1,           1,           1,           1,           1,           1,           1,\n",
      "                  1,           1,           1,           1,           1,           1,           1,           1,           1,           1,           1,           1,           1,           1,           1,           1,           1,           1,           1,           1,           1,           1,           1,\n",
      "                  1,           1,           1,           1,           1,           1,           1,           1,           1,           1,           1,           1,           1,           1,           1,           1,           1,           1,           1,           1,           1,           1,           1,\n",
      "                  1,           1,           1,           1,           1,           1,           1,           1,           1,           1,           1,           1,           1,           1,           1,           1,           1,           1,           1,           1,           1,           1,           1,\n",
      "                  1,           1,           1,           1,           1,           1,           1,           1,           1,           1,           1,           1,           1,           1,           1,           1,           1,           1,           1,           1,           1,           1,           1,\n",
      "                  1,           1,           1,           1,           1,           1,           1,           1,           1,           1,           1,           1,           1,           1,           1,           1,           1,           1,           1,           1,           1,           1,           1,\n",
      "                  1,           1,           1,           1,           1,           1,           1,           1,           1,           1,           1]]), 'Confidence', 'Precision'], [array([          0,    0.001001,    0.002002,    0.003003,    0.004004,    0.005005,    0.006006,    0.007007,    0.008008,    0.009009,     0.01001,    0.011011,    0.012012,    0.013013,    0.014014,    0.015015,    0.016016,    0.017017,    0.018018,    0.019019,     0.02002,    0.021021,    0.022022,    0.023023,\n",
      "          0.024024,    0.025025,    0.026026,    0.027027,    0.028028,    0.029029,     0.03003,    0.031031,    0.032032,    0.033033,    0.034034,    0.035035,    0.036036,    0.037037,    0.038038,    0.039039,     0.04004,    0.041041,    0.042042,    0.043043,    0.044044,    0.045045,    0.046046,    0.047047,\n",
      "          0.048048,    0.049049,     0.05005,    0.051051,    0.052052,    0.053053,    0.054054,    0.055055,    0.056056,    0.057057,    0.058058,    0.059059,     0.06006,    0.061061,    0.062062,    0.063063,    0.064064,    0.065065,    0.066066,    0.067067,    0.068068,    0.069069,     0.07007,    0.071071,\n",
      "          0.072072,    0.073073,    0.074074,    0.075075,    0.076076,    0.077077,    0.078078,    0.079079,     0.08008,    0.081081,    0.082082,    0.083083,    0.084084,    0.085085,    0.086086,    0.087087,    0.088088,    0.089089,     0.09009,    0.091091,    0.092092,    0.093093,    0.094094,    0.095095,\n",
      "          0.096096,    0.097097,    0.098098,    0.099099,      0.1001,      0.1011,      0.1021,      0.1031,      0.1041,     0.10511,     0.10611,     0.10711,     0.10811,     0.10911,     0.11011,     0.11111,     0.11211,     0.11311,     0.11411,     0.11512,     0.11612,     0.11712,     0.11812,     0.11912,\n",
      "           0.12012,     0.12112,     0.12212,     0.12312,     0.12412,     0.12513,     0.12613,     0.12713,     0.12813,     0.12913,     0.13013,     0.13113,     0.13213,     0.13313,     0.13413,     0.13514,     0.13614,     0.13714,     0.13814,     0.13914,     0.14014,     0.14114,     0.14214,     0.14314,\n",
      "           0.14414,     0.14515,     0.14615,     0.14715,     0.14815,     0.14915,     0.15015,     0.15115,     0.15215,     0.15315,     0.15415,     0.15516,     0.15616,     0.15716,     0.15816,     0.15916,     0.16016,     0.16116,     0.16216,     0.16316,     0.16416,     0.16517,     0.16617,     0.16717,\n",
      "           0.16817,     0.16917,     0.17017,     0.17117,     0.17217,     0.17317,     0.17417,     0.17518,     0.17618,     0.17718,     0.17818,     0.17918,     0.18018,     0.18118,     0.18218,     0.18318,     0.18418,     0.18519,     0.18619,     0.18719,     0.18819,     0.18919,     0.19019,     0.19119,\n",
      "           0.19219,     0.19319,     0.19419,      0.1952,      0.1962,      0.1972,      0.1982,      0.1992,      0.2002,      0.2012,      0.2022,      0.2032,      0.2042,     0.20521,     0.20621,     0.20721,     0.20821,     0.20921,     0.21021,     0.21121,     0.21221,     0.21321,     0.21421,     0.21522,\n",
      "           0.21622,     0.21722,     0.21822,     0.21922,     0.22022,     0.22122,     0.22222,     0.22322,     0.22422,     0.22523,     0.22623,     0.22723,     0.22823,     0.22923,     0.23023,     0.23123,     0.23223,     0.23323,     0.23423,     0.23524,     0.23624,     0.23724,     0.23824,     0.23924,\n",
      "           0.24024,     0.24124,     0.24224,     0.24324,     0.24424,     0.24525,     0.24625,     0.24725,     0.24825,     0.24925,     0.25025,     0.25125,     0.25225,     0.25325,     0.25425,     0.25526,     0.25626,     0.25726,     0.25826,     0.25926,     0.26026,     0.26126,     0.26226,     0.26326,\n",
      "           0.26426,     0.26527,     0.26627,     0.26727,     0.26827,     0.26927,     0.27027,     0.27127,     0.27227,     0.27327,     0.27427,     0.27528,     0.27628,     0.27728,     0.27828,     0.27928,     0.28028,     0.28128,     0.28228,     0.28328,     0.28428,     0.28529,     0.28629,     0.28729,\n",
      "           0.28829,     0.28929,     0.29029,     0.29129,     0.29229,     0.29329,     0.29429,      0.2953,      0.2963,      0.2973,      0.2983,      0.2993,      0.3003,      0.3013,      0.3023,      0.3033,      0.3043,     0.30531,     0.30631,     0.30731,     0.30831,     0.30931,     0.31031,     0.31131,\n",
      "           0.31231,     0.31331,     0.31431,     0.31532,     0.31632,     0.31732,     0.31832,     0.31932,     0.32032,     0.32132,     0.32232,     0.32332,     0.32432,     0.32533,     0.32633,     0.32733,     0.32833,     0.32933,     0.33033,     0.33133,     0.33233,     0.33333,     0.33433,     0.33534,\n",
      "           0.33634,     0.33734,     0.33834,     0.33934,     0.34034,     0.34134,     0.34234,     0.34334,     0.34434,     0.34535,     0.34635,     0.34735,     0.34835,     0.34935,     0.35035,     0.35135,     0.35235,     0.35335,     0.35435,     0.35536,     0.35636,     0.35736,     0.35836,     0.35936,\n",
      "           0.36036,     0.36136,     0.36236,     0.36336,     0.36436,     0.36537,     0.36637,     0.36737,     0.36837,     0.36937,     0.37037,     0.37137,     0.37237,     0.37337,     0.37437,     0.37538,     0.37638,     0.37738,     0.37838,     0.37938,     0.38038,     0.38138,     0.38238,     0.38338,\n",
      "           0.38438,     0.38539,     0.38639,     0.38739,     0.38839,     0.38939,     0.39039,     0.39139,     0.39239,     0.39339,     0.39439,      0.3954,      0.3964,      0.3974,      0.3984,      0.3994,      0.4004,      0.4014,      0.4024,      0.4034,      0.4044,     0.40541,     0.40641,     0.40741,\n",
      "           0.40841,     0.40941,     0.41041,     0.41141,     0.41241,     0.41341,     0.41441,     0.41542,     0.41642,     0.41742,     0.41842,     0.41942,     0.42042,     0.42142,     0.42242,     0.42342,     0.42442,     0.42543,     0.42643,     0.42743,     0.42843,     0.42943,     0.43043,     0.43143,\n",
      "           0.43243,     0.43343,     0.43443,     0.43544,     0.43644,     0.43744,     0.43844,     0.43944,     0.44044,     0.44144,     0.44244,     0.44344,     0.44444,     0.44545,     0.44645,     0.44745,     0.44845,     0.44945,     0.45045,     0.45145,     0.45245,     0.45345,     0.45445,     0.45546,\n",
      "           0.45646,     0.45746,     0.45846,     0.45946,     0.46046,     0.46146,     0.46246,     0.46346,     0.46446,     0.46547,     0.46647,     0.46747,     0.46847,     0.46947,     0.47047,     0.47147,     0.47247,     0.47347,     0.47447,     0.47548,     0.47648,     0.47748,     0.47848,     0.47948,\n",
      "           0.48048,     0.48148,     0.48248,     0.48348,     0.48448,     0.48549,     0.48649,     0.48749,     0.48849,     0.48949,     0.49049,     0.49149,     0.49249,     0.49349,     0.49449,      0.4955,      0.4965,      0.4975,      0.4985,      0.4995,      0.5005,      0.5015,      0.5025,      0.5035,\n",
      "            0.5045,     0.50551,     0.50651,     0.50751,     0.50851,     0.50951,     0.51051,     0.51151,     0.51251,     0.51351,     0.51451,     0.51552,     0.51652,     0.51752,     0.51852,     0.51952,     0.52052,     0.52152,     0.52252,     0.52352,     0.52452,     0.52553,     0.52653,     0.52753,\n",
      "           0.52853,     0.52953,     0.53053,     0.53153,     0.53253,     0.53353,     0.53453,     0.53554,     0.53654,     0.53754,     0.53854,     0.53954,     0.54054,     0.54154,     0.54254,     0.54354,     0.54454,     0.54555,     0.54655,     0.54755,     0.54855,     0.54955,     0.55055,     0.55155,\n",
      "           0.55255,     0.55355,     0.55455,     0.55556,     0.55656,     0.55756,     0.55856,     0.55956,     0.56056,     0.56156,     0.56256,     0.56356,     0.56456,     0.56557,     0.56657,     0.56757,     0.56857,     0.56957,     0.57057,     0.57157,     0.57257,     0.57357,     0.57457,     0.57558,\n",
      "           0.57658,     0.57758,     0.57858,     0.57958,     0.58058,     0.58158,     0.58258,     0.58358,     0.58458,     0.58559,     0.58659,     0.58759,     0.58859,     0.58959,     0.59059,     0.59159,     0.59259,     0.59359,     0.59459,      0.5956,      0.5966,      0.5976,      0.5986,      0.5996,\n",
      "            0.6006,      0.6016,      0.6026,      0.6036,      0.6046,     0.60561,     0.60661,     0.60761,     0.60861,     0.60961,     0.61061,     0.61161,     0.61261,     0.61361,     0.61461,     0.61562,     0.61662,     0.61762,     0.61862,     0.61962,     0.62062,     0.62162,     0.62262,     0.62362,\n",
      "           0.62462,     0.62563,     0.62663,     0.62763,     0.62863,     0.62963,     0.63063,     0.63163,     0.63263,     0.63363,     0.63463,     0.63564,     0.63664,     0.63764,     0.63864,     0.63964,     0.64064,     0.64164,     0.64264,     0.64364,     0.64464,     0.64565,     0.64665,     0.64765,\n",
      "           0.64865,     0.64965,     0.65065,     0.65165,     0.65265,     0.65365,     0.65465,     0.65566,     0.65666,     0.65766,     0.65866,     0.65966,     0.66066,     0.66166,     0.66266,     0.66366,     0.66466,     0.66567,     0.66667,     0.66767,     0.66867,     0.66967,     0.67067,     0.67167,\n",
      "           0.67267,     0.67367,     0.67467,     0.67568,     0.67668,     0.67768,     0.67868,     0.67968,     0.68068,     0.68168,     0.68268,     0.68368,     0.68468,     0.68569,     0.68669,     0.68769,     0.68869,     0.68969,     0.69069,     0.69169,     0.69269,     0.69369,     0.69469,      0.6957,\n",
      "            0.6967,      0.6977,      0.6987,      0.6997,      0.7007,      0.7017,      0.7027,      0.7037,      0.7047,     0.70571,     0.70671,     0.70771,     0.70871,     0.70971,     0.71071,     0.71171,     0.71271,     0.71371,     0.71471,     0.71572,     0.71672,     0.71772,     0.71872,     0.71972,\n",
      "           0.72072,     0.72172,     0.72272,     0.72372,     0.72472,     0.72573,     0.72673,     0.72773,     0.72873,     0.72973,     0.73073,     0.73173,     0.73273,     0.73373,     0.73473,     0.73574,     0.73674,     0.73774,     0.73874,     0.73974,     0.74074,     0.74174,     0.74274,     0.74374,\n",
      "           0.74474,     0.74575,     0.74675,     0.74775,     0.74875,     0.74975,     0.75075,     0.75175,     0.75275,     0.75375,     0.75475,     0.75576,     0.75676,     0.75776,     0.75876,     0.75976,     0.76076,     0.76176,     0.76276,     0.76376,     0.76476,     0.76577,     0.76677,     0.76777,\n",
      "           0.76877,     0.76977,     0.77077,     0.77177,     0.77277,     0.77377,     0.77477,     0.77578,     0.77678,     0.77778,     0.77878,     0.77978,     0.78078,     0.78178,     0.78278,     0.78378,     0.78478,     0.78579,     0.78679,     0.78779,     0.78879,     0.78979,     0.79079,     0.79179,\n",
      "           0.79279,     0.79379,     0.79479,      0.7958,      0.7968,      0.7978,      0.7988,      0.7998,      0.8008,      0.8018,      0.8028,      0.8038,      0.8048,     0.80581,     0.80681,     0.80781,     0.80881,     0.80981,     0.81081,     0.81181,     0.81281,     0.81381,     0.81481,     0.81582,\n",
      "           0.81682,     0.81782,     0.81882,     0.81982,     0.82082,     0.82182,     0.82282,     0.82382,     0.82482,     0.82583,     0.82683,     0.82783,     0.82883,     0.82983,     0.83083,     0.83183,     0.83283,     0.83383,     0.83483,     0.83584,     0.83684,     0.83784,     0.83884,     0.83984,\n",
      "           0.84084,     0.84184,     0.84284,     0.84384,     0.84484,     0.84585,     0.84685,     0.84785,     0.84885,     0.84985,     0.85085,     0.85185,     0.85285,     0.85385,     0.85485,     0.85586,     0.85686,     0.85786,     0.85886,     0.85986,     0.86086,     0.86186,     0.86286,     0.86386,\n",
      "           0.86486,     0.86587,     0.86687,     0.86787,     0.86887,     0.86987,     0.87087,     0.87187,     0.87287,     0.87387,     0.87487,     0.87588,     0.87688,     0.87788,     0.87888,     0.87988,     0.88088,     0.88188,     0.88288,     0.88388,     0.88488,     0.88589,     0.88689,     0.88789,\n",
      "           0.88889,     0.88989,     0.89089,     0.89189,     0.89289,     0.89389,     0.89489,      0.8959,      0.8969,      0.8979,      0.8989,      0.8999,      0.9009,      0.9019,      0.9029,      0.9039,      0.9049,     0.90591,     0.90691,     0.90791,     0.90891,     0.90991,     0.91091,     0.91191,\n",
      "           0.91291,     0.91391,     0.91491,     0.91592,     0.91692,     0.91792,     0.91892,     0.91992,     0.92092,     0.92192,     0.92292,     0.92392,     0.92492,     0.92593,     0.92693,     0.92793,     0.92893,     0.92993,     0.93093,     0.93193,     0.93293,     0.93393,     0.93493,     0.93594,\n",
      "           0.93694,     0.93794,     0.93894,     0.93994,     0.94094,     0.94194,     0.94294,     0.94394,     0.94494,     0.94595,     0.94695,     0.94795,     0.94895,     0.94995,     0.95095,     0.95195,     0.95295,     0.95395,     0.95495,     0.95596,     0.95696,     0.95796,     0.95896,     0.95996,\n",
      "           0.96096,     0.96196,     0.96296,     0.96396,     0.96496,     0.96597,     0.96697,     0.96797,     0.96897,     0.96997,     0.97097,     0.97197,     0.97297,     0.97397,     0.97497,     0.97598,     0.97698,     0.97798,     0.97898,     0.97998,     0.98098,     0.98198,     0.98298,     0.98398,\n",
      "           0.98498,     0.98599,     0.98699,     0.98799,     0.98899,     0.98999,     0.99099,     0.99199,     0.99299,     0.99399,     0.99499,       0.996,       0.997,       0.998,       0.999,           1]), array([[      0.946,       0.946,     0.94384,     0.93952,     0.93521,     0.93521,     0.93521,     0.93521,     0.93521,     0.93521,     0.93521,     0.93521,     0.93521,     0.93521,     0.93521,     0.93521,     0.93521,     0.93521,     0.93521,     0.93521,     0.93521,     0.93521,     0.93521,\n",
      "            0.93521,     0.93521,     0.93521,     0.93521,     0.93521,     0.93521,     0.93521,     0.93521,     0.93521,     0.93521,     0.93521,     0.93521,     0.93521,     0.93521,     0.93521,     0.93521,     0.93521,     0.93305,     0.93305,     0.93305,     0.93305,     0.93305,     0.93305,\n",
      "            0.93305,     0.93305,     0.93305,     0.93305,     0.93305,     0.93305,     0.93305,     0.93305,     0.93305,     0.93305,     0.93305,     0.93305,     0.93284,     0.93255,     0.93226,     0.93198,     0.93169,      0.9314,     0.93111,     0.93089,     0.93089,     0.93089,     0.93089,\n",
      "            0.93089,     0.93089,     0.93089,     0.93089,     0.93089,     0.93089,     0.93089,     0.93089,     0.93089,     0.93089,     0.93089,     0.93089,     0.93089,     0.93089,     0.93089,     0.93089,     0.93089,     0.93089,     0.93089,     0.93089,     0.93089,     0.93089,     0.93089,\n",
      "            0.93089,     0.93089,     0.93089,     0.93089,     0.93089,     0.93089,     0.93089,     0.93089,     0.93089,     0.93089,     0.93089,     0.93089,     0.93089,     0.93089,     0.93089,     0.93089,     0.93089,     0.93089,     0.93089,     0.93089,     0.93089,     0.93089,     0.93089,\n",
      "            0.93089,     0.93089,     0.93089,     0.93089,     0.93089,     0.92981,     0.92873,     0.92873,     0.92873,     0.92873,     0.92873,     0.92873,     0.92873,     0.92873,     0.92873,     0.92873,     0.92873,     0.92873,     0.92873,     0.92873,     0.92873,     0.92873,     0.92873,\n",
      "            0.92873,     0.92873,     0.92873,     0.92873,     0.92873,     0.92873,     0.92873,     0.92873,     0.92873,     0.92873,     0.92873,     0.92873,     0.92873,     0.92873,     0.92873,     0.92873,     0.92873,     0.92873,     0.92873,     0.92873,     0.92873,     0.92873,     0.92873,\n",
      "            0.92873,     0.92873,     0.92873,     0.92873,     0.92873,     0.92873,     0.92873,     0.92873,     0.92873,     0.92873,     0.92873,     0.92873,     0.92873,     0.92873,     0.92873,     0.92873,      0.9284,     0.92805,      0.9277,     0.92735,       0.927,     0.92665,     0.92649,\n",
      "            0.92638,     0.92628,     0.92617,     0.92607,     0.92596,     0.92586,     0.92575,     0.92565,     0.92554,     0.92544,     0.92533,     0.92523,     0.92512,     0.92502,     0.92491,     0.92481,      0.9247,      0.9246,     0.92449,     0.92441,     0.92441,     0.92441,     0.92441,\n",
      "            0.92441,     0.92441,     0.92441,     0.92441,     0.92441,     0.92441,     0.92441,     0.92441,     0.92441,     0.92441,     0.92441,     0.92441,     0.92441,     0.92441,     0.92441,     0.92441,     0.92441,     0.92441,     0.92441,     0.92441,     0.92441,     0.92441,     0.92441,\n",
      "            0.92441,     0.92441,     0.92441,     0.92441,     0.92441,     0.92441,     0.92441,     0.92441,     0.92441,     0.92441,     0.92441,     0.92441,     0.92441,     0.92441,     0.92441,     0.92441,     0.92441,     0.92441,     0.92441,     0.92441,     0.92441,     0.92441,     0.92441,\n",
      "            0.92441,     0.92441,     0.92441,     0.92441,     0.92441,     0.92441,     0.92441,     0.92441,     0.92441,     0.92441,     0.92441,     0.92441,     0.92441,     0.92441,     0.92441,     0.92438,     0.92434,      0.9243,     0.92425,     0.92421,     0.92417,     0.92412,     0.92408,\n",
      "            0.92404,     0.92399,     0.92395,      0.9239,     0.92386,     0.92382,     0.92377,     0.92373,     0.92369,     0.92364,      0.9236,     0.92356,     0.92351,     0.92347,     0.92342,     0.92338,     0.92334,     0.92329,     0.92325,     0.92321,     0.92316,     0.92312,     0.92308,\n",
      "            0.92303,     0.92299,     0.92294,      0.9229,     0.92286,     0.92281,     0.92277,     0.92273,     0.92268,     0.92264,      0.9226,     0.92255,     0.92251,     0.92247,     0.92242,     0.92238,     0.92233,     0.92229,     0.92225,     0.92225,     0.92225,     0.92225,     0.92225,\n",
      "            0.92225,     0.92225,     0.92223,     0.92216,     0.92209,     0.92202,     0.92194,     0.92187,      0.9218,     0.92173,     0.92166,     0.92159,     0.92152,     0.92145,     0.92138,     0.92131,     0.92124,     0.92117,      0.9211,     0.92103,     0.92096,     0.92088,     0.92081,\n",
      "            0.92074,     0.92067,      0.9206,     0.92053,     0.92046,     0.92039,     0.92032,     0.92025,     0.92018,     0.92011,     0.92007,     0.92004,     0.92001,     0.91997,     0.91994,     0.91991,     0.91988,     0.91985,     0.91982,     0.91979,     0.91976,     0.91973,      0.9197,\n",
      "            0.91967,     0.91964,     0.91961,     0.91958,     0.91955,     0.91952,     0.91949,     0.91946,     0.91943,      0.9194,     0.91937,     0.91934,     0.91931,     0.91928,     0.91925,     0.91922,     0.91919,     0.91916,     0.91913,      0.9191,     0.91907,     0.91904,     0.91901,\n",
      "            0.91898,     0.91895,     0.91892,     0.91889,     0.91886,     0.91883,      0.9188,     0.91877,     0.91874,     0.91871,     0.91868,     0.91865,     0.91862,     0.91859,     0.91856,     0.91853,      0.9185,     0.91847,     0.91844,     0.91841,     0.91838,     0.91835,     0.91832,\n",
      "            0.91829,     0.91826,     0.91823,      0.9182,     0.91817,     0.91814,     0.91811,     0.91808,     0.91805,     0.91802,     0.91799,     0.91796,     0.91793,     0.91788,     0.91783,     0.91778,     0.91773,     0.91768,     0.91763,     0.91758,     0.91753,     0.91748,     0.91743,\n",
      "            0.91738,     0.91733,     0.91728,     0.91723,     0.91718,     0.91713,     0.91708,     0.91703,     0.91698,     0.91693,     0.91688,     0.91683,     0.91678,     0.91672,     0.91667,     0.91662,     0.91657,     0.91652,     0.91647,     0.91642,     0.91637,     0.91632,     0.91627,\n",
      "            0.91622,     0.91617,     0.91612,     0.91607,     0.91602,     0.91597,     0.91592,     0.91587,     0.91582,     0.91577,     0.91553,     0.91526,       0.915,     0.91473,     0.91446,      0.9142,     0.91393,     0.91367,     0.91357,     0.91351,     0.91346,      0.9134,     0.91335,\n",
      "            0.91329,     0.91324,     0.91318,     0.91313,     0.91308,     0.91302,     0.91297,     0.91291,     0.91286,      0.9128,     0.91275,      0.9127,     0.91264,     0.91259,     0.91253,     0.91248,     0.91242,     0.91237,     0.91232,     0.91226,     0.91221,     0.91215,      0.9121,\n",
      "            0.91204,     0.91199,     0.91193,     0.91188,     0.91183,     0.91177,     0.91172,     0.91166,     0.91161,     0.91155,      0.9115,     0.91145,     0.91141,     0.91137,     0.91133,     0.91129,     0.91125,     0.91122,     0.91118,     0.91114,      0.9111,     0.91106,     0.91102,\n",
      "            0.91099,     0.91095,     0.91091,     0.91087,     0.91083,     0.91079,     0.91075,     0.91072,     0.91068,     0.91064,      0.9106,     0.91056,     0.91052,     0.91049,     0.91045,     0.91041,     0.91037,     0.91033,     0.91029,     0.91026,     0.91022,     0.91018,     0.91014,\n",
      "             0.9101,     0.91006,     0.91003,     0.90999,     0.90995,     0.90991,     0.90987,     0.90983,     0.90979,     0.90976,     0.90972,     0.90968,     0.90964,      0.9096,     0.90956,     0.90953,     0.90949,     0.90945,     0.90941,     0.90937,     0.90933,      0.9093,     0.90924,\n",
      "            0.90919,     0.90913,     0.90907,     0.90902,     0.90896,      0.9089,     0.90884,     0.90879,     0.90873,     0.90867,     0.90862,     0.90856,      0.9085,     0.90845,     0.90839,     0.90833,     0.90827,     0.90822,     0.90816,      0.9081,     0.90805,     0.90799,     0.90793,\n",
      "            0.90788,     0.90782,     0.90776,     0.90771,     0.90765,     0.90759,     0.90753,     0.90748,     0.90742,     0.90736,     0.90731,     0.90725,     0.90719,     0.90714,     0.90705,     0.90696,     0.90686,     0.90677,     0.90667,     0.90658,     0.90649,     0.90639,      0.9063,\n",
      "            0.90621,     0.90611,     0.90602,     0.90593,     0.90583,     0.90574,     0.90565,     0.90555,     0.90546,     0.90537,     0.90527,     0.90518,     0.90509,     0.90499,     0.90485,     0.90468,     0.90451,     0.90435,     0.90418,     0.90401,     0.90384,     0.90368,     0.90351,\n",
      "            0.90334,     0.90317,     0.90301,     0.90284,     0.90273,     0.90264,     0.90255,     0.90246,     0.90237,     0.90228,     0.90219,     0.90209,       0.902,     0.90191,     0.90182,     0.90173,     0.90164,     0.90155,     0.90146,     0.90136,     0.90127,     0.90118,     0.90109,\n",
      "              0.901,     0.90091,     0.90082,     0.90072,     0.90064,     0.90057,     0.90051,     0.90044,     0.90038,     0.90031,     0.90025,     0.90018,     0.90012,     0.90005,     0.89999,     0.89993,     0.89986,      0.8998,     0.89973,     0.89967,      0.8996,     0.89954,     0.89947,\n",
      "            0.89941,     0.89934,     0.89928,     0.89921,     0.89915,     0.89908,     0.89902,     0.89895,     0.89889,     0.89882,     0.89876,     0.89869,     0.89863,     0.89857,      0.8985,     0.89832,     0.89811,     0.89791,      0.8977,      0.8975,     0.89729,     0.89708,     0.89688,\n",
      "            0.89667,     0.89646,     0.89628,     0.89614,     0.89601,     0.89587,     0.89573,     0.89559,     0.89546,     0.89532,     0.89518,     0.89504,     0.89491,     0.89477,     0.89463,     0.89449,     0.89436,     0.89422,     0.89413,     0.89406,     0.89399,     0.89392,     0.89385,\n",
      "            0.89379,     0.89372,     0.89365,     0.89358,     0.89352,     0.89345,     0.89338,     0.89331,     0.89324,     0.89318,     0.89311,     0.89304,     0.89297,     0.89291,     0.89284,     0.89277,      0.8927,     0.89263,     0.89257,      0.8925,     0.89243,     0.89236,      0.8923,\n",
      "            0.89223,     0.89216,     0.89209,     0.89202,     0.89194,     0.89185,     0.89176,     0.89167,     0.89158,     0.89149,      0.8914,     0.89131,     0.89122,     0.89113,     0.89104,     0.89095,     0.89086,     0.89077,     0.89068,     0.89059,      0.8905,     0.89041,     0.89032,\n",
      "            0.89023,     0.89014,     0.89005,     0.88996,     0.88987,     0.88975,     0.88961,     0.88948,     0.88935,     0.88921,     0.88908,     0.88895,     0.88881,     0.88868,     0.88855,     0.88841,     0.88828,     0.88815,     0.88801,     0.88788,     0.88775,     0.88709,     0.88602,\n",
      "            0.88484,     0.88358,     0.88255,     0.88156,     0.88054,     0.87951,     0.87888,     0.87858,     0.87828,     0.87798,     0.87768,     0.87738,     0.87708,     0.87661,     0.87584,     0.87507,     0.87247,     0.87185,     0.87122,      0.8706,     0.86817,     0.86663,     0.86596,\n",
      "            0.86575,     0.86555,     0.86534,     0.86513,     0.86493,     0.86472,     0.86452,     0.86431,     0.86411,      0.8639,     0.86366,     0.86342,     0.86318,     0.86294,      0.8627,     0.86246,     0.86222,     0.86198,     0.86171,     0.86117,     0.86064,      0.8601,     0.85958,\n",
      "            0.85923,     0.85887,     0.85851,     0.85816,      0.8578,     0.85743,     0.85677,     0.85611,     0.85544,     0.85517,     0.85501,     0.85485,     0.85469,     0.85453,     0.85437,     0.85421,     0.85405,     0.85389,     0.85373,     0.85357,     0.85341,     0.85325,     0.85274,\n",
      "            0.85121,     0.84978,     0.84661,     0.84603,     0.84544,     0.84486,     0.84394,     0.84247,      0.8393,     0.83749,     0.83642,     0.83413,     0.83204,     0.83124,     0.83083,     0.83042,     0.83001,      0.8296,     0.82832,     0.82521,     0.81631,     0.81555,     0.81479,\n",
      "            0.81119,     0.80833,     0.80727,     0.80657,     0.80587,     0.80469,     0.80308,     0.80022,     0.79655,     0.79567,      0.7946,     0.78723,     0.78582,     0.78531,     0.78481,     0.78431,     0.78328,     0.77947,     0.77752,     0.77629,      0.7748,     0.77285,     0.77162,\n",
      "             0.7663,      0.7637,     0.76158,     0.76001,     0.75596,     0.75056,     0.74614,     0.73616,     0.73296,     0.71409,     0.70434,     0.69056,     0.68105,     0.65992,     0.65036,     0.63551,      0.6241,     0.61232,     0.58558,     0.56901,     0.55034,      0.5197,     0.48796,\n",
      "              0.466,     0.44834,     0.41757,     0.39488,      0.3698,      0.3246,     0.29125,     0.25858,     0.24162,     0.20938,     0.18719,     0.16236,     0.13354,     0.11661,    0.098603,    0.083984,    0.059388,    0.052709,    0.035906,    0.031794,    0.028474,    0.017987,    0.012448,\n",
      "           0.010902,   0.0043516,   0.0036066,   0.0028865,   0.0021665,           0,           0,           0,           0,           0,           0,           0,           0,           0,           0,           0,           0,           0,           0,           0,           0,           0,           0,\n",
      "                  0,           0,           0,           0,           0,           0,           0,           0,           0,           0,           0]]), 'Confidence', 'Recall']]\n",
      "fitness: np.float64(0.9079910846410136)\n",
      "keys: ['metrics/precision(B)', 'metrics/recall(B)', 'metrics/mAP50(B)', 'metrics/mAP50-95(B)']\n",
      "maps: array([    0.90275])\n",
      "names: {0: 'player'}\n",
      "nt_per_class: array([463])\n",
      "nt_per_image: array([307])\n",
      "results_dict: {'metrics/precision(B)': np.float64(0.9953395319988236), 'metrics/recall(B)': np.float64(0.9225523410615329), 'metrics/mAP50(B)': np.float64(0.9551477013330057), 'metrics/mAP50-95(B)': np.float64(0.9027514605641256), 'fitness': np.float64(0.9079910846410136)}\n",
      "save_dir: WindowsPath('E:/Project Sherlock/Grafiki/Grafiki total/dataset/detect/train192')\n",
      "speed: {'preprocess': 0.8187656666541443, 'inference': 28.56791816666676, 'loss': 8.566667020204477e-05, 'postprocess': 0.2378689999962565}\n",
      "stats: {'tp': [], 'conf': [], 'pred_cls': [], 'target_cls': [], 'target_img': []}\n",
      "task: 'detect'\n"
     ]
    }
   ],
   "source": [
    "metrics = model.val(data=\"E:/Project Sherlock/Grafiki/Grafiki total/dataset/data.yaml\", split=\"test\")\n",
    "\n",
    "# Możesz wypisać metryki, jeśli chcesz\n",
    "print(metrics)"
   ]
  },
  {
   "cell_type": "code",
   "execution_count": null,
   "id": "6ace57e1-8750-44fc-a8ff-357d55f9bcb2",
   "metadata": {},
   "outputs": [],
   "source": [
    "# tunning part 3"
   ]
  },
  {
   "cell_type": "code",
   "execution_count": null,
   "id": "12044397-fe9d-4309-9008-b698e03f4fd3",
   "metadata": {},
   "outputs": [],
   "source": [
    "import os\n",
    "import torch\n",
    "import cv2\n",
    "import psutil\n",
    "\n",
    "os.environ[\"OMP_NUM_THREADS\"] = \"8\"\n",
    "os.environ[\"MKL_NUM_THREADS\"] = \"8\"\n",
    "os.environ[\"NUMEXPR_NUM_THREADS\"] = \"8\"\n",
    "\n",
    "cv2.setNumThreads(0)\n",
    "\n",
    "# ===============================\n",
    "# 🔹 Ustaw affinity: ~50% CPU (6 rdzeni z 12)\n",
    "# ===============================\n",
    "p = psutil.Process(os.getpid())\n",
    "p.cpu_affinity([0, 1, 2, 3, 4, 5, 6. 7])  # 7 rdzeni = ok. 58-60% CPU\n",
    "\n",
    "# ===============================\n",
    "# 🔹 Ustaw dla PyTorch\n",
    "# ===============================\n",
    "torch.set_num_threads(8)"
   ]
  },
  {
   "cell_type": "code",
   "execution_count": null,
   "id": "a143e71c-a11b-48db-a200-092e3bce5376",
   "metadata": {},
   "outputs": [],
   "source": [
    "model = YOLO('E:/Project Sherlock/Grafiki/Grafiki total/dataset/detect/train19/weights/best.pt')\n",
    "\n",
    "model.train(data='E:/Project Sherlock/Grafiki/Grafiki total/dataset/data.yaml', \n",
    "    epochs=15,\n",
    "    batch=19,        # tutaj zmieniasz batch size\n",
    "    imgsz=640,        # i inne parametry, jeśli chcesz\n",
    "    patience=4,                 # early stopping: przerwij po 5 epokach bez poprawy\n",
    "    save=True,                  # zapisuj wszystkie wagi\n",
    "    save_period=1,               # zapisuj co epokę\n",
    "    lr0=0.0005,          # mniejszy learning rate\n",
    "    optimizer=\"Adam\",    # stabilniejszy od SGD przy fine-tuningu     \n",
    "    verbose=True                 # pokazuj logi w konsoli\n",
    ")"
   ]
  },
  {
   "cell_type": "code",
   "execution_count": null,
   "id": "081173d7-8171-426a-8cd2-6f7a7c872f88",
   "metadata": {},
   "outputs": [],
   "source": []
  },
  {
   "cell_type": "code",
   "execution_count": null,
   "id": "6403240d-fd0e-482f-9082-99b46977fc12",
   "metadata": {},
   "outputs": [],
   "source": []
  }
 ],
 "metadata": {
  "kernelspec": {
   "display_name": "Python 3 (ipykernel)",
   "language": "python",
   "name": "python3"
  },
  "language_info": {
   "codemirror_mode": {
    "name": "ipython",
    "version": 3
   },
   "file_extension": ".py",
   "mimetype": "text/x-python",
   "name": "python",
   "nbconvert_exporter": "python",
   "pygments_lexer": "ipython3",
   "version": "3.10.18"
  }
 },
 "nbformat": 4,
 "nbformat_minor": 5
}
